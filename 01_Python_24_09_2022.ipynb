{
  "nbformat": 4,
  "nbformat_minor": 0,
  "metadata": {
    "colab": {
      "provenance": [],
      "collapsed_sections": []
    },
    "kernelspec": {
      "name": "python3",
      "display_name": "Python 3"
    },
    "language_info": {
      "name": "python"
    }
  },
  "cells": [
    {
      "cell_type": "code",
      "execution_count": 42,
      "metadata": {
        "id": "Ms9peyCz4Gd4",
        "colab": {
          "base_uri": "https://localhost:8080/"
        },
        "outputId": "9633f1cf-1136-413a-dc21-0ef418e0d181"
      },
      "outputs": [
        {
          "output_type": "stream",
          "name": "stdout",
          "text": [
            "Hello Neurons\n"
          ]
        }
      ],
      "source": [
        "print(\"Hello Neurons\")"
      ]
    },
    {
      "cell_type": "code",
      "source": [
        "print(\"greetings from iNeurons\")\n",
        "print(\"Good Evening\")"
      ],
      "metadata": {
        "colab": {
          "base_uri": "https://localhost:8080/"
        },
        "id": "1UfWd7vh5Iux",
        "outputId": "62965404-0aef-46c4-c9a8-d43c809798fe"
      },
      "execution_count": 43,
      "outputs": [
        {
          "output_type": "stream",
          "name": "stdout",
          "text": [
            "greetings from iNeurons\n",
            "Good Evening\n"
          ]
        }
      ]
    },
    {
      "cell_type": "code",
      "source": [
        "print(\"Good Evening Can you\")\n",
        "print(\"\"\" PRINTED \n",
        "WORK \"\"\") # this triplw quote is used to print multiline print statement and also its used to commenting between programs to comment multingline."
      ],
      "metadata": {
        "colab": {
          "base_uri": "https://localhost:8080/"
        },
        "id": "9FHnM7BJ5hPD",
        "outputId": "6dbf51d8-f797-481a-cf8d-3e7fc9f937df"
      },
      "execution_count": 44,
      "outputs": [
        {
          "output_type": "stream",
          "name": "stdout",
          "text": [
            "Good Evening Can you\n",
            " PRINTED \n",
            "WORK \n"
          ]
        }
      ]
    },
    {
      "cell_type": "markdown",
      "source": [
        "Multi line comments"
      ],
      "metadata": {
        "id": "cvyJ-fXU7OK8"
      }
    },
    {
      "cell_type": "code",
      "source": [
        "print(\"\"\"India, officially the Republic of India (Hindi: Bhārat Gaṇarājya),[25] is a country in South Asia. It is the seventh-largest country by area, the second-most populous country, and the most populous democracy in the world. Bounded by the Indian Ocean on the south, the Arabian Sea on the southwest, and the Bay of Bengal on the southeast, it shares land borders with Pakistan to the west;[f] China, Nepal, and Bhutan to the north; and Bangladesh and Myanmar to the east. In the Indian Ocean, India is in the vicinity of Sri Lanka and the Maldives; its Andaman and Nicobar Islands share a maritime border with Thailand, Myanmar, and Indonesia. The nation's capital city is New Delhi.\n",
        "\n",
        "Modern humans arrived on the Indian subcontinent from Africa no later than 55,000 years ago.[26][27][28] Their long occupation, initially in varying forms of isolation as hunter-gatherers, has made the region highly diverse, second only to Africa in human genetic diversity.[29] Settled life emerged on the subcontinent in the western margins of the Indus river basin 9,000 years ago, evolving gradually into the Indus Valley Civilisation of the third millennium BCE.[30] By 1200 BCE, an archaic form of Sanskrit, an Indo-European language, had diffused into India from the northwest.[31][32] Its evidence today is found in the hymns of the Rigveda. Preserved by a resolutely vigilant oral tradition, the Rigveda records the dawning of Hinduism in India.[33] The Dravidian languages of India were supplanted in the northern and western regions.[34] By 400 BCE, stratification and exclusion by caste had emerged within Hinduism,[35] and Buddhism and Jainism had arisen, proclaiming social orders unlinked to heredity.[36] Early political consolidations gave rise to the loose-knit Maurya and Gupta Empires based in the Ganges Basin.[37] Their collective era was suffused with wide-ranging creativity,[38] but also marked by the declining status of women,[39] and the incorporation of untouchability into an organised system of belief.[g][40] In South India, the Middle kingdoms exported Dravidian-languages scripts and religious cultures to the kingdoms of Southeast Asia.[41]\n",
        "\n",
        "In the early medieval era, Christianity, Islam, Judaism, and Zoroastrianism became established on India's southern and western coasts.[42] Muslim armies from Central Asia intermittently overran India's northern plains,[43] eventually founding the Delhi Sultanate, and drawing northern India into the cosmopolitan networks of medieval Islam.[44] In the 15th century, the Vijayanagara Empire created a long-lasting composite Hindu culture in south India.[45] In the Punjab, Sikhism emerged, rejecting institutionalised religion.[46] The Mughal Empire, in 1526, ushered in two centuries of relative peace,[47] leaving a legacy of luminous architecture.[h][48] Gradually expanding rule of the British East India Company followed, turning India into a colonial economy, but also consolidating its sovereignty.[49] British Crown rule began in 1858. The rights promised to Indians were granted slowly,[50][51] but technological changes were introduced, and modern ideas of education and the public life took root.[52] A pioneering and influential nationalist movement emerged, which was noted for nonviolent resistance and became the major factor in ending British rule.[53][54] In 1947 the British Indian Empire was partitioned into two independent dominions,[55][56][57][58] a Hindu-majority Dominion of India and a Muslim-majority Dominion of Pakistan, amid large-scale loss of life and an unprecedented migration.[59]\"\"\")"
      ],
      "metadata": {
        "colab": {
          "base_uri": "https://localhost:8080/"
        },
        "id": "L8f_U-Jh6p_5",
        "outputId": "1e233d5b-762c-476d-a3a0-a1f2c02f7abc"
      },
      "execution_count": 45,
      "outputs": [
        {
          "output_type": "stream",
          "name": "stdout",
          "text": [
            "India, officially the Republic of India (Hindi: Bhārat Gaṇarājya),[25] is a country in South Asia. It is the seventh-largest country by area, the second-most populous country, and the most populous democracy in the world. Bounded by the Indian Ocean on the south, the Arabian Sea on the southwest, and the Bay of Bengal on the southeast, it shares land borders with Pakistan to the west;[f] China, Nepal, and Bhutan to the north; and Bangladesh and Myanmar to the east. In the Indian Ocean, India is in the vicinity of Sri Lanka and the Maldives; its Andaman and Nicobar Islands share a maritime border with Thailand, Myanmar, and Indonesia. The nation's capital city is New Delhi.\n",
            "\n",
            "Modern humans arrived on the Indian subcontinent from Africa no later than 55,000 years ago.[26][27][28] Their long occupation, initially in varying forms of isolation as hunter-gatherers, has made the region highly diverse, second only to Africa in human genetic diversity.[29] Settled life emerged on the subcontinent in the western margins of the Indus river basin 9,000 years ago, evolving gradually into the Indus Valley Civilisation of the third millennium BCE.[30] By 1200 BCE, an archaic form of Sanskrit, an Indo-European language, had diffused into India from the northwest.[31][32] Its evidence today is found in the hymns of the Rigveda. Preserved by a resolutely vigilant oral tradition, the Rigveda records the dawning of Hinduism in India.[33] The Dravidian languages of India were supplanted in the northern and western regions.[34] By 400 BCE, stratification and exclusion by caste had emerged within Hinduism,[35] and Buddhism and Jainism had arisen, proclaiming social orders unlinked to heredity.[36] Early political consolidations gave rise to the loose-knit Maurya and Gupta Empires based in the Ganges Basin.[37] Their collective era was suffused with wide-ranging creativity,[38] but also marked by the declining status of women,[39] and the incorporation of untouchability into an organised system of belief.[g][40] In South India, the Middle kingdoms exported Dravidian-languages scripts and religious cultures to the kingdoms of Southeast Asia.[41]\n",
            "\n",
            "In the early medieval era, Christianity, Islam, Judaism, and Zoroastrianism became established on India's southern and western coasts.[42] Muslim armies from Central Asia intermittently overran India's northern plains,[43] eventually founding the Delhi Sultanate, and drawing northern India into the cosmopolitan networks of medieval Islam.[44] In the 15th century, the Vijayanagara Empire created a long-lasting composite Hindu culture in south India.[45] In the Punjab, Sikhism emerged, rejecting institutionalised religion.[46] The Mughal Empire, in 1526, ushered in two centuries of relative peace,[47] leaving a legacy of luminous architecture.[h][48] Gradually expanding rule of the British East India Company followed, turning India into a colonial economy, but also consolidating its sovereignty.[49] British Crown rule began in 1858. The rights promised to Indians were granted slowly,[50][51] but technological changes were introduced, and modern ideas of education and the public life took root.[52] A pioneering and influential nationalist movement emerged, which was noted for nonviolent resistance and became the major factor in ending British rule.[53][54] In 1947 the British Indian Empire was partitioned into two independent dominions,[55][56][57][58] a Hindu-majority Dominion of India and a Muslim-majority Dominion of Pakistan, amid large-scale loss of life and an unprecedented migration.[59]\n"
          ]
        }
      ]
    },
    {
      "cell_type": "code",
      "source": [
        "# more exceptional cases in print statements \n",
        "print(\"Hi my name is \"Sunny\" \")"
      ],
      "metadata": {
        "colab": {
          "base_uri": "https://localhost:8080/",
          "height": 135
        },
        "id": "OeMiSPoBGPGV",
        "outputId": "06e865d8-fb73-465c-afe0-83d1cd50a141"
      },
      "execution_count": 47,
      "outputs": [
        {
          "output_type": "error",
          "ename": "SyntaxError",
          "evalue": "ignored",
          "traceback": [
            "\u001b[0;36m  File \u001b[0;32m\"<ipython-input-47-9868c58d0176>\"\u001b[0;36m, line \u001b[0;32m2\u001b[0m\n\u001b[0;31m    print(\"Hi my name is \"Sunny\" \")\u001b[0m\n\u001b[0m                              ^\u001b[0m\n\u001b[0;31mSyntaxError\u001b[0m\u001b[0;31m:\u001b[0m invalid syntax\n"
          ]
        }
      ]
    },
    {
      "cell_type": "code",
      "source": [
        "print(\"Hi my name is \\\"Sunny\\\"\")"
      ],
      "metadata": {
        "colab": {
          "base_uri": "https://localhost:8080/"
        },
        "id": "3Z4C4Kd5HKAa",
        "outputId": "fc20515b-761b-480c-c384-89bc49917919"
      },
      "execution_count": 48,
      "outputs": [
        {
          "output_type": "stream",
          "name": "stdout",
          "text": [
            "Hi my name is \"Sunny\"\n"
          ]
        }
      ]
    },
    {
      "cell_type": "code",
      "source": [
        "print('Hi my name is \"Sunny\"')"
      ],
      "metadata": {
        "colab": {
          "base_uri": "https://localhost:8080/"
        },
        "id": "Fadu2DjIGsxu",
        "outputId": "743e2696-4980-43d1-cbb2-673d2d39c857"
      },
      "execution_count": 49,
      "outputs": [
        {
          "output_type": "stream",
          "name": "stdout",
          "text": [
            "Hi my name is \"Sunny\"\n"
          ]
        }
      ]
    },
    {
      "cell_type": "code",
      "source": [
        "print(\"\"\"Hi my name is \"sunny\" \"\"\")"
      ],
      "metadata": {
        "colab": {
          "base_uri": "https://localhost:8080/"
        },
        "id": "Fqg4Mt2LGzsg",
        "outputId": "3e6ff4a8-b310-4120-97bb-9cf40cdd4613"
      },
      "execution_count": 50,
      "outputs": [
        {
          "output_type": "stream",
          "name": "stdout",
          "text": [
            "Hi my name is \"sunny\" \n"
          ]
        }
      ]
    },
    {
      "cell_type": "markdown",
      "source": [
        "### Example [Shift +Enter"
      ],
      "metadata": {
        "id": "X4TRCxU1HdJU"
      }
    },
    {
      "cell_type": "code",
      "source": [
        "123+245 # sum of 2 numbers"
      ],
      "metadata": {
        "colab": {
          "base_uri": "https://localhost:8080/"
        },
        "id": "3JYmQs0dG-1-",
        "outputId": "74fcd310-6a53-4a7d-b196-c3937ce175cf"
      },
      "execution_count": 51,
      "outputs": [
        {
          "output_type": "execute_result",
          "data": {
            "text/plain": [
              "368"
            ]
          },
          "metadata": {},
          "execution_count": 51
        }
      ]
    },
    {
      "cell_type": "code",
      "source": [
        "123*245"
      ],
      "metadata": {
        "colab": {
          "base_uri": "https://localhost:8080/"
        },
        "id": "t1569y2JIUYW",
        "outputId": "6ed2488d-75e4-4d8e-b84e-0f46c2d68991"
      },
      "execution_count": 52,
      "outputs": [
        {
          "output_type": "execute_result",
          "data": {
            "text/plain": [
              "30135"
            ]
          },
          "metadata": {},
          "execution_count": 52
        }
      ]
    },
    {
      "cell_type": "code",
      "source": [
        "123**2 #power of 123 raised to 2"
      ],
      "metadata": {
        "colab": {
          "base_uri": "https://localhost:8080/"
        },
        "id": "UGJhFkqQIbOQ",
        "outputId": "7d13200c-b5fc-4974-cb76-bbc2250ed700"
      },
      "execution_count": 53,
      "outputs": [
        {
          "output_type": "execute_result",
          "data": {
            "text/plain": [
              "15129"
            ]
          },
          "metadata": {},
          "execution_count": 53
        }
      ]
    },
    {
      "cell_type": "code",
      "source": [
        "123%2 #modulo operator which gives you reminder"
      ],
      "metadata": {
        "colab": {
          "base_uri": "https://localhost:8080/"
        },
        "id": "OnzxxLZJIfjO",
        "outputId": "90cb0280-387d-4afe-f6f9-4750e2223af3"
      },
      "execution_count": 54,
      "outputs": [
        {
          "output_type": "execute_result",
          "data": {
            "text/plain": [
              "1"
            ]
          },
          "metadata": {},
          "execution_count": 54
        }
      ]
    },
    {
      "cell_type": "code",
      "source": [
        "122%2"
      ],
      "metadata": {
        "colab": {
          "base_uri": "https://localhost:8080/"
        },
        "id": "Q6PANe0YIkOO",
        "outputId": "34da3911-5471-4ad0-adc5-84b58fef3ea1"
      },
      "execution_count": 55,
      "outputs": [
        {
          "output_type": "execute_result",
          "data": {
            "text/plain": [
              "0"
            ]
          },
          "metadata": {},
          "execution_count": 55
        }
      ]
    },
    {
      "cell_type": "code",
      "source": [
        "(-123)**2"
      ],
      "metadata": {
        "colab": {
          "base_uri": "https://localhost:8080/"
        },
        "id": "WVilbiUyItQd",
        "outputId": "1b634f6e-ebc5-4b8d-f4e1-4f732b06c0da"
      },
      "execution_count": 56,
      "outputs": [
        {
          "output_type": "execute_result",
          "data": {
            "text/plain": [
              "15129"
            ]
          },
          "metadata": {},
          "execution_count": 56
        }
      ]
    },
    {
      "cell_type": "code",
      "source": [
        "print(123*234)\n",
        "print(\"Result\")"
      ],
      "metadata": {
        "colab": {
          "base_uri": "https://localhost:8080/"
        },
        "id": "jwC7YbNJIy0W",
        "outputId": "65aea40d-1904-4226-b449-d2cd963e3121"
      },
      "execution_count": 57,
      "outputs": [
        {
          "output_type": "stream",
          "name": "stdout",
          "text": [
            "28782\n",
            "Result\n"
          ]
        }
      ]
    },
    {
      "cell_type": "markdown",
      "source": [
        "# Variables in Python"
      ],
      "metadata": {
        "id": "WJ_NRD_iJQ-7"
      }
    },
    {
      "cell_type": "code",
      "source": [
        "x = 10"
      ],
      "metadata": {
        "id": "Q4DqQETMI8uX"
      },
      "execution_count": 58,
      "outputs": []
    },
    {
      "cell_type": "code",
      "source": [
        "print(x)"
      ],
      "metadata": {
        "colab": {
          "base_uri": "https://localhost:8080/"
        },
        "id": "H89COQdpLXjG",
        "outputId": "55d5c456-0e0e-4ff7-b0a9-e89235b5ff08"
      },
      "execution_count": 59,
      "outputs": [
        {
          "output_type": "stream",
          "name": "stdout",
          "text": [
            "10\n"
          ]
        }
      ]
    },
    {
      "cell_type": "code",
      "source": [
        "y = 20\n",
        "print(y)"
      ],
      "metadata": {
        "colab": {
          "base_uri": "https://localhost:8080/"
        },
        "id": "StcDjyvtLY7t",
        "outputId": "79666830-bc59-48e0-b725-345186e60bfd"
      },
      "execution_count": 60,
      "outputs": [
        {
          "output_type": "stream",
          "name": "stdout",
          "text": [
            "20\n"
          ]
        }
      ]
    },
    {
      "cell_type": "code",
      "source": [
        "print(y+x)"
      ],
      "metadata": {
        "colab": {
          "base_uri": "https://localhost:8080/"
        },
        "id": "F9ajp2tTLfxk",
        "outputId": "4dfb6450-0ae4-4f21-bda1-f68e921b257c"
      },
      "execution_count": 61,
      "outputs": [
        {
          "output_type": "stream",
          "name": "stdout",
          "text": [
            "30\n"
          ]
        }
      ]
    },
    {
      "cell_type": "markdown",
      "source": [
        "1. Variables names should start with alphaets\n",
        "2. Variables name sshould not contain any special characters like ^ % $ @ # & * etc\n",
        "3. Variables names can contain Numebers but you can't start with numbers\n",
        "4. Its not strict rule that you should variable names with a capital letter. But is recommended to use small letters for that variables."
      ],
      "metadata": {
        "id": "yD6CL3rDMCFU"
      }
    },
    {
      "cell_type": "code",
      "source": [
        "# Examples that allowed to initialised it.\n",
        "ten = 10\n",
        "ten_number = 10\n",
        "tennumber = 10\n",
        "ten10 = 10\n",
        "__num = 456 #this is hidden variables.\n",
        "Ten = 454"
      ],
      "metadata": {
        "id": "Q_QbXamPMzV1"
      },
      "execution_count": 62,
      "outputs": []
    },
    {
      "cell_type": "code",
      "source": [
        "# Examples that are not allowed to initialised it & it throws an error called syntax error\n",
        "# 1ten = 10\n",
        "# $ten = 10\n",
        "# ten% = 10"
      ],
      "metadata": {
        "id": "hU8i5ocfM8Gl"
      },
      "execution_count": 63,
      "outputs": []
    },
    {
      "cell_type": "markdown",
      "source": [
        "# Fundamental DATA TYPES bold text"
      ],
      "metadata": {
        "id": "kqHaUwBuQwsD"
      }
    },
    {
      "cell_type": "markdown",
      "source": [
        "Integers"
      ],
      "metadata": {
        "id": "Mskv3NOoRBuu"
      }
    },
    {
      "cell_type": "code",
      "source": [
        "a = 7\n",
        "type(a)"
      ],
      "metadata": {
        "colab": {
          "base_uri": "https://localhost:8080/"
        },
        "id": "SWx8nJGHQ_2V",
        "outputId": "c196b69f-c491-4430-a533-cadac39cd68a"
      },
      "execution_count": 64,
      "outputs": [
        {
          "output_type": "execute_result",
          "data": {
            "text/plain": [
              "int"
            ]
          },
          "metadata": {},
          "execution_count": 64
        }
      ]
    },
    {
      "cell_type": "markdown",
      "source": [
        "Floats - Number Containing Decimal NUmbers"
      ],
      "metadata": {
        "id": "wEN07lb5ROrP"
      }
    },
    {
      "cell_type": "code",
      "source": [
        "pi = 3.14\n",
        "type(pi)\n",
        "x = 2.0\n",
        "type(x)"
      ],
      "metadata": {
        "id": "sUbrzNqdRGnd"
      },
      "execution_count": null,
      "outputs": []
    },
    {
      "cell_type": "code",
      "source": [
        "pi = 22/7\n",
        "pi"
      ],
      "metadata": {
        "colab": {
          "base_uri": "https://localhost:8080/"
        },
        "id": "RTlYmA2cRcKo",
        "outputId": "63ea04d1-12af-422a-90bf-b627bbd86e00"
      },
      "execution_count": 74,
      "outputs": [
        {
          "output_type": "execute_result",
          "data": {
            "text/plain": [
              "3.142857142857143"
            ]
          },
          "metadata": {},
          "execution_count": 74
        }
      ]
    },
    {
      "cell_type": "markdown",
      "source": [
        "# Complex Numbers"
      ],
      "metadata": {
        "id": "Ia7SH7LcR2UH"
      }
    },
    {
      "cell_type": "code",
      "source": [
        "a = 2+3j"
      ],
      "metadata": {
        "id": "rFMsQviuRwzl"
      },
      "execution_count": 75,
      "outputs": []
    },
    {
      "cell_type": "code",
      "source": [
        "a"
      ],
      "metadata": {
        "colab": {
          "base_uri": "https://localhost:8080/"
        },
        "id": "m3TWQrpPR6Vc",
        "outputId": "c99ebc99-e408-41a2-b527-584c731f0ada"
      },
      "execution_count": 76,
      "outputs": [
        {
          "output_type": "execute_result",
          "data": {
            "text/plain": [
              "(2+3j)"
            ]
          },
          "metadata": {},
          "execution_count": 76
        }
      ]
    },
    {
      "cell_type": "code",
      "source": [
        "type(a)"
      ],
      "metadata": {
        "colab": {
          "base_uri": "https://localhost:8080/"
        },
        "id": "UWAzqST4R65l",
        "outputId": "8297160a-a90d-4d0b-a522-7624b2ff3105"
      },
      "execution_count": 77,
      "outputs": [
        {
          "output_type": "execute_result",
          "data": {
            "text/plain": [
              "complex"
            ]
          },
          "metadata": {},
          "execution_count": 77
        }
      ]
    },
    {
      "cell_type": "code",
      "source": [
        "a.real"
      ],
      "metadata": {
        "colab": {
          "base_uri": "https://localhost:8080/"
        },
        "id": "d6XHJv65SrK9",
        "outputId": "7ab5091f-4b77-4aaf-caf8-3e3f09fa0765"
      },
      "execution_count": 78,
      "outputs": [
        {
          "output_type": "execute_result",
          "data": {
            "text/plain": [
              "2.0"
            ]
          },
          "metadata": {},
          "execution_count": 78
        }
      ]
    },
    {
      "cell_type": "code",
      "source": [
        "a.imag"
      ],
      "metadata": {
        "colab": {
          "base_uri": "https://localhost:8080/"
        },
        "id": "0LVf5HarSwx3",
        "outputId": "d69ee94f-ee03-4794-e415-0e5f3629e514"
      },
      "execution_count": 79,
      "outputs": [
        {
          "output_type": "execute_result",
          "data": {
            "text/plain": [
              "3.0"
            ]
          },
          "metadata": {},
          "execution_count": 79
        }
      ]
    },
    {
      "cell_type": "markdown",
      "source": [
        "#DYNAMIC TYPING"
      ],
      "metadata": {
        "id": "BfgBOYCjS6uZ"
      }
    },
    {
      "cell_type": "code",
      "source": [
        "a = 22\n",
        "print(type(a))\n",
        "a = 22.22\n",
        "print(type(a))\n",
        "a = \"Sunny\"\n",
        "print(type(a))\n"
      ],
      "metadata": {
        "colab": {
          "base_uri": "https://localhost:8080/"
        },
        "id": "PJgjFe_-S9tE",
        "outputId": "7aee078e-8774-4b11-b2bd-e15e64f02041"
      },
      "execution_count": 84,
      "outputs": [
        {
          "output_type": "stream",
          "name": "stdout",
          "text": [
            "<class 'int'>\n",
            "<class 'float'>\n",
            "<class 'str'>\n"
          ]
        }
      ]
    },
    {
      "cell_type": "code",
      "source": [
        "print(a)"
      ],
      "metadata": {
        "colab": {
          "base_uri": "https://localhost:8080/"
        },
        "id": "iOXwVgjhTTW0",
        "outputId": "8b18f47a-f0f0-4a30-90e8-6bdbb722a757"
      },
      "execution_count": 85,
      "outputs": [
        {
          "output_type": "stream",
          "name": "stdout",
          "text": [
            "Sunny\n"
          ]
        }
      ]
    },
    {
      "cell_type": "markdown",
      "source": [
        "# STRONG TYPING"
      ],
      "metadata": {
        "id": "6npIsiCBT54d"
      }
    },
    {
      "cell_type": "code",
      "source": [
        "\"Day\" + 1"
      ],
      "metadata": {
        "id": "UXmq8f02TZQM"
      },
      "execution_count": null,
      "outputs": []
    },
    {
      "cell_type": "code",
      "source": [
        "\"Day\" + \"1\""
      ],
      "metadata": {
        "colab": {
          "base_uri": "https://localhost:8080/",
          "height": 36
        },
        "id": "EJlYxNICUGg3",
        "outputId": "2b500d59-86dc-430f-fd3b-8fbf812667e9"
      },
      "execution_count": 87,
      "outputs": [
        {
          "output_type": "execute_result",
          "data": {
            "text/plain": [
              "'Day1'"
            ],
            "application/vnd.google.colaboratory.intrinsic+json": {
              "type": "string"
            }
          },
          "metadata": {},
          "execution_count": 87
        }
      ]
    },
    {
      "cell_type": "code",
      "source": [
        "print(\"22\" + \"22\")\n",
        "print(22+ \"22\")\n",
        "print(\"22\" + 22)"
      ],
      "metadata": {
        "id": "FyuKH0-VUK9-"
      },
      "execution_count": null,
      "outputs": []
    },
    {
      "cell_type": "code",
      "source": [
        "\"Sunny \" + \"Chandra\""
      ],
      "metadata": {
        "colab": {
          "base_uri": "https://localhost:8080/",
          "height": 36
        },
        "id": "6C5wosKmUQB8",
        "outputId": "895734d7-a744-46cd-d568-87c2999300dd"
      },
      "execution_count": 89,
      "outputs": [
        {
          "output_type": "execute_result",
          "data": {
            "text/plain": [
              "'Sunny Chandra'"
            ],
            "application/vnd.google.colaboratory.intrinsic+json": {
              "type": "string"
            }
          },
          "metadata": {},
          "execution_count": 89
        }
      ]
    },
    {
      "cell_type": "code",
      "source": [
        "22.1+1"
      ],
      "metadata": {
        "colab": {
          "base_uri": "https://localhost:8080/"
        },
        "id": "qQMX3PXvUVZs",
        "outputId": "793d644d-b418-423c-dd99-45aa81a36e03"
      },
      "execution_count": 91,
      "outputs": [
        {
          "output_type": "execute_result",
          "data": {
            "text/plain": [
              "23.1"
            ]
          },
          "metadata": {},
          "execution_count": 91
        }
      ]
    },
    {
      "cell_type": "code",
      "source": [
        "a = 1 #int data type\n",
        "b = 1.2 #float data type\n",
        "c = \"Sunny\" #String Data types\n",
        "1+2j # COmplex data types # rarely used"
      ],
      "metadata": {
        "colab": {
          "base_uri": "https://localhost:8080/"
        },
        "id": "m6F0P3AEUuR9",
        "outputId": "f7604d50-f213-45d0-d867-40b58a87d3fb"
      },
      "execution_count": 92,
      "outputs": [
        {
          "output_type": "execute_result",
          "data": {
            "text/plain": [
              "(1+2j)"
            ]
          },
          "metadata": {},
          "execution_count": 92
        }
      ]
    },
    {
      "cell_type": "code",
      "source": [
        "print(\"HI ! Welcome to Class of Python Language\")"
      ],
      "metadata": {
        "colab": {
          "base_uri": "https://localhost:8080/"
        },
        "id": "gLcutyOzVM2E",
        "outputId": "0db8edd6-c84f-4db2-c297-d8340dfe8a90"
      },
      "execution_count": 94,
      "outputs": [
        {
          "output_type": "stream",
          "name": "stdout",
          "text": [
            "HI ! Welcome to Class of Python Language\n"
          ]
        }
      ]
    },
    {
      "cell_type": "code",
      "source": [
        "print(\"HI ! Welcome to Class of Python Language\")"
      ],
      "metadata": {
        "colab": {
          "base_uri": "https://localhost:8080/"
        },
        "id": "E_oE90JcVTp3",
        "outputId": "0d301a29-33e8-4f23-e57e-7d9fcb2efaf5"
      },
      "execution_count": 95,
      "outputs": [
        {
          "output_type": "stream",
          "name": "stdout",
          "text": [
            "HI ! Welcome to Class of Python Language\n"
          ]
        }
      ]
    },
    {
      "cell_type": "code",
      "source": [
        "language = \"Python\"\n",
        "print(\"Hi welcome to class of \" + language + \" languages\")"
      ],
      "metadata": {
        "colab": {
          "base_uri": "https://localhost:8080/"
        },
        "id": "BSbglJH7Vcw0",
        "outputId": "9db3a068-8942-4ce9-fb2b-e63c79f1fdf8"
      },
      "execution_count": 104,
      "outputs": [
        {
          "output_type": "stream",
          "name": "stdout",
          "text": [
            "Hi welcome to class of Python languages\n",
            "Hi welcome to class of Python language\n"
          ]
        }
      ]
    },
    {
      "cell_type": "code",
      "source": [
        "#f -> Formatted String Method\n",
        "print(f\"Hi welcome to class of {language} language\") #current standard approach used"
      ],
      "metadata": {
        "colab": {
          "base_uri": "https://localhost:8080/"
        },
        "id": "PWO8Gm0xW7rw",
        "outputId": "a4f13ce8-46ea-4909-bfee-dae5c599f15e"
      },
      "execution_count": 105,
      "outputs": [
        {
          "output_type": "stream",
          "name": "stdout",
          "text": [
            "Hi welcome to class of Python language\n"
          ]
        }
      ]
    },
    {
      "cell_type": "code",
      "source": [
        "language = \"Python\"\n",
        "ar = 'is the best'\n",
        "print(\"Hi welcome to class of {} language\".format(language)) #Old Way\n",
        "print(\"Hi welcome to class of {} language {}\".format(language, ar)) #Old Way"
      ],
      "metadata": {
        "colab": {
          "base_uri": "https://localhost:8080/"
        },
        "id": "zmWyNd2QVmvz",
        "outputId": "bce053f7-92e6-4964-e5d0-ba2f52fd74ea"
      },
      "execution_count": 107,
      "outputs": [
        {
          "output_type": "stream",
          "name": "stdout",
          "text": [
            "Hi welcome to class of Python language\n",
            "Hi welcome to class of Python language is the best\n"
          ]
        }
      ]
    },
    {
      "cell_type": "code",
      "source": [
        "#f -> Formatted String Method\n",
        "num = \"First\"\n",
        "print(f\"Hi welcome to the {num} class of {language} language\") #current standard approach used"
      ],
      "metadata": {
        "colab": {
          "base_uri": "https://localhost:8080/"
        },
        "id": "m-ioqSm2WVGE",
        "outputId": "04fc4dfc-dff8-46d6-ddb4-ccaeda81abb6"
      },
      "execution_count": 106,
      "outputs": [
        {
          "output_type": "stream",
          "name": "stdout",
          "text": [
            "Hi welcome to the First class of Python language\n"
          ]
        }
      ]
    },
    {
      "cell_type": "code",
      "source": [
        "a = 22\n",
        "b = 34\n",
        "c = a + b\n",
        "print(f\"The result sum of two numbers a : {a} and b : {b} is = {c}\")"
      ],
      "metadata": {
        "colab": {
          "base_uri": "https://localhost:8080/"
        },
        "id": "KA8dz_jsXG99",
        "outputId": "47c9f119-8d3c-42e3-85e8-203f25efde1d"
      },
      "execution_count": 108,
      "outputs": [
        {
          "output_type": "stream",
          "name": "stdout",
          "text": [
            "The result sum of two numbers a : 22 and b : 34 is = 56\n"
          ]
        }
      ]
    },
    {
      "cell_type": "markdown",
      "source": [
        "#Boolean Data Types"
      ],
      "metadata": {
        "id": "VLFHfWe6X-vq"
      }
    },
    {
      "cell_type": "code",
      "source": [
        "one = True\n",
        "two =  False\n",
        "\n",
        "print(type(one))\n",
        "print(type(two))"
      ],
      "metadata": {
        "colab": {
          "base_uri": "https://localhost:8080/"
        },
        "id": "Qbfz9G9TX50c",
        "outputId": "103d7755-ee8b-4347-8ee2-1adecdbd73ca"
      },
      "execution_count": 110,
      "outputs": [
        {
          "output_type": "stream",
          "name": "stdout",
          "text": [
            "<class 'bool'>\n",
            "<class 'bool'>\n"
          ]
        }
      ]
    },
    {
      "cell_type": "code",
      "source": [
        "Class_starts_at = 3\n",
        "you_came_at = 4\n",
        "you_understood_all_conecpts = you_came_at < Class_starts_at\n",
        "print(f\"you understood everything ? : {you_understood_all_conecpts}\")"
      ],
      "metadata": {
        "colab": {
          "base_uri": "https://localhost:8080/"
        },
        "id": "TEhNFVogYGc0",
        "outputId": "cdd5db08-a0c4-4580-e5df-6edb9847c95c"
      },
      "execution_count": 115,
      "outputs": [
        {
          "output_type": "stream",
          "name": "stdout",
          "text": [
            "you understood everything ? : False\n"
          ]
        }
      ]
    },
    {
      "cell_type": "code",
      "source": [],
      "metadata": {
        "id": "oBW60HbBYjvM"
      },
      "execution_count": null,
      "outputs": []
    }
  ]
}