{
  "cells": [
    {
      "cell_type": "markdown",
      "source": [
        "# AGENDA\n",
        "0. Glimpse of conditional statements -\n",
        "  - if-else condtions\n",
        "1. Operators\n",
        "  - Logical\n",
        "  - Equality\n",
        "  - Comparision\n",
        "  - Arthimatic\n",
        "  - Bitwise [Advance topics - covering in future classes]\n",
        "  - Operators for sets and dictionary [Advance classes]\n",
        "\n",
        "2. String methods\n",
        "3. Control flow statement [if time permits]"
      ],
      "metadata": {
        "id": "klnhPuk0kbgn"
      },
      "id": "klnhPuk0kbgn"
    },
    {
      "cell_type": "markdown",
      "id": "21d90f04",
      "metadata": {
        "id": "21d90f04"
      },
      "source": [
        "# CONDITIONAL STATE. (IF ELSE)"
      ]
    },
    {
      "cell_type": "code",
      "execution_count": null,
      "id": "a8d4f0e7",
      "metadata": {
        "colab": {
          "base_uri": "https://localhost:8080/"
        },
        "id": "a8d4f0e7",
        "outputId": "709eb37b-2dd9-4be3-b9b7-c50d75396740"
      },
      "outputs": [
        {
          "output_type": "stream",
          "name": "stdout",
          "text": [
            "Lets do work from home\n"
          ]
        }
      ],
      "source": [
        "raining = True\n",
        "if raining: #True COndition\n",
        "    print(\"Lets do work from home\") #this statement executed\n",
        "else:\n",
        "    print(\"Lets go to office\")"
      ]
    },
    {
      "cell_type": "code",
      "execution_count": null,
      "id": "76c05940",
      "metadata": {
        "colab": {
          "base_uri": "https://localhost:8080/"
        },
        "id": "76c05940",
        "outputId": "b3443ba1-4be0-44a4-aef4-4fb436b85f17"
      },
      "outputs": [
        {
          "output_type": "stream",
          "name": "stdout",
          "text": [
            "Lets go to office\n"
          ]
        }
      ],
      "source": [
        "raining = False\n",
        "if raining: #False Condition\n",
        "    print(\"Lets do work from home\")\n",
        "else: \n",
        "    print(\"Lets go to office\") #this statement executed"
      ]
    },
    {
      "cell_type": "markdown",
      "id": "17377099",
      "metadata": {
        "id": "17377099"
      },
      "source": [
        "Use of Indentation"
      ]
    },
    {
      "cell_type": "code",
      "execution_count": null,
      "id": "66410085",
      "metadata": {
        "colab": {
          "base_uri": "https://localhost:8080/",
          "height": 135
        },
        "id": "66410085",
        "outputId": "7d3509bd-ab3a-4570-b8c0-4277bc544b90"
      },
      "outputs": [
        {
          "output_type": "error",
          "ename": "IndentationError",
          "evalue": "ignored",
          "traceback": [
            "\u001b[0;36m  File \u001b[0;32m\"<ipython-input-3-2dfa4742470c>\"\u001b[0;36m, line \u001b[0;32m3\u001b[0m\n\u001b[0;31m    print(\"Lets do work from home\") #this statement executed\u001b[0m\n\u001b[0m        ^\u001b[0m\n\u001b[0;31mIndentationError\u001b[0m\u001b[0;31m:\u001b[0m expected an indented block\n"
          ]
        }
      ],
      "source": [
        "raining = True\n",
        "if raining: #True Condition\n",
        "print(\"Lets do work from home\") #this statement executed\n",
        "else:\n",
        "    print(\"Lets go to office\")"
      ]
    },
    {
      "cell_type": "code",
      "execution_count": null,
      "id": "c017d363",
      "metadata": {
        "colab": {
          "base_uri": "https://localhost:8080/"
        },
        "id": "c017d363",
        "outputId": "7ed9fe9a-fcb0-4a47-d9ae-a41579e55c7a"
      },
      "outputs": [
        {
          "output_type": "stream",
          "name": "stdout",
          "text": [
            "Since its raining\n",
            "Lets do work from home\n"
          ]
        }
      ],
      "source": [
        "raining = True\n",
        "if raining: #True COndition\n",
        "    print(\"Since its raining\")\n",
        "    print(\"Lets do work from home\") #this statement executed\n",
        "else:\n",
        "    print(\"Since its not raining\")\n",
        "    print(\"Lets go to office\")"
      ]
    },
    {
      "cell_type": "code",
      "execution_count": null,
      "id": "109805f3",
      "metadata": {
        "colab": {
          "base_uri": "https://localhost:8080/"
        },
        "id": "109805f3",
        "outputId": "667f525e-1933-4f4b-d871-b8de77c7b0b6"
      },
      "outputs": [
        {
          "output_type": "stream",
          "name": "stdout",
          "text": [
            "Since its not raining\n",
            "Lets go to office\n"
          ]
        }
      ],
      "source": [
        "raining = True\n",
        "if not raining: #False Condition\n",
        "    print(\"Since its raining\")\n",
        "    print(\"Lets do work from home\") #this statement executed\n",
        "else:\n",
        "    print(\"Since its not raining\")\n",
        "    print(\"Lets go to office\")"
      ]
    },
    {
      "cell_type": "code",
      "execution_count": null,
      "id": "fc4b0205",
      "metadata": {
        "colab": {
          "base_uri": "https://localhost:8080/"
        },
        "id": "fc4b0205",
        "outputId": "bf5899bc-fe8a-4f13-94a3-38fd55256b7b"
      },
      "outputs": [
        {
          "output_type": "stream",
          "name": "stdout",
          "text": [
            "Since its not raining\n",
            "Lets go to office\n"
          ]
        }
      ],
      "source": [
        "raining = False\n",
        "if not raining: #False Condition\n",
        "    print(\"Since its not raining\")\n",
        "    print(\"Lets go to office\")\n",
        "else:\n",
        "    print(\"Since its raining\")\n",
        "    print(\"Lets do work from home\") #this statement executed\n"
      ]
    },
    {
      "cell_type": "markdown",
      "id": "f5b4cced",
      "metadata": {
        "id": "f5b4cced"
      },
      "source": [
        "LOGICAL OPERATORs\n",
        "Keywords  |  Meaning\n",
        "\n",
        "not | Unary Negation\n",
        "\n",
        "and | Conditionnal AND\n",
        "\n",
        "or  | Conditional OR\n",
        "\n"
      ]
    },
    {
      "cell_type": "markdown",
      "id": "3a55dc35",
      "metadata": {
        "id": "3a55dc35"
      },
      "source": [
        "if class started then let's concentrate else revise the previous class"
      ]
    },
    {
      "cell_type": "code",
      "execution_count": null,
      "id": "a18828fb",
      "metadata": {
        "colab": {
          "base_uri": "https://localhost:8080/"
        },
        "id": "a18828fb",
        "outputId": "3da114e4-aee5-4f55-c61c-cc25212c0918"
      },
      "outputs": [
        {
          "output_type": "stream",
          "name": "stdout",
          "text": [
            "Since CLass Started\n",
            "Lets Concentrate\n"
          ]
        }
      ],
      "source": [
        "class_started = True\n",
        "\n",
        "if class_started:\n",
        "    print(\"Since CLass Started\")\n",
        "    print(\"Lets Concentrate\")\n",
        "else:\n",
        "    print(\"Since Class is not Started...\")\n",
        "    print(\"Let's Revise\")\n",
        "    "
      ]
    },
    {
      "cell_type": "code",
      "execution_count": null,
      "id": "fac07b1c",
      "metadata": {
        "colab": {
          "base_uri": "https://localhost:8080/"
        },
        "id": "fac07b1c",
        "outputId": "736ed7a2-2f51-421b-e2b7-6c7383ad4397"
      },
      "outputs": [
        {
          "output_type": "stream",
          "name": "stdout",
          "text": [
            "Since Class is not Started...\n",
            "Let's Revise\n"
          ]
        }
      ],
      "source": [
        "class_started = False\n",
        "\n",
        "if class_started:\n",
        "    print(\"Since CLass Started\")\n",
        "    print(\"Lets Concentrate\")\n",
        "else:\n",
        "    print(\"Since Class is not Started...\")\n",
        "    print(\"Let's Revise\")\n",
        "    "
      ]
    },
    {
      "cell_type": "markdown",
      "id": "df10ceaf",
      "metadata": {
        "id": "df10ceaf"
      },
      "source": [
        "if class not started then let's Revisses else Lets COncentrate"
      ]
    },
    {
      "cell_type": "code",
      "execution_count": null,
      "id": "870f7a19",
      "metadata": {
        "colab": {
          "base_uri": "https://localhost:8080/"
        },
        "id": "870f7a19",
        "outputId": "a614f406-5031-4a1f-fb30-4795ddbc5f5d"
      },
      "outputs": [
        {
          "output_type": "stream",
          "name": "stdout",
          "text": [
            "Since Class Started...\n",
            "Lets Concentrate\n"
          ]
        }
      ],
      "source": [
        "class_started = True\n",
        "\n",
        "if not class_started:\n",
        "    print(\"Since Class is not Started...\")\n",
        "    print(\"Let's Revise\")\n",
        "else:\n",
        "    print(\"Since Class Started...\")\n",
        "    print(\"Lets Concentrate\")\n",
        "   "
      ]
    },
    {
      "cell_type": "code",
      "execution_count": null,
      "id": "7d8ef78a",
      "metadata": {
        "colab": {
          "base_uri": "https://localhost:8080/"
        },
        "id": "7d8ef78a",
        "outputId": "c14197fe-6f01-43cc-a555-05175fee66db"
      },
      "outputs": [
        {
          "output_type": "stream",
          "name": "stdout",
          "text": [
            "Since Class is not Started...\n",
            "Let's Revise\n"
          ]
        }
      ],
      "source": [
        "class_started = False\n",
        "\n",
        "if not class_started:\n",
        "    print(\"Since Class is not Started...\")\n",
        "    print(\"Let's Revise\")\n",
        "else:\n",
        "    print(\"Since Class Started...\")\n",
        "    print(\"Lets Concentrate\")\n",
        "   "
      ]
    },
    {
      "cell_type": "code",
      "execution_count": null,
      "id": "d39ed538",
      "metadata": {
        "colab": {
          "base_uri": "https://localhost:8080/",
          "height": 135
        },
        "id": "d39ed538",
        "outputId": "25d418a0-a66c-41a6-dffb-2e38a094c79f"
      },
      "outputs": [
        {
          "output_type": "error",
          "ename": "IndentationError",
          "evalue": "ignored",
          "traceback": [
            "\u001b[0;36m  File \u001b[0;32m\"<ipython-input-11-088f7ab3e8fb>\"\u001b[0;36m, line \u001b[0;32m7\u001b[0m\n\u001b[0;31m    print(\"Let's Revise\")\u001b[0m\n\u001b[0m    ^\u001b[0m\n\u001b[0;31mIndentationError\u001b[0m\u001b[0;31m:\u001b[0m unexpected indent\n"
          ]
        }
      ],
      "source": [
        "# Statement not alligned properly will give indentation errors\n",
        "\n",
        "class_started = False\n",
        "\n",
        "if not class_started:\n",
        " print(\"Since Class is not Started...\")\n",
        "  print(\"Let's Revise\")\n",
        "else:\n",
        "print(\"Since Class Started...\")\n",
        "  print(\"Lets Concentrate\")\n"
      ]
    },
    {
      "cell_type": "code",
      "execution_count": null,
      "id": "7d02f618",
      "metadata": {
        "id": "7d02f618"
      },
      "outputs": [],
      "source": [
        "# Statement not alligned properly will give indentation errors\n",
        "\n",
        "class_started = False\n",
        "\n",
        "if not class_started:\n",
        "    print(\"Since Class is not Started...\")\n",
        "    print(\"Let's Revise\")\n",
        "else:\n",
        "    print(\"Since Class Started...\")\n",
        "    print(\"Lets Concentrate\")\n"
      ]
    },
    {
      "cell_type": "code",
      "execution_count": null,
      "id": "b5f461b6",
      "metadata": {
        "id": "b5f461b6"
      },
      "outputs": [],
      "source": [
        "# # Statement not alligned properly will give indentation errors\n",
        "# ## less takee it at the end:\n",
        "# class_started = bool(input(\"Hey Friend, Is Class Started?: 0 - False/1-True \"))\n",
        "\n",
        "# if class_started:\n",
        "#     print(\"Since Class Started...\")\n",
        "#     print(\"Lets Concentrate\")\n",
        "# else:\n",
        "#     print(\"Since Class is not Started...\")\n",
        "#     print(\"Let's Revise\")\n"
      ]
    },
    {
      "cell_type": "markdown",
      "id": "4ff43835",
      "metadata": {
        "id": "4ff43835"
      },
      "source": [
        "AND Condition"
      ]
    },
    {
      "cell_type": "markdown",
      "id": "a19b5f9c",
      "metadata": {
        "id": "a19b5f9c"
      },
      "source": [
        "Vegetable | Salt | Dish\n",
        "**************************\n",
        "False     | False | False\n",
        "\n",
        "False     | True  | False\n",
        "\n",
        "True      | False | False\n",
        "\n",
        "True      | True  | True\n"
      ]
    },
    {
      "cell_type": "code",
      "execution_count": null,
      "id": "262502b2",
      "metadata": {
        "id": "262502b2"
      },
      "outputs": [],
      "source": [
        "vegetable_present = False\n",
        "salt_present = False\n",
        "\n",
        "if vegetable_present and salt_present:\n",
        "  print(\"Its a good dish\")\n",
        "else:\n",
        "  print(\"Its a bad dish\")\n",
        "  print(f\"because vegetable present : {vegetable_present}\")\n",
        "  print(f\"because salt present : {salt_present}\")"
      ]
    },
    {
      "cell_type": "code",
      "source": [
        "vegetable_present = False\n",
        "salt_present = True\n",
        "\n",
        "if vegetable_present and salt_present:\n",
        "  print(\"Its a good dish\")\n",
        "else:\n",
        "  print(\"Its a bad dish\")\n",
        "  print(f\"because vegetable present : {vegetable_present}\")\n",
        "  print(f\"because salt present : {salt_present}\")"
      ],
      "metadata": {
        "id": "FhmiCMIEUjML"
      },
      "id": "FhmiCMIEUjML",
      "execution_count": null,
      "outputs": []
    },
    {
      "cell_type": "code",
      "source": [
        "vegetable_present = True\n",
        "salt_present = False\n",
        "\n",
        "if vegetable_present and salt_present:\n",
        "  print(\"Its a good dish\")\n",
        "else:\n",
        "  print(\"Its a bad dish\")\n",
        "  print(f\"because vegetable present : {vegetable_present}\")\n",
        "  print(f\"because salt present : {salt_present}\")"
      ],
      "metadata": {
        "id": "77GAeXYqU_dq"
      },
      "id": "77GAeXYqU_dq",
      "execution_count": null,
      "outputs": []
    },
    {
      "cell_type": "markdown",
      "source": [
        "if vegetbale and salt both are present in mmy dish then my dish is good"
      ],
      "metadata": {
        "id": "UNUW5wVYVS9Y"
      },
      "id": "UNUW5wVYVS9Y"
    },
    {
      "cell_type": "code",
      "source": [
        "vegetable_present = True\n",
        "salt_present = True\n",
        "\n",
        "if vegetable_present and salt_present: #this condition was true as both the sub confition are true\n",
        "  print(\"Its a good dish\")\n",
        "else:\n",
        "  print(\"Its a bad dish\")\n",
        "  print(f\"because vegetable present : {vegetable_present}\")\n",
        "  print(f\"because salt present : {salt_present}\")"
      ],
      "metadata": {
        "id": "l12hX72yVDN5"
      },
      "id": "l12hX72yVDN5",
      "execution_count": null,
      "outputs": []
    },
    {
      "cell_type": "markdown",
      "source": [
        "### or  | Conditional OR\n",
        "\n",
        "if i have a car or bike then i can travel 100 kms in a day\n",
        "\n",
        "Car       | BIKE  | TRAVEL 100 kms\n",
        "\n",
        "False     | False | False\n",
        "\n",
        "False     | True  | True\n",
        "\n",
        "True      | False | True\n",
        "\n",
        "True      | True  | True\n",
        "\n"
      ],
      "metadata": {
        "id": "2aiERgFsV9ek"
      },
      "id": "2aiERgFsV9ek"
    },
    {
      "cell_type": "code",
      "source": [
        "i_own_car = False\n",
        "i_own_bike = False\n",
        "\n",
        "if i_own_car or i_own_bike:\n",
        "  print(\"I Can travel 100 kms in a day!\")\n",
        "else:\n",
        "  print(\"I am stucked as i don't have car or bike!\")"
      ],
      "metadata": {
        "id": "dkU6fKXtVI1z"
      },
      "id": "dkU6fKXtVI1z",
      "execution_count": null,
      "outputs": []
    },
    {
      "cell_type": "code",
      "source": [
        "i_own_car = False\n",
        "i_own_bike = True\n",
        "\n",
        "if i_own_car or i_own_bike:\n",
        "  print(\"I Can travel 100 kms in a day!\")\n",
        "else:\n",
        "  print(\"I am stucked as i don't have car or bike!\")"
      ],
      "metadata": {
        "id": "gn4OafZJXHID"
      },
      "id": "gn4OafZJXHID",
      "execution_count": null,
      "outputs": []
    },
    {
      "cell_type": "code",
      "source": [
        "i_own_car = True\n",
        "i_own_bike = False\n",
        "\n",
        "if i_own_car or i_own_bike:\n",
        "  print(\"I Can travel 100 kms in a day!\")\n",
        "else:\n",
        "  print(\"I am stucked as i don't have car or bike!\")"
      ],
      "metadata": {
        "id": "t_5XTKiwXu-j"
      },
      "id": "t_5XTKiwXu-j",
      "execution_count": null,
      "outputs": []
    },
    {
      "cell_type": "code",
      "source": [
        "i_own_car = True\n",
        "i_own_bike = True\n",
        "\n",
        "if i_own_car or i_own_bike:\n",
        "  print(\"I Can travel 100 kms in a day!\")\n",
        "else:\n",
        "  print(\"I am stucked as i don't have car or bike!\")"
      ],
      "metadata": {
        "id": "BETaNwTpXzJa"
      },
      "id": "BETaNwTpXzJa",
      "execution_count": null,
      "outputs": []
    },
    {
      "cell_type": "markdown",
      "source": [
        "## Conclusion - \n",
        "1. use and operator when you want all the condition to be true\n",
        "2. use or operator if anyone of the condition you want to be true "
      ],
      "metadata": {
        "id": "Om3a9GsfYGou"
      },
      "id": "Om3a9GsfYGou"
    },
    {
      "cell_type": "markdown",
      "source": [
        "### Example -\n",
        "attendance | assignment | eligible_for_exam\n",
        "- | - | -\n",
        ">=75% | >=70% | True"
      ],
      "metadata": {
        "id": "C_StLOtgYYoW"
      },
      "id": "C_StLOtgYYoW"
    },
    {
      "cell_type": "code",
      "source": [
        "attendance = 70\n",
        "assignment_submitted = 40\n",
        "\n",
        "print(f\"attendance Criteria met ? : {attendance >= 75}\")\n",
        "print(f\"assignment Criteria met ? : {assignment_submitted >= 70}\")\n",
        "\n",
        "if attendance >= 75 and assignment_submitted >= 70:\n",
        "  print(\"the student is eligible to appear in final exam\")\n",
        "else:\n",
        "  print(\"the student is not eligible\")"
      ],
      "metadata": {
        "id": "7KedO0T8X4bS"
      },
      "id": "7KedO0T8X4bS",
      "execution_count": null,
      "outputs": []
    },
    {
      "cell_type": "code",
      "source": [
        "attendance = 90\n",
        "assignment_submitted = 40\n",
        "\n",
        "print(f\"attendance Criteria met ? : {attendance >= 75}\")\n",
        "print(f\"assignment Criteria met ? : {assignment_submitted >= 70}\")\n",
        "\n",
        "if attendance >= 75 and assignment_submitted >= 70:\n",
        "  print(\"the student is eligible to appear in final exam\")\n",
        "else:\n",
        "  print(\"the student is not eligible\")"
      ],
      "metadata": {
        "id": "rwt5AmZxZtlr"
      },
      "id": "rwt5AmZxZtlr",
      "execution_count": null,
      "outputs": []
    },
    {
      "cell_type": "code",
      "source": [
        "attendance = 90\n",
        "assignment_submitted = 90\n",
        "\n",
        "print(f\"attendance Criteria met ? : {attendance >= 75}\")\n",
        "print(f\"assignment Criteria met ? : {assignment_submitted >= 70}\")\n",
        "\n",
        "if attendance >= 75 and assignment_submitted >= 70:\n",
        "  print(\"the student is eligible to appear in final exam\")\n",
        "else:\n",
        "  print(\"the student is not eligible\")"
      ],
      "metadata": {
        "id": "k5_NAsblZ0SC"
      },
      "id": "k5_NAsblZ0SC",
      "execution_count": null,
      "outputs": []
    },
    {
      "cell_type": "markdown",
      "source": [
        "\n",
        "credit_card | debit_card | purchase_book_from_amazon\n",
        "- | - | -\n",
        "True | True | True\n",
        "False | False | True"
      ],
      "metadata": {
        "id": "o-0ylZria14l"
      },
      "id": "o-0ylZria14l"
    },
    {
      "cell_type": "code",
      "source": [
        "own_credit_card = False\n",
        "own_debit_card = False\n",
        "\n",
        "if own_credit_card or own_debit_card :\n",
        "  print(\"Proceed further for payment\")\n",
        "else:\n",
        "  print(\"Ask your dad for debit or credit card\")\n",
        "  print(\"Cash on Delivery\")"
      ],
      "metadata": {
        "id": "JoSyxAopZ4lC"
      },
      "id": "JoSyxAopZ4lC",
      "execution_count": null,
      "outputs": []
    },
    {
      "cell_type": "code",
      "source": [
        "own_credit_card = False\n",
        "own_debit_card = True\n",
        "\n",
        "if own_credit_card or own_debit_card :\n",
        "  print(\"Proceed further for payment\")\n",
        "else:\n",
        "  print(\"Ask your dad for debit or credit card\")\n",
        "  print(\"Cash on Delivery\")"
      ],
      "metadata": {
        "id": "Qt6tQbihcEgU"
      },
      "id": "Qt6tQbihcEgU",
      "execution_count": null,
      "outputs": []
    },
    {
      "cell_type": "code",
      "source": [
        "own_credit_card = False\n",
        "own_debit_card = False\n",
        "Net_banking = True\n",
        "\n",
        "if own_credit_card or own_debit_card or Net_banking :\n",
        "  print(\"Proceed further for payment\")\n",
        "else:\n",
        "  print(\"Ask your dad for debit or credit card\")\n",
        "  print(\"Cash on Delivery\")"
      ],
      "metadata": {
        "id": "vXnu534_cIKS"
      },
      "id": "vXnu534_cIKS",
      "execution_count": null,
      "outputs": []
    },
    {
      "cell_type": "markdown",
      "source": [
        "## and or together\n",
        "attendance | assignment | sports_player | eligible_for_exam\n",
        "- | - | - | -\n",
        ">=75% | >=70%  | False | True\n",
        ">=75% | >=70%  | True | True"
      ],
      "metadata": {
        "id": "b8XAa2Jcezsx"
      },
      "id": "b8XAa2Jcezsx"
    },
    {
      "cell_type": "code",
      "source": [
        "attendance = 70\n",
        "assignment_submitted = 40\n",
        "sports_player = True\n",
        "\n",
        "print(f\"attendence criteria met? : {attendance >= 75}\")\n",
        "print(f\"assignment criteria met? : {assignment_submitted >= 70}\")\n",
        "print(f\"sports criteria met? : {sports_player}\")\n",
        "\n",
        "if attendance >= 75 and assignment_submitted >= 70:\n",
        "    if sports_player:\n",
        "        print(\"The student is eligible to appear in final exam\")\n",
        "    else:\n",
        "        print(\"The student is eligible to appear in final exam\")\n",
        "else:\n",
        "    print(\"The student is not eligible\")"
      ],
      "metadata": {
        "id": "RiaMs2ducVwz"
      },
      "id": "RiaMs2ducVwz",
      "execution_count": null,
      "outputs": []
    },
    {
      "cell_type": "markdown",
      "source": [
        "if attendance is more than 75% and assignment completed is more than 70% or student is sports player the only the student is eligible for exam.\n",
        "If you are sports player then you will get grace marks +10"
      ],
      "metadata": {
        "id": "q7SO6M_RjsF5"
      },
      "id": "q7SO6M_RjsF5"
    },
    {
      "cell_type": "code",
      "source": [
        "# complex conditional casses as mentioned above -\n",
        "attendance = 90 # mendatory\n",
        "assignment_submitted = 75 # mendatory\n",
        "sports_player = False # not mendatory\n",
        "\n",
        "print(f\"attendence criteria met? : {attendance >= 75}\")\n",
        "print(f\"assignment criteria met? : {assignment_submitted >= 70}\")\n",
        "print(f\"sports criteria met? : {sports_player}\")\n",
        "\n",
        "if attendance >= 75 and assignment_submitted >= 70:\n",
        "    if sports_player:\n",
        "        print(\"The student is can get grace marks = +10\")\n",
        "    else:\n",
        "        print(\"The student is eligible to appear in final exam but not extra grace marks\")\n",
        "else:\n",
        "    print(\"The student is not eligible\")"
      ],
      "metadata": {
        "id": "AlwFVFJ2fiX9"
      },
      "id": "AlwFVFJ2fiX9",
      "execution_count": null,
      "outputs": []
    },
    {
      "cell_type": "code",
      "source": [
        "# complex conditional casses as mentioned above -\n",
        "attendance = 90 # mendatory\n",
        "assignment_submitted = 75 # mendatory\n",
        "sports_player = True # not mendatory\n",
        "\n",
        "print(f\"attendence criteria met? : {attendance >= 75}\")\n",
        "print(f\"assignment criteria met? : {assignment_submitted >= 70}\")\n",
        "print(f\"sports criteria met? : {sports_player}\")\n",
        "\n",
        "if attendance >= 75 and assignment_submitted >= 70:\n",
        "    if sports_player:\n",
        "        print(\"The student can get grace marks = +10\")\n",
        "    else:\n",
        "        print(\"The student is eligible to appear in final exam but not extra grace marks\")\n",
        "else:\n",
        "    print(\"The student is not eligible\")"
      ],
      "metadata": {
        "id": "MDonSUpgjWyk"
      },
      "id": "MDonSUpgjWyk",
      "execution_count": null,
      "outputs": []
    },
    {
      "cell_type": "code",
      "source": [
        "# complex conditional casses as mentioned above -\n",
        "attendance = 90 # mendatory\n",
        "assignment_submitted = 40 # mendatory\n",
        "sports_player = True # not mendatory\n",
        "\n",
        "print(f\"attendence criteria met? : {attendance >= 75}\")\n",
        "print(f\"assignment criteria met? : {assignment_submitted >= 70}\")\n",
        "print(f\"sports criteria met? : {sports_player}\")\n",
        "\n",
        "if attendance >= 75 and assignment_submitted >= 70:\n",
        "    if sports_player:\n",
        "        print(\"The student can get grace marks = +10\")\n",
        "    else:\n",
        "        print(\"The student is eligible to appear in final exam but not extra grace marks\")\n",
        "else:\n",
        "    print(\"The student is not eligible\")"
      ],
      "metadata": {
        "id": "sPM1v4Mgj6-h"
      },
      "id": "sPM1v4Mgj6-h",
      "execution_count": null,
      "outputs": []
    },
    {
      "cell_type": "markdown",
      "source": [
        "#Equality Operators"
      ],
      "metadata": {
        "id": "FCwWLRnJklyJ"
      },
      "id": "FCwWLRnJklyJ"
    },
    {
      "cell_type": "markdown",
      "source": [
        "Operator | uses | Meaning\n",
        "- | - | -\n",
        "is | A is B=> | return True if A and B points to the same object   \n",
        "is not | A is not B | returns True if A and B do not points to the same object\n",
        "== | A == B | A is equal to B\n",
        "!= | A != B | A is not equal to B\n",
        "\n",
        "When using `is` then we are also comparing memory location\n",
        "When using `is not` then we are also comparing memory location\n",
        "\n",
        "== and != is only checking value of the variables [Used more offently or frequently]"
      ],
      "metadata": {
        "id": "em1InF8KlC4K"
      },
      "id": "em1InF8KlC4K"
    },
    {
      "cell_type": "code",
      "source": [
        "A = 1\n",
        "B = 1\n",
        "\n",
        "if A is B:\n",
        "  print(\"A and B are same\")\n",
        "else:\n",
        "  print(\"A and B are not same\")\n",
        "  \n",
        "print(id(A))\n",
        "print(id(B))"
      ],
      "metadata": {
        "colab": {
          "base_uri": "https://localhost:8080/"
        },
        "id": "6s3qYO_dkHaR",
        "outputId": "224c5215-9464-4003-ae61-d91d779e1d1b"
      },
      "id": "6s3qYO_dkHaR",
      "execution_count": null,
      "outputs": [
        {
          "output_type": "stream",
          "name": "stdout",
          "text": [
            "A and B are same\n",
            "11122592\n",
            "11122592\n"
          ]
        }
      ]
    },
    {
      "cell_type": "code",
      "source": [
        "A = 1\n",
        "B = 2\n",
        "\n",
        "if A is not B:\n",
        "  print(\"A and B are same\")\n",
        "else:\n",
        "  print(\"A and B are not same\")\n"
      ],
      "metadata": {
        "colab": {
          "base_uri": "https://localhost:8080/"
        },
        "id": "vVK16VLYmep3",
        "outputId": "4b1ca218-c18b-4f9e-deee-f7a1a8da8616"
      },
      "id": "vVK16VLYmep3",
      "execution_count": null,
      "outputs": [
        {
          "output_type": "stream",
          "name": "stdout",
          "text": [
            "A and B are same\n"
          ]
        }
      ]
    },
    {
      "cell_type": "code",
      "source": [
        "A = 1\n",
        "B = 2\n",
        "\n",
        "if A is not B:\n",
        "  print(\"A and B are not same\")\n",
        "else:\n",
        "  print(\"A and B are same\")\n"
      ],
      "metadata": {
        "colab": {
          "base_uri": "https://localhost:8080/"
        },
        "id": "eDnZAOy_mi5d",
        "outputId": "72cf9b91-6453-49fc-eb13-a348114ad1cf"
      },
      "id": "eDnZAOy_mi5d",
      "execution_count": null,
      "outputs": [
        {
          "output_type": "stream",
          "name": "stdout",
          "text": [
            "A and B are not same\n"
          ]
        }
      ]
    },
    {
      "cell_type": "code",
      "source": [
        "A = 1\n",
        "B = 1\n",
        "\n",
        "if A == B: #A and B are having same value\n",
        "  print(\"A and B are same\")\n",
        "else:\n",
        "  print(\"A and B are not same\")\n"
      ],
      "metadata": {
        "colab": {
          "base_uri": "https://localhost:8080/"
        },
        "id": "116q5Jahm-It",
        "outputId": "06204c89-4ada-4be8-a742-694b5f09c344"
      },
      "id": "116q5Jahm-It",
      "execution_count": null,
      "outputs": [
        {
          "output_type": "stream",
          "name": "stdout",
          "text": [
            "A and B are same\n"
          ]
        }
      ]
    },
    {
      "cell_type": "code",
      "source": [
        "A = 1\n",
        "B = 2\n",
        "\n",
        "if A != B:\n",
        "  print(\"A and B are not same\")\n",
        "else:\n",
        "  print(\"A and B are same\")\n"
      ],
      "metadata": {
        "colab": {
          "base_uri": "https://localhost:8080/"
        },
        "id": "O5Y8bTuUnGTu",
        "outputId": "313e6bc3-27c1-4f7b-a2f1-c9eb847c8625"
      },
      "id": "O5Y8bTuUnGTu",
      "execution_count": null,
      "outputs": [
        {
          "output_type": "stream",
          "name": "stdout",
          "text": [
            "A and B are not same\n"
          ]
        }
      ]
    },
    {
      "cell_type": "code",
      "source": [
        "A = \"Sunny\"\n",
        "B = \"Sunny\"\n",
        "\n",
        "A is B"
      ],
      "metadata": {
        "colab": {
          "base_uri": "https://localhost:8080/"
        },
        "id": "nwrGpQDSnMu9",
        "outputId": "7502b547-06ec-4d63-9562-aa2c2d3273a7"
      },
      "id": "nwrGpQDSnMu9",
      "execution_count": null,
      "outputs": [
        {
          "output_type": "execute_result",
          "data": {
            "text/plain": [
              "True"
            ]
          },
          "metadata": {},
          "execution_count": 17
        }
      ]
    },
    {
      "cell_type": "code",
      "source": [
        "A = [\"sunny\", \"Rishav\"] #Lis Data Structure\n",
        "B = [\"sunny\", \"Rishav\"] #Lis Data Structure\n",
        "print(A is B)\n",
        "print(A is not B)\n",
        "print(A==B)"
      ],
      "metadata": {
        "colab": {
          "base_uri": "https://localhost:8080/"
        },
        "id": "yPsKc-nboE94",
        "outputId": "c40d4167-77b7-4de1-ef45-9671be55c31b"
      },
      "id": "yPsKc-nboE94",
      "execution_count": null,
      "outputs": [
        {
          "output_type": "stream",
          "name": "stdout",
          "text": [
            "False\n",
            "True\n",
            "True\n"
          ]
        }
      ]
    },
    {
      "cell_type": "code",
      "source": [
        "id(A)"
      ],
      "metadata": {
        "colab": {
          "base_uri": "https://localhost:8080/"
        },
        "id": "kjA4mSBFodWG",
        "outputId": "bc32094b-0e80-4368-ab3c-7e74948736fb"
      },
      "id": "kjA4mSBFodWG",
      "execution_count": null,
      "outputs": [
        {
          "output_type": "execute_result",
          "data": {
            "text/plain": [
              "140614711563840"
            ]
          },
          "metadata": {},
          "execution_count": 19
        }
      ]
    },
    {
      "cell_type": "code",
      "source": [
        "id(B)"
      ],
      "metadata": {
        "colab": {
          "base_uri": "https://localhost:8080/"
        },
        "id": "KSmenBYFot1-",
        "outputId": "4a266b43-55f1-4382-94f1-e2cd5a96055d"
      },
      "id": "KSmenBYFot1-",
      "execution_count": null,
      "outputs": [
        {
          "output_type": "execute_result",
          "data": {
            "text/plain": [
              "140614711581664"
            ]
          },
          "metadata": {},
          "execution_count": 20
        }
      ]
    },
    {
      "cell_type": "code",
      "source": [
        "A = int(input(\"Enter the value of A : \"))\n",
        "B = int(input(\"Enter the value of B : \"))\n",
        "A is B"
      ],
      "metadata": {
        "colab": {
          "base_uri": "https://localhost:8080/"
        },
        "id": "Rnq5GhU-ovS-",
        "outputId": "eb6914da-c899-49f2-bdd1-04aba0ed27b0"
      },
      "id": "Rnq5GhU-ovS-",
      "execution_count": null,
      "outputs": [
        {
          "name": "stdout",
          "output_type": "stream",
          "text": [
            "Enter the value of A1\n",
            "Enter the value of B1\n"
          ]
        },
        {
          "output_type": "execute_result",
          "data": {
            "text/plain": [
              "True"
            ]
          },
          "metadata": {},
          "execution_count": 22
        }
      ]
    },
    {
      "cell_type": "code",
      "source": [
        "A = 1\n",
        "B = int(input(\"Enter the value of B : \"))\n",
        "A is B"
      ],
      "metadata": {
        "colab": {
          "base_uri": "https://localhost:8080/"
        },
        "id": "T7kAGBfNp4KW",
        "outputId": "e9667cab-415e-4e95-cece-bbc00159e179"
      },
      "id": "T7kAGBfNp4KW",
      "execution_count": null,
      "outputs": [
        {
          "name": "stdout",
          "output_type": "stream",
          "text": [
            "Enter the value of B1\n"
          ]
        },
        {
          "output_type": "execute_result",
          "data": {
            "text/plain": [
              "True"
            ]
          },
          "metadata": {},
          "execution_count": 23
        }
      ]
    },
    {
      "cell_type": "code",
      "source": [
        "name = input(\"Enter your name : \")\n",
        "if name == \"Sunny Bhaveen Chandra\":\n",
        "  print(f\"He is the Mentor\")\n",
        "else:\n",
        "  print(f\"its possible that he/she is a student\")"
      ],
      "metadata": {
        "colab": {
          "base_uri": "https://localhost:8080/"
        },
        "id": "ZCV3XMf7p_Bu",
        "outputId": "7fdf6983-c9a9-4b69-8f2a-baca9c86932c"
      },
      "id": "ZCV3XMf7p_Bu",
      "execution_count": null,
      "outputs": [
        {
          "output_type": "stream",
          "name": "stdout",
          "text": [
            "Enter your name : Sunny Bhaveen Chandra\n",
            "He is the Mentor\n"
          ]
        }
      ]
    },
    {
      "cell_type": "code",
      "source": [
        "name = input(\"Enter your name : \")\n",
        "if name == \"Sunny Bhaveen Chandra\":\n",
        "  print(f\"He is the Mentor\")\n",
        "else:\n",
        "  print(f\"its possible that he/she is a student\")"
      ],
      "metadata": {
        "colab": {
          "base_uri": "https://localhost:8080/"
        },
        "id": "sqe2IkTWqlQQ",
        "outputId": "f9dd3f99-54e8-4dd7-bdb7-b4200abfd1cd"
      },
      "id": "sqe2IkTWqlQQ",
      "execution_count": null,
      "outputs": [
        {
          "output_type": "stream",
          "name": "stdout",
          "text": [
            "Enter your name : Satyam\n",
            "its possible that he/she is a student\n"
          ]
        }
      ]
    },
    {
      "cell_type": "code",
      "source": [
        "name = input(\"Enter your name : \")\n",
        "if name == \"Sunny Bhaveen Chandra\":\n",
        "  print(f\"He is the Mentor\")\n",
        "else:\n",
        "  print(f\"its possible that he/she is a student\")"
      ],
      "metadata": {
        "colab": {
          "base_uri": "https://localhost:8080/"
        },
        "id": "PQ3j3kf1qpiv",
        "outputId": "b21596d0-7d2d-4fe4-cefe-367e5a02f7a3"
      },
      "id": "PQ3j3kf1qpiv",
      "execution_count": null,
      "outputs": [
        {
          "output_type": "stream",
          "name": "stdout",
          "text": [
            "Enter your name : sunny chandra\n",
            "its possible that he/she is a student\n"
          ]
        }
      ]
    },
    {
      "cell_type": "code",
      "source": [
        "name = input(\"Enter your name : \")\n",
        "if name == \"Sunny Bhaveen Chandra\":\n",
        "  print(f\"He is the Mentor\")\n",
        "else:\n",
        "  print(f\"its possible that he/she is a student\")"
      ],
      "metadata": {
        "colab": {
          "base_uri": "https://localhost:8080/"
        },
        "id": "bZ57g3flqylX",
        "outputId": "5d4593c5-7a35-43d0-f775-82dcd9b7dbe8"
      },
      "id": "bZ57g3flqylX",
      "execution_count": null,
      "outputs": [
        {
          "output_type": "stream",
          "name": "stdout",
          "text": [
            "Enter your name : sunny bhaveen chandra\n",
            "its possible that he/she is a student\n"
          ]
        }
      ]
    },
    {
      "cell_type": "markdown",
      "source": [
        "#Comparision Operator\n",
        "\n",
        "Operation | Meaning\n",
        "- | -\n",
        "< | A < B\n",
        "<= | A <= B\n",
        "> | A > B\n",
        ">= | A >= B"
      ],
      "metadata": {
        "id": "rApHP7rVt4Cx"
      },
      "id": "rApHP7rVt4Cx"
    },
    {
      "cell_type": "code",
      "source": [
        "attendance = 90\n",
        "assignment_submitted = 40\n",
        "\n",
        "print(f\"attendance Criteria met ? : {attendance >= 75}\")\n",
        "print(f\"assignment Criteria met ? : {assignment_submitted >= 70}\")\n",
        "\n",
        "if attendance >= 75 and assignment_submitted >= 70:\n",
        "  print(\"the student is eligible to appear in final exam\")\n",
        "else:\n",
        "  print(\"the student is not eligible\")"
      ],
      "metadata": {
        "id": "2DNwhqqCr3GY"
      },
      "id": "2DNwhqqCr3GY",
      "execution_count": null,
      "outputs": []
    },
    {
      "cell_type": "code",
      "source": [
        "your_score = 40\n",
        "passing_marks = 33.33\n",
        "\n",
        "if your_score >= 33.33:\n",
        "  print(f\"Since you have scored : {your_score}, You have passed the exam!s\")\n",
        "else:\n",
        "  print(\"Dad ! You should have taken things seriously\")"
      ],
      "metadata": {
        "colab": {
          "base_uri": "https://localhost:8080/"
        },
        "id": "oZV2lInju3ig",
        "outputId": "f17d99a5-1cb4-49cb-b902-36536cd9569f"
      },
      "id": "oZV2lInju3ig",
      "execution_count": null,
      "outputs": [
        {
          "output_type": "stream",
          "name": "stdout",
          "text": [
            "Since you have scored : 40, You have passed the exam!s\n"
          ]
        }
      ]
    },
    {
      "cell_type": "code",
      "source": [
        "your_score = 30\n",
        "passing_marks = 33.33\n",
        "\n",
        "if your_score >= 33.33:\n",
        "  print(f\"Since you have scored : {your_score}, You have passed the exam!s\")\n",
        "else:\n",
        "  print(\"Dad ! You should have taken things seriously\")"
      ],
      "metadata": {
        "colab": {
          "base_uri": "https://localhost:8080/"
        },
        "id": "RnGBibg6w3P4",
        "outputId": "cc39accc-70c1-4c0b-f345-bd9af212db37"
      },
      "id": "RnGBibg6w3P4",
      "execution_count": null,
      "outputs": [
        {
          "output_type": "stream",
          "name": "stdout",
          "text": [
            "Dad ! You should have taken things seriously\n"
          ]
        }
      ]
    },
    {
      "cell_type": "code",
      "source": [
        "your_score = 33.33\n",
        "passing_marks = 33.33\n",
        "\n",
        "if your_score > 33.33: #Strict Case\n",
        "  print(f\"Since you have scored : {your_score}, You have passed the exam!s\")\n",
        "else:\n",
        "  print(f\"Dad ! You should have taken things seriously\")"
      ],
      "metadata": {
        "colab": {
          "base_uri": "https://localhost:8080/"
        },
        "id": "kyuxZoQXw_KA",
        "outputId": "21a07cd9-1b42-4f20-a5fa-daa4f24c0ec2"
      },
      "id": "kyuxZoQXw_KA",
      "execution_count": null,
      "outputs": [
        {
          "output_type": "stream",
          "name": "stdout",
          "text": [
            "Dad ! You should have taken things seriously\n"
          ]
        }
      ]
    },
    {
      "cell_type": "code",
      "source": [
        "your_score = 33.33\n",
        "passing_marks = 33.33\n",
        "distinction_marks = 75\n",
        "\n",
        "if your_score > 33.33: #Strict Case\n",
        "  print(f\"Since you have scored : {your_score}, You have passed the exam!s\")\n",
        "  if your_score > distinction_marks :\n",
        "    print(\"Dad! I will buy you a bike! Well Done!!\") \n",
        "else:\n",
        "  print(f\"Dad ! You should have taken things seriously\")"
      ],
      "metadata": {
        "colab": {
          "base_uri": "https://localhost:8080/"
        },
        "id": "ZzA_haSrxMEn",
        "outputId": "e7741ea2-0fb6-417f-b8ed-6ce1f5bf47fd"
      },
      "id": "ZzA_haSrxMEn",
      "execution_count": null,
      "outputs": [
        {
          "output_type": "stream",
          "name": "stdout",
          "text": [
            "Dad ! You should have taken things seriously\n"
          ]
        }
      ]
    },
    {
      "cell_type": "code",
      "source": [
        "your_score = 90\n",
        "passing_marks = 33.33\n",
        "distinction_marks = 75\n",
        "\n",
        "if your_score > 33.33: #Strict Case\n",
        "  print(f\"Since you have scored : {your_score}, You have passed the exam!s\")\n",
        "  if your_score > distinction_marks :\n",
        "    print(\"Dad! I will buy you a bike! Well Done!!\") \n",
        "  else:\n",
        "    print(\"Dad : Better Luck Next Time!\")\n",
        "else:\n",
        "  print(f\"Dad ! You should have taken things seriously\")"
      ],
      "metadata": {
        "colab": {
          "base_uri": "https://localhost:8080/"
        },
        "id": "6uiTNS5Ax56h",
        "outputId": "98b51fc5-80ff-4daa-bc20-d2142975348c"
      },
      "id": "6uiTNS5Ax56h",
      "execution_count": null,
      "outputs": [
        {
          "output_type": "stream",
          "name": "stdout",
          "text": [
            "Since you have scored : 90, You have passed the exam!s\n",
            "Dad! I will buy you a bike! Well Done!!\n"
          ]
        }
      ]
    },
    {
      "cell_type": "code",
      "source": [
        "your_score = 60\n",
        "passing_marks = 33.33\n",
        "distinction_marks = 75\n",
        "\n",
        "if your_score > 33.33: #Strict Case\n",
        "  print(f\"Since you have scored : {your_score}, You have passed the exam!s\")\n",
        "  if your_score > distinction_marks :\n",
        "    print(\"Dad! I will buy you a bike! Well Done!!\") \n",
        "  else:\n",
        "    print(\"Dad : Better Luck Next Time!\")\n",
        "else:\n",
        "  print(f\"Dad ! You should have taken things seriously\")"
      ],
      "metadata": {
        "colab": {
          "base_uri": "https://localhost:8080/"
        },
        "id": "iOmB7pTVyGpI",
        "outputId": "7cd3944d-70d0-4de5-f0ee-7fc96bca46c2"
      },
      "id": "iOmB7pTVyGpI",
      "execution_count": null,
      "outputs": [
        {
          "output_type": "stream",
          "name": "stdout",
          "text": [
            "Since you have scored : 60, You have passed the exam!s\n",
            "Dad : Better Luck Next Time!\n"
          ]
        }
      ]
    },
    {
      "cell_type": "code",
      "source": [],
      "metadata": {
        "id": "pJMwrwRYzvWR"
      },
      "id": "pJMwrwRYzvWR",
      "execution_count": null,
      "outputs": []
    }
  ],
  "metadata": {
    "kernelspec": {
      "display_name": "Python 3 (ipykernel)",
      "language": "python",
      "name": "python3"
    },
    "language_info": {
      "codemirror_mode": {
        "name": "ipython",
        "version": 3
      },
      "file_extension": ".py",
      "mimetype": "text/x-python",
      "name": "python",
      "nbconvert_exporter": "python",
      "pygments_lexer": "ipython3",
      "version": "3.9.7"
    },
    "colab": {
      "provenance": [],
      "collapsed_sections": []
    }
  },
  "nbformat": 4,
  "nbformat_minor": 5
}