{
  "nbformat": 4,
  "nbformat_minor": 0,
  "metadata": {
    "colab": {
      "provenance": [],
      "collapsed_sections": []
    },
    "kernelspec": {
      "name": "python3",
      "display_name": "Python 3"
    },
    "language_info": {
      "name": "python"
    }
  },
  "cells": [
    {
      "cell_type": "markdown",
      "source": [
        "# AGENDA\n",
        "1. Operators\n",
        "  - Arithmatic\n",
        "2. String methods\n",
        "3. Control flow statements\n",
        "\n"
      ],
      "metadata": {
        "id": "dGdUa-8iFE5S"
      }
    },
    {
      "cell_type": "markdown",
      "source": [
        "### **Arithmatic Operators**\n",
        "\n",
        "|Operation|Meaning|\n",
        "|:-:|:-:|\n",
        "| **+** |addition|\n",
        "| **-** |subtraction|\n",
        "| **\\*** |multiplication|\n",
        "| **/** |true division|\n",
        "| **//** |integer division|\n",
        "| **%** |the modulo operator|\n",
        "\n",
        "\n",
        "Here `+`, `-`, `*`, `/` are regular arithmatic operators. Lets look at the `//` and `%` operators\n",
        "\n",
        "Usecase or examples - \n",
        "    \n",
        "```python\n",
        "var_a = 5\n",
        "var_b = 25\n",
        "integer_division = var_b // var_a\n",
        "print(f\"integer division: {var_b}/{var_a}={integer_division}\")\n",
        "```\n",
        "\n",
        "OUTPUT: integer division: 25/5=5\n",
        "\n",
        "```python\n",
        "var_a = 3\n",
        "var_b = 25\n",
        "integer_division = var_b // var_a\n",
        "print(f\"integer division: {var_b}/{var_a}={integer_division}\")\n",
        "```\n",
        "\n",
        "OUTPUT: integer division: 25/3=8\n",
        "\n",
        "```python\n",
        "var_a = 5\n",
        "var_b = 25\n",
        "remainder = var_b % var_a\n",
        "print(f\"remainder: {var_b}/{var_a} is {remainder}\")\n",
        "```\n",
        "\n",
        "OUTPUT: remainder: 25/5 is 0\n",
        "\n",
        "```python\n",
        "var_a = 3\n",
        "var_b = 25\n",
        "remainder = var_b % var_a\n",
        "print(f\"remainder: {var_b}/{var_a} is {remainder}\")\n",
        "```\n",
        "\n",
        "OUTPUT: remainder: 25/3 is 1\n",
        "\n"
      ],
      "metadata": {
        "id": "XMyhxLm9FJlA"
      }
    },
    {
      "cell_type": "code",
      "source": [
        "A = 22\n",
        "B = 23\n",
        "\n",
        "A + B"
      ],
      "metadata": {
        "colab": {
          "base_uri": "https://localhost:8080/"
        },
        "id": "5Ds8d5zJFDew",
        "outputId": "27f637cd-de24-4542-f3a5-88dce38262e5"
      },
      "execution_count": 1,
      "outputs": [
        {
          "output_type": "execute_result",
          "data": {
            "text/plain": [
              "45"
            ]
          },
          "metadata": {},
          "execution_count": 1
        }
      ]
    },
    {
      "cell_type": "code",
      "execution_count": 2,
      "metadata": {
        "id": "9sEObBK7CLbD",
        "colab": {
          "base_uri": "https://localhost:8080/"
        },
        "outputId": "bf34cdb0-8fb9-4465-99ab-c8fc8ca786d0"
      },
      "outputs": [
        {
          "output_type": "execute_result",
          "data": {
            "text/plain": [
              "-1"
            ]
          },
          "metadata": {},
          "execution_count": 2
        }
      ],
      "source": [
        "A - B"
      ]
    },
    {
      "cell_type": "code",
      "source": [
        "A / B"
      ],
      "metadata": {
        "colab": {
          "base_uri": "https://localhost:8080/"
        },
        "id": "aEbQ4j4rFgtE",
        "outputId": "2709a629-69d4-4097-8b23-171299a531a6"
      },
      "execution_count": 3,
      "outputs": [
        {
          "output_type": "execute_result",
          "data": {
            "text/plain": [
              "0.9565217391304348"
            ]
          },
          "metadata": {},
          "execution_count": 3
        }
      ]
    },
    {
      "cell_type": "code",
      "source": [
        "A // B"
      ],
      "metadata": {
        "colab": {
          "base_uri": "https://localhost:8080/"
        },
        "id": "ucYNvxZpFkq7",
        "outputId": "e8f62457-ba68-4283-eba4-b5e3b60dec5d"
      },
      "execution_count": 4,
      "outputs": [
        {
          "output_type": "execute_result",
          "data": {
            "text/plain": [
              "0"
            ]
          },
          "metadata": {},
          "execution_count": 4
        }
      ]
    },
    {
      "cell_type": "code",
      "source": [
        "A = 5\n",
        "B = 2\n",
        "\n",
        "A // B "
      ],
      "metadata": {
        "colab": {
          "base_uri": "https://localhost:8080/"
        },
        "id": "A3quwAcSFlpz",
        "outputId": "03560fbc-9cdd-4cfb-a6a8-571ef6112bc5"
      },
      "execution_count": 5,
      "outputs": [
        {
          "output_type": "execute_result",
          "data": {
            "text/plain": [
              "2"
            ]
          },
          "metadata": {},
          "execution_count": 5
        }
      ]
    },
    {
      "cell_type": "code",
      "source": [
        "A % B "
      ],
      "metadata": {
        "colab": {
          "base_uri": "https://localhost:8080/"
        },
        "id": "opio5XK7Fm0T",
        "outputId": "726c0a72-b611-481b-bed7-d1e156e91b19"
      },
      "execution_count": 6,
      "outputs": [
        {
          "output_type": "execute_result",
          "data": {
            "text/plain": [
              "1"
            ]
          },
          "metadata": {},
          "execution_count": 6
        }
      ]
    },
    {
      "cell_type": "code",
      "source": [
        "A = 4\n",
        "B = 2\n",
        "\n",
        "A % B"
      ],
      "metadata": {
        "colab": {
          "base_uri": "https://localhost:8080/"
        },
        "id": "rdxWXpgzFoDD",
        "outputId": "9f839597-e572-4466-efb8-6ad54696ff8f"
      },
      "execution_count": 7,
      "outputs": [
        {
          "output_type": "execute_result",
          "data": {
            "text/plain": [
              "0"
            ]
          },
          "metadata": {},
          "execution_count": 7
        }
      ]
    },
    {
      "cell_type": "code",
      "source": [
        "A = 55\n",
        "B = 2 \n",
        "\n",
        "\n",
        "if A % B == 0:\n",
        "  print(f\"A: {A} is divisible by B: {B}\")\n",
        "else:\n",
        "  print(f\"A: {A} is NOT divisible by B: {B}\")"
      ],
      "metadata": {
        "colab": {
          "base_uri": "https://localhost:8080/"
        },
        "id": "xH8j-U3ZFqMD",
        "outputId": "60d17424-ae43-493b-de98-90c342889f55"
      },
      "execution_count": 8,
      "outputs": [
        {
          "output_type": "stream",
          "name": "stdout",
          "text": [
            "A: 55 is NOT divisible by B: 2\n"
          ]
        }
      ]
    },
    {
      "cell_type": "code",
      "source": [
        "A = 54\n",
        "B = 2 \n",
        "\n",
        "\n",
        "if A % B == 0:\n",
        "  print(f\"A: {A} is divisible by B: {B}\")\n",
        "else:\n",
        "  print(f\"A: {A} is NOT divisible by B: {B}\")"
      ],
      "metadata": {
        "colab": {
          "base_uri": "https://localhost:8080/"
        },
        "id": "aZsQBZ3EFr5T",
        "outputId": "417302d9-55ea-412a-c9b5-aee096c04256"
      },
      "execution_count": 9,
      "outputs": [
        {
          "output_type": "stream",
          "name": "stdout",
          "text": [
            "A: 54 is divisible by B: 2\n"
          ]
        }
      ]
    },
    {
      "cell_type": "code",
      "source": [
        "A = 54\n",
        "B = 3 \n",
        "\n",
        "\n",
        "if A % B == 0:\n",
        "  print(f\"A: {A} is divisible by B: {B}\")\n",
        "else:\n",
        "  print(f\"A: {A} is NOT divisible by B: {B}\")"
      ],
      "metadata": {
        "colab": {
          "base_uri": "https://localhost:8080/"
        },
        "id": "LzxXB6wlFvjL",
        "outputId": "6e794817-32dc-48f2-eade-6a6ef6232978"
      },
      "execution_count": 10,
      "outputs": [
        {
          "output_type": "stream",
          "name": "stdout",
          "text": [
            "A: 54 is divisible by B: 3\n"
          ]
        }
      ]
    },
    {
      "cell_type": "code",
      "source": [
        "A = 55\n",
        "B = 3 \n",
        "\n",
        "\n",
        "if A % B == 0:\n",
        "  print(f\"A: {A} is divisible by B: {B}\")\n",
        "else:\n",
        "  print(f\"A: {A} is NOT divisible by B: {B}\")"
      ],
      "metadata": {
        "colab": {
          "base_uri": "https://localhost:8080/"
        },
        "id": "xFR9SLTUF0eL",
        "outputId": "a8459d87-7a0b-4684-9ace-78405ae570f8"
      },
      "execution_count": 11,
      "outputs": [
        {
          "output_type": "stream",
          "name": "stdout",
          "text": [
            "A: 55 is NOT divisible by B: 3\n"
          ]
        }
      ]
    },
    {
      "cell_type": "code",
      "source": [
        "A = 4\n",
        "A**(1/2) #root of A"
      ],
      "metadata": {
        "colab": {
          "base_uri": "https://localhost:8080/"
        },
        "id": "4ypS6FN6F6Fr",
        "outputId": "7b65a41b-315a-41ca-85f4-90da2f75b102"
      },
      "execution_count": 12,
      "outputs": [
        {
          "output_type": "execute_result",
          "data": {
            "text/plain": [
              "2.0"
            ]
          },
          "metadata": {},
          "execution_count": 12
        }
      ]
    },
    {
      "cell_type": "markdown",
      "source": [
        "### String methods"
      ],
      "metadata": {
        "id": "HEp2F1XYGwF6"
      }
    },
    {
      "cell_type": "markdown",
      "source": [
        "if N characters or elements are there in a string then\n",
        "\n",
        "the index range will vary from 0 to N-1\n",
        "for example is \"Sunny\" N = 5\n",
        "index value is ranging from 0 to 4\n",
        "\n",
        "to index in reverse order the index  ranges from -1 to -N"
      ],
      "metadata": {
        "id": "R9RMNcs9G04I"
      }
    },
    {
      "cell_type": "code",
      "source": [
        "# String Indexing\n",
        "#       01234\n",
        "#     -5-4-3-2-1\n",
        "name = \"Sunny\"\n",
        "print(name[0])"
      ],
      "metadata": {
        "colab": {
          "base_uri": "https://localhost:8080/",
          "height": 36
        },
        "id": "hv1VHtpDGY_8",
        "outputId": "010f8a80-d293-4575-fb85-37791b4110de"
      },
      "execution_count": 13,
      "outputs": [
        {
          "output_type": "execute_result",
          "data": {
            "text/plain": [
              "'S'"
            ],
            "application/vnd.google.colaboratory.intrinsic+json": {
              "type": "string"
            }
          },
          "metadata": {},
          "execution_count": 13
        }
      ]
    },
    {
      "cell_type": "code",
      "source": [
        "print(name[4])"
      ],
      "metadata": {
        "colab": {
          "base_uri": "https://localhost:8080/"
        },
        "id": "ReWqyCqHHQfE",
        "outputId": "ae344b37-84b6-4a5c-b4d2-07e6d9fbb929"
      },
      "execution_count": 14,
      "outputs": [
        {
          "output_type": "stream",
          "name": "stdout",
          "text": [
            "y\n"
          ]
        }
      ]
    },
    {
      "cell_type": "code",
      "source": [
        "print(name[-1])"
      ],
      "metadata": {
        "colab": {
          "base_uri": "https://localhost:8080/"
        },
        "id": "8r076n16Hy2z",
        "outputId": "78974c04-2a8b-4e94-c217-5ea8575bb0b4"
      },
      "execution_count": 15,
      "outputs": [
        {
          "output_type": "stream",
          "name": "stdout",
          "text": [
            "y\n"
          ]
        }
      ]
    },
    {
      "cell_type": "code",
      "source": [
        "print(name[-5])"
      ],
      "metadata": {
        "colab": {
          "base_uri": "https://localhost:8080/"
        },
        "id": "Gv-plojbH118",
        "outputId": "689fac2c-d709-4fbb-fcb4-b7d8314a6fa1"
      },
      "execution_count": 19,
      "outputs": [
        {
          "output_type": "stream",
          "name": "stdout",
          "text": [
            "S\n"
          ]
        }
      ]
    },
    {
      "cell_type": "code",
      "source": [
        "# String Slicing\n",
        "#       01234\n",
        "#     -5-4-3-2-1\n",
        "\n",
        "name = \"Sunny\"\n",
        "name[1:] #[starting:ending]"
      ],
      "metadata": {
        "colab": {
          "base_uri": "https://localhost:8080/",
          "height": 36
        },
        "id": "8yTtAiQ6H7Oj",
        "outputId": "7c40aecd-62c3-4460-edab-fdc325c8eeb8"
      },
      "execution_count": 20,
      "outputs": [
        {
          "output_type": "execute_result",
          "data": {
            "text/plain": [
              "'unny'"
            ],
            "application/vnd.google.colaboratory.intrinsic+json": {
              "type": "string"
            }
          },
          "metadata": {},
          "execution_count": 20
        }
      ]
    },
    {
      "cell_type": "code",
      "source": [
        "name[1:3] #this means that ending is excluding"
      ],
      "metadata": {
        "colab": {
          "base_uri": "https://localhost:8080/",
          "height": 36
        },
        "id": "3ksGua95NcHr",
        "outputId": "ed87f5c4-c8b6-49c6-a4c9-69956213b0bf"
      },
      "execution_count": 21,
      "outputs": [
        {
          "output_type": "execute_result",
          "data": {
            "text/plain": [
              "'un'"
            ],
            "application/vnd.google.colaboratory.intrinsic+json": {
              "type": "string"
            }
          },
          "metadata": {},
          "execution_count": 21
        }
      ]
    },
    {
      "cell_type": "code",
      "source": [
        "name[1:4]"
      ],
      "metadata": {
        "colab": {
          "base_uri": "https://localhost:8080/",
          "height": 36
        },
        "id": "NV4ig3mINie9",
        "outputId": "11f4e367-53bf-4c27-dbf1-b1683807199f"
      },
      "execution_count": 22,
      "outputs": [
        {
          "output_type": "execute_result",
          "data": {
            "text/plain": [
              "'unn'"
            ],
            "application/vnd.google.colaboratory.intrinsic+json": {
              "type": "string"
            }
          },
          "metadata": {},
          "execution_count": 22
        }
      ]
    },
    {
      "cell_type": "code",
      "source": [
        "name[1:5]#5 is not included"
      ],
      "metadata": {
        "colab": {
          "base_uri": "https://localhost:8080/",
          "height": 36
        },
        "id": "8ve3uNWANoGa",
        "outputId": "4425e23f-8dc8-4a98-f083-c1bae4b51459"
      },
      "execution_count": 23,
      "outputs": [
        {
          "output_type": "execute_result",
          "data": {
            "text/plain": [
              "'unny'"
            ],
            "application/vnd.google.colaboratory.intrinsic+json": {
              "type": "string"
            }
          },
          "metadata": {},
          "execution_count": 23
        }
      ]
    },
    {
      "cell_type": "code",
      "source": [
        "name[-4:-1]"
      ],
      "metadata": {
        "colab": {
          "base_uri": "https://localhost:8080/",
          "height": 36
        },
        "id": "CNDW_l9aOJoD",
        "outputId": "bba451ae-e8a6-48b9-98c0-6ae621cf91e4"
      },
      "execution_count": 24,
      "outputs": [
        {
          "output_type": "execute_result",
          "data": {
            "text/plain": [
              "'unn'"
            ],
            "application/vnd.google.colaboratory.intrinsic+json": {
              "type": "string"
            }
          },
          "metadata": {},
          "execution_count": 24
        }
      ]
    },
    {
      "cell_type": "code",
      "source": [
        "date = \"08/10/2022\"\n",
        "#today's date, month and year\n",
        "todays_date = date[0:2]\n",
        "month = date[3:5]\n",
        "year = date[6:]\n",
        "\n",
        "print(f\"its {todays_date}th of the month {month} of the year {year}\")"
      ],
      "metadata": {
        "colab": {
          "base_uri": "https://localhost:8080/"
        },
        "id": "YwZQlPakOezj",
        "outputId": "a286b95c-c94e-4803-c6fb-19e20a652430"
      },
      "execution_count": 26,
      "outputs": [
        {
          "output_type": "stream",
          "name": "stdout",
          "text": [
            "its 08th of the month 10 of the year 2022\n"
          ]
        }
      ]
    },
    {
      "cell_type": "code",
      "source": [
        "date = input(\"Enter date of birth in the format DD/MM/YYYY : \")\n",
        "#today's date, month and year\n",
        "todays_date = date[0:2]\n",
        "month = date[3:5]\n",
        "year = date[6:]\n",
        "\n",
        "print(f\"The user was born in the month of {month} in the year {year} on date {todays_date}\")"
      ],
      "metadata": {
        "colab": {
          "base_uri": "https://localhost:8080/"
        },
        "id": "z-Bc7x8VPdrj",
        "outputId": "9fa03326-27c3-475b-bd9e-eac7823c94e0"
      },
      "execution_count": 28,
      "outputs": [
        {
          "output_type": "stream",
          "name": "stdout",
          "text": [
            "Enter date of birth in the format DD/MM/YYYY : 17-02-1989\n",
            "The user was born in the month of 02 in the year 1989 on date 17\n"
          ]
        }
      ]
    },
    {
      "cell_type": "code",
      "source": [
        "date = input(\"Enter date of birth in the format DD/MMM/YYYY : \")\n",
        "#today's date, month and year\n",
        "todays_date = date[0:2]\n",
        "month = date[3:6]\n",
        "year = date[7:]\n",
        "\n",
        "print(f\"The user was born in the month of {month} in the year {year} on date {todays_date}\")"
      ],
      "metadata": {
        "colab": {
          "base_uri": "https://localhost:8080/"
        },
        "id": "liaM2VTsP_8D",
        "outputId": "7a8f4606-21d3-4e31-bbf8-32b1a34f8749"
      },
      "execution_count": 29,
      "outputs": [
        {
          "output_type": "stream",
          "name": "stdout",
          "text": [
            "Enter date of birth in the format DD/MMM/YYYY : 17/Mar/1992\n",
            "The user was born in the month of Mar in the year 1992 on date 17\n"
          ]
        }
      ]
    },
    {
      "cell_type": "code",
      "source": [
        "name = \"Sunny\" # S_n_y\n",
        "name[0:5:2]"
      ],
      "metadata": {
        "colab": {
          "base_uri": "https://localhost:8080/",
          "height": 36
        },
        "id": "WaT_7emUS5hw",
        "outputId": "5e6eec8f-633b-4500-edfa-242587ce4b87"
      },
      "execution_count": 34,
      "outputs": [
        {
          "output_type": "execute_result",
          "data": {
            "text/plain": [
              "'Sny'"
            ],
            "application/vnd.google.colaboratory.intrinsic+json": {
              "type": "string"
            }
          },
          "metadata": {},
          "execution_count": 34
        }
      ]
    },
    {
      "cell_type": "code",
      "source": [
        "name = \"Sunny\" # S_n_y\n",
        "name[0::2]"
      ],
      "metadata": {
        "colab": {
          "base_uri": "https://localhost:8080/",
          "height": 36
        },
        "id": "ApzEydqzTNcG",
        "outputId": "4d644eec-192a-4036-8cc7-9e5254b21667"
      },
      "execution_count": 35,
      "outputs": [
        {
          "output_type": "execute_result",
          "data": {
            "text/plain": [
              "'Sny'"
            ],
            "application/vnd.google.colaboratory.intrinsic+json": {
              "type": "string"
            }
          },
          "metadata": {},
          "execution_count": 35
        }
      ]
    },
    {
      "cell_type": "code",
      "source": [
        "name = \"Sunny\" # S__n\n",
        "name[0:5:3]"
      ],
      "metadata": {
        "colab": {
          "base_uri": "https://localhost:8080/",
          "height": 36
        },
        "id": "AdJR6Pe0TQU8",
        "outputId": "df2fd42a-9e5f-4171-97e4-2aa86a8e2c60"
      },
      "execution_count": 36,
      "outputs": [
        {
          "output_type": "execute_result",
          "data": {
            "text/plain": [
              "'Sn'"
            ],
            "application/vnd.google.colaboratory.intrinsic+json": {
              "type": "string"
            }
          },
          "metadata": {},
          "execution_count": 36
        }
      ]
    },
    {
      "cell_type": "code",
      "source": [
        "name = \"Sunny bhaveen chandra\"\n",
        "name[0::2]"
      ],
      "metadata": {
        "colab": {
          "base_uri": "https://localhost:8080/",
          "height": 36
        },
        "id": "qdTmqb6nWyXr",
        "outputId": "a4232af7-8f4b-42f8-eef9-cc2faa8846b4"
      },
      "execution_count": 37,
      "outputs": [
        {
          "output_type": "execute_result",
          "data": {
            "text/plain": [
              "'Snybaencada'"
            ],
            "application/vnd.google.colaboratory.intrinsic+json": {
              "type": "string"
            }
          },
          "metadata": {},
          "execution_count": 37
        }
      ]
    },
    {
      "cell_type": "code",
      "source": [
        "name = \"Sunny bhaveen chandra\"\n",
        "name[0::3]"
      ],
      "metadata": {
        "colab": {
          "base_uri": "https://localhost:8080/",
          "height": 36
        },
        "id": "CYiDDNgpXG9m",
        "outputId": "86f36d24-094b-4995-8ec9-625d0283fd1c"
      },
      "execution_count": 38,
      "outputs": [
        {
          "output_type": "execute_result",
          "data": {
            "text/plain": [
              "'Snbvnhd'"
            ],
            "application/vnd.google.colaboratory.intrinsic+json": {
              "type": "string"
            }
          },
          "metadata": {},
          "execution_count": 38
        }
      ]
    },
    {
      "cell_type": "code",
      "source": [
        "name = \"Sunny bhaveen chandra\"\n",
        "name[::2]"
      ],
      "metadata": {
        "colab": {
          "base_uri": "https://localhost:8080/",
          "height": 36
        },
        "id": "IyP9zs8EXNtM",
        "outputId": "c8c2a951-694b-438b-b67b-30601e410401"
      },
      "execution_count": 42,
      "outputs": [
        {
          "output_type": "execute_result",
          "data": {
            "text/plain": [
              "'Snybaencada'"
            ],
            "application/vnd.google.colaboratory.intrinsic+json": {
              "type": "string"
            }
          },
          "metadata": {},
          "execution_count": 42
        }
      ]
    },
    {
      "cell_type": "code",
      "source": [
        "name = \"Sunny bhaveen chandra\"\n",
        "name[::3]"
      ],
      "metadata": {
        "colab": {
          "base_uri": "https://localhost:8080/",
          "height": 36
        },
        "id": "VtiBHqnIXfMV",
        "outputId": "53906bb2-2476-4c1b-dc03-d5c5af8b73e1"
      },
      "execution_count": 43,
      "outputs": [
        {
          "output_type": "execute_result",
          "data": {
            "text/plain": [
              "'Snbvnhd'"
            ],
            "application/vnd.google.colaboratory.intrinsic+json": {
              "type": "string"
            }
          },
          "metadata": {},
          "execution_count": 43
        }
      ]
    },
    {
      "cell_type": "code",
      "source": [
        "name = \"Sunny bhaveen chandra\"\n",
        "name[::-1]"
      ],
      "metadata": {
        "colab": {
          "base_uri": "https://localhost:8080/",
          "height": 36
        },
        "id": "EmyideiMXhj5",
        "outputId": "47480392-e719-47a0-d77e-eec0c6cbd18a"
      },
      "execution_count": 44,
      "outputs": [
        {
          "output_type": "execute_result",
          "data": {
            "text/plain": [
              "'ardnahc neevahb ynnuS'"
            ],
            "application/vnd.google.colaboratory.intrinsic+json": {
              "type": "string"
            }
          },
          "metadata": {},
          "execution_count": 44
        }
      ]
    },
    {
      "cell_type": "code",
      "source": [
        "name = \"Sunny bhaveen chandra\"\n",
        "name[::-2]"
      ],
      "metadata": {
        "colab": {
          "base_uri": "https://localhost:8080/",
          "height": 36
        },
        "id": "Df-7OLeXXm6W",
        "outputId": "440b6954-7dc5-4f7b-c70b-19c22c67322c"
      },
      "execution_count": 45,
      "outputs": [
        {
          "output_type": "execute_result",
          "data": {
            "text/plain": [
              "'adacneabynS'"
            ],
            "application/vnd.google.colaboratory.intrinsic+json": {
              "type": "string"
            }
          },
          "metadata": {},
          "execution_count": 45
        }
      ]
    },
    {
      "cell_type": "code",
      "source": [
        "# Palindrome Sequence\n",
        "\n",
        "# madam # read from left or right it will be same\n",
        "# malayalam\n",
        "# nayan\n",
        "# bob\n",
        "# radar\n",
        "\n",
        "data = input(\"Input a String : \")\n",
        "reverse = data[::-1] # start : end : step\n",
        "\n",
        "print(data, reverse)"
      ],
      "metadata": {
        "colab": {
          "base_uri": "https://localhost:8080/"
        },
        "id": "CTYOVG6nRNpk",
        "outputId": "e75b688e-4341-47ea-feeb-788271e10585"
      },
      "execution_count": 46,
      "outputs": [
        {
          "output_type": "stream",
          "name": "stdout",
          "text": [
            "Input a String : radar\n",
            "radar radar\n"
          ]
        }
      ]
    },
    {
      "cell_type": "code",
      "source": [
        "data = input(\"Input a String : \")\n",
        "reverse = data[::-1] # start : end : step\n",
        "\n",
        "if data == reverse:\n",
        "  print(f\"Input string : {data} is palindrome\")\n",
        "else:\n",
        "  print(f\"Input string : {data} is not a palindrome\")"
      ],
      "metadata": {
        "colab": {
          "base_uri": "https://localhost:8080/"
        },
        "id": "8AxHep6NW7nn",
        "outputId": "b86f24be-5cb0-491c-863e-3eacbceaa3f7"
      },
      "execution_count": 49,
      "outputs": [
        {
          "output_type": "stream",
          "name": "stdout",
          "text": [
            "Input a String : radar\n",
            "Input string : radar is palindrome\n"
          ]
        }
      ]
    },
    {
      "cell_type": "code",
      "source": [
        "data = input(\"Input a String : \")\n",
        "reverse = data[::-1] # start : end : step\n",
        "\n",
        "if data == reverse:\n",
        "  print(f\"Input string : {data} is palindrome\")\n",
        "else:\n",
        "  print(f\"Input string : {data} is not a palindrome\")"
      ],
      "metadata": {
        "colab": {
          "base_uri": "https://localhost:8080/"
        },
        "id": "wLRyftS8YgZm",
        "outputId": "b3166064-351a-4214-ec71-6a1a1742460d"
      },
      "execution_count": 50,
      "outputs": [
        {
          "output_type": "stream",
          "name": "stdout",
          "text": [
            "Input a String : sunny\n",
            "Input string : sunny is not a palindrome\n"
          ]
        }
      ]
    },
    {
      "cell_type": "code",
      "source": [
        "data = input(\"Input a String : \")\n",
        "reverse = data[::-1] # start : end : step\n",
        "\n",
        "if data == reverse:\n",
        "  print(f\"Input string : {data} is palindrome\")\n",
        "else:\n",
        "  print(f\"Input string : {data} is not a palindrome\")"
      ],
      "metadata": {
        "id": "OAJ3J3s4YvXi"
      },
      "execution_count": null,
      "outputs": []
    },
    {
      "cell_type": "markdown",
      "source": [
        "### Mutability\n",
        "Mutable means subjects to change or which can be changed\n"
      ],
      "metadata": {
        "id": "XSG3JlhAZEza"
      }
    },
    {
      "cell_type": "code",
      "source": [
        "name = \"Sunny\"\n",
        "#Replace S with F?\n",
        "name[0] = \"F\" # Immutablity # String"
      ],
      "metadata": {
        "colab": {
          "base_uri": "https://localhost:8080/",
          "height": 208
        },
        "id": "IKxvtL_IY37s",
        "outputId": "019dc5fb-84ec-420a-f281-3ca193d2f051"
      },
      "execution_count": 52,
      "outputs": [
        {
          "output_type": "error",
          "ename": "TypeError",
          "evalue": "ignored",
          "traceback": [
            "\u001b[0;31m---------------------------------------------------------------------------\u001b[0m",
            "\u001b[0;31mTypeError\u001b[0m                                 Traceback (most recent call last)",
            "\u001b[0;32m<ipython-input-52-44f2b80fcc3a>\u001b[0m in \u001b[0;36m<module>\u001b[0;34m\u001b[0m\n\u001b[1;32m      1\u001b[0m \u001b[0mname\u001b[0m \u001b[0;34m=\u001b[0m \u001b[0;34m\"Sunny\"\u001b[0m\u001b[0;34m\u001b[0m\u001b[0;34m\u001b[0m\u001b[0m\n\u001b[1;32m      2\u001b[0m \u001b[0;31m#Replace S with F?\u001b[0m\u001b[0;34m\u001b[0m\u001b[0;34m\u001b[0m\u001b[0;34m\u001b[0m\u001b[0m\n\u001b[0;32m----> 3\u001b[0;31m \u001b[0mname\u001b[0m\u001b[0;34m[\u001b[0m\u001b[0;36m0\u001b[0m\u001b[0;34m]\u001b[0m \u001b[0;34m=\u001b[0m \u001b[0;34m\"F\"\u001b[0m\u001b[0;34m\u001b[0m\u001b[0;34m\u001b[0m\u001b[0m\n\u001b[0m",
            "\u001b[0;31mTypeError\u001b[0m: 'str' object does not support item assignment"
          ]
        }
      ]
    },
    {
      "cell_type": "code",
      "source": [
        "\"F\" + name[1:]"
      ],
      "metadata": {
        "colab": {
          "base_uri": "https://localhost:8080/",
          "height": 36
        },
        "id": "VCUw5y5xZV5q",
        "outputId": "e075df4e-0cfa-4ddf-c14a-b61a8106af45"
      },
      "execution_count": 54,
      "outputs": [
        {
          "output_type": "execute_result",
          "data": {
            "text/plain": [
              "'Funny'"
            ],
            "application/vnd.google.colaboratory.intrinsic+json": {
              "type": "string"
            }
          },
          "metadata": {},
          "execution_count": 54
        }
      ]
    },
    {
      "cell_type": "code",
      "source": [
        "name "
      ],
      "metadata": {
        "colab": {
          "base_uri": "https://localhost:8080/",
          "height": 36
        },
        "id": "R0p0kNe7Z5Bx",
        "outputId": "4caabdf4-0257-4c34-81d3-72e0f95b044d"
      },
      "execution_count": 55,
      "outputs": [
        {
          "output_type": "execute_result",
          "data": {
            "text/plain": [
              "'Sunny'"
            ],
            "application/vnd.google.colaboratory.intrinsic+json": {
              "type": "string"
            }
          },
          "metadata": {},
          "execution_count": 55
        }
      ]
    },
    {
      "cell_type": "code",
      "source": [
        "name = \"F\" + name[1:]\n",
        "name"
      ],
      "metadata": {
        "colab": {
          "base_uri": "https://localhost:8080/",
          "height": 36
        },
        "id": "Q8MSiBIDZ9eS",
        "outputId": "989f2835-9389-456e-bbc1-7dc0e115a615"
      },
      "execution_count": 57,
      "outputs": [
        {
          "output_type": "execute_result",
          "data": {
            "text/plain": [
              "'Funny'"
            ],
            "application/vnd.google.colaboratory.intrinsic+json": {
              "type": "string"
            }
          },
          "metadata": {},
          "execution_count": 57
        }
      ]
    },
    {
      "cell_type": "code",
      "source": [
        "name = name.replace(\"y\", \"YYY\")"
      ],
      "metadata": {
        "id": "7HJ77xt-aCCK"
      },
      "execution_count": 60,
      "outputs": []
    },
    {
      "cell_type": "code",
      "source": [
        "name"
      ],
      "metadata": {
        "colab": {
          "base_uri": "https://localhost:8080/",
          "height": 36
        },
        "id": "MyDDFDTxaVKy",
        "outputId": "f1086108-8791-4578-f903-e95665f75686"
      },
      "execution_count": 61,
      "outputs": [
        {
          "output_type": "execute_result",
          "data": {
            "text/plain": [
              "'FunnYYY'"
            ],
            "application/vnd.google.colaboratory.intrinsic+json": {
              "type": "string"
            }
          },
          "metadata": {},
          "execution_count": 61
        }
      ]
    },
    {
      "cell_type": "code",
      "source": [
        "name = \"Sunny BHAVEEN CHANDRA\"\n",
        "name = name.replace(\"Sunny\", \"SUNNY\")"
      ],
      "metadata": {
        "id": "H3LV6C9gaWai"
      },
      "execution_count": 64,
      "outputs": []
    },
    {
      "cell_type": "code",
      "source": [
        "name\n"
      ],
      "metadata": {
        "colab": {
          "base_uri": "https://localhost:8080/",
          "height": 36
        },
        "id": "KHSa4GMFa-bJ",
        "outputId": "eebd3ad3-8b0a-41a1-803a-4c0f3755b552"
      },
      "execution_count": 65,
      "outputs": [
        {
          "output_type": "execute_result",
          "data": {
            "text/plain": [
              "'SUNNY BHAVEEN CHANDRA'"
            ],
            "application/vnd.google.colaboratory.intrinsic+json": {
              "type": "string"
            }
          },
          "metadata": {},
          "execution_count": 65
        }
      ]
    },
    {
      "cell_type": "code",
      "source": [
        "name = \"Sunny BHAVEEN CHANDRA\"\n",
        "name = name.replace(\"n\", \"N\")\n",
        "name"
      ],
      "metadata": {
        "id": "KVnHFq_zbCHK"
      },
      "execution_count": null,
      "outputs": []
    },
    {
      "cell_type": "markdown",
      "source": [
        "https://docs.python.org/3/library/string.html"
      ],
      "metadata": {
        "id": "swawnK4Sb9l7"
      }
    },
    {
      "cell_type": "code",
      "source": [
        "name = \"Sunny BHAVEEN CHANDRA\"\n",
        "name = name.replace(\" \", \"_\")\n",
        "name"
      ],
      "metadata": {
        "colab": {
          "base_uri": "https://localhost:8080/",
          "height": 36
        },
        "id": "Dju33ziwbLpT",
        "outputId": "60e779fd-5d28-409b-a6bd-cb773a5d9772"
      },
      "execution_count": 1,
      "outputs": [
        {
          "output_type": "execute_result",
          "data": {
            "text/plain": [
              "'Sunny_BHAVEEN_CHANDRA'"
            ],
            "application/vnd.google.colaboratory.intrinsic+json": {
              "type": "string"
            }
          },
          "metadata": {},
          "execution_count": 1
        }
      ]
    },
    {
      "cell_type": "markdown",
      "source": [
        "Length of the String"
      ],
      "metadata": {
        "id": "dR-w7ZX9dIQm"
      }
    },
    {
      "cell_type": "code",
      "source": [
        "len(name)"
      ],
      "metadata": {
        "colab": {
          "base_uri": "https://localhost:8080/"
        },
        "id": "MRj5HWYfcD_C",
        "outputId": "e7934ae2-4c12-4592-a500-f8150ed31b51"
      },
      "execution_count": 3,
      "outputs": [
        {
          "output_type": "execute_result",
          "data": {
            "text/plain": [
              "21"
            ]
          },
          "metadata": {},
          "execution_count": 3
        }
      ]
    },
    {
      "cell_type": "code",
      "source": [
        "len(\"Sunny\")"
      ],
      "metadata": {
        "colab": {
          "base_uri": "https://localhost:8080/"
        },
        "id": "tD-3Fhi5dLkR",
        "outputId": "7c6cf025-f9e7-4bd4-fee2-d6c5bb8720b0"
      },
      "execution_count": 4,
      "outputs": [
        {
          "output_type": "execute_result",
          "data": {
            "text/plain": [
              "5"
            ]
          },
          "metadata": {},
          "execution_count": 4
        }
      ]
    },
    {
      "cell_type": "code",
      "source": [
        "len(\"Sunny    chandra\")"
      ],
      "metadata": {
        "colab": {
          "base_uri": "https://localhost:8080/"
        },
        "id": "DoR-kYpXdP85",
        "outputId": "f6adb2c2-d7e0-4f01-88c4-c20beb2fa18d"
      },
      "execution_count": 6,
      "outputs": [
        {
          "output_type": "execute_result",
          "data": {
            "text/plain": [
              "9"
            ]
          },
          "metadata": {},
          "execution_count": 6
        }
      ]
    },
    {
      "cell_type": "code",
      "source": [
        "name = \" Sunny   \"\n",
        "name.replace(\" \", \"\")\n",
        "len(name)"
      ],
      "metadata": {
        "colab": {
          "base_uri": "https://localhost:8080/"
        },
        "id": "cPFtnvn6dfiS",
        "outputId": "b31aecb5-b8ce-400f-a1e9-88db42752d91"
      },
      "execution_count": 8,
      "outputs": [
        {
          "output_type": "execute_result",
          "data": {
            "text/plain": [
              "9"
            ]
          },
          "metadata": {},
          "execution_count": 8
        }
      ]
    },
    {
      "cell_type": "markdown",
      "source": [
        "1. String indexing\n",
        "2. String Slicing\n",
        "3. String Skipping\n",
        "4. String reversal\n",
        "5. String replace Method\n",
        "6. Length of the String\n",
        "7. String is immutable because we cannot directly assign any value using indexing"
      ],
      "metadata": {
        "id": "T76CKhd-e4Bi"
      }
    },
    {
      "cell_type": "code",
      "source": [
        "name = \"Sunny Bhaveen Chandra\"\n",
        "name[4]"
      ],
      "metadata": {
        "colab": {
          "base_uri": "https://localhost:8080/",
          "height": 36
        },
        "id": "UqHrE6kdeBAx",
        "outputId": "f4077685-1bca-44a5-a6c3-0f84b553101e"
      },
      "execution_count": 9,
      "outputs": [
        {
          "output_type": "execute_result",
          "data": {
            "text/plain": [
              "'y'"
            ],
            "application/vnd.google.colaboratory.intrinsic+json": {
              "type": "string"
            }
          },
          "metadata": {},
          "execution_count": 9
        }
      ]
    },
    {
      "cell_type": "code",
      "source": [
        "name = \"Sunny Bhaveen Chandra\"\n",
        "name[6:13]"
      ],
      "metadata": {
        "colab": {
          "base_uri": "https://localhost:8080/",
          "height": 36
        },
        "id": "vZB25HBvfZ0q",
        "outputId": "875b232b-937b-4e9d-9a9e-fc6e02ea2f69"
      },
      "execution_count": 10,
      "outputs": [
        {
          "output_type": "execute_result",
          "data": {
            "text/plain": [
              "'Bhaveen'"
            ],
            "application/vnd.google.colaboratory.intrinsic+json": {
              "type": "string"
            }
          },
          "metadata": {},
          "execution_count": 10
        }
      ]
    },
    {
      "cell_type": "code",
      "source": [
        "name = \"Sunny Bhaveen Chandra\"\n",
        "name[::3]"
      ],
      "metadata": {
        "colab": {
          "base_uri": "https://localhost:8080/",
          "height": 36
        },
        "id": "SnAmNJRpfeQJ",
        "outputId": "2698a468-4fb9-48fc-a0d1-ec02d45a1763"
      },
      "execution_count": 13,
      "outputs": [
        {
          "output_type": "execute_result",
          "data": {
            "text/plain": [
              "'SnBvnhd'"
            ],
            "application/vnd.google.colaboratory.intrinsic+json": {
              "type": "string"
            }
          },
          "metadata": {},
          "execution_count": 13
        }
      ]
    },
    {
      "cell_type": "code",
      "source": [
        "name = \"Sunny Bhaveen Chandra\"\n",
        "name[::-1]"
      ],
      "metadata": {
        "colab": {
          "base_uri": "https://localhost:8080/",
          "height": 36
        },
        "id": "tjhzIlu_fhmS",
        "outputId": "af124ad0-8c31-42fa-e815-b1b17270c705"
      },
      "execution_count": 14,
      "outputs": [
        {
          "output_type": "execute_result",
          "data": {
            "text/plain": [
              "'ardnahC neevahB ynnuS'"
            ],
            "application/vnd.google.colaboratory.intrinsic+json": {
              "type": "string"
            }
          },
          "metadata": {},
          "execution_count": 14
        }
      ]
    },
    {
      "cell_type": "code",
      "source": [
        "name = \"Sunny Bhaveen Chandra\"\n",
        "name.replace(\" \", \"=\")"
      ],
      "metadata": {
        "colab": {
          "base_uri": "https://localhost:8080/",
          "height": 36
        },
        "id": "DT8528BLftYZ",
        "outputId": "a366aed4-92ee-4193-fd8b-4e28fda62bcd"
      },
      "execution_count": 15,
      "outputs": [
        {
          "output_type": "execute_result",
          "data": {
            "text/plain": [
              "'Sunny=Bhaveen=Chandra'"
            ],
            "application/vnd.google.colaboratory.intrinsic+json": {
              "type": "string"
            }
          },
          "metadata": {},
          "execution_count": 15
        }
      ]
    },
    {
      "cell_type": "code",
      "source": [
        "name = \"Sunny Bhaveen Chandra\"\n",
        "len(name)"
      ],
      "metadata": {
        "colab": {
          "base_uri": "https://localhost:8080/"
        },
        "id": "GbJToTVKf0WJ",
        "outputId": "e9cdb7d1-3efc-48e9-83ac-93c7323ac5ad"
      },
      "execution_count": 16,
      "outputs": [
        {
          "output_type": "execute_result",
          "data": {
            "text/plain": [
              "21"
            ]
          },
          "metadata": {},
          "execution_count": 16
        }
      ]
    },
    {
      "cell_type": "code",
      "source": [
        "name = \"Sunny Bhaveen Chandra\"\n",
        "name[0] = \"F\" #this is not allowed becuase string is immutable"
      ],
      "metadata": {
        "id": "mRhbffAzf6WS"
      },
      "execution_count": null,
      "outputs": []
    },
    {
      "cell_type": "code",
      "source": [
        "name = \"Sunny Bhaveen Chandra\"\n",
        "name[-5:-5:]"
      ],
      "metadata": {
        "colab": {
          "base_uri": "https://localhost:8080/",
          "height": 36
        },
        "id": "PZkBX-k5gFsB",
        "outputId": "11c07918-095f-4a7a-933a-4bc24054204c"
      },
      "execution_count": 20,
      "outputs": [
        {
          "output_type": "execute_result",
          "data": {
            "text/plain": [
              "''"
            ],
            "application/vnd.google.colaboratory.intrinsic+json": {
              "type": "string"
            }
          },
          "metadata": {},
          "execution_count": 20
        }
      ]
    },
    {
      "cell_type": "markdown",
      "source": [
        "### Count specific characters in a string"
      ],
      "metadata": {
        "id": "_JDXVXlyg28b"
      }
    },
    {
      "cell_type": "code",
      "source": [
        "name = \"Sunny\"\n",
        "name.count(\"n\")"
      ],
      "metadata": {
        "colab": {
          "base_uri": "https://localhost:8080/"
        },
        "id": "zXTS1tuLgdMq",
        "outputId": "d16c1112-20dc-46ae-b143-eeb6c8690996"
      },
      "execution_count": 21,
      "outputs": [
        {
          "output_type": "execute_result",
          "data": {
            "text/plain": [
              "2"
            ]
          },
          "metadata": {},
          "execution_count": 21
        }
      ]
    },
    {
      "cell_type": "markdown",
      "source": [
        "### Split Operation"
      ],
      "metadata": {
        "id": "IRAmJHpbhOhI"
      }
    },
    {
      "cell_type": "code",
      "source": [
        "name = \"Sunny Bhaveen Chandra\"\n",
        "name.split(\" \")"
      ],
      "metadata": {
        "colab": {
          "base_uri": "https://localhost:8080/"
        },
        "id": "VxdlPUPWhAb5",
        "outputId": "86e20a3f-bb09-4dea-a100-6971c3341811"
      },
      "execution_count": 22,
      "outputs": [
        {
          "output_type": "execute_result",
          "data": {
            "text/plain": [
              "['Sunny', 'Bhaveen', 'Chandra']"
            ]
          },
          "metadata": {},
          "execution_count": 22
        }
      ]
    },
    {
      "cell_type": "code",
      "source": [
        "first_name, middle_name, sir_name = name.split(\" \")\n",
        "print(f\"\"\"\n",
        "First Name : {first_name}\n",
        "Middle Name: {middle_name}\n",
        "Sir Name   : {sir_name}\n",
        "\"\"\")"
      ],
      "metadata": {
        "colab": {
          "base_uri": "https://localhost:8080/"
        },
        "id": "9fc8c9_7hUqh",
        "outputId": "a0c9b7cb-f878-48c3-fa83-ada962139891"
      },
      "execution_count": 23,
      "outputs": [
        {
          "output_type": "stream",
          "name": "stdout",
          "text": [
            "\n",
            "First Name : Sunny\n",
            "Middle Name: Bhaveen\n",
            "Sir Name   : Chandra\n",
            "\n"
          ]
        }
      ]
    },
    {
      "cell_type": "code",
      "source": [
        "date = input(\"Enter date of birth in the format DD/MMM/YYYY : \")\n",
        "#today's date, month and year\n",
        "datee, month, year = date.split(\"/\")\n",
        "\n",
        "print(f\"The user was born in the month of {month} in the year {year} on date {datee}\")"
      ],
      "metadata": {
        "colab": {
          "base_uri": "https://localhost:8080/"
        },
        "id": "oSHsLDgAhvly",
        "outputId": "521d3f58-bf23-4744-99c4-7de2feeccc13"
      },
      "execution_count": 24,
      "outputs": [
        {
          "output_type": "stream",
          "name": "stdout",
          "text": [
            "Enter date of birth in the format DD/MMM/YYYY : 19/Feb/1999\n",
            "The user was born in the month of Feb in the year 1999 on date 19\n"
          ]
        }
      ]
    },
    {
      "cell_type": "code",
      "source": [
        "date = input(\"Enter date of birth in the format DD/MMM/YYYY : \")\n",
        "date.split(\"/\")"
      ],
      "metadata": {
        "colab": {
          "base_uri": "https://localhost:8080/"
        },
        "id": "7YQ-xQxnh31L",
        "outputId": "05bcf7ac-3106-4cef-b3a2-6ee847d31d05"
      },
      "execution_count": 26,
      "outputs": [
        {
          "name": "stdout",
          "output_type": "stream",
          "text": [
            "Enter date of birth in the format DD/MMM/YYYY : 17feb-2022\n"
          ]
        },
        {
          "output_type": "execute_result",
          "data": {
            "text/plain": [
              "['17feb-2022']"
            ]
          },
          "metadata": {},
          "execution_count": 26
        }
      ]
    },
    {
      "cell_type": "code",
      "source": [
        "name = \"Sunny_Bhaveen_Chandra\"\n",
        "name.split(\"_\")"
      ],
      "metadata": {
        "colab": {
          "base_uri": "https://localhost:8080/"
        },
        "id": "b51TMzs9iZnq",
        "outputId": "6f43321a-9839-4e76-c672-400f9eab0260"
      },
      "execution_count": 27,
      "outputs": [
        {
          "output_type": "execute_result",
          "data": {
            "text/plain": [
              "['Sunny', 'Bhaveen', 'Chandra']"
            ]
          },
          "metadata": {},
          "execution_count": 27
        }
      ]
    },
    {
      "cell_type": "code",
      "source": [
        "name.split(\"n\")"
      ],
      "metadata": {
        "colab": {
          "base_uri": "https://localhost:8080/"
        },
        "id": "UFaMIBPjiyW7",
        "outputId": "4da60660-54c3-4e19-d0dc-39f71c903364"
      },
      "execution_count": 28,
      "outputs": [
        {
          "output_type": "execute_result",
          "data": {
            "text/plain": [
              "['Su', '', 'y_Bhavee', '_Cha', 'dra']"
            ]
          },
          "metadata": {},
          "execution_count": 28
        }
      ]
    },
    {
      "cell_type": "code",
      "source": [
        "name.split(\".\")"
      ],
      "metadata": {
        "colab": {
          "base_uri": "https://localhost:8080/"
        },
        "id": "fPX-u3hoi3RB",
        "outputId": "692d8f16-0331-4615-b60d-477bee1abeb4"
      },
      "execution_count": 29,
      "outputs": [
        {
          "output_type": "execute_result",
          "data": {
            "text/plain": [
              "['Sunny_Bhaveen_Chandra']"
            ]
          },
          "metadata": {},
          "execution_count": 29
        }
      ]
    },
    {
      "cell_type": "code",
      "source": [
        "date = input(\"Enter the date in DD/MM/YYYY : \")\n",
        "date.split(\"/\")"
      ],
      "metadata": {
        "colab": {
          "base_uri": "https://localhost:8080/"
        },
        "id": "K4BXiKqji-Up",
        "outputId": "f0d99d17-ee83-4fc2-f274-d845534531e7"
      },
      "execution_count": 30,
      "outputs": [
        {
          "name": "stdout",
          "output_type": "stream",
          "text": [
            "Enter the date in DD/MM/YYYY : 17th/March/95\n"
          ]
        },
        {
          "output_type": "execute_result",
          "data": {
            "text/plain": [
              "['17th', 'March', '95']"
            ]
          },
          "metadata": {},
          "execution_count": 30
        }
      ]
    },
    {
      "cell_type": "code",
      "source": [
        "A,B,C = date.split(\"/\")\n",
        "print(A,B,C)"
      ],
      "metadata": {
        "colab": {
          "base_uri": "https://localhost:8080/"
        },
        "id": "yoofPqNVjNsJ",
        "outputId": "d8d36345-34b1-422b-e271-4751030f0855"
      },
      "execution_count": 31,
      "outputs": [
        {
          "output_type": "stream",
          "name": "stdout",
          "text": [
            "17th March 95\n"
          ]
        }
      ]
    },
    {
      "cell_type": "code",
      "source": [
        "A = date.split(\"/\")\n",
        "print(A)"
      ],
      "metadata": {
        "colab": {
          "base_uri": "https://localhost:8080/"
        },
        "id": "wdYG5If5jh_i",
        "outputId": "7de03cad-a1d5-4b4e-b2d8-6b7a0a614915"
      },
      "execution_count": 32,
      "outputs": [
        {
          "output_type": "stream",
          "name": "stdout",
          "text": [
            "['17th', 'March', '95']\n"
          ]
        }
      ]
    },
    {
      "cell_type": "code",
      "source": [
        "A[0]"
      ],
      "metadata": {
        "colab": {
          "base_uri": "https://localhost:8080/",
          "height": 36
        },
        "id": "6n22cT9PjpDh",
        "outputId": "e4377797-2706-4552-a19d-d4844194db33"
      },
      "execution_count": 33,
      "outputs": [
        {
          "output_type": "execute_result",
          "data": {
            "text/plain": [
              "'17th'"
            ],
            "application/vnd.google.colaboratory.intrinsic+json": {
              "type": "string"
            }
          },
          "metadata": {},
          "execution_count": 33
        }
      ]
    },
    {
      "cell_type": "code",
      "source": [
        "A[1]"
      ],
      "metadata": {
        "colab": {
          "base_uri": "https://localhost:8080/",
          "height": 36
        },
        "id": "fDmX3z4Rjq_B",
        "outputId": "6dc1225d-f8ec-4043-ce6f-8c2ecca58df6"
      },
      "execution_count": 34,
      "outputs": [
        {
          "output_type": "execute_result",
          "data": {
            "text/plain": [
              "'March'"
            ],
            "application/vnd.google.colaboratory.intrinsic+json": {
              "type": "string"
            }
          },
          "metadata": {},
          "execution_count": 34
        }
      ]
    },
    {
      "cell_type": "code",
      "source": [
        "len(A)"
      ],
      "metadata": {
        "colab": {
          "base_uri": "https://localhost:8080/"
        },
        "id": "dwyysOQAjvM5",
        "outputId": "b7fb8706-9deb-406b-bc38-4d0109e03d74"
      },
      "execution_count": 35,
      "outputs": [
        {
          "output_type": "execute_result",
          "data": {
            "text/plain": [
              "3"
            ]
          },
          "metadata": {},
          "execution_count": 35
        }
      ]
    },
    {
      "cell_type": "markdown",
      "source": [
        "### Lower upper, title case etc"
      ],
      "metadata": {
        "id": "f7t3BMivkBLh"
      }
    },
    {
      "cell_type": "code",
      "source": [
        "name = \"Sunny Bhaveen Chandra\"\n",
        "name.lower()"
      ],
      "metadata": {
        "colab": {
          "base_uri": "https://localhost:8080/",
          "height": 36
        },
        "id": "3gOffAMmj5iY",
        "outputId": "193449b9-8894-4c32-af1c-54487b8ed459"
      },
      "execution_count": 37,
      "outputs": [
        {
          "output_type": "execute_result",
          "data": {
            "text/plain": [
              "'sunny bhaveen chandra'"
            ],
            "application/vnd.google.colaboratory.intrinsic+json": {
              "type": "string"
            }
          },
          "metadata": {},
          "execution_count": 37
        }
      ]
    },
    {
      "cell_type": "code",
      "source": [
        "name.upper()"
      ],
      "metadata": {
        "colab": {
          "base_uri": "https://localhost:8080/",
          "height": 36
        },
        "id": "jliM_bZPkNah",
        "outputId": "082b2bfd-81a3-4b91-8f2e-4e4945933642"
      },
      "execution_count": 38,
      "outputs": [
        {
          "output_type": "execute_result",
          "data": {
            "text/plain": [
              "'SUNNY BHAVEEN CHANDRA'"
            ],
            "application/vnd.google.colaboratory.intrinsic+json": {
              "type": "string"
            }
          },
          "metadata": {},
          "execution_count": 38
        }
      ]
    },
    {
      "cell_type": "code",
      "source": [
        "name = input(\"Enter your name :\")\n",
        "\n",
        "print(f\"User Inpur : {name}\")\n",
        "print(f\"name in uppper case: {name.upper()}\")\n",
        "print(f\"name in lower case: {name.lower()}\")\n",
        "print(f\"name in title case: {name.title()}\")\n",
        "print(f\"name in Capitalize case: {name.capitalize()}\")\n",
        "print(f\"name in swapcase case: {name.swapcase()}\")"
      ],
      "metadata": {
        "colab": {
          "base_uri": "https://localhost:8080/"
        },
        "id": "9WTZdc9KkQkR",
        "outputId": "59035ddb-445e-437b-ae17-08eb1d71daa7"
      },
      "execution_count": 41,
      "outputs": [
        {
          "output_type": "stream",
          "name": "stdout",
          "text": [
            "Enter your name :SunnY BhaVeen Chndra\n",
            "User Inpur : SunnY BhaVeen Chndra\n",
            "name in uppper case: SUNNY BHAVEEN CHNDRA\n",
            "name in lower case: sunny bhaveen chndra\n",
            "name in title case: Sunny Bhaveen Chndra\n",
            "name in Capitalize case: Sunny bhaveen chndra\n",
            "name in swapcase case: sUNNy bHAvEEN cHNDRA\n"
          ]
        }
      ]
    },
    {
      "cell_type": "code",
      "source": [
        "name = \"Today is the best DAY of my Life\"\n",
        "\n",
        "print(f\"User Inpur : {name}\")\n",
        "print(f\"name in uppper case: {name.upper()}\")\n",
        "print(f\"name in lower case: {name.lower()}\")\n",
        "print(f\"name in title case: {name.title()}\")\n",
        "print(f\"name in Capitalize case: {name.capitalize()}\")\n",
        "print(f\"name in swapcase case: {name.swapcase()}\")"
      ],
      "metadata": {
        "colab": {
          "base_uri": "https://localhost:8080/"
        },
        "id": "Q46q8DgWk2Qx",
        "outputId": "eaa1bfe3-c337-4f88-e962-e63f112c4b7c"
      },
      "execution_count": 43,
      "outputs": [
        {
          "output_type": "stream",
          "name": "stdout",
          "text": [
            "User Inpur : Today is the best DAY of my Life\n",
            "name in uppper case: TODAY IS THE BEST DAY OF MY LIFE\n",
            "name in lower case: today is the best day of my life\n",
            "name in title case: Today Is The Best Day Of My Life\n",
            "name in Capitalize case: Today is the best day of my life\n",
            "name in swapcase case: tODAY IS THE BEST day OF MY lIFE\n"
          ]
        }
      ]
    },
    {
      "cell_type": "code",
      "source": [
        "name = \"Sunny Bhaveen Chandra\"\n",
        "\n",
        "\"*\".join(name)"
      ],
      "metadata": {
        "colab": {
          "base_uri": "https://localhost:8080/",
          "height": 36
        },
        "id": "AGqrpdnZmwRh",
        "outputId": "3d555192-13fd-43dc-9931-4704daeac4e8"
      },
      "execution_count": 44,
      "outputs": [
        {
          "output_type": "execute_result",
          "data": {
            "text/plain": [
              "'S*u*n*n*y* *B*h*a*v*e*e*n* *C*h*a*n*d*r*a'"
            ],
            "application/vnd.google.colaboratory.intrinsic+json": {
              "type": "string"
            }
          },
          "metadata": {},
          "execution_count": 44
        }
      ]
    },
    {
      "cell_type": "code",
      "source": [
        "name = \"Sunny Bhaveen Chandra\"\n",
        "\n",
        "\"_\".join(name)"
      ],
      "metadata": {
        "colab": {
          "base_uri": "https://localhost:8080/",
          "height": 36
        },
        "id": "-A-7AcZpnbxQ",
        "outputId": "847bd1b4-9772-40eb-cc95-8e90d5f6813b"
      },
      "execution_count": 45,
      "outputs": [
        {
          "output_type": "execute_result",
          "data": {
            "text/plain": [
              "'S_u_n_n_y_ _B_h_a_v_e_e_n_ _C_h_a_n_d_r_a'"
            ],
            "application/vnd.google.colaboratory.intrinsic+json": {
              "type": "string"
            }
          },
          "metadata": {},
          "execution_count": 45
        }
      ]
    },
    {
      "cell_type": "code",
      "source": [
        "name = \"Sunny Bhaveen Chandra\"\n",
        "\n",
        "\"|\".join(name)"
      ],
      "metadata": {
        "colab": {
          "base_uri": "https://localhost:8080/",
          "height": 36
        },
        "id": "eey2fdjkngzh",
        "outputId": "aefc6ab3-d562-4765-be13-f376c444303d"
      },
      "execution_count": 46,
      "outputs": [
        {
          "output_type": "execute_result",
          "data": {
            "text/plain": [
              "'S|u|n|n|y| |B|h|a|v|e|e|n| |C|h|a|n|d|r|a'"
            ],
            "application/vnd.google.colaboratory.intrinsic+json": {
              "type": "string"
            }
          },
          "metadata": {},
          "execution_count": 46
        }
      ]
    },
    {
      "cell_type": "code",
      "source": [
        "name = \"Sunny Bhaveen Chandra\"\n",
        "\n",
        "\" \".join(name)"
      ],
      "metadata": {
        "colab": {
          "base_uri": "https://localhost:8080/",
          "height": 36
        },
        "id": "zfNXW7eHn-ee",
        "outputId": "45cf9285-3c2a-445b-82e3-726f180dc492"
      },
      "execution_count": 50,
      "outputs": [
        {
          "output_type": "execute_result",
          "data": {
            "text/plain": [
              "'S u n n y   B h a v e e n   C h a n d r a'"
            ],
            "application/vnd.google.colaboratory.intrinsic+json": {
              "type": "string"
            }
          },
          "metadata": {},
          "execution_count": 50
        }
      ]
    },
    {
      "cell_type": "code",
      "source": [
        "name = \"Sunny Bhaveen Chandra\"\n",
        "\n",
        "name.replace(\" \", \"|\")"
      ],
      "metadata": {
        "colab": {
          "base_uri": "https://localhost:8080/",
          "height": 36
        },
        "id": "psGLF37foD75",
        "outputId": "359dbcbc-7d5f-4d46-ab7c-c173e9fb99b4"
      },
      "execution_count": 51,
      "outputs": [
        {
          "output_type": "execute_result",
          "data": {
            "text/plain": [
              "'Sunny|Bhaveen|Chandra'"
            ],
            "application/vnd.google.colaboratory.intrinsic+json": {
              "type": "string"
            }
          },
          "metadata": {},
          "execution_count": 51
        }
      ]
    },
    {
      "cell_type": "code",
      "source": [
        "\"\".join(reversed(name))"
      ],
      "metadata": {
        "colab": {
          "base_uri": "https://localhost:8080/",
          "height": 36
        },
        "id": "Puj75NQonnPR",
        "outputId": "42140d55-bbc7-40de-ffaf-62fe51a0b139"
      },
      "execution_count": 48,
      "outputs": [
        {
          "output_type": "execute_result",
          "data": {
            "text/plain": [
              "'ardnahC neevahB ynnuS'"
            ],
            "application/vnd.google.colaboratory.intrinsic+json": {
              "type": "string"
            }
          },
          "metadata": {},
          "execution_count": 48
        }
      ]
    },
    {
      "cell_type": "code",
      "source": [
        "name[::-1]"
      ],
      "metadata": {
        "colab": {
          "base_uri": "https://localhost:8080/",
          "height": 36
        },
        "id": "IsUalZhYnuLh",
        "outputId": "200b4e82-15e8-4c6c-9ba9-e1c30c14419a"
      },
      "execution_count": 49,
      "outputs": [
        {
          "output_type": "execute_result",
          "data": {
            "text/plain": [
              "'ardnahC neevahB ynnuS'"
            ],
            "application/vnd.google.colaboratory.intrinsic+json": {
              "type": "string"
            }
          },
          "metadata": {},
          "execution_count": 49
        }
      ]
    },
    {
      "cell_type": "markdown",
      "source": [
        "### Remove Extra Spaces front and back of the String"
      ],
      "metadata": {
        "id": "lQm34Y6qoWOY"
      }
    },
    {
      "cell_type": "code",
      "source": [
        "name = \" Sunny    \"\n",
        "name.strip(\" \")"
      ],
      "metadata": {
        "colab": {
          "base_uri": "https://localhost:8080/",
          "height": 36
        },
        "id": "YDs54NNTn02J",
        "outputId": "c492a417-8d6d-4d16-db58-cce5257799d2"
      },
      "execution_count": 52,
      "outputs": [
        {
          "output_type": "execute_result",
          "data": {
            "text/plain": [
              "'Sunny'"
            ],
            "application/vnd.google.colaboratory.intrinsic+json": {
              "type": "string"
            }
          },
          "metadata": {},
          "execution_count": 52
        }
      ]
    },
    {
      "cell_type": "code",
      "source": [
        "name = \" Sunny    \"\n",
        "name.lstrip(\" \")"
      ],
      "metadata": {
        "colab": {
          "base_uri": "https://localhost:8080/",
          "height": 36
        },
        "id": "4ZPkqXWBojDh",
        "outputId": "516b627c-fb6e-40fe-ee24-add9c0770eb8"
      },
      "execution_count": 54,
      "outputs": [
        {
          "output_type": "execute_result",
          "data": {
            "text/plain": [
              "'Sunny    '"
            ],
            "application/vnd.google.colaboratory.intrinsic+json": {
              "type": "string"
            }
          },
          "metadata": {},
          "execution_count": 54
        }
      ]
    },
    {
      "cell_type": "code",
      "source": [
        "name = \" Sunny Bhaveen Chandra   \"\n",
        "name.rstrip(\" \")"
      ],
      "metadata": {
        "colab": {
          "base_uri": "https://localhost:8080/",
          "height": 36
        },
        "id": "RfHKPt2dox16",
        "outputId": "04f16101-c481-4908-d3ef-871021b7ebc1"
      },
      "execution_count": 56,
      "outputs": [
        {
          "output_type": "execute_result",
          "data": {
            "text/plain": [
              "' Sunny Bhaveen Chandra'"
            ],
            "application/vnd.google.colaboratory.intrinsic+json": {
              "type": "string"
            }
          },
          "metadata": {},
          "execution_count": 56
        }
      ]
    },
    {
      "cell_type": "code",
      "source": [
        "name = \"===Sunny Bhaveen Chandra======\"\n",
        "name.strip(\"=\")"
      ],
      "metadata": {
        "colab": {
          "base_uri": "https://localhost:8080/",
          "height": 36
        },
        "id": "HE3usSgUpGup",
        "outputId": "bf253a64-749e-4ad9-b2a9-e726d5bfa201"
      },
      "execution_count": 59,
      "outputs": [
        {
          "output_type": "execute_result",
          "data": {
            "text/plain": [
              "'Sunny Bhaveen Chandra'"
            ],
            "application/vnd.google.colaboratory.intrinsic+json": {
              "type": "string"
            }
          },
          "metadata": {},
          "execution_count": 59
        }
      ]
    },
    {
      "cell_type": "code",
      "source": [
        "name = \" Sunny Bhaveen Chandra   \"\n",
        "name.replace(\" \", \"\")"
      ],
      "metadata": {
        "id": "a2MgW9ZqpU_J"
      },
      "execution_count": null,
      "outputs": []
    },
    {
      "cell_type": "markdown",
      "source": [
        "### Formatting"
      ],
      "metadata": {
        "id": "YtROWy_XpuJm"
      }
    },
    {
      "cell_type": "code",
      "source": [
        "name = \"Sunny\"\n",
        "name.center(20, \"#\")"
      ],
      "metadata": {
        "colab": {
          "base_uri": "https://localhost:8080/",
          "height": 36
        },
        "id": "wTUWHBNGpzRQ",
        "outputId": "1ff4cb1e-ab96-44d9-cbd1-380e2436b7c0"
      },
      "execution_count": 60,
      "outputs": [
        {
          "output_type": "execute_result",
          "data": {
            "text/plain": [
              "'#######Sunny########'"
            ],
            "application/vnd.google.colaboratory.intrinsic+json": {
              "type": "string"
            }
          },
          "metadata": {},
          "execution_count": 60
        }
      ]
    },
    {
      "cell_type": "code",
      "source": [
        "name = \"Sunny\"\n",
        "name.center(10, \"#\")"
      ],
      "metadata": {
        "colab": {
          "base_uri": "https://localhost:8080/",
          "height": 36
        },
        "id": "Bih8q74fp7dx",
        "outputId": "d6bba301-bcde-44c0-d2d8-934cc1362fb7"
      },
      "execution_count": 61,
      "outputs": [
        {
          "output_type": "execute_result",
          "data": {
            "text/plain": [
              "'##Sunny###'"
            ],
            "application/vnd.google.colaboratory.intrinsic+json": {
              "type": "string"
            }
          },
          "metadata": {},
          "execution_count": 61
        }
      ]
    },
    {
      "cell_type": "code",
      "source": [
        "name = \"Sunny\"\n",
        "name.center(2, \"#\")"
      ],
      "metadata": {
        "colab": {
          "base_uri": "https://localhost:8080/",
          "height": 36
        },
        "id": "DifplnUxp-Sg",
        "outputId": "bddb33ea-03ee-4c1f-9a12-82c2c3288028"
      },
      "execution_count": 62,
      "outputs": [
        {
          "output_type": "execute_result",
          "data": {
            "text/plain": [
              "'Sunny'"
            ],
            "application/vnd.google.colaboratory.intrinsic+json": {
              "type": "string"
            }
          },
          "metadata": {},
          "execution_count": 62
        }
      ]
    },
    {
      "cell_type": "markdown",
      "source": [
        "### Checking String Cases [IMP]"
      ],
      "metadata": {
        "id": "VsG1SXkrqT62"
      }
    },
    {
      "cell_type": "code",
      "source": [
        "name = \"SUNNY\"\n",
        "name.isupper()"
      ],
      "metadata": {
        "colab": {
          "base_uri": "https://localhost:8080/"
        },
        "id": "q_wh4h4qqNA5",
        "outputId": "f7b96ef7-ccf7-4be6-d141-1bab9f89397e"
      },
      "execution_count": 63,
      "outputs": [
        {
          "output_type": "execute_result",
          "data": {
            "text/plain": [
              "True"
            ]
          },
          "metadata": {},
          "execution_count": 63
        }
      ]
    },
    {
      "cell_type": "code",
      "source": [
        "name = \"Sunny\"\n",
        "name.isupper()"
      ],
      "metadata": {
        "colab": {
          "base_uri": "https://localhost:8080/"
        },
        "id": "7IQCY9inqry5",
        "outputId": "d76bc4e0-6c29-4155-8838-0d5d128e5a1e"
      },
      "execution_count": 64,
      "outputs": [
        {
          "output_type": "execute_result",
          "data": {
            "text/plain": [
              "False"
            ]
          },
          "metadata": {},
          "execution_count": 64
        }
      ]
    },
    {
      "cell_type": "code",
      "source": [
        "name = \"sunny\"\n",
        "name.islower()"
      ],
      "metadata": {
        "colab": {
          "base_uri": "https://localhost:8080/"
        },
        "id": "zjxFwlfQquW4",
        "outputId": "1c5b8894-add6-420e-9f1f-b12822d44e25"
      },
      "execution_count": 65,
      "outputs": [
        {
          "output_type": "execute_result",
          "data": {
            "text/plain": [
              "True"
            ]
          },
          "metadata": {},
          "execution_count": 65
        }
      ]
    },
    {
      "cell_type": "code",
      "source": [
        "name = \"Sunny\"\n",
        "name.islower()"
      ],
      "metadata": {
        "colab": {
          "base_uri": "https://localhost:8080/"
        },
        "id": "REjB-1ACq1J4",
        "outputId": "73d96310-a72d-4cf8-93a0-e48edc1f7639"
      },
      "execution_count": 66,
      "outputs": [
        {
          "output_type": "execute_result",
          "data": {
            "text/plain": [
              "False"
            ]
          },
          "metadata": {},
          "execution_count": 66
        }
      ]
    },
    {
      "cell_type": "code",
      "source": [
        "name = \"Sunny\"\n",
        "name.isspace()"
      ],
      "metadata": {
        "colab": {
          "base_uri": "https://localhost:8080/"
        },
        "id": "jTN_H9_Pq3To",
        "outputId": "7dbf1812-2de3-46a3-c217-03d86642dba7"
      },
      "execution_count": 68,
      "outputs": [
        {
          "output_type": "execute_result",
          "data": {
            "text/plain": [
              "False"
            ]
          },
          "metadata": {},
          "execution_count": 68
        }
      ]
    },
    {
      "cell_type": "code",
      "source": [
        "name = \"Sunny   \"\n",
        "name.isspace()"
      ],
      "metadata": {
        "colab": {
          "base_uri": "https://localhost:8080/"
        },
        "id": "dKu3GhV0q8nA",
        "outputId": "4d1eb3f2-d18e-41ad-879b-4355f2e5cff8"
      },
      "execution_count": 69,
      "outputs": [
        {
          "output_type": "execute_result",
          "data": {
            "text/plain": [
              "False"
            ]
          },
          "metadata": {},
          "execution_count": 69
        }
      ]
    },
    {
      "cell_type": "code",
      "source": [
        "name = \"   \"\n",
        "name.isspace()"
      ],
      "metadata": {
        "colab": {
          "base_uri": "https://localhost:8080/"
        },
        "id": "DsiQkjSqrBMx",
        "outputId": "67c3d835-299a-47fd-d80c-6bf24300e532"
      },
      "execution_count": 70,
      "outputs": [
        {
          "output_type": "execute_result",
          "data": {
            "text/plain": [
              "True"
            ]
          },
          "metadata": {},
          "execution_count": 70
        }
      ]
    },
    {
      "cell_type": "code",
      "source": [
        "name = \"Sunny\"\n",
        "name.istitle()"
      ],
      "metadata": {
        "colab": {
          "base_uri": "https://localhost:8080/"
        },
        "id": "jKC4R9ZOrDog",
        "outputId": "9e5deba8-08d2-4cc9-b1fe-bf6d023dbe57"
      },
      "execution_count": 71,
      "outputs": [
        {
          "output_type": "execute_result",
          "data": {
            "text/plain": [
              "True"
            ]
          },
          "metadata": {},
          "execution_count": 71
        }
      ]
    },
    {
      "cell_type": "code",
      "source": [
        "name = input(\"Enter your name:\")\n",
        "print(f\"user input : {name}\")\n",
        "if name.istitle():  \n",
        "  print(f\"user has given correct inpur\")\n",
        "elif name.isspace():\n",
        "  print(f\"Wrong Input please try again\")\n",
        "else:\n",
        "  print(f\"user has given wrong input we need to autocorrect it\")\n",
        "  name = name.title()\n",
        "  print(f\"Correct output : {name}\")"
      ],
      "metadata": {
        "colab": {
          "base_uri": "https://localhost:8080/"
        },
        "id": "vlMok67srHeg",
        "outputId": "cca3ea66-1bcd-4a12-ea66-b2b832fdab3a"
      },
      "execution_count": 78,
      "outputs": [
        {
          "output_type": "stream",
          "name": "stdout",
          "text": [
            "Enter your name:     \n",
            "user input :      \n",
            "Wrong Input please try again\n"
          ]
        }
      ]
    },
    {
      "cell_type": "code",
      "source": [
        "name = input(\"Enter your name:\")\n",
        "print(f\"user input : {name}\")\n",
        "if name.istitle():  \n",
        "  print(f\"user has given correct inpur\")\n",
        "elif name.isspace():\n",
        "  print(f\"Wrong Input please try again\")\n",
        "else:\n",
        "  print(f\"user has given wrong input we need to autocorrect it\")\n",
        "  name = name.title()\n",
        "  print(f\"Correct output : {name}\")"
      ],
      "metadata": {
        "colab": {
          "base_uri": "https://localhost:8080/"
        },
        "id": "iitPVwhxr0V4",
        "outputId": "75c70fb3-416a-4f65-f3c3-e786693c01e9"
      },
      "execution_count": 79,
      "outputs": [
        {
          "output_type": "stream",
          "name": "stdout",
          "text": [
            "Enter your name:Sunny Chnadra\n",
            "user input : Sunny Chnadra\n",
            "user has given correct inpur\n"
          ]
        }
      ]
    },
    {
      "cell_type": "code",
      "source": [
        "phone_number = \"1308580135\"\n",
        "phone_number.isdigit()"
      ],
      "metadata": {
        "colab": {
          "base_uri": "https://localhost:8080/"
        },
        "id": "wo4ZSuTes78h",
        "outputId": "dc62ef06-fa21-47ac-dbfc-1a2e734e5faa"
      },
      "execution_count": 80,
      "outputs": [
        {
          "output_type": "execute_result",
          "data": {
            "text/plain": [
              "True"
            ]
          },
          "metadata": {},
          "execution_count": 80
        }
      ]
    },
    {
      "cell_type": "code",
      "source": [
        "phone_number = \"1308580135gdgf\"\n",
        "phone_number.isdigit()"
      ],
      "metadata": {
        "colab": {
          "base_uri": "https://localhost:8080/"
        },
        "id": "zKu0_jLptWfx",
        "outputId": "78a736fe-dadd-4d6f-9eb5-f7573fa0ae2f"
      },
      "execution_count": 81,
      "outputs": [
        {
          "output_type": "execute_result",
          "data": {
            "text/plain": [
              "False"
            ]
          },
          "metadata": {},
          "execution_count": 81
        }
      ]
    },
    {
      "cell_type": "code",
      "source": [
        "phone_number = input(\"Enter your Phone Number :\")\n",
        "\n",
        "if phone_number.isdigit() and len(phone_number) == 10:\n",
        "  print(f\"User input is Correct\")\n",
        "else:\n",
        "  print('Invalid Input')"
      ],
      "metadata": {
        "colab": {
          "base_uri": "https://localhost:8080/"
        },
        "id": "WG0Rkw95tY6x",
        "outputId": "350cae3d-75af-46aa-f778-16ff4dfdfa6c"
      },
      "execution_count": 86,
      "outputs": [
        {
          "output_type": "stream",
          "name": "stdout",
          "text": [
            "Enter your Phone Number :1234567890\n",
            "User input is Correct\n"
          ]
        }
      ]
    },
    {
      "cell_type": "code",
      "source": [
        "phone_number = input(\"Enter your Phone Number :\")\n",
        "\n",
        "if phone_number.isdigit() and len(phone_number) == 10:\n",
        "  print(f\"User input is Correct\")\n",
        "else:\n",
        "  print('Invalid Input')"
      ],
      "metadata": {
        "colab": {
          "base_uri": "https://localhost:8080/"
        },
        "id": "Qyw_QwK0t2Lp",
        "outputId": "ff77d58b-4a46-47db-92ac-caf9b3152ff1"
      },
      "execution_count": 87,
      "outputs": [
        {
          "output_type": "stream",
          "name": "stdout",
          "text": [
            "Enter your Phone Number :132456 7890\n",
            "Invalid Input\n"
          ]
        }
      ]
    },
    {
      "cell_type": "code",
      "source": [
        "phone_number = input(\"Enter your Phone Number :\")\n",
        "\n",
        "if phone_number.isdigit() and len(phone_number) == 10 and phone_number != \"0000000000\":\n",
        "  print(f\"User input is Correct\")\n",
        "\n",
        "else:\n",
        "  print('Invalid Input')"
      ],
      "metadata": {
        "colab": {
          "base_uri": "https://localhost:8080/"
        },
        "id": "qVVw2obsugZx",
        "outputId": "207b921a-00d3-4380-e728-37184d7d541d"
      },
      "execution_count": 92,
      "outputs": [
        {
          "output_type": "stream",
          "name": "stdout",
          "text": [
            "Enter your Phone Number :0000000000\n",
            "Invalid Input\n"
          ]
        }
      ]
    },
    {
      "cell_type": "code",
      "source": [
        "phone_number.startswith(\"0\")"
      ],
      "metadata": {
        "colab": {
          "base_uri": "https://localhost:8080/"
        },
        "id": "NKTNL4faulER",
        "outputId": "00c24719-8086-4d0f-8040-a159ca31a017"
      },
      "execution_count": 93,
      "outputs": [
        {
          "output_type": "execute_result",
          "data": {
            "text/plain": [
              "True"
            ]
          },
          "metadata": {},
          "execution_count": 93
        }
      ]
    },
    {
      "cell_type": "code",
      "source": [
        "phone_number.endswith(\"0\")"
      ],
      "metadata": {
        "colab": {
          "base_uri": "https://localhost:8080/"
        },
        "id": "dVeq88ypvINp",
        "outputId": "fb48d9dd-8895-4998-e6e3-61368a3c8617"
      },
      "execution_count": 94,
      "outputs": [
        {
          "output_type": "execute_result",
          "data": {
            "text/plain": [
              "True"
            ]
          },
          "metadata": {},
          "execution_count": 94
        }
      ]
    },
    {
      "cell_type": "code",
      "source": [
        "phone_number = \"+919199293830\"\n",
        "phone_number.startswith(\"+91\")"
      ],
      "metadata": {
        "colab": {
          "base_uri": "https://localhost:8080/"
        },
        "id": "dxkq_HnZvccm",
        "outputId": "cc395abe-9388-4026-b65c-ab2afacef495"
      },
      "execution_count": 97,
      "outputs": [
        {
          "output_type": "execute_result",
          "data": {
            "text/plain": [
              "True"
            ]
          },
          "metadata": {},
          "execution_count": 97
        }
      ]
    },
    {
      "cell_type": "code",
      "source": [
        "phone_number[1:]"
      ],
      "metadata": {
        "colab": {
          "base_uri": "https://localhost:8080/",
          "height": 36
        },
        "id": "joKM6oux0lqg",
        "outputId": "8e95263a-f4b8-4b7d-e642-3168e5057f4d"
      },
      "execution_count": 117,
      "outputs": [
        {
          "output_type": "execute_result",
          "data": {
            "text/plain": [
              "'919199293830'"
            ],
            "application/vnd.google.colaboratory.intrinsic+json": {
              "type": "string"
            }
          },
          "metadata": {},
          "execution_count": 117
        }
      ]
    },
    {
      "cell_type": "code",
      "source": [
        "phone_number[1:].isdigit()"
      ],
      "metadata": {
        "colab": {
          "base_uri": "https://localhost:8080/"
        },
        "id": "ERDNyeeiv0qB",
        "outputId": "34a9dec0-1fe5-4921-bf20-f115474f2133"
      },
      "execution_count": 98,
      "outputs": [
        {
          "output_type": "execute_result",
          "data": {
            "text/plain": [
              "True"
            ]
          },
          "metadata": {},
          "execution_count": 98
        }
      ]
    },
    {
      "cell_type": "code",
      "source": [
        "len(phone_number) == 13"
      ],
      "metadata": {
        "colab": {
          "base_uri": "https://localhost:8080/"
        },
        "id": "bQDq5kinwBXk",
        "outputId": "750504f7-d06f-4a13-eee8-5bb3a315a253"
      },
      "execution_count": 101,
      "outputs": [
        {
          "output_type": "execute_result",
          "data": {
            "text/plain": [
              "True"
            ]
          },
          "metadata": {},
          "execution_count": 101
        }
      ]
    },
    {
      "cell_type": "code",
      "source": [
        "phone_number = \"+910000000000\"\n",
        "phone_number.count(\"0\")"
      ],
      "metadata": {
        "colab": {
          "base_uri": "https://localhost:8080/"
        },
        "id": "naAWREJhxIbe",
        "outputId": "be73ad3a-bc0a-4233-8aec-6e0258b4e08c"
      },
      "execution_count": 107,
      "outputs": [
        {
          "output_type": "execute_result",
          "data": {
            "text/plain": [
              "10"
            ]
          },
          "metadata": {},
          "execution_count": 107
        }
      ]
    },
    {
      "cell_type": "code",
      "source": [
        "sphone_number = input(\"Enter your Indian Phone Number :\")\n",
        "\n",
        "if phone_number.startswith(\"+91\") and phone_number[1:].isdigit() and len(phone_number) == 13:\n",
        "  print(f\"User input is Correct\")\n",
        "else:\n",
        "  print('Invalid Input')"
      ],
      "metadata": {
        "colab": {
          "base_uri": "https://localhost:8080/"
        },
        "id": "FWPPcRzjvLl6",
        "outputId": "c7a42a1f-4b56-4e89-8e07-34adcc677e7f"
      },
      "execution_count": 102,
      "outputs": [
        {
          "output_type": "stream",
          "name": "stdout",
          "text": [
            "Enter your Indian Phone Number :+919199293830\n",
            "User input is Correct\n"
          ]
        }
      ]
    },
    {
      "cell_type": "code",
      "source": [
        "phone_number = input(\"Enter your Indian Phone Number :\")\n",
        "\n",
        "if phone_number.startswith(\"+91\") and phone_number[1:].isdigit() and len(phone_number) == 13:\n",
        "  print(f\"User input is Correct\")\n",
        "else:\n",
        "  print('Invalid Input')"
      ],
      "metadata": {
        "colab": {
          "base_uri": "https://localhost:8080/"
        },
        "id": "5WZTL9mawiAR",
        "outputId": "c89ba898-af2d-49de-cc83-523dc01bebd2"
      },
      "execution_count": 103,
      "outputs": [
        {
          "output_type": "stream",
          "name": "stdout",
          "text": [
            "Enter your Indian Phone Number :+919386461971\n",
            "User input is Correct\n"
          ]
        }
      ]
    },
    {
      "cell_type": "code",
      "source": [
        "phone_number = input(\"Enter your Indian Phone Number :\")\n",
        "\n",
        "if phone_number.startswith(\"+91\") and phone_number[1:].isdigit() and len(phone_number) == 13:\n",
        "  print(f\"User input is Correct\")\n",
        "else:\n",
        "  print('Invalid Input')"
      ],
      "metadata": {
        "colab": {
          "base_uri": "https://localhost:8080/"
        },
        "id": "R-TG7AWtwn2J",
        "outputId": "012cb0e7-b9b1-4826-bd7a-b7c5326040d7"
      },
      "execution_count": 104,
      "outputs": [
        {
          "output_type": "stream",
          "name": "stdout",
          "text": [
            "Enter your Indian Phone Number :+937856006827\n",
            "Invalid Input\n"
          ]
        }
      ]
    },
    {
      "cell_type": "markdown",
      "source": [
        "Quizes"
      ],
      "metadata": {
        "id": "2r3twZYMysk4"
      }
    },
    {
      "cell_type": "code",
      "source": [
        "phone_number = input(\"Enter your Indian Phone Number :\")\n",
        "if phone_number.startswith(\"+91\") and phone_number[1:].isdigit() and len(phone_number) == 13 :\n",
        "  print(f\"User input is Correct\")\n",
        "else:\n",
        "  print('Invalid Input')"
      ],
      "metadata": {
        "colab": {
          "base_uri": "https://localhost:8080/",
          "height": 171
        },
        "id": "CwHCoicfwxKx",
        "outputId": "aa3932f0-5cbf-4dd7-b946-81c32c74d2cc"
      },
      "execution_count": 110,
      "outputs": [
        {
          "output_type": "error",
          "ename": "SyntaxError",
          "evalue": "ignored",
          "traceback": [
            "\u001b[0;36m  File \u001b[0;32m\"<ipython-input-110-9f0250dc8aae>\"\u001b[0;36m, line \u001b[0;32m3\u001b[0m\n\u001b[0;31m    if phone_number.startswith(\"+91\") and phone_number[1:].isdigit() and len(phone_number) == 13 and phone_number.count(\"0\") = 10 :\u001b[0m\n\u001b[0m                                                                                                                             ^\u001b[0m\n\u001b[0;31mSyntaxError\u001b[0m\u001b[0;31m:\u001b[0m invalid syntax\n"
          ]
        }
      ]
    },
    {
      "cell_type": "code",
      "source": [
        "PAN_NUMBERS = \"AYEPC5656X\"\n",
        "PAN_NUMBERS.isalnum() #Check for alpha numeric case"
      ],
      "metadata": {
        "colab": {
          "base_uri": "https://localhost:8080/"
        },
        "id": "Xdx2ROgCxy35",
        "outputId": "785a041c-0f74-4d9f-abdb-880654feda99"
      },
      "execution_count": 111,
      "outputs": [
        {
          "output_type": "execute_result",
          "data": {
            "text/plain": [
              "True"
            ]
          },
          "metadata": {},
          "execution_count": 111
        }
      ]
    },
    {
      "cell_type": "code",
      "source": [
        "PAN_NUMBERS = \"93864645\"\n",
        "PAN_NUMBERS.isalnum() #Check for alphabets or numeric case"
      ],
      "metadata": {
        "colab": {
          "base_uri": "https://localhost:8080/"
        },
        "id": "7lVF7wV7zHKh",
        "outputId": "1c63c4df-1aa7-4b02-f44a-9e34be971df3"
      },
      "execution_count": 113,
      "outputs": [
        {
          "output_type": "execute_result",
          "data": {
            "text/plain": [
              "True"
            ]
          },
          "metadata": {},
          "execution_count": 113
        }
      ]
    },
    {
      "cell_type": "code",
      "source": [
        "PAN_NUMBERS = \"SUNNY\"\n",
        "PAN_NUMBERS.isalnum() #Check for alphabets or numeric case"
      ],
      "metadata": {
        "colab": {
          "base_uri": "https://localhost:8080/"
        },
        "id": "fmVAWBPnzNxR",
        "outputId": "191804f5-3afb-4fb8-8b8c-b0e3bb886a4c"
      },
      "execution_count": 114,
      "outputs": [
        {
          "output_type": "execute_result",
          "data": {
            "text/plain": [
              "True"
            ]
          },
          "metadata": {},
          "execution_count": 114
        }
      ]
    },
    {
      "cell_type": "code",
      "source": [
        "PAN_NUMBERS = \"SUNNY  CHANDRA\"\n",
        "PAN_NUMBERS.isalnum() #Check for alphabets or numeric case"
      ],
      "metadata": {
        "colab": {
          "base_uri": "https://localhost:8080/"
        },
        "id": "LFVTt-j0zaRR",
        "outputId": "c2442263-7b87-4851-f458-c3d25fd0e6e4"
      },
      "execution_count": 115,
      "outputs": [
        {
          "output_type": "execute_result",
          "data": {
            "text/plain": [
              "False"
            ]
          },
          "metadata": {},
          "execution_count": 115
        }
      ]
    },
    {
      "cell_type": "code",
      "source": [
        "PAN_NUMBERS = \"SUNNY***CHANDRA\"\n",
        "PAN_NUMBERS.isalnum() #Check for alphabets or numeric case"
      ],
      "metadata": {
        "colab": {
          "base_uri": "https://localhost:8080/"
        },
        "id": "NI0VPexAzzwY",
        "outputId": "3fee09ef-952d-477d-d182-2a810c908ced"
      },
      "execution_count": 116,
      "outputs": [
        {
          "output_type": "execute_result",
          "data": {
            "text/plain": [
              "False"
            ]
          },
          "metadata": {},
          "execution_count": 116
        }
      ]
    },
    {
      "cell_type": "code",
      "source": [],
      "metadata": {
        "id": "aCaHOETJz3Sg"
      },
      "execution_count": null,
      "outputs": []
    }
  ]
}