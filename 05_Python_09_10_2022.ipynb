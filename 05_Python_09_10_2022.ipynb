{
  "nbformat": 4,
  "nbformat_minor": 0,
  "metadata": {
    "colab": {
      "provenance": [],
      "collapsed_sections": []
    },
    "kernelspec": {
      "name": "python3",
      "display_name": "Python 3"
    },
    "language_info": {
      "name": "python"
    }
  },
  "cells": [
    {
      "cell_type": "markdown",
      "source": [
        "# AGENDA\n",
        "1. Control Flow Statements\n",
        "  - if else\n",
        "  - if elif else\n",
        "  - Nested if else\n",
        "  - Single Line if else [Not recommended]\n",
        "\n",
        "2. Loops in python\n",
        "  - for\n",
        "  - while"
      ],
      "metadata": {
        "id": "VFqnbVAZvZea"
      }
    },
    {
      "cell_type": "markdown",
      "source": [
        "## if else [Covered]"
      ],
      "metadata": {
        "id": "oKPhf3q0wUtt"
      }
    },
    {
      "cell_type": "markdown",
      "source": [
        "## If elif"
      ],
      "metadata": {
        "id": "PKMx8g9XweA9"
      }
    },
    {
      "cell_type": "markdown",
      "source": [
        "Online Food Orders - Zomato App, Swiggy, Uber Eats\n",
        "\n",
        "- if you order more than Rs. 499\n",
        "  - discount = 20%\n",
        "- if you order more than Rs. 999\n",
        "  - discount = 30%\n",
        "- if your order more than 1499\n",
        "  - discount = 40%"
      ],
      "metadata": {
        "id": "xPXNICd4wmC9"
      }
    },
    {
      "cell_type": "code",
      "execution_count": null,
      "metadata": {
        "colab": {
          "base_uri": "https://localhost:8080/"
        },
        "id": "dIomVw5WuV0u",
        "outputId": "e3243f12-d813-4b10-9ae1-50a9fcecce0d"
      },
      "outputs": [
        {
          "output_type": "stream",
          "name": "stdout",
          "text": [
            "Card total  : 1290\n",
            "Pay amount : 903.0\n"
          ]
        }
      ],
      "source": [
        "total_amount = 90 + 100 + 100 + 1000\n",
        "\n",
        "print(f\"Card total  : {total_amount}\")\n",
        "\n",
        "if total_amount > 999:\n",
        "  price_after_discount = total_amount * 70/100\n",
        "  print(f\"Pay amount : {price_after_discount}\")\n",
        "elif total_amount <= 999 and total_amount > 499: # 999 <= price < 499\n",
        "  price_after_discount = total_amount * 80/100\n",
        "  print(f\"Pay amount : {price_after_discount}\")\n",
        "else:\n",
        "  print(f\"Pay amount : {total_amount}\")\n",
        "\n"
      ]
    },
    {
      "cell_type": "code",
      "source": [
        "total_amount = 90 + 100\n",
        "\n",
        "print(f\"Card total  : {total_amount}\")\n",
        "\n",
        "if total_amount > 999:\n",
        "  price_after_discount = total_amount * 70/100\n",
        "  print(f\"Pay amount : {price_after_discount}\")\n",
        "elif total_amount <= 999 and total_amount > 499: # 999 <= price < 499\n",
        "  price_after_discount = total_amount * 80/100\n",
        "  print(f\"Pay amount : {price_after_discount}\")\n",
        "else:\n",
        "  print(f\"Pay amount : {total_amount}\")\n",
        "\n"
      ],
      "metadata": {
        "colab": {
          "base_uri": "https://localhost:8080/"
        },
        "id": "laKuqB6NzDrm",
        "outputId": "5f976050-76ca-43e9-9c10-d300826d646b"
      },
      "execution_count": null,
      "outputs": [
        {
          "output_type": "stream",
          "name": "stdout",
          "text": [
            "Card total  : 190\n",
            "Pay amount : 190\n"
          ]
        }
      ]
    },
    {
      "cell_type": "code",
      "source": [
        "total_amount = 90 + 100 + 500\n",
        "\n",
        "print(f\"Card total  : {total_amount}\")\n",
        "\n",
        "if total_amount > 999:\n",
        "  price_after_discount = total_amount * 70/100\n",
        "  print(f\"Pay amount : {price_after_discount}\")\n",
        "elif total_amount <= 999 and total_amount > 499: # 999 <= price < 499\n",
        "  price_after_discount = total_amount * 80/100\n",
        "  print(f\"Pay amount : {price_after_discount}\")\n",
        "else:\n",
        "  print(f\"Pay amount : {total_amount}\")\n",
        "\n"
      ],
      "metadata": {
        "colab": {
          "base_uri": "https://localhost:8080/"
        },
        "id": "65jCCgkJzSSF",
        "outputId": "fd12600c-5508-451d-c583-11b2eb64d019"
      },
      "execution_count": null,
      "outputs": [
        {
          "output_type": "stream",
          "name": "stdout",
          "text": [
            "Card total  : 690\n",
            "Pay amount : 552.0\n"
          ]
        }
      ]
    },
    {
      "cell_type": "code",
      "source": [
        "total_amount = 90 + 100 + 500\n",
        "\n",
        "print(f\"Card total  : {total_amount}\")\n",
        "\n",
        "if total_amount > 999:\n",
        "  price_after_discount = total_amount * 70/100\n",
        "  print(f\"Pay amount : {price_after_discount}\")\n",
        "elif 499 < total_amount <= 999 : # 999 <= price < 499\n",
        "  price_after_discount = total_amount * 80/100\n",
        "  print(f\"Pay amount : {price_after_discount}\")\n",
        "else:\n",
        "  print(f\"Pay amount : {total_amount}\")\n",
        "\n"
      ],
      "metadata": {
        "colab": {
          "base_uri": "https://localhost:8080/"
        },
        "id": "xOmiQV4_zWN0",
        "outputId": "da40a94c-da86-40c6-eae7-9551bde2a38a"
      },
      "execution_count": null,
      "outputs": [
        {
          "output_type": "stream",
          "name": "stdout",
          "text": [
            "Card total  : 690\n",
            "Pay amount : 552.0\n"
          ]
        }
      ]
    },
    {
      "cell_type": "code",
      "source": [
        "total_amount = 90 + 100 + 500 + 1000\n",
        "\n",
        "print(f\"Card total  : {total_amount}\")\n",
        "\n",
        "if total_amount > 1499:\n",
        "  price_after_discount = total_amount * 60/100\n",
        "  print(f\"Pay amount : {price_after_discount}\")  \n",
        "elif 999 < total_amount <= 1499:\n",
        "  price_after_discount = total_amount * 70/100\n",
        "  print(f\"Pay amount : {price_after_discount}\")\n",
        "elif 499 < total_amount <= 999 : # 999 <= price < 499\n",
        "  price_after_discount = total_amount * 80/100\n",
        "  print(f\"Pay amount : {price_after_discount}\")\n",
        "else:\n",
        "  print(f\"Pay amount : {total_amount}\")\n",
        "\n"
      ],
      "metadata": {
        "id": "c_bVAYxFz7tl",
        "colab": {
          "base_uri": "https://localhost:8080/"
        },
        "outputId": "c24a833a-823f-4493-a3cd-1556f8ec2154"
      },
      "execution_count": 13,
      "outputs": [
        {
          "output_type": "stream",
          "name": "stdout",
          "text": [
            "Card total  : 1690\n",
            "Pay amount : 1014.0\n"
          ]
        }
      ]
    },
    {
      "cell_type": "markdown",
      "source": [
        "### Nested if else"
      ],
      "metadata": {
        "id": "5tHeFyuS5KmW"
      }
    },
    {
      "cell_type": "markdown",
      "source": [
        "print if the no is negative or positive"
      ],
      "metadata": {
        "id": "VR4VTBpd5OVU"
      }
    },
    {
      "cell_type": "code",
      "source": [
        "val = float(input(\"Enter a Number : \"))\n",
        "if val >= 0:\n",
        "  if val == 0:\n",
        "    print(\"Its Zero.\")\n",
        "  else:\n",
        "    print(\"Its a positive Number.\")\n",
        "else:\n",
        "  print(\"Negative Number.\")"
      ],
      "metadata": {
        "colab": {
          "base_uri": "https://localhost:8080/"
        },
        "id": "YqfplhOs4ehI",
        "outputId": "d8bd38bd-3df0-461f-8432-d539bb005bfd"
      },
      "execution_count": 16,
      "outputs": [
        {
          "output_type": "stream",
          "name": "stdout",
          "text": [
            "Enter a Number : 0\n",
            "Its Zero\n"
          ]
        }
      ]
    },
    {
      "cell_type": "markdown",
      "source": [
        "### Single line if else\n",
        "\n",
        "NOTE : NOT RECOMMENDED FOR CODING IN PROJECTS OR PRODUCTION\n",
        "\n",
        "but good for competitive programming"
      ],
      "metadata": {
        "id": "-PkCo1487Tj7"
      }
    },
    {
      "cell_type": "markdown",
      "source": [
        "print YES if the no is greater than 99"
      ],
      "metadata": {
        "id": "BeqtvneG7f_p"
      }
    },
    {
      "cell_type": "code",
      "source": [
        "# Ok for COmpetitive Program\n",
        "# For production code or in a company its not recommended\n",
        "val = float(input(\"Enter a number : \"))\n",
        "\n",
        "if val > 99 : print(\"YES\")\n",
        "else : print(\"NO\")"
      ],
      "metadata": {
        "colab": {
          "base_uri": "https://localhost:8080/"
        },
        "id": "34wvOgu77Cb5",
        "outputId": "f35a384f-8900-4c03-872a-c2e79b80a867"
      },
      "execution_count": 19,
      "outputs": [
        {
          "output_type": "stream",
          "name": "stdout",
          "text": [
            "Enter a number : 20\n",
            "NO\n"
          ]
        }
      ]
    },
    {
      "cell_type": "code",
      "source": [
        "# Recommended approach\n",
        "# Its more readable and clean\n",
        "val = float(input(\"Enter a number : \"))\n",
        "\n",
        "if val > 99 :\n",
        "  print(\"YES\")\n",
        "else :\n",
        "  print(\"NO\")"
      ],
      "metadata": {
        "id": "rbWzZ-sG71NP"
      },
      "execution_count": null,
      "outputs": []
    },
    {
      "cell_type": "code",
      "source": [
        "# only good for competitive programming\n",
        "val = float(input(\"Enter a number : \"))\n",
        "print(\"Yes\" if val > 99 else \"NO\")"
      ],
      "metadata": {
        "colab": {
          "base_uri": "https://localhost:8080/"
        },
        "id": "GwTglpjs8xPQ",
        "outputId": "81bce53d-b354-4b77-e959-ffc2418f37d7"
      },
      "execution_count": 21,
      "outputs": [
        {
          "output_type": "stream",
          "name": "stdout",
          "text": [
            "Enter a number : 555\n",
            "Yes\n"
          ]
        }
      ]
    },
    {
      "cell_type": "markdown",
      "source": [
        "## Loops\n",
        "- while loop\n",
        "- For loop\n",
        "- Loop Control\n",
        "  - Break\n",
        "  - Continue\n",
        "  - Pass\n",
        "- Nested Loop\n"
      ],
      "metadata": {
        "id": "YjaK4Vqs9v6R"
      }
    },
    {
      "cell_type": "markdown",
      "source": [
        "# UPSC, IAS, Government Exams, Board Exams,\n",
        "## Repetive Attempts"
      ],
      "metadata": {
        "id": "LFrHIxB5-Umb"
      }
    },
    {
      "cell_type": "markdown",
      "source": [
        "While i do not cross the cutoff i will keep on giving my exams.\n",
        "\n",
        "while Condition is True :\n",
        "  print()"
      ],
      "metadata": {
        "id": "Gx_T8gOzA4EJ"
      }
    },
    {
      "cell_type": "code",
      "source": [
        "Total_marks = 1000\n",
        "cutoff = 400\n",
        "score = [100, 200, 300, 399, 500]\n",
        "\n",
        "# I will keep on attempting untill i Succeed.\n",
        "year = 0 # Index in python starts with 0\n",
        "\n",
        "while score[year] < cutoff:\n",
        "  print(f\"Your Score is : {score[year]}, cutoff : {cutoff}\")\n",
        "  print(\"I will attempt next year\")\n",
        "  year = year + 1 # I am adding 1 to currect year.\n",
        "\n",
        "\n",
        "\n",
        "\n"
      ],
      "metadata": {
        "colab": {
          "base_uri": "https://localhost:8080/"
        },
        "id": "urzkx9cG83XX",
        "outputId": "fa49fab6-182c-4ab0-9589-d49ad7f5acea"
      },
      "execution_count": 26,
      "outputs": [
        {
          "output_type": "stream",
          "name": "stdout",
          "text": [
            "Your Score is : 100, cutoff : 400\n",
            "I will attempt next year\n",
            "Your Score is : 200, cutoff : 400\n",
            "I will attempt next year\n",
            "Your Score is : 300, cutoff : 400\n",
            "I will attempt next year\n",
            "Your Score is : 399, cutoff : 400\n",
            "I will attempt next year\n"
          ]
        }
      ]
    },
    {
      "cell_type": "markdown",
      "source": [
        "## Infinite loop\n",
        "if the condition is always True then you loop will keep on running..."
      ],
      "metadata": {
        "id": "mRT3wJA3Bogt"
      }
    },
    {
      "cell_type": "code",
      "source": [
        "year = 0\n",
        "score[year]"
      ],
      "metadata": {
        "colab": {
          "base_uri": "https://localhost:8080/"
        },
        "id": "vggFP6N6_YLf",
        "outputId": "c9528a2b-9ce8-4c65-90dc-73c46731ab3d"
      },
      "execution_count": 25,
      "outputs": [
        {
          "output_type": "execute_result",
          "data": {
            "text/plain": [
              "200"
            ]
          },
          "metadata": {},
          "execution_count": 25
        }
      ]
    },
    {
      "cell_type": "code",
      "source": [
        "\"\"\"\n",
        "Child is learning to counting 10 rupees of note \n",
        "\"\"\"\n",
        "notes = 10\n",
        "i = 1 # 1st note\n",
        "\n",
        "while i <= notes:\n",
        "  print(f\"Current sum : {i * 10 }\")\n",
        "  i = i+1"
      ],
      "metadata": {
        "id": "kqtnv-EaB4Tm"
      },
      "execution_count": null,
      "outputs": []
    },
    {
      "cell_type": "code",
      "source": [
        "# Train Journey\n",
        "stations = [\"Station 01\", \"Station 02\", \"Station 03\", \"Station 04\"]\n",
        "current_stations = 0\n",
        "destination = \"Station 03\"\n",
        "while stations[current_stations] != destination:\n",
        "  print(f\"Current Station is : {stations[current_stations]}\")\n",
        "  print(f\"My destination is : {destination}\")\n",
        "  print(\"Continue the Journey i haven't reached the destination.\")\n",
        "  current_stations = current_stations + 1\n",
        "  print(f\"Next Station is : {stations[current_stations]}\")\n",
        "  print(\"------------------------------------------\")"
      ],
      "metadata": {
        "colab": {
          "base_uri": "https://localhost:8080/"
        },
        "id": "WrZJPr5NCuQ3",
        "outputId": "8901e312-9cae-45f5-d06f-ee0aed75246b"
      },
      "execution_count": 34,
      "outputs": [
        {
          "output_type": "stream",
          "name": "stdout",
          "text": [
            "Current Station is : Station 01\n",
            "My destination is : Station 03\n",
            "Continue the Journey i haven't reached the destination.\n",
            "Next Station is : Station 02\n",
            "------------------------------------------\n",
            "Current Station is : Station 02\n",
            "My destination is : Station 03\n",
            "Continue the Journey i haven't reached the destination.\n",
            "Next Station is : Station 03\n",
            "------------------------------------------\n"
          ]
        }
      ]
    },
    {
      "cell_type": "markdown",
      "source": [
        "## While else"
      ],
      "metadata": {
        "id": "DHyUqjc7Fo79"
      }
    },
    {
      "cell_type": "code",
      "source": [
        "# Train Journey\n",
        "stations = [\"Station 01\", \"Station 02\", \"Station 03\", \"Station 04\"]\n",
        "current_stations = 0\n",
        "destination = \"Station 03\"\n",
        "while stations[current_stations] != destination:\n",
        "  print(f\"Current Station is : {stations[current_stations]}\")\n",
        "  print(f\"My destination is : {destination}\")\n",
        "  print(\"Continue the Journey i haven't reached the destination.\")\n",
        "  current_stations = current_stations + 1\n",
        "  print(f\"Next Station is : {stations[current_stations]}\")\n",
        "  print(\"------------------------------------------\")\n",
        "else:\n",
        "  print(f\"I Have arrived at : {stations[current_stations]}\")"
      ],
      "metadata": {
        "colab": {
          "base_uri": "https://localhost:8080/"
        },
        "id": "yG7G0ilaE2Gv",
        "outputId": "368a0a85-1501-4b92-e56a-30caf9150d95"
      },
      "execution_count": 35,
      "outputs": [
        {
          "output_type": "stream",
          "name": "stdout",
          "text": [
            "Current Station is : Station 01\n",
            "My destination is : Station 03\n",
            "Continue the Journey i haven't reached the destination.\n",
            "Next Station is : Station 02\n",
            "------------------------------------------\n",
            "Current Station is : Station 02\n",
            "My destination is : Station 03\n",
            "Continue the Journey i haven't reached the destination.\n",
            "Next Station is : Station 03\n",
            "------------------------------------------\n",
            "I Have arrived at : Station 03\n"
          ]
        }
      ]
    },
    {
      "cell_type": "markdown",
      "source": [
        "```\n",
        "while CONDITION is True:\n",
        "  Statement\n",
        "else:\n",
        "  Statement\n",
        "```"
      ],
      "metadata": {
        "id": "gkrwNfDOGR7e"
      }
    },
    {
      "cell_type": "code",
      "source": [
        "\"\"\"\n",
        "Child is learning to counting 10 rupees of note \n",
        "\"\"\"\n",
        "notes = 5\n",
        "i = 1 # 1st note\n",
        "\n",
        "while i <= notes:\n",
        "  print(f\"CONDITION {i <= notes}\")\n",
        "  print(f\"Current sum : {i * 10 }\")\n",
        "  i = i+1\n",
        "  print(\"-----------\")\n",
        "else:\n",
        "  print(f\"CONDITION {i <= notes}\")\n",
        "  print(\"No more 10 Rupees notes left.\")"
      ],
      "metadata": {
        "colab": {
          "base_uri": "https://localhost:8080/"
        },
        "id": "1fIwjXq-F34v",
        "outputId": "6d209a9a-ddd7-448e-88ca-08dd364a4670"
      },
      "execution_count": 39,
      "outputs": [
        {
          "output_type": "stream",
          "name": "stdout",
          "text": [
            "CONDITION True\n",
            "Current sum : 10\n",
            "-----------\n",
            "CONDITION True\n",
            "Current sum : 20\n",
            "-----------\n",
            "CONDITION True\n",
            "Current sum : 30\n",
            "-----------\n",
            "CONDITION True\n",
            "Current sum : 40\n",
            "-----------\n",
            "CONDITION True\n",
            "Current sum : 50\n",
            "-----------\n",
            "CONDITION False\n",
            "No more 10 Rupees notes left.\n"
          ]
        }
      ]
    },
    {
      "cell_type": "markdown",
      "source": [
        "## for loop"
      ],
      "metadata": {
        "id": "cUaqKR3OHTUx"
      }
    },
    {
      "cell_type": "code",
      "source": [
        "for i in range(0, 10):\n",
        "  print(i)"
      ],
      "metadata": {
        "colab": {
          "base_uri": "https://localhost:8080/"
        },
        "id": "wZDdz6UrG1z4",
        "outputId": "c0882874-1511-4ed1-8a6c-0963146240ed"
      },
      "execution_count": 40,
      "outputs": [
        {
          "output_type": "stream",
          "name": "stdout",
          "text": [
            "0\n",
            "1\n",
            "2\n",
            "3\n",
            "4\n",
            "5\n",
            "6\n",
            "7\n",
            "8\n",
            "9\n"
          ]
        }
      ]
    },
    {
      "cell_type": "code",
      "source": [
        "for i in range(0, 10): # (10 here is out of bound)\n",
        "  print(f\"10 x {i} = {10*i}\")"
      ],
      "metadata": {
        "colab": {
          "base_uri": "https://localhost:8080/"
        },
        "id": "E7E0lMXIHsa3",
        "outputId": "9ef24231-da67-4200-fd56-3b4d5d1190bc"
      },
      "execution_count": 41,
      "outputs": [
        {
          "output_type": "stream",
          "name": "stdout",
          "text": [
            "10 x 0 = 0\n",
            "10 x 1 = 10\n",
            "10 x 2 = 20\n",
            "10 x 3 = 30\n",
            "10 x 4 = 40\n",
            "10 x 5 = 50\n",
            "10 x 6 = 60\n",
            "10 x 7 = 70\n",
            "10 x 8 = 80\n",
            "10 x 9 = 90\n"
          ]
        }
      ]
    },
    {
      "cell_type": "code",
      "source": [
        "for i in range(0, 10): # (10 here is out of bound)\n",
        "  print(f\"10 x {i + 1} = {10*(i+1)}\")"
      ],
      "metadata": {
        "colab": {
          "base_uri": "https://localhost:8080/"
        },
        "id": "F_3CHkJYH5MO",
        "outputId": "135098ed-c693-407f-be92-35c9f3aef98c"
      },
      "execution_count": 42,
      "outputs": [
        {
          "output_type": "stream",
          "name": "stdout",
          "text": [
            "10 x 1 = 10\n",
            "10 x 2 = 20\n",
            "10 x 3 = 30\n",
            "10 x 4 = 40\n",
            "10 x 5 = 50\n",
            "10 x 6 = 60\n",
            "10 x 7 = 70\n",
            "10 x 8 = 80\n",
            "10 x 9 = 90\n",
            "10 x 10 = 100\n"
          ]
        }
      ]
    },
    {
      "cell_type": "code",
      "source": [
        "for i in range(1, 11): # (11 here is out of bound)\n",
        "  print(f\"10 x {i} = {10*(i)}\")"
      ],
      "metadata": {
        "colab": {
          "base_uri": "https://localhost:8080/"
        },
        "id": "rHMh0ctTIKwG",
        "outputId": "352b94f6-b217-4d28-90de-c30fe1e19cda"
      },
      "execution_count": 43,
      "outputs": [
        {
          "output_type": "stream",
          "name": "stdout",
          "text": [
            "10 x 1 = 10\n",
            "10 x 2 = 20\n",
            "10 x 3 = 30\n",
            "10 x 4 = 40\n",
            "10 x 5 = 50\n",
            "10 x 6 = 60\n",
            "10 x 7 = 70\n",
            "10 x 8 = 80\n",
            "10 x 9 = 90\n",
            "10 x 10 = 100\n"
          ]
        }
      ]
    },
    {
      "cell_type": "code",
      "source": [
        "\"sunny\"*10"
      ],
      "metadata": {
        "colab": {
          "base_uri": "https://localhost:8080/",
          "height": 36
        },
        "id": "xbDtzW7YInaS",
        "outputId": "b3cc6e33-f7ff-4523-e6ae-1853a39c1125"
      },
      "execution_count": 45,
      "outputs": [
        {
          "output_type": "execute_result",
          "data": {
            "text/plain": [
              "'sunnysunnysunnysunnysunnysunnysunnysunnysunnysunny'"
            ],
            "application/vnd.google.colaboratory.intrinsic+json": {
              "type": "string"
            }
          },
          "metadata": {},
          "execution_count": 45
        }
      ]
    },
    {
      "cell_type": "code",
      "source": [
        "\"sunny\"+\"sunny\""
      ],
      "metadata": {
        "id": "KVOPjLHMIqYa"
      },
      "execution_count": null,
      "outputs": []
    },
    {
      "cell_type": "code",
      "source": [
        "for i in range(1, 11): # (11 here is out of bound)\n",
        "  print(\"*\"*i)"
      ],
      "metadata": {
        "colab": {
          "base_uri": "https://localhost:8080/"
        },
        "id": "Y-qN-cXrIUif",
        "outputId": "f9c72685-0818-4486-c3f1-7eeb4da57eba"
      },
      "execution_count": 44,
      "outputs": [
        {
          "output_type": "stream",
          "name": "stdout",
          "text": [
            "*\n",
            "**\n",
            "***\n",
            "****\n",
            "*****\n",
            "******\n",
            "*******\n",
            "********\n",
            "*********\n",
            "**********\n"
          ]
        }
      ]
    },
    {
      "cell_type": "code",
      "source": [
        "# i is not necessary to use\n",
        "\n",
        "for sunny in range(1, 11): # (11 here is out of bound)\n",
        "  print(\"*\"*sunny)"
      ],
      "metadata": {
        "colab": {
          "base_uri": "https://localhost:8080/"
        },
        "id": "XlCuU_KJIf4O",
        "outputId": "482a60d5-cbc2-427e-b259-883fbe608f67"
      },
      "execution_count": 46,
      "outputs": [
        {
          "output_type": "stream",
          "name": "stdout",
          "text": [
            "*\n",
            "**\n",
            "***\n",
            "****\n",
            "*****\n",
            "******\n",
            "*******\n",
            "********\n",
            "*********\n",
            "**********\n"
          ]
        }
      ]
    },
    {
      "cell_type": "code",
      "source": [
        "cost_of_items = [100,200,129,456]\n",
        "total_sum = 0\n",
        "for i in range(0,4):\n",
        "  print(f\"{total_sum} = {total_sum} + {cost_of_items[i]}\")\n",
        "  total_sum = total_sum + cost_of_items[i]\n",
        "  print(f\"after adding total_sum = {total_sum}\")\n",
        "  print(\"---------------\")\n",
        "print(f\"Total amount to be paid : {total_sum}\")"
      ],
      "metadata": {
        "colab": {
          "base_uri": "https://localhost:8080/"
        },
        "id": "EbrlVyl5I_Iu",
        "outputId": "e0a6ac75-d6b4-44de-eaf9-eb45d3f60d23"
      },
      "execution_count": 48,
      "outputs": [
        {
          "output_type": "stream",
          "name": "stdout",
          "text": [
            "0 = 0 + 100\n",
            "after adding total_sum = 100\n",
            "---------------\n",
            "100 = 100 + 200\n",
            "after adding total_sum = 300\n",
            "---------------\n",
            "300 = 300 + 129\n",
            "after adding total_sum = 429\n",
            "---------------\n",
            "429 = 429 + 456\n",
            "after adding total_sum = 885\n",
            "---------------\n",
            "Total amount to be paid : 885\n"
          ]
        }
      ]
    },
    {
      "cell_type": "code",
      "source": [
        "cost_of_items = [100,200,129,456]\n",
        "total_sum = 0\n",
        "for i in range(0,3):\n",
        "  print(f\"{total_sum} = {total_sum} + {cost_of_items[i]}\")\n",
        "  total_sum = total_sum + cost_of_items[i]\n",
        "  print(f\"after adding total_sum = {total_sum}\")\n",
        "  print(\"---------------\")\n",
        "print(f\"Total amount to be paid : {total_sum}\")"
      ],
      "metadata": {
        "colab": {
          "base_uri": "https://localhost:8080/"
        },
        "id": "_yuktZobKKHA",
        "outputId": "7e06ad93-3a41-4d07-d8ce-549a06c86838"
      },
      "execution_count": 49,
      "outputs": [
        {
          "output_type": "stream",
          "name": "stdout",
          "text": [
            "0 = 0 + 100\n",
            "after adding total_sum = 100\n",
            "---------------\n",
            "100 = 100 + 200\n",
            "after adding total_sum = 300\n",
            "---------------\n",
            "300 = 300 + 129\n",
            "after adding total_sum = 429\n",
            "---------------\n",
            "Total amount to be paid : 429\n"
          ]
        }
      ]
    },
    {
      "cell_type": "code",
      "source": [
        "len(cost_of_items)"
      ],
      "metadata": {
        "colab": {
          "base_uri": "https://localhost:8080/"
        },
        "id": "fFCUXzkfKpJO",
        "outputId": "9b417eb7-0116-46bf-fd99-6297ead8a94b"
      },
      "execution_count": 50,
      "outputs": [
        {
          "output_type": "execute_result",
          "data": {
            "text/plain": [
              "4"
            ]
          },
          "metadata": {},
          "execution_count": 50
        }
      ]
    },
    {
      "cell_type": "code",
      "source": [
        "cost_of_items = [100,200,129,456, 1000]\n",
        "total_sum = 0\n",
        "n = len(cost_of_items)\n",
        "for i in range(0, n):\n",
        "  print(f\"{total_sum} = {total_sum} + {cost_of_items[i]}\")\n",
        "  total_sum = total_sum + cost_of_items[i]\n",
        "  print(f\"after adding total_sum = {total_sum}\")\n",
        "  print(\"---------------\")\n",
        "print(f\"Total amount to be paid : {total_sum}\")"
      ],
      "metadata": {
        "colab": {
          "base_uri": "https://localhost:8080/"
        },
        "id": "-hWubj4lKzPu",
        "outputId": "fb912069-2fb9-410b-ce4d-f4f9876a7b80"
      },
      "execution_count": 54,
      "outputs": [
        {
          "output_type": "stream",
          "name": "stdout",
          "text": [
            "0 = 0 + 100\n",
            "after adding total_sum = 100\n",
            "---------------\n",
            "100 = 100 + 200\n",
            "after adding total_sum = 300\n",
            "---------------\n",
            "300 = 300 + 129\n",
            "after adding total_sum = 429\n",
            "---------------\n",
            "429 = 429 + 456\n",
            "after adding total_sum = 885\n",
            "---------------\n",
            "885 = 885 + 1000\n",
            "after adding total_sum = 1885\n",
            "---------------\n",
            "Total amount to be paid : 1885\n"
          ]
        }
      ]
    },
    {
      "cell_type": "code",
      "source": [
        "cost_of_items = [100,200,129,456, 1000]\n",
        "total_sum = 0\n",
        "n = len(cost_of_items)\n",
        "for cost in cost_of_items:\n",
        "  print(f\"{total_sum} = {total_sum} + {cost}\")\n",
        "  total_sum = total_sum + cost\n",
        "  print(f\"after adding total_sum = {total_sum}\")\n",
        "  print(\"---------------\")\n",
        "print(f\"Total amount to be paid : {total_sum}\")"
      ],
      "metadata": {
        "colab": {
          "base_uri": "https://localhost:8080/"
        },
        "id": "DipYslY9LApO",
        "outputId": "da08948b-51ec-4d90-cd24-37d3a1527463"
      },
      "execution_count": 55,
      "outputs": [
        {
          "output_type": "stream",
          "name": "stdout",
          "text": [
            "0 = 0 + 100\n",
            "after adding total_sum = 100\n",
            "---------------\n",
            "100 = 100 + 200\n",
            "after adding total_sum = 300\n",
            "---------------\n",
            "300 = 300 + 129\n",
            "after adding total_sum = 429\n",
            "---------------\n",
            "429 = 429 + 456\n",
            "after adding total_sum = 885\n",
            "---------------\n",
            "885 = 885 + 1000\n",
            "after adding total_sum = 1885\n",
            "---------------\n",
            "Total amount to be paid : 1885\n"
          ]
        }
      ]
    },
    {
      "cell_type": "code",
      "source": [
        "cost_of_items = [100,200,129,456, 1000]\n",
        "total_sum = 0\n",
        "n = len(cost_of_items)\n",
        "for cost in cost_of_items:\n",
        "  print(cost)"
      ],
      "metadata": {
        "colab": {
          "base_uri": "https://localhost:8080/"
        },
        "id": "YP1ICgK-LkfQ",
        "outputId": "b34d11de-576a-4cc3-fc4a-72e67cd8580d"
      },
      "execution_count": 56,
      "outputs": [
        {
          "output_type": "stream",
          "name": "stdout",
          "text": [
            "100\n",
            "200\n",
            "129\n",
            "456\n",
            "1000\n"
          ]
        }
      ]
    },
    {
      "cell_type": "code",
      "source": [
        "cost_of_items = [100,200,129,456, 1000]\n",
        "total_sum = 0\n",
        "n = len(cost_of_items)\n",
        "for i in range(0, n):\n",
        "  print(cost_of_items[i])"
      ],
      "metadata": {
        "colab": {
          "base_uri": "https://localhost:8080/"
        },
        "id": "C2UJ0ECDMFNo",
        "outputId": "8edc39a5-2094-4abf-c881-aa4c6b29a89a"
      },
      "execution_count": 57,
      "outputs": [
        {
          "output_type": "stream",
          "name": "stdout",
          "text": [
            "100\n",
            "200\n",
            "129\n",
            "456\n",
            "1000\n"
          ]
        }
      ]
    },
    {
      "cell_type": "code",
      "source": [
        "# Train Journey\n",
        "stations = [\"Station 01\", \"Station 02\", \"Station 03\", \"Station 04\"]\n",
        "\n",
        "for sunny in stations:\n",
        "  print(f\"Current station is : {sunny}\")"
      ],
      "metadata": {
        "colab": {
          "base_uri": "https://localhost:8080/"
        },
        "id": "N-AjIj0FMTeI",
        "outputId": "22e2b317-b4ca-4cca-a9a8-c70661352360"
      },
      "execution_count": 59,
      "outputs": [
        {
          "output_type": "stream",
          "name": "stdout",
          "text": [
            "Current station is : Station 01\n",
            "Current station is : Station 02\n",
            "Current station is : Station 03\n",
            "Current station is : Station 04\n"
          ]
        }
      ]
    },
    {
      "cell_type": "code",
      "source": [
        "# Train Journey\n",
        "stations = [\"Station 01\", \"Station 02\", \"Station 03\", \"Station 04\"]\n",
        "\n",
        "for current_stat in stations:\n",
        "  print(f\"Current station is : {current_stat}\")"
      ],
      "metadata": {
        "colab": {
          "base_uri": "https://localhost:8080/"
        },
        "id": "DM6uHk7mM3O3",
        "outputId": "1ba33f56-9e62-43d9-d0ec-24056a58c30a"
      },
      "execution_count": 60,
      "outputs": [
        {
          "output_type": "stream",
          "name": "stdout",
          "text": [
            "Current station is : Station 01\n",
            "Current station is : Station 02\n",
            "Current station is : Station 03\n",
            "Current station is : Station 04\n"
          ]
        }
      ]
    },
    {
      "cell_type": "markdown",
      "source": [
        "### break and Continue"
      ],
      "metadata": {
        "id": "_HwG3BlaN6Hf"
      }
    },
    {
      "cell_type": "code",
      "source": [
        "cost_of_items = [100,200,129,456, 1000, 199,299]\n",
        "\n",
        "total_sum = 0\n",
        "budget = 2000\n",
        "\n",
        "for cost in cost_of_items:\n",
        "  total_sum = total_sum + cost\n",
        "  print(f\"Current Total : {total_sum}\")\n",
        "  if total_sum > budget:\n",
        "    print(f\"Since Current Total is more than my budget : {budget}\")\n",
        "    print(\"Please remove the last items.\")\n",
        "    total_sum = total_sum - cost\n",
        "    break\n",
        "print(f\"Total amount to be paid : {total_sum}\")\n",
        "\n"
      ],
      "metadata": {
        "colab": {
          "base_uri": "https://localhost:8080/"
        },
        "id": "hH6rZ_wnNITG",
        "outputId": "d5ab5d22-9297-4f90-f7e3-a774ec44acf5"
      },
      "execution_count": 73,
      "outputs": [
        {
          "output_type": "stream",
          "name": "stdout",
          "text": [
            "Current Total : 100\n",
            "Current Total : 300\n",
            "Current Total : 429\n",
            "Current Total : 885\n",
            "Current Total : 1885\n",
            "Current Total : 2084\n",
            "Since Current Total is more than my budget : 2000\n",
            "Please remove the last items.\n",
            "Total amount to be paid : 1885\n"
          ]
        }
      ]
    },
    {
      "cell_type": "code",
      "source": [
        "for i in range(1,100):\n",
        "  print(i)\n",
        "  if i > 50:\n",
        "    break"
      ],
      "metadata": {
        "id": "m2wLNTY1NW00"
      },
      "execution_count": null,
      "outputs": []
    },
    {
      "cell_type": "code",
      "source": [
        "for i in range(1,100):\n",
        "  if i > 50:\n",
        "    break\n",
        "  print(i)"
      ],
      "metadata": {
        "id": "OxF29ckqROXn"
      },
      "execution_count": null,
      "outputs": []
    },
    {
      "cell_type": "code",
      "source": [
        "for i in range(1,100):\n",
        "  print(i)\n",
        "  if i >= 50:\n",
        "    break\n",
        "  "
      ],
      "metadata": {
        "id": "C9gtNikwRsMu"
      },
      "execution_count": null,
      "outputs": []
    },
    {
      "cell_type": "markdown",
      "source": [
        "## Continue"
      ],
      "metadata": {
        "id": "4zatnHGsSCMl"
      }
    },
    {
      "cell_type": "code",
      "source": [
        "for i in range(1,20):\n",
        "  if i%2 == 0: # if number is even the start the loop again\n",
        "    continue # START THE LOOP AGAIN\n",
        "  print(i)\n",
        "\n",
        "  "
      ],
      "metadata": {
        "id": "3dP0BfcWR5-2"
      },
      "execution_count": null,
      "outputs": []
    },
    {
      "cell_type": "code",
      "source": [
        "for i in range(1,20):\n",
        "  if i%2 != 0: # if number is even the start the loop again\n",
        "    continue # START THE LOOP AGAIN\n",
        "  print(i)\n",
        "\n",
        "  "
      ],
      "metadata": {
        "id": "Hwfx8qcqSLeW"
      },
      "execution_count": null,
      "outputs": []
    },
    {
      "cell_type": "code",
      "source": [
        "for i in range(1,20):\n",
        "  if i%2 == 0:\n",
        "    break\n",
        "  print(i)\n",
        "\n",
        "  "
      ],
      "metadata": {
        "colab": {
          "base_uri": "https://localhost:8080/"
        },
        "id": "KRnawMhBSj0n",
        "outputId": "8e369b0f-e778-4fd6-f208-85b4194c7b07"
      },
      "execution_count": 84,
      "outputs": [
        {
          "output_type": "stream",
          "name": "stdout",
          "text": [
            "1\n"
          ]
        }
      ]
    },
    {
      "cell_type": "code",
      "source": [
        "for i in range(1,20):\n",
        "  if i%2 != 0: \n",
        "    break # STOP THE LOOP DON'T PROCEED AT ALL\n",
        "  print(i)\n",
        "\n",
        "  "
      ],
      "metadata": {
        "id": "pNnPSlk1TNyH"
      },
      "execution_count": 85,
      "outputs": []
    },
    {
      "cell_type": "code",
      "source": [
        "# Train Journey\n",
        "stations = [\"Station 01\", \"Station 02\", \"Station 03\", \"Station 04\"]\n",
        "\n",
        "for current_st in stations:\n",
        "  print(f\"Current station is : {current_st}\")\n",
        "  if current_st == \"Station 03\":\n",
        "    break"
      ],
      "metadata": {
        "colab": {
          "base_uri": "https://localhost:8080/"
        },
        "id": "JktJUjMxTSJX",
        "outputId": "6070f53b-41bf-43ec-cccd-837bd69d7519"
      },
      "execution_count": 86,
      "outputs": [
        {
          "output_type": "stream",
          "name": "stdout",
          "text": [
            "Current station is : Station 01\n",
            "Current station is : Station 02\n",
            "Current station is : Station 03\n"
          ]
        }
      ]
    },
    {
      "cell_type": "code",
      "source": [
        "# Train Journey\n",
        "stations = [\"Station 01\", \"Station 02\", \"Station 03\", \"Station 04\"]\n",
        "\n",
        "for current_st in stations:\n",
        "  print(f\"Current station is : {current_st}\")\n",
        "  if current_st == \"Station 02\":\n",
        "    break"
      ],
      "metadata": {
        "colab": {
          "base_uri": "https://localhost:8080/"
        },
        "id": "5EWVKakfUfjn",
        "outputId": "1debcee1-8a69-40c1-b08d-06310b5925b1"
      },
      "execution_count": 87,
      "outputs": [
        {
          "output_type": "stream",
          "name": "stdout",
          "text": [
            "Current station is : Station 01\n",
            "Current station is : Station 02\n"
          ]
        }
      ]
    },
    {
      "cell_type": "code",
      "source": [
        "# Train Journey\n",
        "stations = [\"Station 01\", \"Station 02\", \"Station 03\", \"Station 04\"]\n",
        "\n",
        "for current_st in stations:\n",
        "  if current_st == \"Station 02\":\n",
        "    continue\n",
        "  print(f\"Current station is : {current_st}\")"
      ],
      "metadata": {
        "colab": {
          "base_uri": "https://localhost:8080/"
        },
        "id": "_T0pn83-UnPu",
        "outputId": "7258a110-706d-4e8f-99eb-2f2d93745b5c"
      },
      "execution_count": 89,
      "outputs": [
        {
          "output_type": "stream",
          "name": "stdout",
          "text": [
            "Current station is : Station 01\n",
            "Current station is : Station 03\n",
            "Current station is : Station 04\n"
          ]
        }
      ]
    },
    {
      "cell_type": "markdown",
      "source": [
        "- break : it completely stop the loop\n",
        "- continue : it skip the current loop, it skip the statement after `continue` keyword"
      ],
      "metadata": {
        "id": "XAyq7RnvawCL"
      }
    },
    {
      "cell_type": "code",
      "source": [
        "for i in range(1,10):\n",
        "  pass #i want to write code later"
      ],
      "metadata": {
        "id": "_4prN1LBU29W"
      },
      "execution_count": 90,
      "outputs": []
    },
    {
      "cell_type": "code",
      "source": [
        "# Train Journey\n",
        "stations = [\"Station 01\", \"Station 02\", \"Station 03\", \"Station 04\"]\n",
        "\n",
        "for current_st in stations:\n",
        "  if current_st == \"Station 02\":\n",
        "    pass\n",
        "  print(f\"Current station is : {current_st}\")"
      ],
      "metadata": {
        "colab": {
          "base_uri": "https://localhost:8080/"
        },
        "id": "ykRAWJUpbfv_",
        "outputId": "9a134a69-def0-4da5-ad68-8dbb6091f78e"
      },
      "execution_count": 91,
      "outputs": [
        {
          "output_type": "stream",
          "name": "stdout",
          "text": [
            "Current station is : Station 01\n",
            "Current station is : Station 02\n",
            "Current station is : Station 03\n",
            "Current station is : Station 04\n"
          ]
        }
      ]
    },
    {
      "cell_type": "code",
      "source": [],
      "metadata": {
        "id": "M9Htt7YjbokG"
      },
      "execution_count": null,
      "outputs": []
    }
  ]
}