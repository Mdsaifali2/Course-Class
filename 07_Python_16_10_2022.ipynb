{
  "nbformat": 4,
  "nbformat_minor": 0,
  "metadata": {
    "colab": {
      "provenance": [],
      "collapsed_sections": []
    },
    "kernelspec": {
      "name": "python3",
      "display_name": "Python 3"
    },
    "language_info": {
      "name": "python"
    }
  },
  "cells": [
    {
      "cell_type": "markdown",
      "source": [
        "## Nesting of the List\n",
        "\n",
        "list inside a list"
      ],
      "metadata": {
        "id": "Gh_sLx8BAUAV"
      }
    },
    {
      "cell_type": "code",
      "execution_count": 1,
      "metadata": {
        "colab": {
          "base_uri": "https://localhost:8080/"
        },
        "id": "U74HXBrw_76-",
        "outputId": "132ce961-89aa-40f1-e141-9d6370b99fd0"
      },
      "outputs": [
        {
          "output_type": "execute_result",
          "data": {
            "text/plain": [
              "[[1, 2, 3], [11, 22, 33], [45, 56, 77]]"
            ]
          },
          "metadata": {},
          "execution_count": 1
        }
      ],
      "source": [
        "A = [[1,2,3], [11,22,33], [45,56,77]]\n",
        "\n",
        "A"
      ]
    },
    {
      "cell_type": "code",
      "source": [
        "A[0]"
      ],
      "metadata": {
        "colab": {
          "base_uri": "https://localhost:8080/"
        },
        "id": "dT1cf-ZXArPQ",
        "outputId": "54072bb4-e7ec-4a82-95c1-00ca3ab4b651"
      },
      "execution_count": 2,
      "outputs": [
        {
          "output_type": "execute_result",
          "data": {
            "text/plain": [
              "[1, 2, 3]"
            ]
          },
          "metadata": {},
          "execution_count": 2
        }
      ]
    },
    {
      "cell_type": "code",
      "source": [
        "A[1]"
      ],
      "metadata": {
        "colab": {
          "base_uri": "https://localhost:8080/"
        },
        "id": "OLUuTaT8AzJo",
        "outputId": "6e829773-0b64-46e2-c678-d21ea56a8c7b"
      },
      "execution_count": 3,
      "outputs": [
        {
          "output_type": "execute_result",
          "data": {
            "text/plain": [
              "[11, 22, 33]"
            ]
          },
          "metadata": {},
          "execution_count": 3
        }
      ]
    },
    {
      "cell_type": "code",
      "source": [
        "A[1][1]"
      ],
      "metadata": {
        "colab": {
          "base_uri": "https://localhost:8080/"
        },
        "id": "k4ySJRwmA2HK",
        "outputId": "ba530af7-414f-4f9a-d330-1400b3b699d5"
      },
      "execution_count": 4,
      "outputs": [
        {
          "output_type": "execute_result",
          "data": {
            "text/plain": [
              "22"
            ]
          },
          "metadata": {},
          "execution_count": 4
        }
      ]
    },
    {
      "cell_type": "code",
      "source": [
        "A = [[1,2,3], [11,22,33, [500,502]], [45,56,77]]\n",
        "\n",
        "A[0]"
      ],
      "metadata": {
        "colab": {
          "base_uri": "https://localhost:8080/"
        },
        "id": "XJL28StTA5BI",
        "outputId": "e496872a-b725-4ae6-b035-cac50322ce49"
      },
      "execution_count": 5,
      "outputs": [
        {
          "output_type": "execute_result",
          "data": {
            "text/plain": [
              "[1, 2, 3]"
            ]
          },
          "metadata": {},
          "execution_count": 5
        }
      ]
    },
    {
      "cell_type": "code",
      "source": [
        "A[1]"
      ],
      "metadata": {
        "colab": {
          "base_uri": "https://localhost:8080/"
        },
        "id": "0zTUCzVOBG3_",
        "outputId": "4f090be8-4aef-4db4-935a-871492857b65"
      },
      "execution_count": 6,
      "outputs": [
        {
          "output_type": "execute_result",
          "data": {
            "text/plain": [
              "[11, 22, 33, [500, 502]]"
            ]
          },
          "metadata": {},
          "execution_count": 6
        }
      ]
    },
    {
      "cell_type": "code",
      "source": [
        "A[1][3]"
      ],
      "metadata": {
        "colab": {
          "base_uri": "https://localhost:8080/"
        },
        "id": "RVOPbgb8BH8P",
        "outputId": "9268d9f5-7af7-4072-bd75-400018c64fff"
      },
      "execution_count": 7,
      "outputs": [
        {
          "output_type": "execute_result",
          "data": {
            "text/plain": [
              "[500, 502]"
            ]
          },
          "metadata": {},
          "execution_count": 7
        }
      ]
    },
    {
      "cell_type": "code",
      "source": [
        "A[1][3][0]"
      ],
      "metadata": {
        "colab": {
          "base_uri": "https://localhost:8080/"
        },
        "id": "cZSW7jokBP4P",
        "outputId": "a4c73a49-c973-49eb-c73e-56ac3c35db2d"
      },
      "execution_count": 8,
      "outputs": [
        {
          "output_type": "execute_result",
          "data": {
            "text/plain": [
              "500"
            ]
          },
          "metadata": {},
          "execution_count": 8
        }
      ]
    },
    {
      "cell_type": "code",
      "source": [
        "A = [[1,2,3], [11,22,33, [500,502]], [45, [239, \"Hii\"], 56, 77]]"
      ],
      "metadata": {
        "id": "EL-f5PnsBT2o"
      },
      "execution_count": 9,
      "outputs": []
    },
    {
      "cell_type": "code",
      "source": [
        "A[0]"
      ],
      "metadata": {
        "colab": {
          "base_uri": "https://localhost:8080/"
        },
        "id": "x_GtJJHUBhL_",
        "outputId": "1e898d3e-9cfb-4dfb-dd8a-c3578ef31000"
      },
      "execution_count": 10,
      "outputs": [
        {
          "output_type": "execute_result",
          "data": {
            "text/plain": [
              "[1, 2, 3]"
            ]
          },
          "metadata": {},
          "execution_count": 10
        }
      ]
    },
    {
      "cell_type": "code",
      "source": [
        "A[2][1][1]"
      ],
      "metadata": {
        "colab": {
          "base_uri": "https://localhost:8080/",
          "height": 36
        },
        "id": "60g4zUS0Bmy3",
        "outputId": "81aa869f-1021-4326-c11d-347529cbb05e"
      },
      "execution_count": 11,
      "outputs": [
        {
          "output_type": "execute_result",
          "data": {
            "text/plain": [
              "'Hii'"
            ],
            "application/vnd.google.colaboratory.intrinsic+json": {
              "type": "string"
            }
          },
          "metadata": {},
          "execution_count": 11
        }
      ]
    },
    {
      "cell_type": "code",
      "source": [
        "A[-1][1][-1]"
      ],
      "metadata": {
        "colab": {
          "base_uri": "https://localhost:8080/",
          "height": 36
        },
        "id": "ylfozVrJBrwX",
        "outputId": "607e56a2-d1ef-45df-f0b5-8098a5715b83"
      },
      "execution_count": 12,
      "outputs": [
        {
          "output_type": "execute_result",
          "data": {
            "text/plain": [
              "'Hii'"
            ],
            "application/vnd.google.colaboratory.intrinsic+json": {
              "type": "string"
            }
          },
          "metadata": {},
          "execution_count": 12
        }
      ]
    },
    {
      "cell_type": "code",
      "source": [
        "A[-1][-3][-1]"
      ],
      "metadata": {
        "colab": {
          "base_uri": "https://localhost:8080/",
          "height": 36
        },
        "id": "mkONu9pFCGPO",
        "outputId": "92dbd0a5-02e6-44fd-bd35-f7ce58475a2f"
      },
      "execution_count": 13,
      "outputs": [
        {
          "output_type": "execute_result",
          "data": {
            "text/plain": [
              "'Hii'"
            ],
            "application/vnd.google.colaboratory.intrinsic+json": {
              "type": "string"
            }
          },
          "metadata": {},
          "execution_count": 13
        }
      ]
    },
    {
      "cell_type": "code",
      "source": [
        "amazon_cart = [[\"Watch\", 5000], [\"Phone\", 10000], [\"Laptop\", 50000]]\n",
        "total_cost = 0"
      ],
      "metadata": {
        "id": "Hh4leHj1CY2B"
      },
      "execution_count": 14,
      "outputs": []
    },
    {
      "cell_type": "code",
      "source": [
        "#without for loop\n",
        "\n",
        "amazon_cart[0][1]"
      ],
      "metadata": {
        "colab": {
          "base_uri": "https://localhost:8080/"
        },
        "id": "TjUEmwXfDMpf",
        "outputId": "f1402c41-55f9-4c52-eed9-8a7c93ec6cf4"
      },
      "execution_count": 15,
      "outputs": [
        {
          "output_type": "execute_result",
          "data": {
            "text/plain": [
              "5000"
            ]
          },
          "metadata": {},
          "execution_count": 15
        }
      ]
    },
    {
      "cell_type": "code",
      "source": [
        "amazon_cart[1][1]\n"
      ],
      "metadata": {
        "colab": {
          "base_uri": "https://localhost:8080/"
        },
        "id": "FswImaY7DSHn",
        "outputId": "6c73203b-ab7d-4aaa-e0b0-da0b763cf393"
      },
      "execution_count": 16,
      "outputs": [
        {
          "output_type": "execute_result",
          "data": {
            "text/plain": [
              "10000"
            ]
          },
          "metadata": {},
          "execution_count": 16
        }
      ]
    },
    {
      "cell_type": "code",
      "source": [
        "amazon_cart[2][1]\n"
      ],
      "metadata": {
        "colab": {
          "base_uri": "https://localhost:8080/"
        },
        "id": "yLeDTJplDXII",
        "outputId": "25181c19-d1a6-433a-a458-c471560cb205"
      },
      "execution_count": 17,
      "outputs": [
        {
          "output_type": "execute_result",
          "data": {
            "text/plain": [
              "50000"
            ]
          },
          "metadata": {},
          "execution_count": 17
        }
      ]
    },
    {
      "cell_type": "code",
      "source": [
        "amazon_cart[0][1] + amazon_cart[1][1] + amazon_cart[2][1]"
      ],
      "metadata": {
        "colab": {
          "base_uri": "https://localhost:8080/"
        },
        "id": "uq6OpG19DaIf",
        "outputId": "8e6ccb07-b914-4b33-caeb-d7189d6b1596"
      },
      "execution_count": 18,
      "outputs": [
        {
          "output_type": "execute_result",
          "data": {
            "text/plain": [
              "65000"
            ]
          },
          "metadata": {},
          "execution_count": 18
        }
      ]
    },
    {
      "cell_type": "code",
      "source": [
        "#with for loop\n",
        "total_cost = 0\n",
        "\n",
        "for i in range(len(amazon_cart)):\n",
        "  # print(i)\n",
        "  print(amazon_cart[i][1])\n",
        "  total_cost = total_cost + amazon_cart[i][1]\n",
        "print(total_cost)  "
      ],
      "metadata": {
        "colab": {
          "base_uri": "https://localhost:8080/"
        },
        "id": "VpAldjuCDkJP",
        "outputId": "9c9c4520-9627-43fe-d0db-200c3c644700"
      },
      "execution_count": 19,
      "outputs": [
        {
          "output_type": "stream",
          "name": "stdout",
          "text": [
            "5000\n",
            "10000\n",
            "50000\n",
            "65000\n"
          ]
        }
      ]
    },
    {
      "cell_type": "code",
      "source": [
        "total_cost = 0\n",
        "print(f\"Empty Cart : {total_cost}\")\n",
        "for item in amazon_cart:\n",
        "  print(item[1])\n",
        "  total_cost = total_cost + item[1]\n",
        "  print(f\"cart after Adding {item[0]} : {total_cost}\")\n",
        "\n",
        "print(f\"Total Payable Amout : {total_cost}\")"
      ],
      "metadata": {
        "colab": {
          "base_uri": "https://localhost:8080/"
        },
        "id": "UgWv_b_2D59X",
        "outputId": "83bf9227-462d-4c28-dfe5-6037b847b904"
      },
      "execution_count": 20,
      "outputs": [
        {
          "output_type": "stream",
          "name": "stdout",
          "text": [
            "Empty Cart : 0\n",
            "5000\n",
            "cart after Adding Watch : 5000\n",
            "10000\n",
            "cart after Adding Phone : 15000\n",
            "50000\n",
            "cart after Adding Laptop : 65000\n",
            "Total Payable Amout : 65000\n"
          ]
        }
      ]
    },
    {
      "cell_type": "markdown",
      "source": [
        "## List Comprehension"
      ],
      "metadata": {
        "id": "l1wkivPb-gNd"
      }
    },
    {
      "cell_type": "code",
      "source": [
        "# List which contains list of square of nos between 1 to 10\n",
        "\n",
        "A = [1,2,3,4,5,6,7,8,9,10]\n",
        "# ans = [1, 4,9,4....]\n"
      ],
      "metadata": {
        "id": "7CQw3aH2EU1v"
      },
      "execution_count": 21,
      "outputs": []
    },
    {
      "cell_type": "code",
      "source": [
        "A = [1,2,3,4,5,6,7,8,9,10]\n",
        "ans = list() #this will create empty list which you will append items later\n",
        "for ele in A:\n",
        "  # print(ele**2)\n",
        "  ans.append(ele**2)\n",
        "print(ans)"
      ],
      "metadata": {
        "colab": {
          "base_uri": "https://localhost:8080/"
        },
        "id": "T2YuiNO6-vHQ",
        "outputId": "c403fdca-f1e8-4eb0-c365-6a091e205b06"
      },
      "execution_count": 22,
      "outputs": [
        {
          "output_type": "stream",
          "name": "stdout",
          "text": [
            "[1, 4, 9, 16, 25, 36, 49, 64, 81, 100]\n"
          ]
        }
      ]
    },
    {
      "cell_type": "code",
      "source": [
        "ans = [ele**2 for ele in A]\n",
        "print(ans)"
      ],
      "metadata": {
        "colab": {
          "base_uri": "https://localhost:8080/"
        },
        "id": "8u1dJj-S_Md6",
        "outputId": "dac3daec-44b8-44c8-afaf-7e29637ddf41"
      },
      "execution_count": 23,
      "outputs": [
        {
          "output_type": "stream",
          "name": "stdout",
          "text": [
            "[1, 4, 9, 16, 25, 36, 49, 64, 81, 100]\n"
          ]
        }
      ]
    },
    {
      "cell_type": "code",
      "source": [
        "ans = [i**2 for i in A]\n",
        "print(ans)"
      ],
      "metadata": {
        "id": "Ii5qu9PZ_lq_",
        "colab": {
          "base_uri": "https://localhost:8080/"
        },
        "outputId": "c15cb918-d77f-44ef-b46a-9b3775c9964c"
      },
      "execution_count": 24,
      "outputs": [
        {
          "output_type": "stream",
          "name": "stdout",
          "text": [
            "[1, 4, 9, 16, 25, 36, 49, 64, 81, 100]\n"
          ]
        }
      ]
    },
    {
      "cell_type": "code",
      "source": [
        "# only take the square of odd no in the list A\n",
        "A = [1,2,3,4,5,6,7,8,9,10]\n",
        "ans = list()\n",
        "for ele in A:\n",
        "  if ele%2 != 0:\n",
        "    # print(ele**2)\n",
        "    ans.append(ele**2)\n",
        "print(ans)\n",
        "\n"
      ],
      "metadata": {
        "colab": {
          "base_uri": "https://localhost:8080/"
        },
        "id": "3CofjD9BwLSP",
        "outputId": "8ba3c5c1-2056-47bd-a6a9-bbb8fbde16bd"
      },
      "execution_count": 27,
      "outputs": [
        {
          "output_type": "stream",
          "name": "stdout",
          "text": [
            "[1, 9, 25, 49, 81]\n"
          ]
        }
      ]
    },
    {
      "cell_type": "code",
      "source": [
        "ans = [i**2 for i in A if i%2 != 0]\n",
        "print(ans)"
      ],
      "metadata": {
        "colab": {
          "base_uri": "https://localhost:8080/"
        },
        "id": "rCz6YOTkwS45",
        "outputId": "475ccee9-fdf2-4f23-ed94-3bb26b311e95"
      },
      "execution_count": 29,
      "outputs": [
        {
          "output_type": "stream",
          "name": "stdout",
          "text": [
            "[1, 9, 25, 49, 81]\n"
          ]
        }
      ]
    },
    {
      "cell_type": "markdown",
      "source": [
        "## COUNT"
      ],
      "metadata": {
        "id": "4EJlVJdMygB4"
      }
    },
    {
      "cell_type": "code",
      "source": [
        "A = [1,2,1,4,5,6,7,7,7]"
      ],
      "metadata": {
        "id": "-xm2t_zuwSz4"
      },
      "execution_count": 30,
      "outputs": []
    },
    {
      "cell_type": "code",
      "source": [
        "A.count(1)"
      ],
      "metadata": {
        "colab": {
          "base_uri": "https://localhost:8080/"
        },
        "id": "xSB2kkiLwSwe",
        "outputId": "e27d3d09-c4d3-4c76-f68f-ebd5d850166f"
      },
      "execution_count": 31,
      "outputs": [
        {
          "output_type": "execute_result",
          "data": {
            "text/plain": [
              "2"
            ]
          },
          "metadata": {},
          "execution_count": 31
        }
      ]
    },
    {
      "cell_type": "code",
      "source": [
        "A.count(7)"
      ],
      "metadata": {
        "colab": {
          "base_uri": "https://localhost:8080/"
        },
        "id": "7KfO7aU4ypTA",
        "outputId": "dde927a7-59a0-42cd-8068-f06a6f1ee958"
      },
      "execution_count": 32,
      "outputs": [
        {
          "output_type": "execute_result",
          "data": {
            "text/plain": [
              "3"
            ]
          },
          "metadata": {},
          "execution_count": 32
        }
      ]
    },
    {
      "cell_type": "code",
      "source": [
        "A.count(999)"
      ],
      "metadata": {
        "colab": {
          "base_uri": "https://localhost:8080/"
        },
        "id": "hloRUAcvyrog",
        "outputId": "b32fef60-6d13-4c14-d751-58747b29d9c2"
      },
      "execution_count": 33,
      "outputs": [
        {
          "output_type": "execute_result",
          "data": {
            "text/plain": [
              "0"
            ]
          },
          "metadata": {},
          "execution_count": 33
        }
      ]
    },
    {
      "cell_type": "code",
      "source": [
        "A = [1,2,1,4,5,6,7,7,7]\n",
        "for i in A:\n",
        "  print(i, A.count(i))"
      ],
      "metadata": {
        "colab": {
          "base_uri": "https://localhost:8080/"
        },
        "id": "Jq6nTn4nzuoq",
        "outputId": "0f9217f5-4a6f-404c-dc91-0ae25eed329a"
      },
      "execution_count": 40,
      "outputs": [
        {
          "output_type": "stream",
          "name": "stdout",
          "text": [
            "1 2\n",
            "2 1\n",
            "1 2\n",
            "4 1\n",
            "5 1\n",
            "6 1\n",
            "7 3\n",
            "7 3\n",
            "7 3\n"
          ]
        }
      ]
    },
    {
      "cell_type": "code",
      "source": [],
      "metadata": {
        "id": "SkvkAoNEzuls"
      },
      "execution_count": null,
      "outputs": []
    },
    {
      "cell_type": "code",
      "source": [
        "A = [1,2,1,4,5,6,[7,7],[7,7]]\n",
        "A.count([7,7])"
      ],
      "metadata": {
        "colab": {
          "base_uri": "https://localhost:8080/"
        },
        "id": "xlnkhb83yuGI",
        "outputId": "e9762563-8258-4a8e-cd63-4782e6782d78"
      },
      "execution_count": 34,
      "outputs": [
        {
          "output_type": "execute_result",
          "data": {
            "text/plain": [
              "2"
            ]
          },
          "metadata": {},
          "execution_count": 34
        }
      ]
    },
    {
      "cell_type": "code",
      "source": [
        "A.count(7)\n"
      ],
      "metadata": {
        "colab": {
          "base_uri": "https://localhost:8080/"
        },
        "id": "8NdSdURNzGVo",
        "outputId": "2a34e6fa-2200-406f-88d6-36fc09d3f271"
      },
      "execution_count": 36,
      "outputs": [
        {
          "output_type": "execute_result",
          "data": {
            "text/plain": [
              "0"
            ]
          },
          "metadata": {},
          "execution_count": 36
        }
      ]
    },
    {
      "cell_type": "code",
      "source": [
        "A[-1].count(7)\n"
      ],
      "metadata": {
        "colab": {
          "base_uri": "https://localhost:8080/"
        },
        "id": "knVQrEINzLm3",
        "outputId": "2c794e69-4210-42ed-92cd-0b17f7a9cd26"
      },
      "execution_count": 38,
      "outputs": [
        {
          "output_type": "execute_result",
          "data": {
            "text/plain": [
              "2"
            ]
          },
          "metadata": {},
          "execution_count": 38
        }
      ]
    },
    {
      "cell_type": "code",
      "source": [
        "A = \"Sunny\"\n",
        "for i in A:\n",
        "  print(i, A.count(i))"
      ],
      "metadata": {
        "colab": {
          "base_uri": "https://localhost:8080/"
        },
        "id": "2XEW86Apzoc4",
        "outputId": "d412fbf4-6c6f-4628-e86b-26217329094d"
      },
      "execution_count": 42,
      "outputs": [
        {
          "output_type": "stream",
          "name": "stdout",
          "text": [
            "S 1\n",
            "u 1\n",
            "n 2\n",
            "n 2\n",
            "y 1\n"
          ]
        }
      ]
    },
    {
      "cell_type": "code",
      "source": [
        "A = [\"Sunny\", \"Sunny\", \"Chandra\"]\n",
        "for i in A:\n",
        "  print(i, A.count(i))"
      ],
      "metadata": {
        "colab": {
          "base_uri": "https://localhost:8080/"
        },
        "id": "kbC02k800Crg",
        "outputId": "7f32dac2-0666-4225-c6eb-83e8c2df242a"
      },
      "execution_count": 43,
      "outputs": [
        {
          "output_type": "stream",
          "name": "stdout",
          "text": [
            "Sunny 2\n",
            "Sunny 2\n",
            "Chandra 1\n"
          ]
        }
      ]
    },
    {
      "cell_type": "code",
      "source": [
        "A = [\"Sunny\", \"SUNNY\", \"Chandra\"]\n",
        "for i in A:\n",
        "  print(i, A.count(i))"
      ],
      "metadata": {
        "colab": {
          "base_uri": "https://localhost:8080/"
        },
        "id": "N1Ev1WJw0Tn_",
        "outputId": "bfe4b5a6-b2ce-4924-ecc1-0c0c5a551953"
      },
      "execution_count": 44,
      "outputs": [
        {
          "output_type": "stream",
          "name": "stdout",
          "text": [
            "Sunny 1\n",
            "SUNNY 1\n",
            "Chandra 1\n"
          ]
        }
      ]
    },
    {
      "cell_type": "markdown",
      "source": [
        "### EXTEND"
      ],
      "metadata": {
        "id": "IKAsRBP70rdI"
      }
    },
    {
      "cell_type": "code",
      "source": [
        "A = [1,2,3]\n",
        "B= [11,22,33]\n",
        "print(A+B)\n",
        "print(\"Before Assignment\")\n",
        "print(A)\n",
        "\n",
        "A = A+B\n",
        "print(\"After Assignment\")\n",
        "print(A)"
      ],
      "metadata": {
        "colab": {
          "base_uri": "https://localhost:8080/"
        },
        "id": "dZsspLTr0mWP",
        "outputId": "b9663d43-a259-4f35-9ade-2ef2cff14be8"
      },
      "execution_count": 50,
      "outputs": [
        {
          "output_type": "stream",
          "name": "stdout",
          "text": [
            "[1, 2, 3, 11, 22, 33]\n",
            "Before Assignment\n",
            "[1, 2, 3]\n",
            "After Assignment\n",
            "[1, 2, 3, 11, 22, 33]\n"
          ]
        }
      ]
    },
    {
      "cell_type": "code",
      "source": [
        "A = [1,2,3]\n",
        "B= [11,22,33]\n",
        "A.extend(B) # Permanent Operation, inplace assignment\n",
        "A"
      ],
      "metadata": {
        "colab": {
          "base_uri": "https://localhost:8080/"
        },
        "id": "ZABFzRdW045H",
        "outputId": "9acf199b-cc71-46e4-acce-d65a9c89cf71"
      },
      "execution_count": 47,
      "outputs": [
        {
          "output_type": "execute_result",
          "data": {
            "text/plain": [
              "[1, 2, 3, 11, 22, 33]"
            ]
          },
          "metadata": {},
          "execution_count": 47
        }
      ]
    },
    {
      "cell_type": "code",
      "source": [
        "A = [1,2,3]\n",
        "B= [11,22,33]\n",
        "A.append(B) # Permanent Operation, inplace assignment\n",
        "A"
      ],
      "metadata": {
        "colab": {
          "base_uri": "https://localhost:8080/"
        },
        "id": "BSdHyYbg09UX",
        "outputId": "3cfaf76e-8e54-4a6c-dc1c-5574ed138af7"
      },
      "execution_count": 48,
      "outputs": [
        {
          "output_type": "execute_result",
          "data": {
            "text/plain": [
              "[1, 2, 3, [11, 22, 33]]"
            ]
          },
          "metadata": {},
          "execution_count": 48
        }
      ]
    },
    {
      "cell_type": "markdown",
      "source": [
        "## Index Method\n"
      ],
      "metadata": {
        "id": "U1xmJQVj2JP8"
      }
    },
    {
      "cell_type": "code",
      "source": [
        "A = [11,3,4,56+2j,\"Sunny\", 1+2j]"
      ],
      "metadata": {
        "id": "SCEYI54h17Fu"
      },
      "execution_count": 56,
      "outputs": []
    },
    {
      "cell_type": "code",
      "source": [
        "A.index(11)"
      ],
      "metadata": {
        "colab": {
          "base_uri": "https://localhost:8080/"
        },
        "id": "YyMq85_B1Ee_",
        "outputId": "9024297e-c572-4a79-b6c7-c84ae90398fe"
      },
      "execution_count": 57,
      "outputs": [
        {
          "output_type": "execute_result",
          "data": {
            "text/plain": [
              "0"
            ]
          },
          "metadata": {},
          "execution_count": 57
        }
      ]
    },
    {
      "cell_type": "code",
      "source": [
        "A.index(\"Sunny\")"
      ],
      "metadata": {
        "colab": {
          "base_uri": "https://localhost:8080/"
        },
        "id": "z5NEyPIa2fRP",
        "outputId": "5704838e-637d-45e4-bd80-78e09c65471d"
      },
      "execution_count": 58,
      "outputs": [
        {
          "output_type": "execute_result",
          "data": {
            "text/plain": [
              "4"
            ]
          },
          "metadata": {},
          "execution_count": 58
        }
      ]
    },
    {
      "cell_type": "code",
      "source": [
        "# print the index of all the comple no.s\n",
        "# do a for loop\n",
        "# if condition for type check\n",
        "# if type is complexthen print the index\n",
        "\n",
        "a = [A.index(i) for i in A if type(i) == complex]\n",
        "print(a)\n",
        "\n",
        "for ele in A:\n",
        "  if type(ele) == complex :\n",
        "    print(f\"Elemen : {ele} \\| Type : {type(ele)} \\| Index : {A.index(ele)}\")"
      ],
      "metadata": {
        "colab": {
          "base_uri": "https://localhost:8080/"
        },
        "id": "KtME1Icn2lFP",
        "outputId": "39d5c362-78b3-4110-f221-e3ae900f99f0"
      },
      "execution_count": 71,
      "outputs": [
        {
          "output_type": "stream",
          "name": "stdout",
          "text": [
            "[3, 5]\n",
            "Elemen : (56+2j) \\| Type : <class 'complex'> \\| Index : 3\n",
            "Elemen : (1+2j) \\| Type : <class 'complex'> \\| Index : 5\n"
          ]
        }
      ]
    },
    {
      "cell_type": "code",
      "source": [
        "for ele in A:\n",
        "  if type(ele) == int :\n",
        "    print(f\"Elemen : {ele} \\| Type : {type(ele)} \\| Index : {A.index(ele)}\")"
      ],
      "metadata": {
        "colab": {
          "base_uri": "https://localhost:8080/"
        },
        "id": "xbqwMwjJ3mlH",
        "outputId": "bb3e735e-f068-4e9d-fbc7-8f90c70b4017"
      },
      "execution_count": 72,
      "outputs": [
        {
          "output_type": "stream",
          "name": "stdout",
          "text": [
            "Elemen : 11 \\| Type : <class 'int'> \\| Index : 0\n",
            "Elemen : 3 \\| Type : <class 'int'> \\| Index : 1\n",
            "Elemen : 4 \\| Type : <class 'int'> \\| Index : 2\n"
          ]
        }
      ]
    },
    {
      "cell_type": "code",
      "source": [
        "for ele in A:\n",
        "  if type(ele) == str :\n",
        "    print(f\"Elemen : {ele} \\| Type : {type(ele)} \\| Index : {A.index(ele)}\")"
      ],
      "metadata": {
        "colab": {
          "base_uri": "https://localhost:8080/"
        },
        "id": "sre9ITtT5VH3",
        "outputId": "0aeee8da-a1d6-4ca5-8ab5-a424ee91582d"
      },
      "execution_count": 74,
      "outputs": [
        {
          "output_type": "stream",
          "name": "stdout",
          "text": [
            "Elemen : Sunny \\| Type : <class 'str'> \\| Index : 4\n"
          ]
        }
      ]
    },
    {
      "cell_type": "markdown",
      "source": [
        "### isinstance"
      ],
      "metadata": {
        "id": "Ck8GE9G85_k3"
      }
    },
    {
      "cell_type": "code",
      "source": [
        "for ele in A:\n",
        "  if isinstance(ele, complex):\n",
        "    print(f\"Elemen : {ele} \\| Type : {type(ele)} \\| Index : {A.index(ele)}\")"
      ],
      "metadata": {
        "colab": {
          "base_uri": "https://localhost:8080/"
        },
        "id": "6Tz8cOEH5WjH",
        "outputId": "ba1c3f29-a9f6-4c73-e53b-1f3873692f41"
      },
      "execution_count": 75,
      "outputs": [
        {
          "output_type": "stream",
          "name": "stdout",
          "text": [
            "Elemen : (56+2j) \\| Type : <class 'complex'> \\| Index : 3\n",
            "Elemen : (1+2j) \\| Type : <class 'complex'> \\| Index : 5\n"
          ]
        }
      ]
    },
    {
      "cell_type": "code",
      "source": [
        "for ele in A:\n",
        "  if isinstance(ele, int):\n",
        "    print(f\"Elemen : {ele} \\| Type : {type(ele)} \\| Index : {A.index(ele)}\")"
      ],
      "metadata": {
        "colab": {
          "base_uri": "https://localhost:8080/"
        },
        "id": "y7YS6Fhs6Gpl",
        "outputId": "f1bc66ba-31a3-40b4-be76-49bed0e0efd7"
      },
      "execution_count": 76,
      "outputs": [
        {
          "output_type": "stream",
          "name": "stdout",
          "text": [
            "Elemen : 11 \\| Type : <class 'int'> \\| Index : 0\n",
            "Elemen : 3 \\| Type : <class 'int'> \\| Index : 1\n",
            "Elemen : 4 \\| Type : <class 'int'> \\| Index : 2\n"
          ]
        }
      ]
    },
    {
      "cell_type": "code",
      "source": [
        "for ele in A:\n",
        "  if isinstance(ele, str):\n",
        "    print(f\"Elemen : {ele} \\| Type : {type(ele)} \\| Index : {A.index(ele)}\")"
      ],
      "metadata": {
        "colab": {
          "base_uri": "https://localhost:8080/"
        },
        "id": "WDNTlQDi6Gl-",
        "outputId": "dba4e004-05e4-438f-f752-861516394fc9"
      },
      "execution_count": 77,
      "outputs": [
        {
          "output_type": "stream",
          "name": "stdout",
          "text": [
            "Elemen : Sunny \\| Type : <class 'str'> \\| Index : 4\n"
          ]
        }
      ]
    },
    {
      "cell_type": "code",
      "source": [
        "ans = [ele for ele in A if isinstance(ele, complex)]\n",
        "print(ans)\n"
      ],
      "metadata": {
        "colab": {
          "base_uri": "https://localhost:8080/"
        },
        "id": "zjfbOFLr7RSr",
        "outputId": "49758215-6ee7-4e06-9913-55e2b57a7ece"
      },
      "execution_count": 82,
      "outputs": [
        {
          "output_type": "stream",
          "name": "stdout",
          "text": [
            "[(56+2j), (1+2j)]\n"
          ]
        }
      ]
    },
    {
      "cell_type": "code",
      "source": [
        "ans = [ele for ele in A if type(ele) == complex]\n",
        "print(ans)"
      ],
      "metadata": {
        "colab": {
          "base_uri": "https://localhost:8080/"
        },
        "id": "r7Ipa9GB7RQB",
        "outputId": "b0f88660-d1bc-4ae7-c406-e083ddfc6b85"
      },
      "execution_count": 83,
      "outputs": [
        {
          "output_type": "stream",
          "name": "stdout",
          "text": [
            "[(56+2j), (1+2j)]\n"
          ]
        }
      ]
    },
    {
      "cell_type": "code",
      "source": [
        "# print the index all the complex and int also\n",
        "for ele in A:\n",
        "  if isinstance(ele, complex) or isinstance(ele, int):\n",
        "    print(f\"Elemen : {ele} \\| Type : {type(ele)} \\| Index : {A.index(ele)}\")"
      ],
      "metadata": {
        "colab": {
          "base_uri": "https://localhost:8080/"
        },
        "id": "ntUwtsqQ6QO4",
        "outputId": "b2d7779e-082e-412a-c84f-0146318bf0b9"
      },
      "execution_count": 79,
      "outputs": [
        {
          "output_type": "stream",
          "name": "stdout",
          "text": [
            "Elemen : 11 \\| Type : <class 'int'> \\| Index : 0\n",
            "Elemen : 3 \\| Type : <class 'int'> \\| Index : 1\n",
            "Elemen : 4 \\| Type : <class 'int'> \\| Index : 2\n",
            "Elemen : (56+2j) \\| Type : <class 'complex'> \\| Index : 3\n",
            "Elemen : (1+2j) \\| Type : <class 'complex'> \\| Index : 5\n"
          ]
        }
      ]
    },
    {
      "cell_type": "code",
      "source": [
        "# print the index all the complex and int also\n",
        "for ele in A:\n",
        "  if isinstance(ele, (complex, int)): #Pythonic Way # OR case\n",
        "    print(f\"Elemen : {ele} \\| Type : {type(ele)} \\| Index : {A.index(ele)}\")"
      ],
      "metadata": {
        "colab": {
          "base_uri": "https://localhost:8080/"
        },
        "id": "DVQD5eRP6fH3",
        "outputId": "de4b40a7-7666-4a4d-9ecd-300ca930c121"
      },
      "execution_count": 81,
      "outputs": [
        {
          "output_type": "stream",
          "name": "stdout",
          "text": [
            "Elemen : 11 \\| Type : <class 'int'> \\| Index : 0\n",
            "Elemen : 3 \\| Type : <class 'int'> \\| Index : 1\n",
            "Elemen : 4 \\| Type : <class 'int'> \\| Index : 2\n",
            "Elemen : (56+2j) \\| Type : <class 'complex'> \\| Index : 3\n",
            "Elemen : (1+2j) \\| Type : <class 'complex'> \\| Index : 5\n"
          ]
        }
      ]
    },
    {
      "cell_type": "code",
      "source": [
        "A = [11,3,4,56+2j,\"Sunny\", 1+2j, 3,3,]  # duplicate elements\n",
        "A.index(3)"
      ],
      "metadata": {
        "colab": {
          "base_uri": "https://localhost:8080/"
        },
        "id": "AQ8fqUaB62xX",
        "outputId": "0a70afa8-df75-4323-af39-a8ae6f8e5519"
      },
      "execution_count": 86,
      "outputs": [
        {
          "output_type": "execute_result",
          "data": {
            "text/plain": [
              "1"
            ]
          },
          "metadata": {},
          "execution_count": 86
        }
      ]
    },
    {
      "cell_type": "code",
      "source": [
        "A = [11,\"xyz\", 3,4,56+2j,\"Sunny\", 1+2j, 3,3,]  # duplicate elements\n",
        "A.index(3)"
      ],
      "metadata": {
        "colab": {
          "base_uri": "https://localhost:8080/"
        },
        "id": "BFrTQvtv9L1W",
        "outputId": "e4eee816-3104-4e51-b283-68d24f8d3715"
      },
      "execution_count": 88,
      "outputs": [
        {
          "output_type": "execute_result",
          "data": {
            "text/plain": [
              "2"
            ]
          },
          "metadata": {},
          "execution_count": 88
        }
      ]
    },
    {
      "cell_type": "code",
      "source": [
        "A = [11,\"xyz\", 3,4,56+2j,\"Sunny\", 1+2j, 3,3,]  # duplicate elements\n",
        "A.index(4444)"
      ],
      "metadata": {
        "colab": {
          "base_uri": "https://localhost:8080/",
          "height": 190
        },
        "id": "aDI1Satb-BYR",
        "outputId": "ff46a3e7-5ca3-4436-c5f6-59c1bfb2e976"
      },
      "execution_count": 91,
      "outputs": [
        {
          "output_type": "error",
          "ename": "ValueError",
          "evalue": "ignored",
          "traceback": [
            "\u001b[0;31m---------------------------------------------------------------------------\u001b[0m",
            "\u001b[0;31mValueError\u001b[0m                                Traceback (most recent call last)",
            "\u001b[0;32m<ipython-input-91-395a5dec717f>\u001b[0m in \u001b[0;36m<module>\u001b[0;34m\u001b[0m\n\u001b[1;32m      1\u001b[0m \u001b[0mA\u001b[0m \u001b[0;34m=\u001b[0m \u001b[0;34m[\u001b[0m\u001b[0;36m11\u001b[0m\u001b[0;34m,\u001b[0m\u001b[0;34m\"xyz\"\u001b[0m\u001b[0;34m,\u001b[0m \u001b[0;36m3\u001b[0m\u001b[0;34m,\u001b[0m\u001b[0;36m4\u001b[0m\u001b[0;34m,\u001b[0m\u001b[0;36m56\u001b[0m\u001b[0;34m+\u001b[0m\u001b[0;36m2j\u001b[0m\u001b[0;34m,\u001b[0m\u001b[0;34m\"Sunny\"\u001b[0m\u001b[0;34m,\u001b[0m \u001b[0;36m1\u001b[0m\u001b[0;34m+\u001b[0m\u001b[0;36m2j\u001b[0m\u001b[0;34m,\u001b[0m \u001b[0;36m3\u001b[0m\u001b[0;34m,\u001b[0m\u001b[0;36m3\u001b[0m\u001b[0;34m,\u001b[0m\u001b[0;34m]\u001b[0m  \u001b[0;31m# duplicate elements\u001b[0m\u001b[0;34m\u001b[0m\u001b[0;34m\u001b[0m\u001b[0m\n\u001b[0;32m----> 2\u001b[0;31m \u001b[0mA\u001b[0m\u001b[0;34m.\u001b[0m\u001b[0mindex\u001b[0m\u001b[0;34m(\u001b[0m\u001b[0;36m4444\u001b[0m\u001b[0;34m)\u001b[0m\u001b[0;34m\u001b[0m\u001b[0;34m\u001b[0m\u001b[0m\n\u001b[0m",
            "\u001b[0;31mValueError\u001b[0m: 4444 is not in list"
          ]
        }
      ]
    },
    {
      "cell_type": "code",
      "source": [
        "A = [1,2,3,[4,5,6],7,8,9]\n",
        "A.index(4)"
      ],
      "metadata": {
        "colab": {
          "base_uri": "https://localhost:8080/",
          "height": 190
        },
        "id": "51O6Wmzk9XK4",
        "outputId": "ae59037e-e633-4cbc-bfbf-1980daef6efb"
      },
      "execution_count": 89,
      "outputs": [
        {
          "output_type": "error",
          "ename": "ValueError",
          "evalue": "ignored",
          "traceback": [
            "\u001b[0;31m---------------------------------------------------------------------------\u001b[0m",
            "\u001b[0;31mValueError\u001b[0m                                Traceback (most recent call last)",
            "\u001b[0;32m<ipython-input-89-5cc5fd08dcb9>\u001b[0m in \u001b[0;36m<module>\u001b[0;34m\u001b[0m\n\u001b[1;32m      1\u001b[0m \u001b[0mA\u001b[0m \u001b[0;34m=\u001b[0m \u001b[0;34m[\u001b[0m\u001b[0;36m1\u001b[0m\u001b[0;34m,\u001b[0m\u001b[0;36m2\u001b[0m\u001b[0;34m,\u001b[0m\u001b[0;36m3\u001b[0m\u001b[0;34m,\u001b[0m \u001b[0;34m[\u001b[0m\u001b[0;36m4\u001b[0m\u001b[0;34m,\u001b[0m\u001b[0;36m5\u001b[0m\u001b[0;34m,\u001b[0m\u001b[0;36m6\u001b[0m\u001b[0;34m]\u001b[0m\u001b[0;34m,\u001b[0m\u001b[0;36m7\u001b[0m\u001b[0;34m,\u001b[0m\u001b[0;36m8\u001b[0m\u001b[0;34m,\u001b[0m\u001b[0;36m9\u001b[0m\u001b[0;34m]\u001b[0m\u001b[0;34m\u001b[0m\u001b[0;34m\u001b[0m\u001b[0m\n\u001b[0;32m----> 2\u001b[0;31m \u001b[0mA\u001b[0m\u001b[0;34m.\u001b[0m\u001b[0mindex\u001b[0m\u001b[0;34m(\u001b[0m\u001b[0;36m4\u001b[0m\u001b[0;34m)\u001b[0m\u001b[0;34m\u001b[0m\u001b[0;34m\u001b[0m\u001b[0m\n\u001b[0m",
            "\u001b[0;31mValueError\u001b[0m: 4 is not in list"
          ]
        }
      ]
    },
    {
      "cell_type": "code",
      "source": [
        "A = [1,2,3,[4,5,6],7,8,9]\n",
        "A.index([4,5,6])"
      ],
      "metadata": {
        "colab": {
          "base_uri": "https://localhost:8080/"
        },
        "id": "zIfxjvsw9_0y",
        "outputId": "af8e909b-9993-4d58-a666-29c4981573a2"
      },
      "execution_count": 92,
      "outputs": [
        {
          "output_type": "execute_result",
          "data": {
            "text/plain": [
              "3"
            ]
          },
          "metadata": {},
          "execution_count": 92
        }
      ]
    },
    {
      "cell_type": "code",
      "source": [
        "A = [1,2,3,[4,5,6],7,8,9]\n",
        "A[3].index(4)"
      ],
      "metadata": {
        "colab": {
          "base_uri": "https://localhost:8080/"
        },
        "id": "HCZgFclz9xPG",
        "outputId": "166583d9-8615-42fb-fb54-54715663746d"
      },
      "execution_count": 90,
      "outputs": [
        {
          "output_type": "execute_result",
          "data": {
            "text/plain": [
              "0"
            ]
          },
          "metadata": {},
          "execution_count": 90
        }
      ]
    },
    {
      "cell_type": "markdown",
      "source": [
        "## Insert"
      ],
      "metadata": {
        "id": "bTvEXi5c-cxM"
      }
    },
    {
      "cell_type": "code",
      "source": [
        "A = [1,2,3,4,5]\n",
        "A.append(99)\n",
        "A"
      ],
      "metadata": {
        "colab": {
          "base_uri": "https://localhost:8080/"
        },
        "id": "MME_vb3H972N",
        "outputId": "c4ab3d24-0369-47e3-adb6-dd1ae91da316"
      },
      "execution_count": 93,
      "outputs": [
        {
          "output_type": "execute_result",
          "data": {
            "text/plain": [
              "[1, 2, 3, 4, 5, 99]"
            ]
          },
          "metadata": {},
          "execution_count": 93
        }
      ]
    },
    {
      "cell_type": "code",
      "source": [
        "A.insert(2, \"Sunny\")\n",
        "A"
      ],
      "metadata": {
        "colab": {
          "base_uri": "https://localhost:8080/"
        },
        "id": "BUy4PSc6-rqm",
        "outputId": "57979219-9da0-468a-94e3-9cd6affc14ba"
      },
      "execution_count": 94,
      "outputs": [
        {
          "output_type": "execute_result",
          "data": {
            "text/plain": [
              "[1, 2, 'Sunny', 3, 4, 5, 99]"
            ]
          },
          "metadata": {},
          "execution_count": 94
        }
      ]
    },
    {
      "cell_type": "code",
      "source": [
        "A.insert(2000, \"Sunny\")\n",
        "A"
      ],
      "metadata": {
        "colab": {
          "base_uri": "https://localhost:8080/"
        },
        "id": "N8Xk2Tej-0F3",
        "outputId": "10ec676e-7a5f-4c2a-d51c-286f70b80792"
      },
      "execution_count": 95,
      "outputs": [
        {
          "output_type": "execute_result",
          "data": {
            "text/plain": [
              "[1, 2, 'Sunny', 3, 4, 5, 99, 'Sunny']"
            ]
          },
          "metadata": {},
          "execution_count": 95
        }
      ]
    },
    {
      "cell_type": "code",
      "source": [
        "A[2000]"
      ],
      "metadata": {
        "colab": {
          "base_uri": "https://localhost:8080/",
          "height": 172
        },
        "id": "kp5584ie_iHB",
        "outputId": "c22efbf3-1754-45e8-d01b-9f26e487b6b0"
      },
      "execution_count": 97,
      "outputs": [
        {
          "output_type": "error",
          "ename": "IndexError",
          "evalue": "ignored",
          "traceback": [
            "\u001b[0;31m---------------------------------------------------------------------------\u001b[0m",
            "\u001b[0;31mIndexError\u001b[0m                                Traceback (most recent call last)",
            "\u001b[0;32m<ipython-input-97-87ca268cd0df>\u001b[0m in \u001b[0;36m<module>\u001b[0;34m\u001b[0m\n\u001b[0;32m----> 1\u001b[0;31m \u001b[0mA\u001b[0m\u001b[0;34m[\u001b[0m\u001b[0;36m2000\u001b[0m\u001b[0;34m]\u001b[0m\u001b[0;34m\u001b[0m\u001b[0;34m\u001b[0m\u001b[0m\n\u001b[0m",
            "\u001b[0;31mIndexError\u001b[0m: list index out of range"
          ]
        }
      ]
    },
    {
      "cell_type": "code",
      "source": [
        "A.insert(-2000, \"Sunny\")\n",
        "A"
      ],
      "metadata": {
        "colab": {
          "base_uri": "https://localhost:8080/"
        },
        "id": "3GYI0oYW-7nG",
        "outputId": "b94d79ac-fffd-4088-f300-f9bb40ac7cb5"
      },
      "execution_count": 96,
      "outputs": [
        {
          "output_type": "execute_result",
          "data": {
            "text/plain": [
              "['Sunny', 1, 2, 'Sunny', 3, 4, 5, 99, 'Sunny']"
            ]
          },
          "metadata": {},
          "execution_count": 96
        }
      ]
    },
    {
      "cell_type": "code",
      "source": [
        "A[2000]"
      ],
      "metadata": {
        "id": "7CHCEDFA_EHP"
      },
      "execution_count": null,
      "outputs": []
    },
    {
      "cell_type": "code",
      "source": [
        "A = [3,4,5]\n",
        "len(A)"
      ],
      "metadata": {
        "colab": {
          "base_uri": "https://localhost:8080/"
        },
        "id": "xrhiG0by_qvi",
        "outputId": "639d034a-211e-497c-ce25-1adb804e1aed"
      },
      "execution_count": 101,
      "outputs": [
        {
          "output_type": "execute_result",
          "data": {
            "text/plain": [
              "3"
            ]
          },
          "metadata": {},
          "execution_count": 101
        }
      ]
    },
    {
      "cell_type": "code",
      "source": [
        "A.insert(2000, \"Sunny\")\n",
        "len(A)"
      ],
      "metadata": {
        "colab": {
          "base_uri": "https://localhost:8080/"
        },
        "id": "psoUIVc1_tkO",
        "outputId": "4c00e305-58b0-4c42-95be-63e1ce1f23b5"
      },
      "execution_count": 103,
      "outputs": [
        {
          "output_type": "execute_result",
          "data": {
            "text/plain": [
              "5"
            ]
          },
          "metadata": {},
          "execution_count": 103
        }
      ]
    },
    {
      "cell_type": "code",
      "source": [
        "A.insert(, \"Sunny\")\n",
        "len(A)"
      ],
      "metadata": {
        "colab": {
          "base_uri": "https://localhost:8080/",
          "height": 135
        },
        "id": "Qj4XLOVM_zee",
        "outputId": "a46f40d0-4f65-4cbc-a1e4-01c5fee99c49"
      },
      "execution_count": 104,
      "outputs": [
        {
          "output_type": "error",
          "ename": "SyntaxError",
          "evalue": "ignored",
          "traceback": [
            "\u001b[0;36m  File \u001b[0;32m\"<ipython-input-104-5a206583c6dd>\"\u001b[0;36m, line \u001b[0;32m1\u001b[0m\n\u001b[0;31m    A.insert(, \"Sunny\")\u001b[0m\n\u001b[0m             ^\u001b[0m\n\u001b[0;31mSyntaxError\u001b[0m\u001b[0;31m:\u001b[0m invalid syntax\n"
          ]
        }
      ]
    },
    {
      "cell_type": "code",
      "source": [
        "A.insert(\"Sunny\")\n",
        "len(A)"
      ],
      "metadata": {
        "colab": {
          "base_uri": "https://localhost:8080/",
          "height": 190
        },
        "id": "g2fT8nxeAC7O",
        "outputId": "0d461b31-134c-43f9-ad5f-c3f65c358596"
      },
      "execution_count": 105,
      "outputs": [
        {
          "output_type": "error",
          "ename": "TypeError",
          "evalue": "ignored",
          "traceback": [
            "\u001b[0;31m---------------------------------------------------------------------------\u001b[0m",
            "\u001b[0;31mTypeError\u001b[0m                                 Traceback (most recent call last)",
            "\u001b[0;32m<ipython-input-105-f36fe7594dea>\u001b[0m in \u001b[0;36m<module>\u001b[0;34m\u001b[0m\n\u001b[0;32m----> 1\u001b[0;31m \u001b[0mA\u001b[0m\u001b[0;34m.\u001b[0m\u001b[0minsert\u001b[0m\u001b[0;34m(\u001b[0m\u001b[0;34m\"Sunny\"\u001b[0m\u001b[0;34m)\u001b[0m\u001b[0;34m\u001b[0m\u001b[0;34m\u001b[0m\u001b[0m\n\u001b[0m\u001b[1;32m      2\u001b[0m \u001b[0mlen\u001b[0m\u001b[0;34m(\u001b[0m\u001b[0mA\u001b[0m\u001b[0;34m)\u001b[0m\u001b[0;34m\u001b[0m\u001b[0;34m\u001b[0m\u001b[0m\n",
            "\u001b[0;31mTypeError\u001b[0m: insert() takes exactly 2 arguments (1 given)"
          ]
        }
      ]
    },
    {
      "cell_type": "code",
      "source": [
        "A"
      ],
      "metadata": {
        "colab": {
          "base_uri": "https://localhost:8080/"
        },
        "id": "_A2dgcGJAF5m",
        "outputId": "74d72433-135c-4885-b9de-a11492486c8a"
      },
      "execution_count": 106,
      "outputs": [
        {
          "output_type": "execute_result",
          "data": {
            "text/plain": [
              "[3, 4, 'Sunny', 5, 'Sunny']"
            ]
          },
          "metadata": {},
          "execution_count": 106
        }
      ]
    },
    {
      "cell_type": "code",
      "source": [
        "A.insert(2, [1,2,34])\n",
        "A"
      ],
      "metadata": {
        "colab": {
          "base_uri": "https://localhost:8080/"
        },
        "id": "KBYv-J1JARYW",
        "outputId": "4834c1e2-4f6c-4473-d1e6-bfaccfe749fb"
      },
      "execution_count": 108,
      "outputs": [
        {
          "output_type": "execute_result",
          "data": {
            "text/plain": [
              "[3, 4, [1, 2, 34], [1, 2, 34], 'Sunny', 5, 'Sunny']"
            ]
          },
          "metadata": {},
          "execution_count": 108
        }
      ]
    },
    {
      "cell_type": "markdown",
      "source": [
        "## remove"
      ],
      "metadata": {
        "id": "-rzDSMF_BMq6"
      }
    },
    {
      "cell_type": "code",
      "source": [
        "A = [1,2,3,455,6,77]\n",
        "\n",
        "A.remove(455)\n",
        "A"
      ],
      "metadata": {
        "colab": {
          "base_uri": "https://localhost:8080/"
        },
        "id": "TrxMw7u0AZCm",
        "outputId": "61138133-a59e-44f5-d293-7aa30056c679"
      },
      "execution_count": 109,
      "outputs": [
        {
          "output_type": "execute_result",
          "data": {
            "text/plain": [
              "[1, 2, 3, 6, 77]"
            ]
          },
          "metadata": {},
          "execution_count": 109
        }
      ]
    },
    {
      "cell_type": "code",
      "source": [
        "A = [1,2,3,455,6,77]\n",
        "\n",
        "A.remove(77)\n",
        "A"
      ],
      "metadata": {
        "colab": {
          "base_uri": "https://localhost:8080/"
        },
        "id": "T8YIpsmpBV32",
        "outputId": "a622e6a3-3754-4d91-c8d6-6ce9290077a8"
      },
      "execution_count": 110,
      "outputs": [
        {
          "output_type": "execute_result",
          "data": {
            "text/plain": [
              "[1, 2, 3, 455, 6]"
            ]
          },
          "metadata": {},
          "execution_count": 110
        }
      ]
    },
    {
      "cell_type": "code",
      "source": [
        "A = [1,1,2,3,455,6,77]\n",
        "\n",
        "A.remove(1)\n",
        "A"
      ],
      "metadata": {
        "colab": {
          "base_uri": "https://localhost:8080/"
        },
        "id": "pvEDfzccBZcV",
        "outputId": "d508ff53-d060-4724-ea6e-6e6451c4b4eb"
      },
      "execution_count": 111,
      "outputs": [
        {
          "output_type": "execute_result",
          "data": {
            "text/plain": [
              "[1, 2, 3, 455, 6, 77]"
            ]
          },
          "metadata": {},
          "execution_count": 111
        }
      ]
    },
    {
      "cell_type": "code",
      "source": [
        "A = [1,1,2,3,455,6,88,6,77]\n",
        "\n",
        "A.remove(6)\n",
        "A"
      ],
      "metadata": {
        "colab": {
          "base_uri": "https://localhost:8080/"
        },
        "id": "swsK3wj7Bglt",
        "outputId": "8a0b128c-036e-4ba9-ec8a-e6de4f8ce9e9"
      },
      "execution_count": 112,
      "outputs": [
        {
          "output_type": "execute_result",
          "data": {
            "text/plain": [
              "[1, 1, 2, 3, 455, 88, 6, 77]"
            ]
          },
          "metadata": {},
          "execution_count": 112
        }
      ]
    },
    {
      "cell_type": "code",
      "source": [
        "A = [1,1,2,3,455,6,88,6,77]\n",
        "\n",
        "A.remove(9999)\n",
        "A"
      ],
      "metadata": {
        "colab": {
          "base_uri": "https://localhost:8080/",
          "height": 227
        },
        "id": "Ziq8IccuBqZO",
        "outputId": "a791eb1f-bb03-4ac7-83b0-46a9f329202a"
      },
      "execution_count": 113,
      "outputs": [
        {
          "output_type": "error",
          "ename": "ValueError",
          "evalue": "ignored",
          "traceback": [
            "\u001b[0;31m---------------------------------------------------------------------------\u001b[0m",
            "\u001b[0;31mValueError\u001b[0m                                Traceback (most recent call last)",
            "\u001b[0;32m<ipython-input-113-9fe097a2eda1>\u001b[0m in \u001b[0;36m<module>\u001b[0;34m\u001b[0m\n\u001b[1;32m      1\u001b[0m \u001b[0mA\u001b[0m \u001b[0;34m=\u001b[0m \u001b[0;34m[\u001b[0m\u001b[0;36m1\u001b[0m\u001b[0;34m,\u001b[0m\u001b[0;36m1\u001b[0m\u001b[0;34m,\u001b[0m\u001b[0;36m2\u001b[0m\u001b[0;34m,\u001b[0m\u001b[0;36m3\u001b[0m\u001b[0;34m,\u001b[0m\u001b[0;36m455\u001b[0m\u001b[0;34m,\u001b[0m\u001b[0;36m6\u001b[0m\u001b[0;34m,\u001b[0m\u001b[0;36m88\u001b[0m\u001b[0;34m,\u001b[0m\u001b[0;36m6\u001b[0m\u001b[0;34m,\u001b[0m\u001b[0;36m77\u001b[0m\u001b[0;34m]\u001b[0m\u001b[0;34m\u001b[0m\u001b[0;34m\u001b[0m\u001b[0m\n\u001b[1;32m      2\u001b[0m \u001b[0;34m\u001b[0m\u001b[0m\n\u001b[0;32m----> 3\u001b[0;31m \u001b[0mA\u001b[0m\u001b[0;34m.\u001b[0m\u001b[0mremove\u001b[0m\u001b[0;34m(\u001b[0m\u001b[0;36m9999\u001b[0m\u001b[0;34m)\u001b[0m\u001b[0;34m\u001b[0m\u001b[0;34m\u001b[0m\u001b[0m\n\u001b[0m\u001b[1;32m      4\u001b[0m \u001b[0mA\u001b[0m\u001b[0;34m\u001b[0m\u001b[0;34m\u001b[0m\u001b[0m\n",
            "\u001b[0;31mValueError\u001b[0m: list.remove(x): x not in list"
          ]
        }
      ]
    },
    {
      "cell_type": "code",
      "source": [
        "A.pop(-1)\n",
        "A"
      ],
      "metadata": {
        "colab": {
          "base_uri": "https://localhost:8080/"
        },
        "id": "aUEf8YPCBua4",
        "outputId": "e56064f9-b576-4103-b2fe-b77b9dc604b7"
      },
      "execution_count": 114,
      "outputs": [
        {
          "output_type": "execute_result",
          "data": {
            "text/plain": [
              "[1, 1, 2, 3, 455, 6, 88, 6]"
            ]
          },
          "metadata": {},
          "execution_count": 114
        }
      ]
    },
    {
      "cell_type": "code",
      "source": [
        "A.pop() # this remove the last element\n",
        "A"
      ],
      "metadata": {
        "colab": {
          "base_uri": "https://localhost:8080/"
        },
        "id": "FuOQuMOiCEs-",
        "outputId": "70262812-7fa9-4dbb-c68b-66f6aee81861"
      },
      "execution_count": 115,
      "outputs": [
        {
          "output_type": "execute_result",
          "data": {
            "text/plain": [
              "[1, 1, 2, 3, 455, 6, 88]"
            ]
          },
          "metadata": {},
          "execution_count": 115
        }
      ]
    },
    {
      "cell_type": "code",
      "source": [],
      "metadata": {
        "id": "51WUJhMYCN0l"
      },
      "execution_count": null,
      "outputs": []
    },
    {
      "cell_type": "markdown",
      "source": [
        "# TUPLES - () - Immutable\n",
        "list = [] - Mutable\n"
      ],
      "metadata": {
        "id": "dQRVQ7YQDUfe"
      }
    },
    {
      "cell_type": "code",
      "source": [
        "A = (1,2,3)"
      ],
      "metadata": {
        "id": "1Q6WdROtDXUl"
      },
      "execution_count": 116,
      "outputs": []
    },
    {
      "cell_type": "code",
      "source": [
        "type(A)"
      ],
      "metadata": {
        "colab": {
          "base_uri": "https://localhost:8080/"
        },
        "id": "rASjUV4fDvtu",
        "outputId": "6cf3d22a-e4d1-488a-9d52-d7d4e1498d77"
      },
      "execution_count": 117,
      "outputs": [
        {
          "output_type": "execute_result",
          "data": {
            "text/plain": [
              "tuple"
            ]
          },
          "metadata": {},
          "execution_count": 117
        }
      ]
    },
    {
      "cell_type": "code",
      "source": [
        "A[0]"
      ],
      "metadata": {
        "colab": {
          "base_uri": "https://localhost:8080/"
        },
        "id": "9o8-83mVDwyG",
        "outputId": "c88efdea-729d-42f0-87f7-48c9badc9939"
      },
      "execution_count": 118,
      "outputs": [
        {
          "output_type": "execute_result",
          "data": {
            "text/plain": [
              "1"
            ]
          },
          "metadata": {},
          "execution_count": 118
        }
      ]
    },
    {
      "cell_type": "code",
      "source": [
        "A[-1]"
      ],
      "metadata": {
        "colab": {
          "base_uri": "https://localhost:8080/"
        },
        "id": "nudsdMb3D3HG",
        "outputId": "a3c300f9-be0d-430d-f45c-ecd800506172"
      },
      "execution_count": 119,
      "outputs": [
        {
          "output_type": "execute_result",
          "data": {
            "text/plain": [
              "3"
            ]
          },
          "metadata": {},
          "execution_count": 119
        }
      ]
    },
    {
      "cell_type": "code",
      "source": [
        "A[0] = 22"
      ],
      "metadata": {
        "colab": {
          "base_uri": "https://localhost:8080/",
          "height": 172
        },
        "id": "68wnc7j8D5gF",
        "outputId": "d04ad69f-775f-46d1-aab3-491d638d40eb"
      },
      "execution_count": 120,
      "outputs": [
        {
          "output_type": "error",
          "ename": "TypeError",
          "evalue": "ignored",
          "traceback": [
            "\u001b[0;31m---------------------------------------------------------------------------\u001b[0m",
            "\u001b[0;31mTypeError\u001b[0m                                 Traceback (most recent call last)",
            "\u001b[0;32m<ipython-input-120-2b4b93e4b445>\u001b[0m in \u001b[0;36m<module>\u001b[0;34m\u001b[0m\n\u001b[0;32m----> 1\u001b[0;31m \u001b[0mA\u001b[0m\u001b[0;34m[\u001b[0m\u001b[0;36m0\u001b[0m\u001b[0;34m]\u001b[0m \u001b[0;34m=\u001b[0m \u001b[0;36m22\u001b[0m\u001b[0;34m\u001b[0m\u001b[0;34m\u001b[0m\u001b[0m\n\u001b[0m",
            "\u001b[0;31mTypeError\u001b[0m: 'tuple' object does not support item assignment"
          ]
        }
      ]
    },
    {
      "cell_type": "code",
      "source": [
        "A = (22,12,34,1)\n"
      ],
      "metadata": {
        "id": "bV9IDt9yD8DF"
      },
      "execution_count": 121,
      "outputs": []
    },
    {
      "cell_type": "code",
      "source": [
        "A.sort()\n",
        "A"
      ],
      "metadata": {
        "colab": {
          "base_uri": "https://localhost:8080/",
          "height": 190
        },
        "id": "WEd0P-8aEOgF",
        "outputId": "51b09ec0-c609-4020-dd20-3f20c6456185"
      },
      "execution_count": 122,
      "outputs": [
        {
          "output_type": "error",
          "ename": "AttributeError",
          "evalue": "ignored",
          "traceback": [
            "\u001b[0;31m---------------------------------------------------------------------------\u001b[0m",
            "\u001b[0;31mAttributeError\u001b[0m                            Traceback (most recent call last)",
            "\u001b[0;32m<ipython-input-122-624fd66a22f0>\u001b[0m in \u001b[0;36m<module>\u001b[0;34m\u001b[0m\n\u001b[0;32m----> 1\u001b[0;31m \u001b[0mA\u001b[0m\u001b[0;34m.\u001b[0m\u001b[0msort\u001b[0m\u001b[0;34m(\u001b[0m\u001b[0;34m)\u001b[0m\u001b[0;34m\u001b[0m\u001b[0;34m\u001b[0m\u001b[0m\n\u001b[0m\u001b[1;32m      2\u001b[0m \u001b[0mA\u001b[0m\u001b[0;34m\u001b[0m\u001b[0;34m\u001b[0m\u001b[0m\n",
            "\u001b[0;31mAttributeError\u001b[0m: 'tuple' object has no attribute 'sort'"
          ]
        }
      ]
    },
    {
      "cell_type": "code",
      "source": [
        "sorted(A) # Convert it into the list anf then return the sorted list\n",
        "A"
      ],
      "metadata": {
        "colab": {
          "base_uri": "https://localhost:8080/"
        },
        "id": "50hMZBIZEQqt",
        "outputId": "b5e76392-7068-4e8e-e6c7-006525c61ef6"
      },
      "execution_count": 127,
      "outputs": [
        {
          "output_type": "execute_result",
          "data": {
            "text/plain": [
              "[1, 12, 22, 34]"
            ]
          },
          "metadata": {},
          "execution_count": 127
        }
      ]
    },
    {
      "cell_type": "code",
      "source": [
        "A = sorted(A)\n",
        "A"
      ],
      "metadata": {
        "colab": {
          "base_uri": "https://localhost:8080/"
        },
        "id": "8I4ddtCcEb2F",
        "outputId": "b1fd9af8-0861-4834-f5b9-bfc6a6615886"
      },
      "execution_count": 128,
      "outputs": [
        {
          "output_type": "execute_result",
          "data": {
            "text/plain": [
              "[1, 12, 22, 34]"
            ]
          },
          "metadata": {},
          "execution_count": 128
        }
      ]
    },
    {
      "cell_type": "code",
      "source": [
        "A = (22,12,34,1)\n",
        "\n",
        "len(A)\n"
      ],
      "metadata": {
        "colab": {
          "base_uri": "https://localhost:8080/"
        },
        "id": "XolwaWxhEk9d",
        "outputId": "9e2358f6-b7c8-4b85-ebd2-b18825c0f4d2"
      },
      "execution_count": 129,
      "outputs": [
        {
          "output_type": "execute_result",
          "data": {
            "text/plain": [
              "4"
            ]
          },
          "metadata": {},
          "execution_count": 129
        }
      ]
    },
    {
      "cell_type": "code",
      "source": [
        "A * 2"
      ],
      "metadata": {
        "colab": {
          "base_uri": "https://localhost:8080/"
        },
        "id": "QpiOXDYtEyIF",
        "outputId": "7d7e47d3-c178-47f3-f00e-60fb932ff468"
      },
      "execution_count": 130,
      "outputs": [
        {
          "output_type": "execute_result",
          "data": {
            "text/plain": [
              "(22, 12, 34, 1, 22, 12, 34, 1)"
            ]
          },
          "metadata": {},
          "execution_count": 130
        }
      ]
    },
    {
      "cell_type": "code",
      "source": [
        "A = A*2\n",
        "A"
      ],
      "metadata": {
        "colab": {
          "base_uri": "https://localhost:8080/"
        },
        "id": "PEj2ez-gFFB7",
        "outputId": "8b512188-cfe9-4dcd-a4be-495550e89f28"
      },
      "execution_count": 133,
      "outputs": [
        {
          "output_type": "execute_result",
          "data": {
            "text/plain": [
              "(22, 12, 34, 1, 22, 12, 34, 1)"
            ]
          },
          "metadata": {},
          "execution_count": 133
        }
      ]
    },
    {
      "cell_type": "code",
      "source": [
        "A"
      ],
      "metadata": {
        "colab": {
          "base_uri": "https://localhost:8080/"
        },
        "id": "UesSHCarE2iF",
        "outputId": "6bfafdb3-eddf-42b6-b533-0e7a42b1ee9c"
      },
      "execution_count": 131,
      "outputs": [
        {
          "output_type": "execute_result",
          "data": {
            "text/plain": [
              "(22, 12, 34, 1)"
            ]
          },
          "metadata": {},
          "execution_count": 131
        }
      ]
    },
    {
      "cell_type": "code",
      "source": [
        "A **2"
      ],
      "metadata": {
        "colab": {
          "base_uri": "https://localhost:8080/",
          "height": 172
        },
        "id": "QQCJvaYAE6xV",
        "outputId": "5d00bd4f-609f-49c3-b4cd-261d5686f613"
      },
      "execution_count": 132,
      "outputs": [
        {
          "output_type": "error",
          "ename": "TypeError",
          "evalue": "ignored",
          "traceback": [
            "\u001b[0;31m---------------------------------------------------------------------------\u001b[0m",
            "\u001b[0;31mTypeError\u001b[0m                                 Traceback (most recent call last)",
            "\u001b[0;32m<ipython-input-132-c5cea2401492>\u001b[0m in \u001b[0;36m<module>\u001b[0;34m\u001b[0m\n\u001b[0;32m----> 1\u001b[0;31m \u001b[0mA\u001b[0m \u001b[0;34m**\u001b[0m\u001b[0;36m2\u001b[0m\u001b[0;34m\u001b[0m\u001b[0;34m\u001b[0m\u001b[0m\n\u001b[0m",
            "\u001b[0;31mTypeError\u001b[0m: unsupported operand type(s) for ** or pow(): 'tuple' and 'int'"
          ]
        }
      ]
    },
    {
      "cell_type": "code",
      "source": [
        "A = (22,12,34,1)\n"
      ],
      "metadata": {
        "id": "VJvvfa_QFZaJ"
      },
      "execution_count": 139,
      "outputs": []
    },
    {
      "cell_type": "code",
      "source": [
        "max(A)"
      ],
      "metadata": {
        "colab": {
          "base_uri": "https://localhost:8080/"
        },
        "id": "3mJ28d6OFBGg",
        "outputId": "38e44764-2836-466f-9ff7-de4689e623ba"
      },
      "execution_count": 140,
      "outputs": [
        {
          "output_type": "execute_result",
          "data": {
            "text/plain": [
              "34"
            ]
          },
          "metadata": {},
          "execution_count": 140
        }
      ]
    },
    {
      "cell_type": "code",
      "source": [
        "min(A)"
      ],
      "metadata": {
        "colab": {
          "base_uri": "https://localhost:8080/"
        },
        "id": "HI2Wc_JiFKZU",
        "outputId": "968b6eb6-4a51-4284-c64c-ae53e4877b0e"
      },
      "execution_count": 141,
      "outputs": [
        {
          "output_type": "execute_result",
          "data": {
            "text/plain": [
              "1"
            ]
          },
          "metadata": {},
          "execution_count": 141
        }
      ]
    },
    {
      "cell_type": "code",
      "source": [
        "A.index(12)"
      ],
      "metadata": {
        "colab": {
          "base_uri": "https://localhost:8080/"
        },
        "id": "XlCokTDLFP10",
        "outputId": "cee645eb-3e25-4b1b-803b-3a1bb17911d8"
      },
      "execution_count": 142,
      "outputs": [
        {
          "output_type": "execute_result",
          "data": {
            "text/plain": [
              "1"
            ]
          },
          "metadata": {},
          "execution_count": 142
        }
      ]
    },
    {
      "cell_type": "code",
      "source": [
        "A.count(12)"
      ],
      "metadata": {
        "colab": {
          "base_uri": "https://localhost:8080/"
        },
        "id": "-70oANgGFSj8",
        "outputId": "b8900e24-8143-4e6c-b3a8-b7ec066a837c"
      },
      "execution_count": 143,
      "outputs": [
        {
          "output_type": "execute_result",
          "data": {
            "text/plain": [
              "1"
            ]
          },
          "metadata": {},
          "execution_count": 143
        }
      ]
    },
    {
      "cell_type": "code",
      "source": [
        "sum(A)"
      ],
      "metadata": {
        "colab": {
          "base_uri": "https://localhost:8080/"
        },
        "id": "a7GHA-goFWkt",
        "outputId": "d32fc650-e6bc-4a13-822c-6448656dee71"
      },
      "execution_count": 144,
      "outputs": [
        {
          "output_type": "execute_result",
          "data": {
            "text/plain": [
              "69"
            ]
          },
          "metadata": {},
          "execution_count": 144
        }
      ]
    },
    {
      "cell_type": "code",
      "source": [
        "# A.reversed()"
      ],
      "metadata": {
        "colab": {
          "base_uri": "https://localhost:8080/",
          "height": 172
        },
        "id": "F8zlfTaQFdid",
        "outputId": "ab255153-8c19-4f7d-ba60-bf0d78afc205"
      },
      "execution_count": 146,
      "outputs": [
        {
          "output_type": "error",
          "ename": "AttributeError",
          "evalue": "ignored",
          "traceback": [
            "\u001b[0;31m---------------------------------------------------------------------------\u001b[0m",
            "\u001b[0;31mAttributeError\u001b[0m                            Traceback (most recent call last)",
            "\u001b[0;32m<ipython-input-146-2477a2478712>\u001b[0m in \u001b[0;36m<module>\u001b[0;34m\u001b[0m\n\u001b[0;32m----> 1\u001b[0;31m \u001b[0mA\u001b[0m\u001b[0;34m.\u001b[0m\u001b[0mreversed\u001b[0m\u001b[0;34m(\u001b[0m\u001b[0;34m)\u001b[0m\u001b[0;34m\u001b[0m\u001b[0;34m\u001b[0m\u001b[0m\n\u001b[0m",
            "\u001b[0;31mAttributeError\u001b[0m: 'tuple' object has no attribute 'reversed'"
          ]
        }
      ]
    },
    {
      "cell_type": "code",
      "source": [
        "A"
      ],
      "metadata": {
        "colab": {
          "base_uri": "https://localhost:8080/"
        },
        "id": "8_Z7_YscGxl5",
        "outputId": "d300bc7b-d6fa-4003-f1b8-26fb8847adf2"
      },
      "execution_count": 147,
      "outputs": [
        {
          "output_type": "execute_result",
          "data": {
            "text/plain": [
              "(22, 12, 34, 1)"
            ]
          },
          "metadata": {},
          "execution_count": 147
        }
      ]
    },
    {
      "cell_type": "code",
      "source": [
        "A[1:]"
      ],
      "metadata": {
        "colab": {
          "base_uri": "https://localhost:8080/"
        },
        "id": "WxCb1Y03GxdS",
        "outputId": "540bf51c-827a-4e61-8555-735329dd915b"
      },
      "execution_count": 148,
      "outputs": [
        {
          "output_type": "execute_result",
          "data": {
            "text/plain": [
              "(12, 34, 1)"
            ]
          },
          "metadata": {},
          "execution_count": 148
        }
      ]
    },
    {
      "cell_type": "code",
      "source": [
        "A[::-1]"
      ],
      "metadata": {
        "colab": {
          "base_uri": "https://localhost:8080/"
        },
        "id": "nif32vCKG2hN",
        "outputId": "73e70fd5-fcd3-44b7-b90b-37e48892c7e7"
      },
      "execution_count": 149,
      "outputs": [
        {
          "output_type": "execute_result",
          "data": {
            "text/plain": [
              "(1, 34, 12, 22)"
            ]
          },
          "metadata": {},
          "execution_count": 149
        }
      ]
    },
    {
      "cell_type": "code",
      "source": [
        "# (\"item Name\", amount)\n",
        "\n",
        "amazon_cart = [(\"Watch\", 5000), (\"Phone\", 10000), (\"Laptop\", 50000), (\"Shirt\", 1000)]\n",
        "\n",
        "total_cost = 0"
      ],
      "metadata": {
        "id": "Bul77ttXFgQd"
      },
      "execution_count": 154,
      "outputs": []
    },
    {
      "cell_type": "code",
      "source": [
        "total_cost = 0\n",
        "print(f\"Empty Cart : {total_cost}\")\n",
        "for item in amazon_cart:\n",
        "  print(item[1])\n",
        "  total_cost = total_cost + item[1]\n",
        "  print(f\"cart after Adding {item[0]} : {total_cost}\")\n",
        "\n",
        "print(f\"Total Payable Amout : {total_cost}\")"
      ],
      "metadata": {
        "colab": {
          "base_uri": "https://localhost:8080/"
        },
        "id": "KWxamFQyGTxj",
        "outputId": "7bb5cfb2-eaca-4c45-83af-21f3f770b4bb"
      },
      "execution_count": 155,
      "outputs": [
        {
          "output_type": "stream",
          "name": "stdout",
          "text": [
            "Empty Cart : 0\n",
            "5000\n",
            "cart after Adding Watch : 5000\n",
            "10000\n",
            "cart after Adding Phone : 15000\n",
            "50000\n",
            "cart after Adding Laptop : 65000\n",
            "1000\n",
            "cart after Adding Shirt : 66000\n",
            "Total Payable Amout : 66000\n"
          ]
        }
      ]
    },
    {
      "cell_type": "code",
      "source": [
        "# user input what you want to purchase?\n",
        "#\n",
        "amazon_website = [(\"Watch\", 5000), (\"Phone\", 10000), (\"Laptop\", 50000), (\"Shirt\", 1000)]\n",
        "my_choice = input(\"What you want to purchase ? : \")\n"
      ],
      "metadata": {
        "colab": {
          "base_uri": "https://localhost:8080/"
        },
        "id": "QEIcalbfHPkh",
        "outputId": "b6afc744-a3ac-4d3e-d532-38264ac80d83"
      },
      "execution_count": 171,
      "outputs": [
        {
          "name": "stdout",
          "output_type": "stream",
          "text": [
            "What you want to purchase ? : Phone\n"
          ]
        }
      ]
    },
    {
      "cell_type": "code",
      "source": [
        "my_choice"
      ],
      "metadata": {
        "colab": {
          "base_uri": "https://localhost:8080/",
          "height": 36
        },
        "id": "BRhsXYzrIb3V",
        "outputId": "2f3a2422-d114-40c7-9aa5-d41d0b551f21"
      },
      "execution_count": 172,
      "outputs": [
        {
          "output_type": "execute_result",
          "data": {
            "text/plain": [
              "'Phone'"
            ],
            "application/vnd.google.colaboratory.intrinsic+json": {
              "type": "string"
            }
          },
          "metadata": {},
          "execution_count": 172
        }
      ]
    },
    {
      "cell_type": "code",
      "source": [
        "for items in amazon_website:\n",
        "  if items[0] == my_choice:\n",
        "    print(items)\n"
      ],
      "metadata": {
        "colab": {
          "base_uri": "https://localhost:8080/"
        },
        "id": "MDy9e2opIhYd",
        "outputId": "3ad0590b-7978-485a-d36b-545afb457464"
      },
      "execution_count": 174,
      "outputs": [
        {
          "output_type": "stream",
          "name": "stdout",
          "text": [
            "('Phone', 10000)\n"
          ]
        }
      ]
    },
    {
      "cell_type": "markdown",
      "source": [
        "## ASSIGNMENT\n",
        "\n",
        "1. On amazon Website we have the following items -\n",
        "```python\n",
        "amazon_website = [(\"Watch\", 5000), (\"Phone\", 10000), (\"Laptop\", 50000), (\"Shirt\", 1000)]\n",
        "```\n",
        "\n",
        "Take the user input N no. of times and find out the total cost to be paid?\n",
        "\n",
        "or\n",
        "\n",
        "you can as the use auantity or the count of item?\n",
        "\n",
        "if the item is not present in the amazon website then print that item as out of stock and do add it total.\n",
        "\n",
        "HINT : while, for loop... indexing"
      ],
      "metadata": {
        "id": "M3P5lEBSJ2UJ"
      }
    },
    {
      "cell_type": "markdown",
      "source": [
        "# SETS\n",
        "\n",
        "Unordered Collection of unique elements"
      ],
      "metadata": {
        "id": "lChQH9quL0rG"
      }
    },
    {
      "cell_type": "code",
      "source": [
        "x = {1,2,33,6,7}"
      ],
      "metadata": {
        "id": "gY2SIwYBIzIm"
      },
      "execution_count": 175,
      "outputs": []
    },
    {
      "cell_type": "code",
      "source": [
        "type(x)"
      ],
      "metadata": {
        "colab": {
          "base_uri": "https://localhost:8080/"
        },
        "id": "jR6tFsMvMN99",
        "outputId": "9cbfb9fd-1984-44bf-fa1c-d48655bdf033"
      },
      "execution_count": 176,
      "outputs": [
        {
          "output_type": "execute_result",
          "data": {
            "text/plain": [
              "set"
            ]
          },
          "metadata": {},
          "execution_count": 176
        }
      ]
    },
    {
      "cell_type": "code",
      "source": [
        "x = {1,2,33,6,7, 7,7}\n",
        "x"
      ],
      "metadata": {
        "colab": {
          "base_uri": "https://localhost:8080/"
        },
        "id": "5jxGuijDMO2Q",
        "outputId": "7a94e7b8-2a0c-40ee-da5b-b789b9552bcb"
      },
      "execution_count": 177,
      "outputs": [
        {
          "output_type": "execute_result",
          "data": {
            "text/plain": [
              "{1, 2, 6, 7, 33}"
            ]
          },
          "metadata": {},
          "execution_count": 177
        }
      ]
    },
    {
      "cell_type": "code",
      "source": [
        "x = set() #recommended\n",
        "type(x)"
      ],
      "metadata": {
        "colab": {
          "base_uri": "https://localhost:8080/"
        },
        "id": "UNI5XhKyMUkc",
        "outputId": "481497c2-432b-4330-95e5-6a25bf4cb179"
      },
      "execution_count": 178,
      "outputs": [
        {
          "output_type": "execute_result",
          "data": {
            "text/plain": [
              "set"
            ]
          },
          "metadata": {},
          "execution_count": 178
        }
      ]
    },
    {
      "cell_type": "code",
      "source": [
        "x = {} # Not recommended\n",
        "type(x)"
      ],
      "metadata": {
        "colab": {
          "base_uri": "https://localhost:8080/"
        },
        "id": "VSKDZ7oQMjM8",
        "outputId": "b2f48707-59c4-4a95-c7e2-eafd0866afb1"
      },
      "execution_count": 179,
      "outputs": [
        {
          "output_type": "execute_result",
          "data": {
            "text/plain": [
              "dict"
            ]
          },
          "metadata": {},
          "execution_count": 179
        }
      ]
    },
    {
      "cell_type": "code",
      "source": [
        "x = tuple() \n",
        "x"
      ],
      "metadata": {
        "colab": {
          "base_uri": "https://localhost:8080/"
        },
        "id": "R3mvjtyZMoxs",
        "outputId": "e85c6e9e-18e3-44da-b4e1-8f48fb029584"
      },
      "execution_count": 180,
      "outputs": [
        {
          "output_type": "execute_result",
          "data": {
            "text/plain": [
              "()"
            ]
          },
          "metadata": {},
          "execution_count": 180
        }
      ]
    },
    {
      "cell_type": "code",
      "source": [
        "x = list()\n",
        "x"
      ],
      "metadata": {
        "colab": {
          "base_uri": "https://localhost:8080/"
        },
        "id": "f-quwkxrMueu",
        "outputId": "1bca530c-e2b9-4bc0-8e8c-669ca0b53ac0"
      },
      "execution_count": 181,
      "outputs": [
        {
          "output_type": "execute_result",
          "data": {
            "text/plain": [
              "[]"
            ]
          },
          "metadata": {},
          "execution_count": 181
        }
      ]
    },
    {
      "cell_type": "code",
      "source": [
        "x = {1,2,33,6,7, 7,7}\n",
        "x"
      ],
      "metadata": {
        "colab": {
          "base_uri": "https://localhost:8080/"
        },
        "id": "jZJhrPHBNDZX",
        "outputId": "e5397dab-4d48-427e-f88a-3133d2cda673"
      },
      "execution_count": 182,
      "outputs": [
        {
          "output_type": "execute_result",
          "data": {
            "text/plain": [
              "{1, 2, 6, 7, 33}"
            ]
          },
          "metadata": {},
          "execution_count": 182
        }
      ]
    },
    {
      "cell_type": "code",
      "source": [
        "x[0] # Not allowed as set is unordered"
      ],
      "metadata": {
        "colab": {
          "base_uri": "https://localhost:8080/",
          "height": 172
        },
        "id": "JUUopSIRNF0l",
        "outputId": "77e0c1c8-56f7-466d-f706-ff2dc9da737d"
      },
      "execution_count": 184,
      "outputs": [
        {
          "output_type": "error",
          "ename": "TypeError",
          "evalue": "ignored",
          "traceback": [
            "\u001b[0;31m---------------------------------------------------------------------------\u001b[0m",
            "\u001b[0;31mTypeError\u001b[0m                                 Traceback (most recent call last)",
            "\u001b[0;32m<ipython-input-184-5241e9561c74>\u001b[0m in \u001b[0;36m<module>\u001b[0;34m\u001b[0m\n\u001b[0;32m----> 1\u001b[0;31m \u001b[0mx\u001b[0m\u001b[0;34m[\u001b[0m\u001b[0;36m0\u001b[0m\u001b[0;34m]\u001b[0m \u001b[0;31m# Not allowed as set is unordered\u001b[0m\u001b[0;34m\u001b[0m\u001b[0;34m\u001b[0m\u001b[0m\n\u001b[0m",
            "\u001b[0;31mTypeError\u001b[0m: 'set' object is not subscriptable"
          ]
        }
      ]
    },
    {
      "cell_type": "code",
      "source": [
        "x = {1,2,33,6,\"Sunny\"}\n",
        "x"
      ],
      "metadata": {
        "colab": {
          "base_uri": "https://localhost:8080/"
        },
        "id": "-0KdlJMsMwXs",
        "outputId": "a51e4fc7-3e7c-4e44-e5b2-2804ba3f3003"
      },
      "execution_count": 191,
      "outputs": [
        {
          "output_type": "execute_result",
          "data": {
            "text/plain": [
              "{1, 2, 33, 6, 'Sunny'}"
            ]
          },
          "metadata": {},
          "execution_count": 191
        }
      ]
    },
    {
      "cell_type": "code",
      "source": [
        "x.add(99)\n",
        "x"
      ],
      "metadata": {
        "colab": {
          "base_uri": "https://localhost:8080/"
        },
        "id": "oEQ7di0wNc2E",
        "outputId": "cab483df-1dbd-4962-ceaf-facb5a9b5f47"
      },
      "execution_count": 192,
      "outputs": [
        {
          "output_type": "execute_result",
          "data": {
            "text/plain": [
              "{1, 2, 33, 6, 99, 'Sunny'}"
            ]
          },
          "metadata": {},
          "execution_count": 192
        }
      ]
    },
    {
      "cell_type": "code",
      "source": [
        "x.add(99+2j)\n",
        "x"
      ],
      "metadata": {
        "colab": {
          "base_uri": "https://localhost:8080/"
        },
        "id": "nEe5Bf9rO5Tn",
        "outputId": "34cc26df-ff3e-4d81-869a-65fd0940b989"
      },
      "execution_count": 193,
      "outputs": [
        {
          "output_type": "execute_result",
          "data": {
            "text/plain": [
              "{(99+2j), 1, 2, 33, 6, 99, 'Sunny'}"
            ]
          },
          "metadata": {},
          "execution_count": 193
        }
      ]
    },
    {
      "cell_type": "code",
      "source": [
        "x.add(-100)\n",
        "x"
      ],
      "metadata": {
        "colab": {
          "base_uri": "https://localhost:8080/"
        },
        "id": "4JJl7ZhmO5Dt",
        "outputId": "2621cfeb-3f9b-444b-f8fc-cc98911d76ff"
      },
      "execution_count": 194,
      "outputs": [
        {
          "output_type": "execute_result",
          "data": {
            "text/plain": [
              "{(99+2j), -100, 1, 2, 33, 6, 99, 'Sunny'}"
            ]
          },
          "metadata": {},
          "execution_count": 194
        }
      ]
    },
    {
      "cell_type": "code",
      "source": [
        "x.add(-200)\n",
        "x"
      ],
      "metadata": {
        "colab": {
          "base_uri": "https://localhost:8080/"
        },
        "id": "hjeffw5UPGJ0",
        "outputId": "e0fc9cff-27e9-4b1d-fd9b-de8c491ed71d"
      },
      "execution_count": 195,
      "outputs": [
        {
          "output_type": "execute_result",
          "data": {
            "text/plain": [
              "{(99+2j), -100, -200, 1, 2, 33, 6, 99, 'Sunny'}"
            ]
          },
          "metadata": {},
          "execution_count": 195
        }
      ]
    },
    {
      "cell_type": "code",
      "source": [
        "x.add(20.2)\n",
        "x"
      ],
      "metadata": {
        "colab": {
          "base_uri": "https://localhost:8080/"
        },
        "id": "lo2g9KUuPJ3e",
        "outputId": "70c45134-01ee-44bb-beda-326f53b6e261"
      },
      "execution_count": 196,
      "outputs": [
        {
          "output_type": "execute_result",
          "data": {
            "text/plain": [
              "{(99+2j), -100, -200, 1, 2, 20.2, 33, 6, 99, 'Sunny'}"
            ]
          },
          "metadata": {},
          "execution_count": 196
        }
      ]
    },
    {
      "cell_type": "code",
      "source": [
        "x.add(40.2)\n",
        "x"
      ],
      "metadata": {
        "colab": {
          "base_uri": "https://localhost:8080/"
        },
        "id": "pAWkrll4PJ8Y",
        "outputId": "60637385-c6b0-4181-d640-6c167a7e5ccd"
      },
      "execution_count": 197,
      "outputs": [
        {
          "output_type": "execute_result",
          "data": {
            "text/plain": [
              "{(99+2j), -100, -200, 1, 2, 20.2, 33, 40.2, 6, 99, 'Sunny'}"
            ]
          },
          "metadata": {},
          "execution_count": 197
        }
      ]
    },
    {
      "cell_type": "code",
      "source": [
        "x.remove(-100)\n",
        "\n",
        "x"
      ],
      "metadata": {
        "colab": {
          "base_uri": "https://localhost:8080/"
        },
        "id": "HTiQsM2nPimx",
        "outputId": "8ef9c7d9-255c-4526-9501-d517127196f4"
      },
      "execution_count": 198,
      "outputs": [
        {
          "output_type": "execute_result",
          "data": {
            "text/plain": [
              "{(99+2j), -200, 1, 2, 20.2, 33, 40.2, 6, 99, 'Sunny'}"
            ]
          },
          "metadata": {},
          "execution_count": 198
        }
      ]
    },
    {
      "cell_type": "code",
      "source": [],
      "metadata": {
        "id": "CJyXHo-1Pijk"
      },
      "execution_count": null,
      "outputs": []
    },
    {
      "cell_type": "code",
      "source": [
        "## returnthe list with unique elements\n",
        "\n",
        "A = [1,2,3,5,5,6,6,7,7,7]\n",
        "A = list(set(A))\n",
        "A\n"
      ],
      "metadata": {
        "colab": {
          "base_uri": "https://localhost:8080/"
        },
        "id": "1kOcgVkiOVov",
        "outputId": "5462f251-e507-4ece-fac8-feb0abcf714e"
      },
      "execution_count": 190,
      "outputs": [
        {
          "output_type": "execute_result",
          "data": {
            "text/plain": [
              "[1, 2, 3, 5, 6, 7]"
            ]
          },
          "metadata": {},
          "execution_count": 190
        }
      ]
    },
    {
      "cell_type": "code",
      "source": [
        "x.append(99)\n",
        "x"
      ],
      "metadata": {
        "colab": {
          "base_uri": "https://localhost:8080/",
          "height": 190
        },
        "id": "R52GisTHN_5H",
        "outputId": "bcde8cc5-2d4b-4aaf-a448-c5d1cddfd7f9"
      },
      "execution_count": 187,
      "outputs": [
        {
          "output_type": "error",
          "ename": "AttributeError",
          "evalue": "ignored",
          "traceback": [
            "\u001b[0;31m---------------------------------------------------------------------------\u001b[0m",
            "\u001b[0;31mAttributeError\u001b[0m                            Traceback (most recent call last)",
            "\u001b[0;32m<ipython-input-187-aa633e9e4fe3>\u001b[0m in \u001b[0;36m<module>\u001b[0;34m\u001b[0m\n\u001b[0;32m----> 1\u001b[0;31m \u001b[0mx\u001b[0m\u001b[0;34m.\u001b[0m\u001b[0mappend\u001b[0m\u001b[0;34m(\u001b[0m\u001b[0;36m99\u001b[0m\u001b[0;34m)\u001b[0m\u001b[0;34m\u001b[0m\u001b[0;34m\u001b[0m\u001b[0m\n\u001b[0m\u001b[1;32m      2\u001b[0m \u001b[0mx\u001b[0m\u001b[0;34m\u001b[0m\u001b[0;34m\u001b[0m\u001b[0m\n",
            "\u001b[0;31mAttributeError\u001b[0m: 'set' object has no attribute 'append'"
          ]
        }
      ]
    },
    {
      "cell_type": "code",
      "source": [
        "A = {1,2,3}\n",
        "B = {4,5,6}\n",
        "\n",
        "A+B"
      ],
      "metadata": {
        "colab": {
          "base_uri": "https://localhost:8080/",
          "height": 209
        },
        "id": "mkPvIqG6OD8l",
        "outputId": "587a53f5-04a7-4fb9-a019-7a089894ac50"
      },
      "execution_count": 188,
      "outputs": [
        {
          "output_type": "error",
          "ename": "TypeError",
          "evalue": "ignored",
          "traceback": [
            "\u001b[0;31m---------------------------------------------------------------------------\u001b[0m",
            "\u001b[0;31mTypeError\u001b[0m                                 Traceback (most recent call last)",
            "\u001b[0;32m<ipython-input-188-b597d91af5d7>\u001b[0m in \u001b[0;36m<module>\u001b[0;34m\u001b[0m\n\u001b[1;32m      2\u001b[0m \u001b[0mB\u001b[0m \u001b[0;34m=\u001b[0m \u001b[0;34m{\u001b[0m\u001b[0;36m4\u001b[0m\u001b[0;34m,\u001b[0m\u001b[0;36m5\u001b[0m\u001b[0;34m,\u001b[0m\u001b[0;36m6\u001b[0m\u001b[0;34m}\u001b[0m\u001b[0;34m\u001b[0m\u001b[0;34m\u001b[0m\u001b[0m\n\u001b[1;32m      3\u001b[0m \u001b[0;34m\u001b[0m\u001b[0m\n\u001b[0;32m----> 4\u001b[0;31m \u001b[0mA\u001b[0m\u001b[0;34m+\u001b[0m\u001b[0mB\u001b[0m\u001b[0;34m\u001b[0m\u001b[0;34m\u001b[0m\u001b[0m\n\u001b[0m",
            "\u001b[0;31mTypeError\u001b[0m: unsupported operand type(s) for +: 'set' and 'set'"
          ]
        }
      ]
    },
    {
      "cell_type": "code",
      "source": [],
      "metadata": {
        "id": "nHm-Ft5zORlU"
      },
      "execution_count": null,
      "outputs": []
    }
  ]
}