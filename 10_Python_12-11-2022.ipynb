{
 "cells": [
  {
   "cell_type": "code",
   "execution_count": 1,
   "id": "886b1223-3af4-47c1-ac90-b16b88244bec",
   "metadata": {},
   "outputs": [],
   "source": [
    "def test1():\n",
    "    a=5+6\n",
    "    return a"
   ]
  },
  {
   "cell_type": "code",
   "execution_count": 2,
   "id": "619d04f4-93e1-4e4f-8f1a-76bce499dd5a",
   "metadata": {},
   "outputs": [
    {
     "data": {
      "text/plain": [
       "11"
      ]
     },
     "execution_count": 2,
     "metadata": {},
     "output_type": "execute_result"
    }
   ],
   "source": [
    "test1()"
   ]
  },
  {
   "cell_type": "code",
   "execution_count": 3,
   "id": "82bc9bb8-61cb-446c-a5a1-66870884dd8a",
   "metadata": {},
   "outputs": [],
   "source": [
    "def test2(a,b):\n",
    "    return a+b"
   ]
  },
  {
   "cell_type": "code",
   "execution_count": 4,
   "id": "a8a863fc-629e-46ef-9f3c-bcc8e5696795",
   "metadata": {},
   "outputs": [
    {
     "data": {
      "text/plain": [
       "3"
      ]
     },
     "execution_count": 4,
     "metadata": {},
     "output_type": "execute_result"
    }
   ],
   "source": [
    "test2(1,2)"
   ]
  },
  {
   "cell_type": "code",
   "execution_count": 6,
   "id": "b5f55f5e-a11b-4812-a012-d0b151cd5e23",
   "metadata": {},
   "outputs": [
    {
     "data": {
      "text/plain": [
       "'sudhkumar'"
      ]
     },
     "execution_count": 6,
     "metadata": {},
     "output_type": "execute_result"
    }
   ],
   "source": [
    "test2(\"sudh\", \"kumar\")"
   ]
  },
  {
   "cell_type": "code",
   "execution_count": 7,
   "id": "ed3d3308-c490-4933-8f2a-214d3fc8d873",
   "metadata": {},
   "outputs": [
    {
     "data": {
      "text/plain": [
       "'43454sdsds'"
      ]
     },
     "execution_count": 7,
     "metadata": {},
     "output_type": "execute_result"
    }
   ],
   "source": [
    "test2(b = \"sdsds\", a = \"43454\")"
   ]
  },
  {
   "cell_type": "code",
   "execution_count": 8,
   "id": "d6920e6e-bfab-4b79-ba09-6135e437c183",
   "metadata": {},
   "outputs": [],
   "source": [
    "def test3(*args):\n",
    "    return args"
   ]
  },
  {
   "cell_type": "code",
   "execution_count": 9,
   "id": "aee6d7e9-b572-4d5b-a827-1c7f1446eaa2",
   "metadata": {},
   "outputs": [
    {
     "data": {
      "text/plain": [
       "(1, 2, 3, 4, 'sudh')"
      ]
     },
     "execution_count": 9,
     "metadata": {},
     "output_type": "execute_result"
    }
   ],
   "source": [
    "test3(1,2,3,4,\"sudh\")"
   ]
  },
  {
   "cell_type": "code",
   "execution_count": 10,
   "id": "0961d931-e64d-4db1-9342-a35eea305e76",
   "metadata": {},
   "outputs": [
    {
     "data": {
      "text/plain": [
       "tuple"
      ]
     },
     "execution_count": 10,
     "metadata": {},
     "output_type": "execute_result"
    }
   ],
   "source": [
    "type(test3(1,2,3,4,\"sudh\"))"
   ]
  },
  {
   "cell_type": "code",
   "execution_count": 11,
   "id": "8324f552-d5dd-43e7-87eb-4d33bc0fdf7e",
   "metadata": {},
   "outputs": [
    {
     "data": {
      "text/plain": [
       "([1, 2, 3, 4, 5], 'sudh', 'ineuron', (5+7j), (4, 5, 6))"
      ]
     },
     "execution_count": 11,
     "metadata": {},
     "output_type": "execute_result"
    }
   ],
   "source": [
    "test3([1,2,3,4,5], \"sudh\", \"ineuron\", 5+7j, (4,5,6))"
   ]
  },
  {
   "cell_type": "code",
   "execution_count": 12,
   "id": "a3496305-646c-4969-9a58-081c40312237",
   "metadata": {},
   "outputs": [],
   "source": [
    "def test4(*args):\n",
    "    return list(args)"
   ]
  },
  {
   "cell_type": "code",
   "execution_count": 13,
   "id": "6a6580aa-d774-4e84-9ac0-8d82d4c0d526",
   "metadata": {},
   "outputs": [
    {
     "data": {
      "text/plain": [
       "['sudh', True, (88+7j), 34, 34.56]"
      ]
     },
     "execution_count": 13,
     "metadata": {},
     "output_type": "execute_result"
    }
   ],
   "source": [
    "test4(\"sudh\", True, 88+7j, 34,34.56)"
   ]
  },
  {
   "cell_type": "code",
   "execution_count": 14,
   "id": "10d3ae45-49e2-4889-84cc-f15ec531bf50",
   "metadata": {},
   "outputs": [],
   "source": [
    "def test5(*args):\n",
    "    l = list()\n",
    "    for i in args:\n",
    "        l.append(i)\n",
    "    return l"
   ]
  },
  {
   "cell_type": "code",
   "execution_count": 15,
   "id": "f4b8e953-5b8f-43e5-86de-ced16781a1fc",
   "metadata": {},
   "outputs": [
    {
     "data": {
      "text/plain": [
       "[1, 2, 3, 4, 'sudh']"
      ]
     },
     "execution_count": 15,
     "metadata": {},
     "output_type": "execute_result"
    }
   ],
   "source": [
    "test5(1,2,3,4,\"sudh\")"
   ]
  },
  {
   "cell_type": "code",
   "execution_count": 16,
   "id": "563bccaa-2f9c-4fe2-a3c6-ddf4e986a5c8",
   "metadata": {},
   "outputs": [],
   "source": [
    "def test6(*sudh):\n",
    "    return list(sudh)"
   ]
  },
  {
   "cell_type": "code",
   "execution_count": 17,
   "id": "8cc5e89f-b6f6-481a-88a3-9ef1df68ea44",
   "metadata": {},
   "outputs": [
    {
     "data": {
      "text/plain": [
       "[1, 2, 3, 4, 'sudh']"
      ]
     },
     "execution_count": 17,
     "metadata": {},
     "output_type": "execute_result"
    }
   ],
   "source": [
    "test6(1,2,3,4,\"sudh\")"
   ]
  },
  {
   "cell_type": "code",
   "execution_count": 18,
   "id": "7ccc2299-c4a4-4b47-b09f-1e4ed019dcb0",
   "metadata": {},
   "outputs": [],
   "source": [
    "l = [1,2,3,4,5,6]\n",
    "t = (4,5,6,8+7j)\n",
    "s = {3,4,5,6,6,5,6,6,6,6,6}"
   ]
  },
  {
   "cell_type": "code",
   "execution_count": 19,
   "id": "208e9ac3-1807-4425-ae63-9048a12d58d3",
   "metadata": {},
   "outputs": [
    {
     "data": {
      "text/plain": [
       "[1, 2, 3, 4, 5, 6]"
      ]
     },
     "execution_count": 19,
     "metadata": {},
     "output_type": "execute_result"
    }
   ],
   "source": [
    " l"
   ]
  },
  {
   "cell_type": "code",
   "execution_count": 20,
   "id": "89c032e9-805e-454f-a824-30a13f0d0c07",
   "metadata": {},
   "outputs": [
    {
     "data": {
      "text/plain": [
       "{3, 4, 5, 6}"
      ]
     },
     "execution_count": 20,
     "metadata": {},
     "output_type": "execute_result"
    }
   ],
   "source": [
    "s"
   ]
  },
  {
   "cell_type": "code",
   "execution_count": null,
   "id": "b16c05a2-2137-42b9-af82-13986645771c",
   "metadata": {},
   "outputs": [],
   "source": []
  },
  {
   "cell_type": "code",
   "execution_count": null,
   "id": "e25f09dc-593e-415e-9fff-554992d37ce7",
   "metadata": {},
   "outputs": [],
   "source": []
  },
  {
   "cell_type": "code",
   "execution_count": 21,
   "id": "a6332f60-7a75-4404-9328-b1f043c96e33",
   "metadata": {},
   "outputs": [],
   "source": [
    "#DICTIONARY\n",
    "d = {}"
   ]
  },
  {
   "cell_type": "code",
   "execution_count": 22,
   "id": "d9a6db8c-6d76-4b6b-b449-f2bab1a5fac4",
   "metadata": {},
   "outputs": [
    {
     "data": {
      "text/plain": [
       "dict"
      ]
     },
     "execution_count": 22,
     "metadata": {},
     "output_type": "execute_result"
    }
   ],
   "source": [
    "type(d)"
   ]
  },
  {
   "cell_type": "code",
   "execution_count": 23,
   "id": "bf08eb00-20c2-4e5b-9dc6-92c63718007e",
   "metadata": {},
   "outputs": [],
   "source": [
    "d1 = {2,3,4,5}"
   ]
  },
  {
   "cell_type": "code",
   "execution_count": 24,
   "id": "62b59a43-e1c4-4dcb-8f61-d9f96f707545",
   "metadata": {},
   "outputs": [
    {
     "data": {
      "text/plain": [
       "set"
      ]
     },
     "execution_count": 24,
     "metadata": {},
     "output_type": "execute_result"
    }
   ],
   "source": [
    "type(d1)"
   ]
  },
  {
   "cell_type": "code",
   "execution_count": 25,
   "id": "9aa5517a-5e06-4e8d-8db7-f717961d64da",
   "metadata": {},
   "outputs": [],
   "source": [
    "d2 = {\"key1\":\"sudh\", \"key2\" : [1,2,3,4,5]}"
   ]
  },
  {
   "cell_type": "code",
   "execution_count": 26,
   "id": "9c3be8c0-500c-48b7-ab1e-81f39f91b5a7",
   "metadata": {},
   "outputs": [
    {
     "data": {
      "text/plain": [
       "[1, 2, 3, 4, 5, 6]"
      ]
     },
     "execution_count": 26,
     "metadata": {},
     "output_type": "execute_result"
    }
   ],
   "source": [
    "l"
   ]
  },
  {
   "cell_type": "code",
   "execution_count": 27,
   "id": "febf164a-9d72-488f-acdf-f6e020b0b1fc",
   "metadata": {},
   "outputs": [
    {
     "data": {
      "text/plain": [
       "{'key1': 'sudh', 'key2': [1, 2, 3, 4, 5]}"
      ]
     },
     "execution_count": 27,
     "metadata": {},
     "output_type": "execute_result"
    }
   ],
   "source": [
    "d2"
   ]
  },
  {
   "cell_type": "code",
   "execution_count": 28,
   "id": "fa4c51b2-7c74-465b-b4d5-d5752b344df8",
   "metadata": {},
   "outputs": [],
   "source": [
    "d3 = {234324 : \"sudh\"}"
   ]
  },
  {
   "cell_type": "code",
   "execution_count": 29,
   "id": "13328fb0-cd97-45b9-9731-8bde03011d51",
   "metadata": {},
   "outputs": [
    {
     "data": {
      "text/plain": [
       "{234324: 'sudh'}"
      ]
     },
     "execution_count": 29,
     "metadata": {},
     "output_type": "execute_result"
    }
   ],
   "source": [
    "d3"
   ]
  },
  {
   "cell_type": "code",
   "execution_count": 31,
   "id": "4837daba-530e-4e9e-a01d-0ebf06ff9ebd",
   "metadata": {},
   "outputs": [],
   "source": [
    "d4 = {\"$sudh\":\"sudh\"}"
   ]
  },
  {
   "cell_type": "code",
   "execution_count": null,
   "id": "8cce234d-234a-46e5-ab78-59943f1583b6",
   "metadata": {},
   "outputs": [],
   "source": [
    "d5 = {[1,2,3,4]: \"sudh\"}"
   ]
  },
  {
   "cell_type": "code",
   "execution_count": 34,
   "id": "183d8e0e-9494-4b02-9e39-866ffc719c3a",
   "metadata": {},
   "outputs": [],
   "source": [
    "d6 = {(1,2,3,4): \"sudh\"}"
   ]
  },
  {
   "cell_type": "code",
   "execution_count": 41,
   "id": "7ed4d4f1-7255-4913-ad52-e1fc0a2127f0",
   "metadata": {},
   "outputs": [],
   "source": [
    "d7 = {\"name\" : \"sudhanshu\", \"org\":\"Ineuron\", \"email Id\":\"sudhanshu@gmail.com\", \"name\":\"sudh\", \"name1\":\"sudh\"}"
   ]
  },
  {
   "cell_type": "code",
   "execution_count": 42,
   "id": "99c34b76-b8ec-4e69-b0eb-1d43c3f74b5d",
   "metadata": {},
   "outputs": [
    {
     "data": {
      "text/plain": [
       "{'name': 'sudh',\n",
       " 'org': 'Ineuron',\n",
       " 'email Id': 'sudhanshu@gmail.com',\n",
       " 'name1': 'sudh'}"
      ]
     },
     "execution_count": 42,
     "metadata": {},
     "output_type": "execute_result"
    }
   ],
   "source": [
    "d7"
   ]
  },
  {
   "cell_type": "code",
   "execution_count": 43,
   "id": "fe2cf987-c540-4a1a-814e-3b0946622630",
   "metadata": {},
   "outputs": [],
   "source": [
    "d8 = {\"name\" : \"sudh\", \"mentor\" : {\"fsds\" : \"imran\", \"fsda\":\"anand\", \"bigdata\":\"shashank\"}}"
   ]
  },
  {
   "cell_type": "code",
   "execution_count": 44,
   "id": "aa121337-e6ab-45d5-9550-1a1e0045a30c",
   "metadata": {},
   "outputs": [
    {
     "data": {
      "text/plain": [
       "{'name': 'sudh',\n",
       " 'mentor': {'fsds': 'imran', 'fsda': 'anand', 'bigdata': 'shashank'}}"
      ]
     },
     "execution_count": 44,
     "metadata": {},
     "output_type": "execute_result"
    }
   ],
   "source": [
    "d8"
   ]
  },
  {
   "cell_type": "code",
   "execution_count": 45,
   "id": "b615f9ad-9a2d-4421-a89e-c2bd13b3828d",
   "metadata": {},
   "outputs": [
    {
     "data": {
      "text/plain": [
       "{'name': 'sudh',\n",
       " 'org': 'Ineuron',\n",
       " 'email Id': 'sudhanshu@gmail.com',\n",
       " 'name1': 'sudh'}"
      ]
     },
     "execution_count": 45,
     "metadata": {},
     "output_type": "execute_result"
    }
   ],
   "source": [
    "d7"
   ]
  },
  {
   "cell_type": "code",
   "execution_count": 49,
   "id": "7097aeb8-d1d2-4406-8987-345292677275",
   "metadata": {},
   "outputs": [
    {
     "data": {
      "text/plain": [
       "[1, 2, 3, 4, 5, 6]"
      ]
     },
     "execution_count": 49,
     "metadata": {},
     "output_type": "execute_result"
    }
   ],
   "source": [
    "l"
   ]
  },
  {
   "cell_type": "code",
   "execution_count": 50,
   "id": "8c4dcce4-2c54-4ceb-97fb-12067fea23f1",
   "metadata": {},
   "outputs": [
    {
     "data": {
      "text/plain": [
       "2"
      ]
     },
     "execution_count": 50,
     "metadata": {},
     "output_type": "execute_result"
    }
   ],
   "source": [
    "l[1]"
   ]
  },
  {
   "cell_type": "code",
   "execution_count": 51,
   "id": "f44b8e24-025f-4858-9cea-d8bb51f310d9",
   "metadata": {},
   "outputs": [
    {
     "data": {
      "text/plain": [
       "'sudhanshu@gmail.com'"
      ]
     },
     "execution_count": 51,
     "metadata": {},
     "output_type": "execute_result"
    }
   ],
   "source": [
    "d7['email Id']"
   ]
  },
  {
   "cell_type": "code",
   "execution_count": 52,
   "id": "979961d3-ebf4-4db8-a111-06f16b1fe51b",
   "metadata": {},
   "outputs": [
    {
     "data": {
      "text/plain": [
       "{'name': 'sudh',\n",
       " 'org': 'Ineuron',\n",
       " 'email Id': 'sudhanshu@gmail.com',\n",
       " 'name1': 'sudh'}"
      ]
     },
     "execution_count": 52,
     "metadata": {},
     "output_type": "execute_result"
    }
   ],
   "source": [
    "d7"
   ]
  },
  {
   "cell_type": "code",
   "execution_count": 53,
   "id": "028dec5a-d613-413c-9de2-a6d60d4d412a",
   "metadata": {},
   "outputs": [
    {
     "data": {
      "text/plain": [
       "{'name': 'sudh',\n",
       " 'mentor': {'fsds': 'imran', 'fsda': 'anand', 'bigdata': 'shashank'}}"
      ]
     },
     "execution_count": 53,
     "metadata": {},
     "output_type": "execute_result"
    }
   ],
   "source": [
    "d8"
   ]
  },
  {
   "cell_type": "code",
   "execution_count": 57,
   "id": "adf22416-0cec-441b-9cad-c0658ec1ee84",
   "metadata": {},
   "outputs": [
    {
     "data": {
      "text/plain": [
       "{'fsds': 'imran', 'fsda': 'anand', 'bigdata': 'shashank'}"
      ]
     },
     "execution_count": 57,
     "metadata": {},
     "output_type": "execute_result"
    }
   ],
   "source": [
    "d8[\"mentor\"]"
   ]
  },
  {
   "cell_type": "code",
   "execution_count": 58,
   "id": "6418f232-ea56-4e26-9052-a7ee16fbf9f4",
   "metadata": {},
   "outputs": [
    {
     "data": {
      "text/plain": [
       "'shashank'"
      ]
     },
     "execution_count": 58,
     "metadata": {},
     "output_type": "execute_result"
    }
   ],
   "source": [
    "d8[\"mentor\"][\"bigdata\"]"
   ]
  },
  {
   "cell_type": "code",
   "execution_count": 59,
   "id": "564217bf-e67e-4600-87a9-2ab05b97e43d",
   "metadata": {},
   "outputs": [
    {
     "data": {
      "text/plain": [
       "{'name': 'sudh',\n",
       " 'org': 'Ineuron',\n",
       " 'email Id': 'sudhanshu@gmail.com',\n",
       " 'name1': 'sudh'}"
      ]
     },
     "execution_count": 59,
     "metadata": {},
     "output_type": "execute_result"
    }
   ],
   "source": [
    "d7"
   ]
  },
  {
   "cell_type": "code",
   "execution_count": 62,
   "id": "7b9f1573-1417-4295-a9e8-f2bb5ee2c44b",
   "metadata": {},
   "outputs": [
    {
     "data": {
      "text/plain": [
       "['name', 'org', 'email Id', 'name1']"
      ]
     },
     "execution_count": 62,
     "metadata": {},
     "output_type": "execute_result"
    }
   ],
   "source": [
    "list(d7.keys())"
   ]
  },
  {
   "cell_type": "code",
   "execution_count": 63,
   "id": "2b605d72-b5f7-418c-8178-44f6e585c2d7",
   "metadata": {},
   "outputs": [
    {
     "data": {
      "text/plain": [
       "['sudh', 'Ineuron', 'sudhanshu@gmail.com', 'sudh']"
      ]
     },
     "execution_count": 63,
     "metadata": {},
     "output_type": "execute_result"
    }
   ],
   "source": [
    "list(d7.values())"
   ]
  },
  {
   "cell_type": "code",
   "execution_count": 65,
   "id": "20fcecd8-3605-4ffe-8c24-2b486685b632",
   "metadata": {},
   "outputs": [
    {
     "data": {
      "text/plain": [
       "[('name', 'sudh'),\n",
       " ('org', 'Ineuron'),\n",
       " ('email Id', 'sudhanshu@gmail.com'),\n",
       " ('name1', 'sudh')]"
      ]
     },
     "execution_count": 65,
     "metadata": {},
     "output_type": "execute_result"
    }
   ],
   "source": [
    "list(d7.items())"
   ]
  },
  {
   "cell_type": "code",
   "execution_count": 66,
   "id": "4c15a856-ee47-42e3-849e-3b9891a1329a",
   "metadata": {},
   "outputs": [
    {
     "data": {
      "text/plain": [
       "{'name': 'sudh',\n",
       " 'mentor': {'fsds': 'imran', 'fsda': 'anand', 'bigdata': 'shashank'}}"
      ]
     },
     "execution_count": 66,
     "metadata": {},
     "output_type": "execute_result"
    }
   ],
   "source": [
    "d8"
   ]
  },
  {
   "cell_type": "code",
   "execution_count": 68,
   "id": "ac5419ec-86ac-4ec0-b387-93717f3259b0",
   "metadata": {},
   "outputs": [
    {
     "data": {
      "text/plain": [
       "['imran', 'anand', 'shashank']"
      ]
     },
     "execution_count": 68,
     "metadata": {},
     "output_type": "execute_result"
    }
   ],
   "source": [
    "list(d8['mentor'].values())"
   ]
  },
  {
   "cell_type": "code",
   "execution_count": 82,
   "id": "974bc349-6360-4d96-a6e3-1a467b4c9575",
   "metadata": {},
   "outputs": [],
   "source": [
    "ll = list()\n",
    "for i in d8.keys():\n",
    "    # print(i)\n",
    "    if type(d8[i]) == dict :\n",
    "        # print(d8[i])\n",
    "        ll.append(list(d8[i].values()))\n",
    "        \n",
    "        "
   ]
  },
  {
   "cell_type": "code",
   "execution_count": 83,
   "id": "51bfb39e-af99-4602-b272-0eed6ff61530",
   "metadata": {},
   "outputs": [
    {
     "data": {
      "text/plain": [
       "[['imran', 'anand', 'shashank']]"
      ]
     },
     "execution_count": 83,
     "metadata": {},
     "output_type": "execute_result"
    }
   ],
   "source": [
    "ll"
   ]
  },
  {
   "cell_type": "code",
   "execution_count": 85,
   "id": "3d662fa0-1409-4ba2-be30-dc76191618e0",
   "metadata": {},
   "outputs": [],
   "source": [
    "d9 = {'name': 'sudh',\n",
    "     'mentor': {'fsds': 'imran', 'fsda': 'anand', 'bigdata': 'shashank'}, \"mail_id\": {\"imran\": \"imran@ineuron.ai\", \"anand\" : \"anand@ineuron.ai\", \"shashank\" : \"shashank@ineruon.ai\"}}"
   ]
  },
  {
   "cell_type": "code",
   "execution_count": 86,
   "id": "17d92ccd-5464-492e-b0d5-925778aa5735",
   "metadata": {},
   "outputs": [
    {
     "data": {
      "text/plain": [
       "{'name': 'sudh',\n",
       " 'mentor': {'fsds': 'imran', 'fsda': 'anand', 'bigdata': 'shashank'},\n",
       " 'mail_id': {'imran': 'imran@ineuron.ai',\n",
       "  'anand': 'anand@ineuron.ai',\n",
       "  'shashank': 'shashank@ineruon.ai'}}"
      ]
     },
     "execution_count": 86,
     "metadata": {},
     "output_type": "execute_result"
    }
   ],
   "source": [
    "d9"
   ]
  },
  {
   "cell_type": "code",
   "execution_count": 89,
   "id": "dce0bd02-9868-45ef-abb9-f17a758ecc76",
   "metadata": {},
   "outputs": [],
   "source": [
    "ll1 = list()\n",
    "for i in d9.keys():\n",
    "    # print(i)\n",
    "    if type(d9[i]) == dict :\n",
    "        # print(d8[i])\n",
    "        ll1.append(list(d9[i].values()))\n",
    "        \n",
    "        "
   ]
  },
  {
   "cell_type": "code",
   "execution_count": 90,
   "id": "7d90098b-fab9-47e1-a393-38ae3d81cd00",
   "metadata": {},
   "outputs": [
    {
     "data": {
      "text/plain": [
       "[['imran', 'anand', 'shashank'],\n",
       " ['imran@ineuron.ai', 'anand@ineuron.ai', 'shashank@ineruon.ai']]"
      ]
     },
     "execution_count": 90,
     "metadata": {},
     "output_type": "execute_result"
    }
   ],
   "source": [
    "ll1"
   ]
  },
  {
   "cell_type": "code",
   "execution_count": 91,
   "id": "5ba00651-540a-4eaa-8419-fb29bf4b1cc5",
   "metadata": {},
   "outputs": [],
   "source": [
    "def test9(d):\n",
    "    ll1 = list()\n",
    "    for i in d.keys():\n",
    "        # print(i)\n",
    "        if type(d[i]) == dict :\n",
    "            # print(d8[i])\n",
    "            ll1.append(list(d[i].values()))\n",
    "    return ll1\n",
    "        "
   ]
  },
  {
   "cell_type": "code",
   "execution_count": 92,
   "id": "6cbbef98-2154-4ba8-9cc9-609ea984bc45",
   "metadata": {},
   "outputs": [
    {
     "data": {
      "text/plain": [
       "[['imran', 'anand', 'shashank'],\n",
       " ['imran@ineuron.ai', 'anand@ineuron.ai', 'shashank@ineruon.ai']]"
      ]
     },
     "execution_count": 92,
     "metadata": {},
     "output_type": "execute_result"
    }
   ],
   "source": [
    "test9(d8)"
   ]
  },
  {
   "cell_type": "code",
   "execution_count": 93,
   "id": "2ecdea60-a4d0-4a67-9c45-717130ee8aa2",
   "metadata": {},
   "outputs": [
    {
     "data": {
      "text/plain": [
       "[['imran', 'anand', 'shashank'],\n",
       " ['imran@ineuron.ai', 'anand@ineuron.ai', 'shashank@ineruon.ai']]"
      ]
     },
     "execution_count": 93,
     "metadata": {},
     "output_type": "execute_result"
    }
   ],
   "source": [
    "test9(d9)"
   ]
  },
  {
   "cell_type": "code",
   "execution_count": 94,
   "id": "8f2f2148-f136-49e9-805d-ed0b4e74cf80",
   "metadata": {},
   "outputs": [
    {
     "data": {
      "text/plain": [
       "[['imran', 'anand', 'shashank'],\n",
       " ['imran@ineuron.ai', 'anand@ineuron.ai', 'shashank@ineruon.ai']]"
      ]
     },
     "execution_count": 94,
     "metadata": {},
     "output_type": "execute_result"
    }
   ],
   "source": [
    "test9(d7)"
   ]
  },
  {
   "cell_type": "code",
   "execution_count": 95,
   "id": "189c5c8c-1402-46fc-bae4-06424e2f3e00",
   "metadata": {},
   "outputs": [
    {
     "data": {
      "text/plain": [
       "{'name': 'sudh',\n",
       " 'mentor': {'fsds': 'imran', 'fsda': 'anand', 'bigdata': 'shashank'}}"
      ]
     },
     "execution_count": 95,
     "metadata": {},
     "output_type": "execute_result"
    }
   ],
   "source": [
    "d8"
   ]
  },
  {
   "cell_type": "code",
   "execution_count": 96,
   "id": "bf2d7b8e-d682-4b2c-89a9-94b25a71c71f",
   "metadata": {},
   "outputs": [],
   "source": [
    "#ADDING KEy VALUES Pairs\n",
    "d8[\"mobilenumber\"] = (91830,455646,546)"
   ]
  },
  {
   "cell_type": "code",
   "execution_count": 97,
   "id": "75208d6b-5f60-4cb1-aa81-60e957f9e7b8",
   "metadata": {
    "tags": []
   },
   "outputs": [
    {
     "data": {
      "text/plain": [
       "{'name': 'sudh',\n",
       " 'mentor': {'fsds': 'imran', 'fsda': 'anand', 'bigdata': 'shashank'},\n",
       " 'mobilenumber': (91830, 455646, 546)}"
      ]
     },
     "execution_count": 97,
     "metadata": {},
     "output_type": "execute_result"
    }
   ],
   "source": [
    "d8"
   ]
  },
  {
   "cell_type": "code",
   "execution_count": 98,
   "id": "6225513e-bbf9-4aba-96a0-4c9a9d54a75f",
   "metadata": {},
   "outputs": [],
   "source": [
    "#ADDING KEy VALUES Pairs\n",
    "d8[\"name\"] = \"Sudhanshu Kumar\""
   ]
  },
  {
   "cell_type": "code",
   "execution_count": 99,
   "id": "50c1f33d-5428-4403-aa8f-b75d8052fc35",
   "metadata": {},
   "outputs": [
    {
     "data": {
      "text/plain": [
       "{'name': 'Sudhanshu Kumar',\n",
       " 'mentor': {'fsds': 'imran', 'fsda': 'anand', 'bigdata': 'shashank'},\n",
       " 'mobilenumber': (91830, 455646, 546)}"
      ]
     },
     "execution_count": 99,
     "metadata": {},
     "output_type": "execute_result"
    }
   ],
   "source": [
    "d8"
   ]
  },
  {
   "cell_type": "code",
   "execution_count": 100,
   "id": "18919466-573a-4452-9269-4dcdc8f06ec3",
   "metadata": {},
   "outputs": [],
   "source": [
    "del d7"
   ]
  },
  {
   "cell_type": "code",
   "execution_count": 101,
   "id": "ddf9298f-15c7-4321-a7cb-d1c2a11eeebe",
   "metadata": {},
   "outputs": [
    {
     "ename": "NameError",
     "evalue": "name 'd7' is not defined",
     "output_type": "error",
     "traceback": [
      "\u001b[0;31m---------------------------------------------------------------------------\u001b[0m",
      "\u001b[0;31mNameError\u001b[0m                                 Traceback (most recent call last)",
      "Cell \u001b[0;32mIn [101], line 1\u001b[0m\n\u001b[0;32m----> 1\u001b[0m \u001b[43md7\u001b[49m\n",
      "\u001b[0;31mNameError\u001b[0m: name 'd7' is not defined"
     ]
    }
   ],
   "source": [
    "d7"
   ]
  },
  {
   "cell_type": "code",
   "execution_count": 102,
   "id": "eb357b26-f2bd-411b-9c1e-18b2ca25103d",
   "metadata": {},
   "outputs": [
    {
     "data": {
      "text/plain": [
       "{'name': 'Sudhanshu Kumar',\n",
       " 'mentor': {'fsds': 'imran', 'fsda': 'anand', 'bigdata': 'shashank'},\n",
       " 'mobilenumber': (91830, 455646, 546)}"
      ]
     },
     "execution_count": 102,
     "metadata": {},
     "output_type": "execute_result"
    }
   ],
   "source": [
    "d8"
   ]
  },
  {
   "cell_type": "code",
   "execution_count": 103,
   "id": "2ce2fee4-7ff5-4068-afc1-a788430a0649",
   "metadata": {},
   "outputs": [],
   "source": [
    "del d8['name']"
   ]
  },
  {
   "cell_type": "code",
   "execution_count": 104,
   "id": "352406c7-8840-4956-b8ae-75739e714204",
   "metadata": {},
   "outputs": [
    {
     "data": {
      "text/plain": [
       "{'mentor': {'fsds': 'imran', 'fsda': 'anand', 'bigdata': 'shashank'},\n",
       " 'mobilenumber': (91830, 455646, 546)}"
      ]
     },
     "execution_count": 104,
     "metadata": {},
     "output_type": "execute_result"
    }
   ],
   "source": [
    "d8"
   ]
  },
  {
   "cell_type": "code",
   "execution_count": 105,
   "id": "c542fa54-92f2-4356-a78b-e7dd5b8ff11b",
   "metadata": {},
   "outputs": [
    {
     "data": {
      "text/plain": [
       "{'fsds': 'imran', 'fsda': 'anand', 'bigdata': 'shashank'}"
      ]
     },
     "execution_count": 105,
     "metadata": {},
     "output_type": "execute_result"
    }
   ],
   "source": [
    "d8.pop('mentor')"
   ]
  },
  {
   "cell_type": "code",
   "execution_count": 109,
   "id": "7a2ca542-fe08-4620-97dd-98791886e236",
   "metadata": {},
   "outputs": [
    {
     "data": {
      "text/plain": [
       "{'mobilenumber': (91830, 455646, 546)}"
      ]
     },
     "execution_count": 109,
     "metadata": {},
     "output_type": "execute_result"
    }
   ],
   "source": [
    "d8"
   ]
  },
  {
   "cell_type": "code",
   "execution_count": 112,
   "id": "65d690f5-b76a-4e4a-838f-40fa4e9590d1",
   "metadata": {},
   "outputs": [],
   "source": [
    "d8['name'] = 'Sudhanshu Kumar'"
   ]
  },
  {
   "cell_type": "code",
   "execution_count": 113,
   "id": "5d31a195-59f3-46ad-868e-4a2651139777",
   "metadata": {},
   "outputs": [
    {
     "data": {
      "text/plain": [
       "{'mobilenumber': (91830, 455646, 546), 'name': 'Sudhanshu Kumar'}"
      ]
     },
     "execution_count": 113,
     "metadata": {},
     "output_type": "execute_result"
    }
   ],
   "source": [
    "d8"
   ]
  },
  {
   "cell_type": "code",
   "execution_count": null,
   "id": "ec094d34-1bd3-49cb-a459-4499055c9bac",
   "metadata": {},
   "outputs": [],
   "source": []
  },
  {
   "cell_type": "code",
   "execution_count": null,
   "id": "f916fa86-dff8-4062-8fd8-54821b12c7f6",
   "metadata": {},
   "outputs": [],
   "source": []
  },
  {
   "cell_type": "code",
   "execution_count": 114,
   "id": "18cf3732-40f9-46c0-8908-a32f02e0186b",
   "metadata": {},
   "outputs": [],
   "source": [
    "#Continued Function"
   ]
  },
  {
   "cell_type": "code",
   "execution_count": 117,
   "id": "3672a548-bd77-4568-b36a-5710edc95617",
   "metadata": {},
   "outputs": [],
   "source": [
    "def test10(**kwargs):\n",
    "    return kwargs\n",
    "    \n"
   ]
  },
  {
   "cell_type": "code",
   "execution_count": 123,
   "id": "bdbbe776-4e22-406e-bab5-019945cbe2cf",
   "metadata": {},
   "outputs": [
    {
     "data": {
      "text/plain": [
       "{'a': 4, 'b': 5, 'c': 6, 'd': [1, 2, 3, 4, 5]}"
      ]
     },
     "execution_count": 123,
     "metadata": {},
     "output_type": "execute_result"
    }
   ],
   "source": [
    "test10(a = 4, b = 5, c = 6, d = [1,2,3,4,5])"
   ]
  },
  {
   "cell_type": "code",
   "execution_count": 124,
   "id": "80027328-0693-4b35-9f3e-d8f5d27ab7b6",
   "metadata": {},
   "outputs": [
    {
     "data": {
      "text/plain": [
       "dict"
      ]
     },
     "execution_count": 124,
     "metadata": {},
     "output_type": "execute_result"
    }
   ],
   "source": [
    "type(test10(a = 4, b = 5, c = 6, d = [1,2,3,4,5]))"
   ]
  },
  {
   "cell_type": "code",
   "execution_count": 125,
   "id": "2f1b5825-cce2-407f-aefb-8dedf070ef6a",
   "metadata": {},
   "outputs": [],
   "source": [
    "def test11(**sudh):\n",
    "    return sudh"
   ]
  },
  {
   "cell_type": "code",
   "execution_count": 130,
   "id": "face43f1-2e93-4807-8094-97d0ae0f8ae4",
   "metadata": {},
   "outputs": [
    {
     "data": {
      "text/plain": [
       "{'b': 'sudh', 'm': 5}"
      ]
     },
     "execution_count": 130,
     "metadata": {},
     "output_type": "execute_result"
    }
   ],
   "source": [
    "test11(b = \"sudh\", m = 5)"
   ]
  },
  {
   "cell_type": "code",
   "execution_count": 136,
   "id": "40958498-73dc-4f68-96e9-d2e89f84a621",
   "metadata": {},
   "outputs": [],
   "source": [
    "def test12(a):\n",
    "    return a\n",
    "\n",
    "def test13(b):\n",
    "    return b\n",
    "\n",
    "def test14(func):\n",
    "    return func(\"sudh\")\n",
    "\n",
    "\n"
   ]
  },
  {
   "cell_type": "code",
   "execution_count": 137,
   "id": "97375fa4-e4cc-435d-9fc9-df69a73060cc",
   "metadata": {},
   "outputs": [
    {
     "data": {
      "text/plain": [
       "'sudh'"
      ]
     },
     "execution_count": 137,
     "metadata": {},
     "output_type": "execute_result"
    }
   ],
   "source": [
    "test14(test12)"
   ]
  },
  {
   "cell_type": "code",
   "execution_count": 138,
   "id": "28e36989-02df-4f1a-85a4-531e986aa928",
   "metadata": {},
   "outputs": [
    {
     "data": {
      "text/plain": [
       "'sudh'"
      ]
     },
     "execution_count": 138,
     "metadata": {},
     "output_type": "execute_result"
    }
   ],
   "source": [
    "test14(test13)"
   ]
  },
  {
   "cell_type": "code",
   "execution_count": 143,
   "id": "d77c03f9-5854-46e8-adea-032207ccc04a",
   "metadata": {},
   "outputs": [],
   "source": [
    "def test12(a):\n",
    "    return a\n",
    "\n",
    "def test13(*args):\n",
    "    return \"sudh\"\n",
    "\n",
    "def test14(func):\n",
    "    return func(\"sudh\")\n",
    "\n",
    "\n"
   ]
  },
  {
   "cell_type": "code",
   "execution_count": 144,
   "id": "d049a597-d1e9-4aa1-9806-bfad6055d8d4",
   "metadata": {},
   "outputs": [
    {
     "data": {
      "text/plain": [
       "'sudh'"
      ]
     },
     "execution_count": 144,
     "metadata": {},
     "output_type": "execute_result"
    }
   ],
   "source": [
    "test14(test12)"
   ]
  },
  {
   "cell_type": "code",
   "execution_count": 145,
   "id": "76ba710b-d36c-4388-9fc7-457b4fe8c10a",
   "metadata": {},
   "outputs": [
    {
     "data": {
      "text/plain": [
       "'sudh'"
      ]
     },
     "execution_count": 145,
     "metadata": {},
     "output_type": "execute_result"
    }
   ],
   "source": [
    "test14(test13)"
   ]
  },
  {
   "cell_type": "code",
   "execution_count": 159,
   "id": "d1f51498-e6f3-48d4-8b44-7e71b4c74f9a",
   "metadata": {},
   "outputs": [],
   "source": [
    "def test15(a):\n",
    "    print(\"this is my test15\")\n",
    "    \n",
    "    def test16():\n",
    "        print(\"this is my test16\")\n",
    "        \n",
    "    def test17():\n",
    "        print(\"this is my test17\")\n",
    "        \n",
    "    if a == \"sudh\":\n",
    "        return test16()\n",
    "    elif a == \"kumar\":\n",
    "        return test17()"
   ]
  },
  {
   "cell_type": "code",
   "execution_count": 160,
   "id": "ff631e3c-27c9-4337-890f-1dbb122d8279",
   "metadata": {},
   "outputs": [
    {
     "ename": "TypeError",
     "evalue": "test15() missing 1 required positional argument: 'a'",
     "output_type": "error",
     "traceback": [
      "\u001b[0;31m---------------------------------------------------------------------------\u001b[0m",
      "\u001b[0;31mTypeError\u001b[0m                                 Traceback (most recent call last)",
      "Cell \u001b[0;32mIn [160], line 1\u001b[0m\n\u001b[0;32m----> 1\u001b[0m \u001b[43mtest15\u001b[49m\u001b[43m(\u001b[49m\u001b[43m)\u001b[49m\n",
      "\u001b[0;31mTypeError\u001b[0m: test15() missing 1 required positional argument: 'a'"
     ]
    }
   ],
   "source": [
    "test15()"
   ]
  },
  {
   "cell_type": "code",
   "execution_count": 161,
   "id": "f6fa8528-36c4-4ba9-960e-1add40c3b29e",
   "metadata": {},
   "outputs": [
    {
     "name": "stdout",
     "output_type": "stream",
     "text": [
      "this is my test15\n",
      "this is my test16\n"
     ]
    }
   ],
   "source": [
    "test15(\"sudh\")"
   ]
  },
  {
   "cell_type": "code",
   "execution_count": 162,
   "id": "a61ae104-d0bf-4a7f-aed9-ac84c2a8235a",
   "metadata": {},
   "outputs": [
    {
     "name": "stdout",
     "output_type": "stream",
     "text": [
      "this is my test15\n",
      "this is my test17\n"
     ]
    }
   ],
   "source": [
    "test15(\"kumar\")"
   ]
  },
  {
   "cell_type": "code",
   "execution_count": 175,
   "id": "b0a41466-4421-4a4e-a840-e3a764c725a9",
   "metadata": {},
   "outputs": [],
   "source": [
    "def test13(*args):\n",
    "    print(\"thisis a return of tets13\")"
   ]
  },
  {
   "cell_type": "code",
   "execution_count": 176,
   "id": "44289be1-64d8-4064-b877-b81381204c86",
   "metadata": {},
   "outputs": [],
   "source": [
    "def test18(func):\n",
    "    def test19():\n",
    "        print(\"i am inside test19\")\n",
    "        # func()\n",
    "    return test19()"
   ]
  },
  {
   "cell_type": "code",
   "execution_count": 177,
   "id": "8f4f8f64-31b8-4b3e-bdd0-bcd8858a0af5",
   "metadata": {},
   "outputs": [
    {
     "name": "stdout",
     "output_type": "stream",
     "text": [
      "i am inside test19\n"
     ]
    }
   ],
   "source": [
    "test18(test13)"
   ]
  },
  {
   "cell_type": "code",
   "execution_count": 180,
   "id": "13da97e4-cb9c-4dd2-89ad-7de7bb500200",
   "metadata": {},
   "outputs": [],
   "source": [
    "def test18(func):\n",
    "    def test19():\n",
    "        print(\"i am inside test19\")\n",
    "        func()\n",
    "    return test19()"
   ]
  },
  {
   "cell_type": "code",
   "execution_count": 181,
   "id": "3af48434-e1ba-438c-905f-69634d0d189f",
   "metadata": {},
   "outputs": [
    {
     "name": "stdout",
     "output_type": "stream",
     "text": [
      "i am inside test19\n",
      "thisis a return of tets13\n"
     ]
    }
   ],
   "source": [
    "test18(test13)"
   ]
  },
  {
   "cell_type": "code",
   "execution_count": null,
   "id": "88289c3f-75c9-44ea-888a-c0fd80af56d7",
   "metadata": {},
   "outputs": [],
   "source": []
  },
  {
   "cell_type": "code",
   "execution_count": 218,
   "id": "5a593082-2065-4c8b-9f20-32e948ff957d",
   "metadata": {},
   "outputs": [],
   "source": [
    "import os\n",
    "def test18(func):\n",
    "    def test19():\n",
    "        print(\"i am inside test19 and this will behave to any function that i am going to calls\")\n",
    "        print(os.getcwd())\n",
    "        func()\n",
    "    return test19\n",
    "\n"
   ]
  },
  {
   "cell_type": "code",
   "execution_count": 219,
   "id": "0ff72444-7cc0-49da-afd8-2d388ccae38b",
   "metadata": {},
   "outputs": [],
   "source": [
    "# DECORATOR\n",
    "@test18\n",
    "def test20():\n",
    "    print(\"this is test 20\")"
   ]
  },
  {
   "cell_type": "code",
   "execution_count": 220,
   "id": "b38654bd-2e20-4980-8c03-27e483a20aaa",
   "metadata": {},
   "outputs": [
    {
     "name": "stdout",
     "output_type": "stream",
     "text": [
      "i am inside test19 and this will behave to any function that i am going to calls\n",
      "/home/jovyan/work\n",
      "this is test 20\n"
     ]
    }
   ],
   "source": [
    "test20()"
   ]
  },
  {
   "cell_type": "code",
   "execution_count": 211,
   "id": "56a1cd7f-a5ea-46be-8dfe-490eeeac6d06",
   "metadata": {},
   "outputs": [
    {
     "data": {
      "text/plain": [
       "<function __main__.test18.<locals>.test19()>"
      ]
     },
     "execution_count": 211,
     "metadata": {},
     "output_type": "execute_result"
    }
   ],
   "source": [
    "test18(test20)"
   ]
  },
  {
   "cell_type": "code",
   "execution_count": 210,
   "id": "546d0bff-e04e-4140-876e-a762a67f7b69",
   "metadata": {},
   "outputs": [
    {
     "data": {
      "text/plain": [
       "'/home/jovyan/work'"
      ]
     },
     "execution_count": 210,
     "metadata": {},
     "output_type": "execute_result"
    }
   ],
   "source": [
    "pwd()"
   ]
  },
  {
   "cell_type": "code",
   "execution_count": 221,
   "id": "90d1b9f4-20a3-4bfc-8a8f-61afffbee68c",
   "metadata": {},
   "outputs": [],
   "source": [
    "def test20(func):\n",
    "    def test21():\n",
    "        func()\n",
    "        print(os.getcwd())\n",
    "    return test21"
   ]
  },
  {
   "cell_type": "code",
   "execution_count": 226,
   "id": "e104b353-4aef-479b-94ca-8382caccee41",
   "metadata": {},
   "outputs": [],
   "source": [
    "@test18\n",
    "@test20\n",
    "def test22():\n",
    "    print(\"this will inside test 22\")"
   ]
  },
  {
   "cell_type": "code",
   "execution_count": 227,
   "id": "c9f724d1-1b29-438c-9016-0772e1bba68f",
   "metadata": {},
   "outputs": [
    {
     "name": "stdout",
     "output_type": "stream",
     "text": [
      "i am inside test19 and this will behave to any function that i am going to calls\n",
      "/home/jovyan/work\n",
      "this will inside test 22\n",
      "/home/jovyan/work\n"
     ]
    }
   ],
   "source": [
    "test22()"
   ]
  },
  {
   "cell_type": "code",
   "execution_count": 228,
   "id": "8f356225-a0d7-4991-b169-e8e46dddf105",
   "metadata": {},
   "outputs": [
    {
     "name": "stdout",
     "output_type": "stream",
     "text": [
      "Hello\n",
      "0.00011467933654785156\n"
     ]
    }
   ],
   "source": [
    "import time\n",
    "start = time.time()\n",
    "print(\"Hello\")\n",
    "end = time.time()\n",
    "print(end-start)"
   ]
  },
  {
   "cell_type": "code",
   "execution_count": 230,
   "id": "e512196e-c50c-467b-ad13-5fd731832f4b",
   "metadata": {},
   "outputs": [
    {
     "data": {
      "text/plain": [
       "1668346597.5484176"
      ]
     },
     "execution_count": 230,
     "metadata": {},
     "output_type": "execute_result"
    }
   ],
   "source": [
    "time.time()"
   ]
  },
  {
   "cell_type": "code",
   "execution_count": 240,
   "id": "7cf81555-c0db-401f-894a-142b918a8563",
   "metadata": {},
   "outputs": [],
   "source": [
    "def test25(func):\n",
    "    def test26():\n",
    "        print(\"this will give you execution time of a function\")\n",
    "        start = time.time()\n",
    "        func()\n",
    "        print(func())\n",
    "        end = time.time()\n",
    "        print(end-start)\n",
    "    return test26\n",
    "\n",
    "@test25\n",
    "def test27() -> int:\n",
    "    \"\"\"\n",
    "    this is a function which will take a decorator for calculating a execution timing of afunction\n",
    "    \"\"\"\n",
    "    l2 = [4,5,6,7,8,8]\n",
    "    l3 = list()\n",
    "    for i in l2:\n",
    "        if type(i) == int:\n",
    "            l3.append(i)\n",
    "    return l3"
   ]
  },
  {
   "cell_type": "code",
   "execution_count": 241,
   "id": "775b9bd1-27a5-4181-87b0-3b8951aac773",
   "metadata": {},
   "outputs": [
    {
     "name": "stdout",
     "output_type": "stream",
     "text": [
      "this will give you execution time of a function\n",
      "[4, 5, 6, 7, 8, 8]\n",
      "1.3589859008789062e-05\n"
     ]
    }
   ],
   "source": [
    "test27()"
   ]
  },
  {
   "cell_type": "code",
   "execution_count": null,
   "id": "7bac55fb-b51c-4983-b3ba-1ec6982bb725",
   "metadata": {},
   "outputs": [],
   "source": []
  }
 ],
 "metadata": {
  "kernelspec": {
   "display_name": "Python 3 (ipykernel)",
   "language": "python",
   "name": "python3"
  },
  "language_info": {
   "codemirror_mode": {
    "name": "ipython",
    "version": 3
   },
   "file_extension": ".py",
   "mimetype": "text/x-python",
   "name": "python",
   "nbconvert_exporter": "python",
   "pygments_lexer": "ipython3",
   "version": "3.10.6"
  }
 },
 "nbformat": 4,
 "nbformat_minor": 5
}
