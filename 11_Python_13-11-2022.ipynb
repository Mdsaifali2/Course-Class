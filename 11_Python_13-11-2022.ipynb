{
 "cells": [
  {
   "cell_type": "code",
   "execution_count": 31,
   "id": "d643627a-9311-4b96-8402-74247e1139bf",
   "metadata": {},
   "outputs": [],
   "source": [
    "def test1(func):\n",
    "    def test2():\n",
    "        print(\"I am inside test2\")\n",
    "        func()\n",
    "        print(func())\n",
    "        print(\"Function Executed\")\n",
    "        return func()\n",
    "    return test2\n",
    "    \n",
    "    "
   ]
  },
  {
   "cell_type": "code",
   "execution_count": 32,
   "id": "4366c834-c909-458d-8386-7adb662750a5",
   "metadata": {},
   "outputs": [],
   "source": [
    "@test1\n",
    "def test3():\n",
    "    print(\"this is my test3\")"
   ]
  },
  {
   "cell_type": "code",
   "execution_count": 33,
   "id": "2c5ba51a-e492-431c-bbc4-8d6913934e6d",
   "metadata": {},
   "outputs": [
    {
     "name": "stdout",
     "output_type": "stream",
     "text": [
      "I am inside test2\n",
      "this is my test3\n",
      "this is my test3\n",
      "None\n",
      "Function Executed\n",
      "this is my test3\n"
     ]
    }
   ],
   "source": [
    "test3()"
   ]
  },
  {
   "cell_type": "code",
   "execution_count": 34,
   "id": "c15000d5-93ad-4e6b-97e1-648735cf6b9a",
   "metadata": {},
   "outputs": [
    {
     "name": "stdout",
     "output_type": "stream",
     "text": [
      "I am inside test2\n",
      "this is my test3\n",
      "this is my test3\n",
      "None\n",
      "Function Executed\n",
      "this is my test3\n"
     ]
    },
    {
     "data": {
      "text/plain": [
       "<function __main__.test1.<locals>.test2()>"
      ]
     },
     "execution_count": 34,
     "metadata": {},
     "output_type": "execute_result"
    }
   ],
   "source": [
    "test1(test3())"
   ]
  },
  {
   "cell_type": "code",
   "execution_count": 35,
   "id": "b5f16410-f7b3-40bf-b476-72ceb329c1cb",
   "metadata": {},
   "outputs": [],
   "source": [
    "@test1\n",
    "def test4():\n",
    "    return 5+6"
   ]
  },
  {
   "cell_type": "code",
   "execution_count": 36,
   "id": "5b864c28-b975-4a3b-ab4a-f656cefbbec6",
   "metadata": {},
   "outputs": [
    {
     "name": "stdout",
     "output_type": "stream",
     "text": [
      "I am inside test2\n",
      "11\n",
      "Function Executed\n"
     ]
    },
    {
     "data": {
      "text/plain": [
       "11"
      ]
     },
     "execution_count": 36,
     "metadata": {},
     "output_type": "execute_result"
    }
   ],
   "source": [
    "test4()"
   ]
  },
  {
   "cell_type": "code",
   "execution_count": 37,
   "id": "849f6e19-eb77-45e1-9936-525d6d45f91c",
   "metadata": {},
   "outputs": [
    {
     "name": "stdout",
     "output_type": "stream",
     "text": [
      "I am inside test2\n",
      "11\n",
      "Function Executed\n"
     ]
    },
    {
     "data": {
      "text/plain": [
       "int"
      ]
     },
     "execution_count": 37,
     "metadata": {},
     "output_type": "execute_result"
    }
   ],
   "source": [
    "type(test4())"
   ]
  },
  {
   "cell_type": "code",
   "execution_count": 44,
   "id": "95d68bae-8b23-45bf-94eb-e92896709b2d",
   "metadata": {},
   "outputs": [
    {
     "name": "stdout",
     "output_type": "stream",
     "text": [
      "I am inside test2\n",
      "11\n",
      "Function Executed\n"
     ]
    },
    {
     "data": {
      "text/plain": [
       "67"
      ]
     },
     "execution_count": 44,
     "metadata": {},
     "output_type": "execute_result"
    }
   ],
   "source": [
    "test4()+56"
   ]
  },
  {
   "cell_type": "code",
   "execution_count": 39,
   "id": "7501d460-751a-4d38-83d0-8c1ea4554d99",
   "metadata": {},
   "outputs": [
    {
     "name": "stdout",
     "output_type": "stream",
     "text": [
      "None\n"
     ]
    }
   ],
   "source": [
    "print(a)"
   ]
  },
  {
   "cell_type": "code",
   "execution_count": 40,
   "id": "c1bcab49-c637-4737-a216-01981ea550b9",
   "metadata": {},
   "outputs": [
    {
     "name": "stdout",
     "output_type": "stream",
     "text": [
      "I am inside test2\n",
      "11\n",
      "Function Executed\n"
     ]
    },
    {
     "data": {
      "text/plain": [
       "23"
      ]
     },
     "execution_count": 40,
     "metadata": {},
     "output_type": "execute_result"
    }
   ],
   "source": [
    "test4() + 12"
   ]
  },
  {
   "cell_type": "code",
   "execution_count": 41,
   "id": "ecefb73a-e7ee-495b-80be-958f1ba37e90",
   "metadata": {},
   "outputs": [],
   "source": [
    "def test5():\n",
    "    return 4+5"
   ]
  },
  {
   "cell_type": "code",
   "execution_count": 42,
   "id": "42f7cebb-d8de-4ff5-993d-eee5a9b61e0d",
   "metadata": {},
   "outputs": [
    {
     "data": {
      "text/plain": [
       "9"
      ]
     },
     "execution_count": 42,
     "metadata": {},
     "output_type": "execute_result"
    }
   ],
   "source": [
    "test5()"
   ]
  },
  {
   "cell_type": "code",
   "execution_count": 43,
   "id": "0b579f53-e681-4583-b682-211f409e4d85",
   "metadata": {},
   "outputs": [
    {
     "data": {
      "text/plain": [
       "int"
      ]
     },
     "execution_count": 43,
     "metadata": {},
     "output_type": "execute_result"
    }
   ],
   "source": [
    "type(test5())"
   ]
  },
  {
   "cell_type": "code",
   "execution_count": 29,
   "id": "370906d8-6d9d-4eb2-9e78-02b3c89e431b",
   "metadata": {},
   "outputs": [
    {
     "data": {
      "text/plain": [
       "54"
      ]
     },
     "execution_count": 29,
     "metadata": {},
     "output_type": "execute_result"
    }
   ],
   "source": [
    "test5()+45"
   ]
  },
  {
   "cell_type": "code",
   "execution_count": 71,
   "id": "64647d8e-6df5-4ff4-9742-a5cba9261711",
   "metadata": {},
   "outputs": [],
   "source": [
    "def test6(func):\n",
    "    def test7():\n",
    "        func()\n",
    "        print(func())\n",
    "        print(\"this is my decorator function\")\n",
    "        return func()\n",
    "    return test7"
   ]
  },
  {
   "cell_type": "code",
   "execution_count": 65,
   "id": "998ad9c2-3ea0-4452-8f93-ad7993f69267",
   "metadata": {},
   "outputs": [],
   "source": [
    "def test8():\n",
    "    return 5+7"
   ]
  },
  {
   "cell_type": "code",
   "execution_count": 66,
   "id": "217f9204-c24a-4570-94fd-53aa113b5065",
   "metadata": {},
   "outputs": [
    {
     "data": {
      "text/plain": [
       "24"
      ]
     },
     "execution_count": 66,
     "metadata": {},
     "output_type": "execute_result"
    }
   ],
   "source": [
    "test8() + 12"
   ]
  },
  {
   "cell_type": "code",
   "execution_count": 72,
   "id": "0759479f-8bcb-4fc6-a4aa-7b2b9cf8def0",
   "metadata": {},
   "outputs": [],
   "source": [
    "@test6\n",
    "def test8():\n",
    "    return 5+7"
   ]
  },
  {
   "cell_type": "code",
   "execution_count": 73,
   "id": "b2e93741-7e2f-40cc-bf08-c89f9891a2dd",
   "metadata": {},
   "outputs": [
    {
     "name": "stdout",
     "output_type": "stream",
     "text": [
      "12\n",
      "this is my decorator function\n"
     ]
    },
    {
     "data": {
      "text/plain": [
       "12"
      ]
     },
     "execution_count": 73,
     "metadata": {},
     "output_type": "execute_result"
    }
   ],
   "source": [
    "test8()"
   ]
  },
  {
   "cell_type": "code",
   "execution_count": 74,
   "id": "96c59d41-d338-4a3c-9290-02cc746112d0",
   "metadata": {},
   "outputs": [
    {
     "name": "stdout",
     "output_type": "stream",
     "text": [
      "12\n",
      "this is my decorator function\n"
     ]
    },
    {
     "data": {
      "text/plain": [
       "112"
      ]
     },
     "execution_count": 74,
     "metadata": {},
     "output_type": "execute_result"
    }
   ],
   "source": [
    "test8() + 100"
   ]
  },
  {
   "cell_type": "code",
   "execution_count": 75,
   "id": "7d126fbd-6546-4a86-835f-b489bc4fdda8",
   "metadata": {},
   "outputs": [
    {
     "name": "stdout",
     "output_type": "stream",
     "text": [
      "12\n",
      "this is my decorator function\n"
     ]
    },
    {
     "data": {
      "text/plain": [
       "int"
      ]
     },
     "execution_count": 75,
     "metadata": {},
     "output_type": "execute_result"
    }
   ],
   "source": [
    "type(test8())"
   ]
  },
  {
   "cell_type": "code",
   "execution_count": 116,
   "id": "7563cb4f-b81a-4b6e-a339-0f4702d50bf4",
   "metadata": {},
   "outputs": [],
   "source": [
    "def test6(func):\n",
    "    def test7(*args, **kwargs):\n",
    "        func(*args, **kwargs)\n",
    "        print(func(*args, **kwargs))\n",
    "        print(\"this is my decorator function\")\n",
    "        return func(*args, **kwargs)\n",
    "    return test7"
   ]
  },
  {
   "cell_type": "code",
   "execution_count": 117,
   "id": "9078098d-a73a-4433-b630-a63a2f6fb3e4",
   "metadata": {},
   "outputs": [],
   "source": [
    "@test6\n",
    "def test8(a,b,c):\n",
    "    return a+b+c"
   ]
  },
  {
   "cell_type": "code",
   "execution_count": 118,
   "id": "3fa506fa-01d9-439f-ae5f-841c1912a2a4",
   "metadata": {},
   "outputs": [
    {
     "name": "stdout",
     "output_type": "stream",
     "text": [
      "SudhKumarSinha\n",
      "this is my decorator function\n"
     ]
    },
    {
     "data": {
      "text/plain": [
       "'SudhKumarSinha'"
      ]
     },
     "execution_count": 118,
     "metadata": {},
     "output_type": "execute_result"
    }
   ],
   "source": [
    "test8(\"Sudh\", \"Kumar\", \"Sinha\")"
   ]
  },
  {
   "cell_type": "code",
   "execution_count": 119,
   "id": "47a73619-1861-4a42-bdf2-31dd3f77b9c1",
   "metadata": {},
   "outputs": [],
   "source": [
    "@test6\n",
    "def test9(**kwargs):\n",
    "    return kwargs\n",
    "    "
   ]
  },
  {
   "cell_type": "code",
   "execution_count": 122,
   "id": "d60698c4-d42f-44b9-8172-8bb90dd928ac",
   "metadata": {},
   "outputs": [
    {
     "name": "stdout",
     "output_type": "stream",
     "text": [
      "{'a': 89, 'b': 67}\n",
      "this is my decorator function\n"
     ]
    },
    {
     "data": {
      "text/plain": [
       "{'a': 89, 'b': 67}"
      ]
     },
     "execution_count": 122,
     "metadata": {},
     "output_type": "execute_result"
    }
   ],
   "source": [
    "test9(a = 89, b = 67)"
   ]
  },
  {
   "cell_type": "code",
   "execution_count": null,
   "id": "a6ba3c13-d7c9-4ad4-99c6-a38e3db9b25b",
   "metadata": {},
   "outputs": [],
   "source": []
  },
  {
   "cell_type": "code",
   "execution_count": null,
   "id": "87ecf84f-89db-4b86-8a31-b3babb120518",
   "metadata": {},
   "outputs": [],
   "source": []
  },
  {
   "cell_type": "code",
   "execution_count": 123,
   "id": "799b8335-36fe-4de3-bc10-5966a0e36375",
   "metadata": {},
   "outputs": [],
   "source": [
    "# LAMBDA FUNCTION"
   ]
  },
  {
   "cell_type": "code",
   "execution_count": 1,
   "id": "fd7abdd3-31af-4963-9f52-db1c7989131e",
   "metadata": {},
   "outputs": [],
   "source": [
    "def test10(a,b):\n",
    "    return a+b"
   ]
  },
  {
   "cell_type": "code",
   "execution_count": 2,
   "id": "8d475ff4-6210-4991-b81f-be4856acdd8a",
   "metadata": {},
   "outputs": [
    {
     "data": {
      "text/plain": [
       "7"
      ]
     },
     "execution_count": 2,
     "metadata": {},
     "output_type": "execute_result"
    }
   ],
   "source": [
    "test10(3,4)"
   ]
  },
  {
   "cell_type": "code",
   "execution_count": 3,
   "id": "5de9df95-7f0b-45d4-ae82-50d5a5145778",
   "metadata": {},
   "outputs": [
    {
     "data": {
      "text/plain": [
       "'Sudh Ineron'"
      ]
     },
     "execution_count": 3,
     "metadata": {},
     "output_type": "execute_result"
    }
   ],
   "source": [
    "test10(\"Sudh\",\" Ineron\")"
   ]
  },
  {
   "cell_type": "code",
   "execution_count": 4,
   "id": "ba5e1d17-3368-4720-ac5e-515159ce1a95",
   "metadata": {},
   "outputs": [],
   "source": [
    "c = lambda a,b : a+b"
   ]
  },
  {
   "cell_type": "code",
   "execution_count": 5,
   "id": "8045544d-9b42-41a8-8b61-061fe3561778",
   "metadata": {},
   "outputs": [
    {
     "data": {
      "text/plain": [
       "<function __main__.test10(a, b)>"
      ]
     },
     "execution_count": 5,
     "metadata": {},
     "output_type": "execute_result"
    }
   ],
   "source": [
    "test10"
   ]
  },
  {
   "cell_type": "code",
   "execution_count": 6,
   "id": "023acc35-acc9-4ecd-b326-54312c56c586",
   "metadata": {},
   "outputs": [
    {
     "data": {
      "text/plain": [
       "'Sudh Ineron'"
      ]
     },
     "execution_count": 6,
     "metadata": {},
     "output_type": "execute_result"
    }
   ],
   "source": [
    "c(\"Sudh\",\" Ineron\")"
   ]
  },
  {
   "cell_type": "code",
   "execution_count": 7,
   "id": "ea8ccdd1-6f42-44b8-9f9e-dce82733d4c7",
   "metadata": {},
   "outputs": [],
   "source": [
    "d = lambda a,b,c,d:a*b+c/d"
   ]
  },
  {
   "cell_type": "code",
   "execution_count": 8,
   "id": "c2a9df22-831e-4fe1-aa94-97bbe57f3f0b",
   "metadata": {},
   "outputs": [
    {
     "data": {
      "text/plain": [
       "12.833333333333334"
      ]
     },
     "execution_count": 8,
     "metadata": {},
     "output_type": "execute_result"
    }
   ],
   "source": [
    "d(3,4,5,6)"
   ]
  },
  {
   "cell_type": "code",
   "execution_count": 9,
   "id": "f829bb4c-c0a8-4046-847f-a1727207ccc8",
   "metadata": {},
   "outputs": [],
   "source": [
    "e = lambda *args : args"
   ]
  },
  {
   "cell_type": "code",
   "execution_count": 10,
   "id": "53d22906-c679-4809-9d06-c25ab1b2aac3",
   "metadata": {},
   "outputs": [
    {
     "data": {
      "text/plain": [
       "()"
      ]
     },
     "execution_count": 10,
     "metadata": {},
     "output_type": "execute_result"
    }
   ],
   "source": [
    "e()"
   ]
  },
  {
   "cell_type": "code",
   "execution_count": 11,
   "id": "95cad349-d865-42d8-a076-278d45b67c05",
   "metadata": {},
   "outputs": [
    {
     "data": {
      "text/plain": [
       "(3, 4, 5)"
      ]
     },
     "execution_count": 11,
     "metadata": {},
     "output_type": "execute_result"
    }
   ],
   "source": [
    "e(3,4,5)"
   ]
  },
  {
   "cell_type": "code",
   "execution_count": null,
   "id": "33a6bb57-05ae-401c-b674-1eb2f46ed9e2",
   "metadata": {},
   "outputs": [],
   "source": []
  },
  {
   "cell_type": "code",
   "execution_count": null,
   "id": "dbe69cab-bcf2-4887-9853-45e43f864f49",
   "metadata": {},
   "outputs": [],
   "source": []
  },
  {
   "cell_type": "code",
   "execution_count": 12,
   "id": "b63c879b-7b87-4b0c-b9bc-25410abef5be",
   "metadata": {},
   "outputs": [],
   "source": [
    "#map() Function"
   ]
  },
  {
   "cell_type": "code",
   "execution_count": 13,
   "id": "4a50594c-ba11-4c29-ac0b-50f6e28c19df",
   "metadata": {},
   "outputs": [],
   "source": [
    "l = [1,2,3,4,5,6,7]\n",
    "l1 = list()\n",
    "for i in l:\n",
    "    l1.append(i+10)"
   ]
  },
  {
   "cell_type": "code",
   "execution_count": 14,
   "id": "9cff2a33-dc45-41e8-bfb7-5a0e123ab2ec",
   "metadata": {},
   "outputs": [
    {
     "data": {
      "text/plain": [
       "[11, 12, 13, 14, 15, 16, 17]"
      ]
     },
     "execution_count": 14,
     "metadata": {},
     "output_type": "execute_result"
    }
   ],
   "source": [
    "l1"
   ]
  },
  {
   "cell_type": "code",
   "execution_count": 15,
   "id": "06000366-816d-4640-94d8-56f07dbbb09e",
   "metadata": {},
   "outputs": [],
   "source": [
    "def test14(a):\n",
    "    return a + 10"
   ]
  },
  {
   "cell_type": "code",
   "execution_count": 16,
   "id": "60dbb425-5957-4ff1-8496-33b4104c8f06",
   "metadata": {},
   "outputs": [
    {
     "data": {
      "text/plain": [
       "[11, 12, 13, 14, 15, 16, 17]"
      ]
     },
     "execution_count": 16,
     "metadata": {},
     "output_type": "execute_result"
    }
   ],
   "source": [
    "list(map(test14, l))"
   ]
  },
  {
   "cell_type": "code",
   "execution_count": 17,
   "id": "587e0ebd-d1f4-4bc4-b430-f4455fe44812",
   "metadata": {},
   "outputs": [
    {
     "data": {
      "text/plain": [
       "[11, 12, 13, 14, 15, 16, 17]"
      ]
     },
     "execution_count": 17,
     "metadata": {},
     "output_type": "execute_result"
    }
   ],
   "source": [
    "list(map(lambda a : a+10, l))"
   ]
  },
  {
   "cell_type": "code",
   "execution_count": 18,
   "id": "04a9de27-52ff-4c57-a9bb-4995848b3490",
   "metadata": {},
   "outputs": [],
   "source": [
    "n = lambda a : a+10"
   ]
  },
  {
   "cell_type": "code",
   "execution_count": 19,
   "id": "d47a398c-6a8b-479f-9e60-94e74229db18",
   "metadata": {},
   "outputs": [
    {
     "data": {
      "text/plain": [
       "[11, 12, 13, 14, 15, 16, 17]"
      ]
     },
     "execution_count": 19,
     "metadata": {},
     "output_type": "execute_result"
    }
   ],
   "source": [
    "list(map(n,l))"
   ]
  },
  {
   "cell_type": "code",
   "execution_count": 20,
   "id": "370a81d5-d9b5-4006-b512-d3dd7cec83ef",
   "metadata": {},
   "outputs": [],
   "source": [
    "# convet it into the upper case\n",
    "l = [\"sudh\", \"kumar\", \"ineuron\"]"
   ]
  },
  {
   "cell_type": "code",
   "execution_count": 21,
   "id": "626bdd41-e34d-49ba-8e72-d2803c3cc704",
   "metadata": {},
   "outputs": [
    {
     "data": {
      "text/plain": [
       "['SUDH', 'KUMAR', 'INEURON']"
      ]
     },
     "execution_count": 21,
     "metadata": {},
     "output_type": "execute_result"
    }
   ],
   "source": [
    "list(map(lambda a : a.upper(), l))"
   ]
  },
  {
   "cell_type": "code",
   "execution_count": 22,
   "id": "2a42563e-986d-4dad-b19b-36ec36b45c78",
   "metadata": {},
   "outputs": [
    {
     "data": {
      "text/plain": [
       "['SUDH', 'KUMAR', 'INEURON']"
      ]
     },
     "execution_count": 22,
     "metadata": {},
     "output_type": "execute_result"
    }
   ],
   "source": [
    "list(map(str.upper, l))"
   ]
  },
  {
   "cell_type": "code",
   "execution_count": 23,
   "id": "6156b6bb-3f07-45c4-a123-38eccdc13f94",
   "metadata": {},
   "outputs": [],
   "source": [
    "def upper_string(a):\n",
    "    return a.upper()"
   ]
  },
  {
   "cell_type": "code",
   "execution_count": 24,
   "id": "1d80b9e1-b6fd-4c5e-806c-d7ffef29b617",
   "metadata": {},
   "outputs": [
    {
     "data": {
      "text/plain": [
       "['SUDH', 'KUMAR', 'INEURON']"
      ]
     },
     "execution_count": 24,
     "metadata": {},
     "output_type": "execute_result"
    }
   ],
   "source": [
    "list(map(upper_string,l))"
   ]
  },
  {
   "cell_type": "code",
   "execution_count": 25,
   "id": "a0ac64ac-c5d5-42e4-9388-e2267b2c85b2",
   "metadata": {},
   "outputs": [
    {
     "data": {
      "text/plain": [
       "['sudh', 'kumar', 'ineuron']"
      ]
     },
     "execution_count": 25,
     "metadata": {},
     "output_type": "execute_result"
    }
   ],
   "source": [
    "l"
   ]
  },
  {
   "cell_type": "code",
   "execution_count": 26,
   "id": "3e3315ac-2c89-4bd5-b8f1-c908e9aabecd",
   "metadata": {},
   "outputs": [],
   "source": [
    "l2 = list()\n",
    "for i in l:\n",
    "    a = len(i)\n",
    "    l2.append(a)"
   ]
  },
  {
   "cell_type": "code",
   "execution_count": 27,
   "id": "189b712d-93a2-4e99-b566-eb29906290b3",
   "metadata": {},
   "outputs": [
    {
     "data": {
      "text/plain": [
       "[4, 5, 7]"
      ]
     },
     "execution_count": 27,
     "metadata": {},
     "output_type": "execute_result"
    }
   ],
   "source": [
    "l2"
   ]
  },
  {
   "cell_type": "code",
   "execution_count": 28,
   "id": "da94a4f7-580e-45d3-93d8-adefdd1285fd",
   "metadata": {},
   "outputs": [
    {
     "data": {
      "text/plain": [
       "[4, 5, 7]"
      ]
     },
     "execution_count": 28,
     "metadata": {},
     "output_type": "execute_result"
    }
   ],
   "source": [
    "list(map(lambda i : len(i), l))"
   ]
  },
  {
   "cell_type": "code",
   "execution_count": 29,
   "id": "afe790a6-b66e-4ab8-a5f3-687e2989609a",
   "metadata": {},
   "outputs": [
    {
     "data": {
      "text/plain": [
       "[4, 5, 7]"
      ]
     },
     "execution_count": 29,
     "metadata": {},
     "output_type": "execute_result"
    }
   ],
   "source": [
    "list(map(len,l))"
   ]
  },
  {
   "cell_type": "code",
   "execution_count": 30,
   "id": "750092ec-de5b-402e-be7c-445097fd3930",
   "metadata": {},
   "outputs": [],
   "source": [
    "def test23(a):\n",
    "    return len(a)"
   ]
  },
  {
   "cell_type": "code",
   "execution_count": 31,
   "id": "2192b8fa-7404-4bf8-9ef4-1bc8cf62cf3e",
   "metadata": {},
   "outputs": [
    {
     "data": {
      "text/plain": [
       "[4, 5, 7]"
      ]
     },
     "execution_count": 31,
     "metadata": {},
     "output_type": "execute_result"
    }
   ],
   "source": [
    "list(map(test23,l))"
   ]
  },
  {
   "cell_type": "code",
   "execution_count": null,
   "id": "81d3424e-801c-4c1d-994c-09d6cf4552b5",
   "metadata": {},
   "outputs": [],
   "source": []
  },
  {
   "cell_type": "code",
   "execution_count": 32,
   "id": "b0d80219-4fec-4045-a1b9-f2c9fa908337",
   "metadata": {},
   "outputs": [],
   "source": [
    "#FILTER Function -> filter"
   ]
  },
  {
   "cell_type": "code",
   "execution_count": 33,
   "id": "88eddac0-3a53-4e8c-a492-4f86cb8387ef",
   "metadata": {},
   "outputs": [],
   "source": [
    "l = [1,2,3,4,5,6,7,8]"
   ]
  },
  {
   "cell_type": "code",
   "execution_count": 34,
   "id": "85b4bf00-6cc5-4b75-953a-6f91fecbc781",
   "metadata": {},
   "outputs": [],
   "source": [
    "l1 = list()\n",
    "for i in l:\n",
    "    if i%2==0:\n",
    "        l1.append(i)"
   ]
  },
  {
   "cell_type": "code",
   "execution_count": 35,
   "id": "89dd4931-6834-4195-9453-9c075b06e7dd",
   "metadata": {},
   "outputs": [
    {
     "data": {
      "text/plain": [
       "[2, 4, 6, 8]"
      ]
     },
     "execution_count": 35,
     "metadata": {},
     "output_type": "execute_result"
    }
   ],
   "source": [
    "l1"
   ]
  },
  {
   "cell_type": "code",
   "execution_count": 36,
   "id": "baaf23cb-ac16-4f2b-a07e-61da385ca3b2",
   "metadata": {},
   "outputs": [
    {
     "data": {
      "text/plain": [
       "[2, 4, 6, 8]"
      ]
     },
     "execution_count": 36,
     "metadata": {},
     "output_type": "execute_result"
    }
   ],
   "source": [
    "[i for i in l if i%2 == 0]"
   ]
  },
  {
   "cell_type": "code",
   "execution_count": 37,
   "id": "6b1d72f1-a50f-4b93-98d2-2a7df4b367bf",
   "metadata": {},
   "outputs": [],
   "source": [
    "def test24(a):\n",
    "    l2=[]\n",
    "    if type(a) == list:\n",
    "        for i in a:\n",
    "            if i%2==0:\n",
    "                l2.append(i)\n",
    "    return l2"
   ]
  },
  {
   "cell_type": "code",
   "execution_count": 38,
   "id": "5658c2d5-f539-43af-bb9d-095d44582e62",
   "metadata": {},
   "outputs": [
    {
     "data": {
      "text/plain": [
       "[2, 4, 6, 8]"
      ]
     },
     "execution_count": 38,
     "metadata": {},
     "output_type": "execute_result"
    }
   ],
   "source": [
    "test24(l)"
   ]
  },
  {
   "cell_type": "code",
   "execution_count": 39,
   "id": "9d1abc13-b49e-4752-afab-ebf03d4074f5",
   "metadata": {},
   "outputs": [],
   "source": [
    "a = lambda a :a if a%2 == 0 else None"
   ]
  },
  {
   "cell_type": "code",
   "execution_count": 40,
   "id": "9ca6e0ed-0ef5-4677-9299-3c8cc4534082",
   "metadata": {},
   "outputs": [
    {
     "data": {
      "text/plain": [
       "[None, 2, None, 4, None, 6, None, 8]"
      ]
     },
     "execution_count": 40,
     "metadata": {},
     "output_type": "execute_result"
    }
   ],
   "source": [
    "list(map(a, l))"
   ]
  },
  {
   "cell_type": "code",
   "execution_count": 41,
   "id": "daf31949-0d69-47ab-93c4-594af1a71498",
   "metadata": {},
   "outputs": [
    {
     "data": {
      "text/plain": [
       "[1, 2, 3, 4, 5, 6, 7, 8]"
      ]
     },
     "execution_count": 41,
     "metadata": {},
     "output_type": "execute_result"
    }
   ],
   "source": [
    "l"
   ]
  },
  {
   "cell_type": "code",
   "execution_count": 42,
   "id": "0ab728e5-50b1-4df0-8f20-5e12f43854f2",
   "metadata": {},
   "outputs": [
    {
     "data": {
      "text/plain": [
       "[2, 4, 6, 8]"
      ]
     },
     "execution_count": 42,
     "metadata": {},
     "output_type": "execute_result"
    }
   ],
   "source": [
    "list(filter(a, l))"
   ]
  },
  {
   "cell_type": "code",
   "execution_count": 48,
   "id": "dede1675-c42f-40b4-8648-35455be34ced",
   "metadata": {},
   "outputs": [],
   "source": [
    "def test25(a):\n",
    "    if a%2 == 0:\n",
    "        return False\n",
    "    else:\n",
    "        return True"
   ]
  },
  {
   "cell_type": "code",
   "execution_count": 49,
   "id": "6c526cdf-053f-4546-b73a-aa8ee2bd38f3",
   "metadata": {},
   "outputs": [
    {
     "data": {
      "text/plain": [
       "False"
      ]
     },
     "execution_count": 49,
     "metadata": {},
     "output_type": "execute_result"
    }
   ],
   "source": [
    "test25(32)"
   ]
  },
  {
   "cell_type": "code",
   "execution_count": 50,
   "id": "6e6197a3-5c7c-45db-965a-bb3fc0452448",
   "metadata": {},
   "outputs": [
    {
     "data": {
      "text/plain": [
       "True"
      ]
     },
     "execution_count": 50,
     "metadata": {},
     "output_type": "execute_result"
    }
   ],
   "source": [
    "test25(35)"
   ]
  },
  {
   "cell_type": "code",
   "execution_count": 51,
   "id": "1d921adf-8809-4f95-9331-71913b0d9ccc",
   "metadata": {},
   "outputs": [
    {
     "data": {
      "text/plain": [
       "[1, 3, 5, 7]"
      ]
     },
     "execution_count": 51,
     "metadata": {},
     "output_type": "execute_result"
    }
   ],
   "source": [
    "list(filter(test25, l))"
   ]
  },
  {
   "cell_type": "code",
   "execution_count": 52,
   "id": "199d4848-e2ca-440f-b568-21e01880bea2",
   "metadata": {},
   "outputs": [
    {
     "data": {
      "text/plain": [
       "[1, 2, 3, 4, 5, 6, 7, 8]"
      ]
     },
     "execution_count": 52,
     "metadata": {},
     "output_type": "execute_result"
    }
   ],
   "source": [
    "l"
   ]
  },
  {
   "cell_type": "code",
   "execution_count": 53,
   "id": "10ab4461-5960-474a-ac64-0dd6f97064a4",
   "metadata": {},
   "outputs": [
    {
     "data": {
      "text/plain": [
       "36"
      ]
     },
     "execution_count": 53,
     "metadata": {},
     "output_type": "execute_result"
    }
   ],
   "source": [
    "sum(l)"
   ]
  },
  {
   "cell_type": "code",
   "execution_count": 54,
   "id": "5c9c36a8-6672-4109-b511-c9e5ae694fe6",
   "metadata": {},
   "outputs": [
    {
     "data": {
      "text/plain": [
       "[1, 2, 3, 4, 5, 6, 7, 8]"
      ]
     },
     "execution_count": 54,
     "metadata": {},
     "output_type": "execute_result"
    }
   ],
   "source": [
    "l"
   ]
  },
  {
   "cell_type": "code",
   "execution_count": 57,
   "id": "c7104752-0a3d-4401-aba1-36e6e51866d1",
   "metadata": {},
   "outputs": [
    {
     "data": {
      "text/plain": [
       "8"
      ]
     },
     "execution_count": 57,
     "metadata": {},
     "output_type": "execute_result"
    }
   ],
   "source": []
  },
  {
   "cell_type": "code",
   "execution_count": null,
   "id": "d2721355-4785-4c21-89c7-e5764e4d9c56",
   "metadata": {},
   "outputs": [],
   "source": []
  },
  {
   "cell_type": "code",
   "execution_count": null,
   "id": "d29d26ac-6c4b-4eb3-89e7-68918f2548a0",
   "metadata": {},
   "outputs": [],
   "source": []
  },
  {
   "cell_type": "code",
   "execution_count": 59,
   "id": "329d9c1f-28c0-4b98-a871-e8b84d9c0d79",
   "metadata": {},
   "outputs": [],
   "source": [
    "# REDUCE Function"
   ]
  },
  {
   "cell_type": "code",
   "execution_count": 61,
   "id": "0d71bd7a-e19e-4c48-a8bf-64d6ad599c2d",
   "metadata": {},
   "outputs": [],
   "source": [
    "from functools import reduce"
   ]
  },
  {
   "cell_type": "code",
   "execution_count": 83,
   "id": "f87b9cfa-205b-485e-916b-b31b9e0dff92",
   "metadata": {},
   "outputs": [
    {
     "data": {
      "text/plain": [
       "40320"
      ]
     },
     "execution_count": 83,
     "metadata": {},
     "output_type": "execute_result"
    }
   ],
   "source": [
    "reduce(lambda a,b:a*b, l)"
   ]
  },
  {
   "cell_type": "code",
   "execution_count": 66,
   "id": "2301c7ab-3326-4c3e-bf69-138c1bccfd8a",
   "metadata": {},
   "outputs": [
    {
     "data": {
      "text/plain": [
       "[1, 2, 3, 4, 5, 6, 7, 8]"
      ]
     },
     "execution_count": 66,
     "metadata": {},
     "output_type": "execute_result"
    }
   ],
   "source": [
    "l"
   ]
  },
  {
   "cell_type": "code",
   "execution_count": 70,
   "id": "c1da8db9-d51e-4bb2-a9fe-086830c54456",
   "metadata": {},
   "outputs": [
    {
     "data": {
      "text/plain": [
       "3"
      ]
     },
     "execution_count": 70,
     "metadata": {},
     "output_type": "execute_result"
    }
   ],
   "source": [
    "l1 = [3]\n",
    "reduce(lambda a,b:a*b, l1)"
   ]
  },
  {
   "cell_type": "code",
   "execution_count": null,
   "id": "fc9c844c-ad1d-4a40-ab33-579264aa3e6b",
   "metadata": {},
   "outputs": [],
   "source": []
  },
  {
   "cell_type": "code",
   "execution_count": 102,
   "id": "3bd6cc79-071c-43fc-9a69-11ef53e11a36",
   "metadata": {},
   "outputs": [],
   "source": [
    "def test26(a:int,b : \"Function\", c : int = 234) -> int:\n",
    "    '''This is my foc string to give a hint to next programmer'''\n",
    "    return a+b+str(c)"
   ]
  },
  {
   "cell_type": "code",
   "execution_count": 103,
   "id": "288bb867-d1dd-4ee1-a36e-2979a28ff110",
   "metadata": {},
   "outputs": [
    {
     "data": {
      "text/plain": [
       "'SudhKumar345'"
      ]
     },
     "execution_count": 103,
     "metadata": {},
     "output_type": "execute_result"
    }
   ],
   "source": [
    "test26(\"Sudh\", \"Kumar\", 345)"
   ]
  },
  {
   "cell_type": "code",
   "execution_count": null,
   "id": "7feedbd8-d7c9-4770-81eb-bf397567170e",
   "metadata": {},
   "outputs": [],
   "source": []
  }
 ],
 "metadata": {
  "kernelspec": {
   "display_name": "Python 3 (ipykernel)",
   "language": "python",
   "name": "python3"
  },
  "language_info": {
   "codemirror_mode": {
    "name": "ipython",
    "version": 3
   },
   "file_extension": ".py",
   "mimetype": "text/x-python",
   "name": "python",
   "nbconvert_exporter": "python",
   "pygments_lexer": "ipython3",
   "version": "3.10.6"
  }
 },
 "nbformat": 4,
 "nbformat_minor": 5
}
