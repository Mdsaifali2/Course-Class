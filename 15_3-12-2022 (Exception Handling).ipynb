{
 "cells": [
  {
   "cell_type": "markdown",
   "id": "b8367424-34a9-4bcb-b9e0-5a55fc0c28db",
   "metadata": {},
   "source": [
    "TYPES OF ERRORS"
   ]
  },
  {
   "cell_type": "code",
   "execution_count": 24,
   "id": "a8ff8ace-b064-4f3e-a861-8849c7f7743a",
   "metadata": {},
   "outputs": [
    {
     "ename": "ZeroDivisionError",
     "evalue": "division by zero",
     "output_type": "error",
     "traceback": [
      "\u001b[0;31m---------------------------------------------------------------------------\u001b[0m",
      "\u001b[0;31mZeroDivisionError\u001b[0m                         Traceback (most recent call last)",
      "Cell \u001b[0;32mIn [24], line 1\u001b[0m\n\u001b[0;32m----> 1\u001b[0m \u001b[38;5;241;43m1\u001b[39;49m\u001b[38;5;241;43m/\u001b[39;49m\u001b[38;5;241;43m0\u001b[39;49m\n",
      "\u001b[0;31mZeroDivisionError\u001b[0m: division by zero"
     ]
    }
   ],
   "source": [
    "1/0"
   ]
  },
  {
   "cell_type": "code",
   "execution_count": 25,
   "id": "1bcd5c46-91ff-4877-98e4-172f20e93871",
   "metadata": {},
   "outputs": [
    {
     "ename": "FileNotFoundError",
     "evalue": "[Errno 2] No such file or directory: 'test.txt'",
     "output_type": "error",
     "traceback": [
      "\u001b[0;31m---------------------------------------------------------------------------\u001b[0m",
      "\u001b[0;31mFileNotFoundError\u001b[0m                         Traceback (most recent call last)",
      "Cell \u001b[0;32mIn [25], line 1\u001b[0m\n\u001b[0;32m----> 1\u001b[0m \u001b[38;5;28;43mopen\u001b[39;49m\u001b[43m(\u001b[49m\u001b[38;5;124;43m'\u001b[39;49m\u001b[38;5;124;43mtest.txt\u001b[39;49m\u001b[38;5;124;43m'\u001b[39;49m\u001b[43m)\u001b[49m\n",
      "\u001b[0;31mFileNotFoundError\u001b[0m: [Errno 2] No such file or directory: 'test.txt'"
     ]
    }
   ],
   "source": [
    "open('test.txt')"
   ]
  },
  {
   "cell_type": "code",
   "execution_count": 26,
   "id": "0f0af4e7-8ddd-429b-9e43-bfbea42f6b9f",
   "metadata": {},
   "outputs": [
    {
     "ename": "NameError",
     "evalue": "name 'a' is not defined",
     "output_type": "error",
     "traceback": [
      "\u001b[0;31m---------------------------------------------------------------------------\u001b[0m",
      "\u001b[0;31mNameError\u001b[0m                                 Traceback (most recent call last)",
      "Cell \u001b[0;32mIn [26], line 1\u001b[0m\n\u001b[0;32m----> 1\u001b[0m \u001b[43ma\u001b[49m\u001b[38;5;241m+\u001b[39mc\n",
      "\u001b[0;31mNameError\u001b[0m: name 'a' is not defined"
     ]
    }
   ],
   "source": [
    "a+c"
   ]
  },
  {
   "cell_type": "code",
   "execution_count": 27,
   "id": "4b6cc991-4b93-474c-ae7e-f836cc11e11b",
   "metadata": {},
   "outputs": [
    {
     "ename": "SyntaxError",
     "evalue": "unmatched ')' (2179469927.py, line 1)",
     "output_type": "error",
     "traceback": [
      "\u001b[0;36m  Cell \u001b[0;32mIn [27], line 1\u001b[0;36m\u001b[0m\n\u001b[0;31m    print(saif))\u001b[0m\n\u001b[0m               ^\u001b[0m\n\u001b[0;31mSyntaxError\u001b[0m\u001b[0;31m:\u001b[0m unmatched ')'\n"
     ]
    }
   ],
   "source": [
    "print(saif))"
   ]
  },
  {
   "cell_type": "code",
   "execution_count": null,
   "id": "ef9fdea4-0265-4d05-8d00-404492c0682d",
   "metadata": {},
   "outputs": [],
   "source": []
  },
  {
   "cell_type": "code",
   "execution_count": null,
   "id": "1ca3ff74-3d4c-47a2-b17d-31346767cc58",
   "metadata": {},
   "outputs": [],
   "source": []
  },
  {
   "cell_type": "code",
   "execution_count": 28,
   "id": "c336a48e-535c-45c6-9f4a-3a0014984e95",
   "metadata": {},
   "outputs": [
    {
     "name": "stdout",
     "output_type": "stream",
     "text": [
      "['ArithmeticError', 'AssertionError', 'AttributeError', 'BaseException', 'BlockingIOError', 'BrokenPipeError', 'BufferError', 'BytesWarning', 'ChildProcessError', 'ConnectionAbortedError', 'ConnectionError', 'ConnectionRefusedError', 'ConnectionResetError', 'DeprecationWarning', 'EOFError', 'Ellipsis', 'EncodingWarning', 'EnvironmentError', 'Exception', 'False', 'FileExistsError', 'FileNotFoundError', 'FloatingPointError', 'FutureWarning', 'GeneratorExit', 'IOError', 'ImportError', 'ImportWarning', 'IndentationError', 'IndexError', 'InterruptedError', 'IsADirectoryError', 'KeyError', 'KeyboardInterrupt', 'LookupError', 'MemoryError', 'ModuleNotFoundError', 'NameError', 'None', 'NotADirectoryError', 'NotImplemented', 'NotImplementedError', 'OSError', 'OverflowError', 'PendingDeprecationWarning', 'PermissionError', 'ProcessLookupError', 'RecursionError', 'ReferenceError', 'ResourceWarning', 'RuntimeError', 'RuntimeWarning', 'StopAsyncIteration', 'StopIteration', 'SyntaxError', 'SyntaxWarning', 'SystemError', 'SystemExit', 'TabError', 'TimeoutError', 'True', 'TypeError', 'UnboundLocalError', 'UnicodeDecodeError', 'UnicodeEncodeError', 'UnicodeError', 'UnicodeTranslateError', 'UnicodeWarning', 'UserWarning', 'ValueError', 'Warning', 'ZeroDivisionError', '__IPYTHON__', '__build_class__', '__debug__', '__doc__', '__import__', '__loader__', '__name__', '__package__', '__spec__', 'abs', 'aiter', 'all', 'anext', 'any', 'ascii', 'bin', 'bool', 'breakpoint', 'bytearray', 'bytes', 'callable', 'chr', 'classmethod', 'compile', 'complex', 'copyright', 'credits', 'delattr', 'dict', 'dir', 'display', 'divmod', 'enumerate', 'eval', 'exec', 'execfile', 'filter', 'float', 'format', 'frozenset', 'get_ipython', 'getattr', 'globals', 'hasattr', 'hash', 'help', 'hex', 'id', 'input', 'int', 'isinstance', 'issubclass', 'iter', 'len', 'license', 'list', 'locals', 'map', 'max', 'memoryview', 'min', 'next', 'object', 'oct', 'open', 'ord', 'pow', 'print', 'property', 'range', 'repr', 'reversed', 'round', 'runfile', 'set', 'setattr', 'slice', 'sorted', 'staticmethod', 'str', 'sum', 'super', 'tuple', 'type', 'vars', 'zip']\n"
     ]
    }
   ],
   "source": [
    "print(dir(locals()['__builtins__']))"
   ]
  },
  {
   "cell_type": "raw",
   "id": "01873e7f-af0b-4509-ad8c-063a271de599",
   "metadata": {},
   "source": [
    "Assertion Error"
   ]
  },
  {
   "cell_type": "code",
   "execution_count": 29,
   "id": "8dcd047a-6f5e-4651-82c2-abc81e57da59",
   "metadata": {},
   "outputs": [
    {
     "name": "stdout",
     "output_type": "stream",
     "text": [
      "0.3333333333333333\n"
     ]
    }
   ],
   "source": [
    "x = 1\n",
    "y = 3\n",
    "assert y==3, \"Invalid Operation\"\n",
    "print(x/y)"
   ]
  },
  {
   "cell_type": "code",
   "execution_count": 30,
   "id": "2bfadcf7-c8fc-4852-bee3-86f5cdd6050b",
   "metadata": {},
   "outputs": [],
   "source": [
    "y = 10"
   ]
  },
  {
   "cell_type": "code",
   "execution_count": 31,
   "id": "7cab5beb-4a0b-41f8-9a18-75d01d5de55d",
   "metadata": {},
   "outputs": [
    {
     "ename": "AttributeError",
     "evalue": "'int' object has no attribute 'append'",
     "output_type": "error",
     "traceback": [
      "\u001b[0;31m---------------------------------------------------------------------------\u001b[0m",
      "\u001b[0;31mAttributeError\u001b[0m                            Traceback (most recent call last)",
      "Cell \u001b[0;32mIn [31], line 1\u001b[0m\n\u001b[0;32m----> 1\u001b[0m \u001b[43my\u001b[49m\u001b[38;5;241;43m.\u001b[39;49m\u001b[43mappend\u001b[49m(\u001b[38;5;241m6\u001b[39m)\n",
      "\u001b[0;31mAttributeError\u001b[0m: 'int' object has no attribute 'append'"
     ]
    }
   ],
   "source": [
    "y.append(6)"
   ]
  },
  {
   "cell_type": "code",
   "execution_count": 32,
   "id": "e59f9fae-dfb0-4708-adc6-d4885e3ff823",
   "metadata": {},
   "outputs": [],
   "source": [
    "mylist = [1,2,3,4,5,6,7,8,9]\n"
   ]
  },
  {
   "cell_type": "code",
   "execution_count": 33,
   "id": "9ae7ad4a-bb66-4bde-a79e-aab515b7d212",
   "metadata": {},
   "outputs": [
    {
     "ename": "IndexError",
     "evalue": "list index out of range",
     "output_type": "error",
     "traceback": [
      "\u001b[0;31m---------------------------------------------------------------------------\u001b[0m",
      "\u001b[0;31mIndexError\u001b[0m                                Traceback (most recent call last)",
      "Cell \u001b[0;32mIn [33], line 1\u001b[0m\n\u001b[0;32m----> 1\u001b[0m \u001b[43mmylist\u001b[49m\u001b[43m[\u001b[49m\u001b[38;5;241;43m11\u001b[39;49m\u001b[43m]\u001b[49m\n",
      "\u001b[0;31mIndexError\u001b[0m: list index out of range"
     ]
    }
   ],
   "source": [
    "mylist[11]"
   ]
  },
  {
   "cell_type": "code",
   "execution_count": 36,
   "id": "d4e0f1c8-85e8-4517-b83c-8dae38e1c205",
   "metadata": {},
   "outputs": [],
   "source": [
    "mydict={\n",
    "    \"name\" : \"Imran\",\n",
    "    \"course\" : \"python\"\n",
    "}"
   ]
  },
  {
   "cell_type": "code",
   "execution_count": 39,
   "id": "c389b7d3-cdba-4ae8-8445-70cb6c8bfc45",
   "metadata": {},
   "outputs": [
    {
     "ename": "KeyError",
     "evalue": "'age'",
     "output_type": "error",
     "traceback": [
      "\u001b[0;31m---------------------------------------------------------------------------\u001b[0m",
      "\u001b[0;31mKeyError\u001b[0m                                  Traceback (most recent call last)",
      "Cell \u001b[0;32mIn [39], line 1\u001b[0m\n\u001b[0;32m----> 1\u001b[0m \u001b[43mmydict\u001b[49m\u001b[43m[\u001b[49m\u001b[38;5;124;43m'\u001b[39;49m\u001b[38;5;124;43mage\u001b[39;49m\u001b[38;5;124;43m'\u001b[39;49m\u001b[43m]\u001b[49m\n",
      "\u001b[0;31mKeyError\u001b[0m: 'age'"
     ]
    }
   ],
   "source": [
    "mydict['age']"
   ]
  },
  {
   "cell_type": "code",
   "execution_count": 37,
   "id": "cc5561d2-e136-4536-ba47-2c5999ec4a6e",
   "metadata": {},
   "outputs": [
    {
     "ename": "NameError",
     "evalue": "name 'm' is not defined",
     "output_type": "error",
     "traceback": [
      "\u001b[0;31m---------------------------------------------------------------------------\u001b[0m",
      "\u001b[0;31mNameError\u001b[0m                                 Traceback (most recent call last)",
      "Cell \u001b[0;32mIn [37], line 1\u001b[0m\n\u001b[0;32m----> 1\u001b[0m \u001b[38;5;28mprint\u001b[39m(\u001b[43mm\u001b[49m)\n",
      "\u001b[0;31mNameError\u001b[0m: name 'm' is not defined"
     ]
    }
   ],
   "source": [
    "print(m)"
   ]
  },
  {
   "cell_type": "code",
   "execution_count": 46,
   "id": "133afdc9-21bd-4892-b76e-530f7623f103",
   "metadata": {},
   "outputs": [],
   "source": [
    "import math"
   ]
  },
  {
   "cell_type": "code",
   "execution_count": 51,
   "id": "7adb4c35-180e-4a1d-9a92-d18d513aca9d",
   "metadata": {},
   "outputs": [
    {
     "ename": "ValueError",
     "evalue": "math domain error",
     "output_type": "error",
     "traceback": [
      "\u001b[0;31m---------------------------------------------------------------------------\u001b[0m",
      "\u001b[0;31mValueError\u001b[0m                                Traceback (most recent call last)",
      "Cell \u001b[0;32mIn [51], line 1\u001b[0m\n\u001b[0;32m----> 1\u001b[0m \u001b[43mmath\u001b[49m\u001b[38;5;241;43m.\u001b[39;49m\u001b[43msqrt\u001b[49m\u001b[43m(\u001b[49m\u001b[38;5;241;43m-\u001b[39;49m\u001b[38;5;241;43m20\u001b[39;49m\u001b[43m)\u001b[49m\n",
      "\u001b[0;31mValueError\u001b[0m: math domain error"
     ]
    }
   ],
   "source": [
    "math.sqrt(-20)"
   ]
  },
  {
   "cell_type": "code",
   "execution_count": 7,
   "id": "8d1083d5-4cac-46dd-8548-29bdb3d25cd6",
   "metadata": {},
   "outputs": [
    {
     "name": "stdin",
     "output_type": "stream",
     "text": [
      " 5\n"
     ]
    },
    {
     "data": {
      "text/plain": [
       "1.0"
      ]
     },
     "execution_count": 7,
     "metadata": {},
     "output_type": "execute_result"
    }
   ],
   "source": [
    "a = 5\n",
    "b = int(input())\n",
    "a/b"
   ]
  },
  {
   "cell_type": "code",
   "execution_count": null,
   "id": "8fbba3c6-0aae-4110-8425-3aab40e8ebde",
   "metadata": {},
   "outputs": [],
   "source": []
  },
  {
   "cell_type": "code",
   "execution_count": null,
   "id": "5718c7cb-b073-4f24-9e07-c0b6c757e6a5",
   "metadata": {},
   "outputs": [],
   "source": []
  },
  {
   "cell_type": "code",
   "execution_count": null,
   "id": "01f126ee-d385-4173-94f2-32627cbf323f",
   "metadata": {},
   "outputs": [],
   "source": []
  },
  {
   "cell_type": "markdown",
   "id": "9b988570-62db-4809-a7f6-b961fd483f5c",
   "metadata": {},
   "source": [
    "CODES"
   ]
  },
  {
   "cell_type": "code",
   "execution_count": 9,
   "id": "cd5ace21-32e4-432a-bc95-592df9e0d5e6",
   "metadata": {},
   "outputs": [
    {
     "name": "stdout",
     "output_type": "stream",
     "text": [
      "1.1111111111111112\n"
     ]
    }
   ],
   "source": [
    "try:\n",
    "    a = 10\n",
    "    b = 9\n",
    "    c = a/b\n",
    "    print(c)\n",
    "except:\n",
    "    print(f'cant divide with zero provide different number')"
   ]
  },
  {
   "cell_type": "code",
   "execution_count": 13,
   "id": "5a8a6619-216a-4f17-8ba7-5488b592f775",
   "metadata": {},
   "outputs": [
    {
     "name": "stdout",
     "output_type": "stream",
     "text": [
      "there was a mistake\n",
      "this is my outre block\n"
     ]
    }
   ],
   "source": [
    "try :\n",
    "    f = open('test.txt', 'r')\n",
    "    f.write('ineuron')\n",
    "except :\n",
    "    print('there was a mistake')\n",
    "    \n",
    "print('this is my outre block')"
   ]
  },
  {
   "cell_type": "code",
   "execution_count": 14,
   "id": "a8871179-b9cf-4cba-9f73-1453a1ad40e9",
   "metadata": {},
   "outputs": [
    {
     "ename": "FileNotFoundError",
     "evalue": "[Errno 2] No such file or directory: 'test.txt'",
     "output_type": "error",
     "traceback": [
      "\u001b[0;31m---------------------------------------------------------------------------\u001b[0m",
      "\u001b[0;31mFileNotFoundError\u001b[0m                         Traceback (most recent call last)",
      "Cell \u001b[0;32mIn [14], line 1\u001b[0m\n\u001b[0;32m----> 1\u001b[0m f \u001b[38;5;241m=\u001b[39m \u001b[38;5;28;43mopen\u001b[39;49m\u001b[43m(\u001b[49m\u001b[38;5;124;43m'\u001b[39;49m\u001b[38;5;124;43mtest.txt\u001b[39;49m\u001b[38;5;124;43m'\u001b[39;49m\u001b[43m,\u001b[49m\u001b[43m \u001b[49m\u001b[38;5;124;43m'\u001b[39;49m\u001b[38;5;124;43mr\u001b[39;49m\u001b[38;5;124;43m'\u001b[39;49m\u001b[43m)\u001b[49m\n",
      "\u001b[0;31mFileNotFoundError\u001b[0m: [Errno 2] No such file or directory: 'test.txt'"
     ]
    }
   ],
   "source": [
    " f = open('test.txt', 'r')"
   ]
  },
  {
   "cell_type": "code",
   "execution_count": 15,
   "id": "9dbf2059-9e5f-4e57-adef-1c450677811e",
   "metadata": {},
   "outputs": [
    {
     "name": "stdout",
     "output_type": "stream",
     "text": [
      "[4, 5, 6, 7, 8, 9, 9]\n",
      "[4, 5, 6, 7, 8, 9, 9]\n",
      "[4, 5, 6, 7, 8, 9, 9]\n",
      "[4, 5, 6, 7, 8, 9, 9]\n",
      "[4, 5, 6, 7, 8, 9, 9]\n",
      "[4, 5, 6, 7, 8, 9, 9]\n",
      "[4, 5, 6, 7, 8, 9, 9]\n"
     ]
    }
   ],
   "source": [
    "l = [4,5,6,7,8,9,9]\n",
    "\n",
    "try:\n",
    "    for i in range(len(l)):\n",
    "        print(l)\n",
    "except:\n",
    "    print('this is not working')"
   ]
  },
  {
   "cell_type": "code",
   "execution_count": 17,
   "id": "ba65beed-9573-40b4-8492-01874e84ff41",
   "metadata": {},
   "outputs": [
    {
     "name": "stdout",
     "output_type": "stream",
     "text": [
      "4\n",
      "5\n",
      "6\n",
      "7\n",
      "8\n",
      "9\n",
      "9\n",
      "this is not working\n"
     ]
    }
   ],
   "source": [
    "l = [4,5,6,7,8,9,9]\n",
    "\n",
    "try:\n",
    "    for i in range(len(l)+1):\n",
    "        print(l[i])\n",
    "except:\n",
    "    print('this is not working')"
   ]
  },
  {
   "cell_type": "code",
   "execution_count": 19,
   "id": "f4a0c07a-97e2-4749-a1f8-e26c2bd2c90f",
   "metadata": {},
   "outputs": [
    {
     "name": "stdout",
     "output_type": "stream",
     "text": [
      "4\n",
      "5\n",
      "6\n",
      "7\n",
      "8\n",
      "9\n",
      "9\n"
     ]
    },
    {
     "ename": "IndexError",
     "evalue": "list index out of range",
     "output_type": "error",
     "traceback": [
      "\u001b[0;31m---------------------------------------------------------------------------\u001b[0m",
      "\u001b[0;31mIndexError\u001b[0m                                Traceback (most recent call last)",
      "Cell \u001b[0;32mIn [19], line 4\u001b[0m\n\u001b[1;32m      1\u001b[0m l \u001b[38;5;241m=\u001b[39m [\u001b[38;5;241m4\u001b[39m,\u001b[38;5;241m5\u001b[39m,\u001b[38;5;241m6\u001b[39m,\u001b[38;5;241m7\u001b[39m,\u001b[38;5;241m8\u001b[39m,\u001b[38;5;241m9\u001b[39m,\u001b[38;5;241m9\u001b[39m]\n\u001b[1;32m      3\u001b[0m \u001b[38;5;28;01mfor\u001b[39;00m i \u001b[38;5;129;01min\u001b[39;00m \u001b[38;5;28mrange\u001b[39m(\u001b[38;5;28mlen\u001b[39m(l)\u001b[38;5;241m+\u001b[39m\u001b[38;5;241m1\u001b[39m):\n\u001b[0;32m----> 4\u001b[0m         \u001b[38;5;28mprint\u001b[39m(\u001b[43ml\u001b[49m\u001b[43m[\u001b[49m\u001b[43mi\u001b[49m\u001b[43m]\u001b[49m)\n",
      "\u001b[0;31mIndexError\u001b[0m: list index out of range"
     ]
    }
   ],
   "source": [
    "l = [4,5,6,7,8,9,9]\n",
    "\n",
    "for i in range(len(l)+1):\n",
    "        print(l[i])"
   ]
  },
  {
   "cell_type": "code",
   "execution_count": 20,
   "id": "fbb45418-3ccc-4871-9b49-cc2bd3cd69b3",
   "metadata": {},
   "outputs": [
    {
     "name": "stdout",
     "output_type": "stream",
     "text": [
      "4\n",
      "5\n",
      "6\n",
      "7\n",
      "8\n",
      "9\n",
      "9\n",
      "list index out of range\n",
      "this is not working\n"
     ]
    }
   ],
   "source": [
    "l = [4,5,6,7,8,9,9]\n",
    "\n",
    "try:\n",
    "    for i in range(len(l)+1):\n",
    "        print(l[i])\n",
    "except Exception as e:\n",
    "    print(e)\n",
    "    print('this is not working')"
   ]
  },
  {
   "cell_type": "code",
   "execution_count": 21,
   "id": "749a6557-a22c-4979-83db-7d0ff92060c1",
   "metadata": {},
   "outputs": [
    {
     "name": "stdin",
     "output_type": "stream",
     "text": [
      " i\n"
     ]
    },
    {
     "name": "stdout",
     "output_type": "stream",
     "text": [
      "invalid literal for int() with base 10: 'i'\n",
      "Ineuron\n"
     ]
    }
   ],
   "source": [
    "try :\n",
    "    a = int(input())\n",
    "    b = int(input())\n",
    "except Exception as e:\n",
    "    print(e)\n",
    "print(\"Ineuron\")"
   ]
  },
  {
   "cell_type": "code",
   "execution_count": 22,
   "id": "66a7967d-dc81-402f-983e-4cbea4e43907",
   "metadata": {},
   "outputs": [
    {
     "name": "stdin",
     "output_type": "stream",
     "text": [
      " y\n"
     ]
    },
    {
     "ename": "ValueError",
     "evalue": "invalid literal for int() with base 10: 'y'",
     "output_type": "error",
     "traceback": [
      "\u001b[0;31m---------------------------------------------------------------------------\u001b[0m",
      "\u001b[0;31mValueError\u001b[0m                                Traceback (most recent call last)",
      "Cell \u001b[0;32mIn [22], line 1\u001b[0m\n\u001b[0;32m----> 1\u001b[0m a \u001b[38;5;241m=\u001b[39m \u001b[38;5;28;43mint\u001b[39;49m\u001b[43m(\u001b[49m\u001b[38;5;28;43minput\u001b[39;49m\u001b[43m(\u001b[49m\u001b[43m)\u001b[49m\u001b[43m)\u001b[49m\n\u001b[1;32m      2\u001b[0m b \u001b[38;5;241m=\u001b[39m \u001b[38;5;28mint\u001b[39m(\u001b[38;5;28minput\u001b[39m())\n",
      "\u001b[0;31mValueError\u001b[0m: invalid literal for int() with base 10: 'y'"
     ]
    }
   ],
   "source": [
    "a = int(input())\n",
    "b = int(input())"
   ]
  },
  {
   "cell_type": "code",
   "execution_count": null,
   "id": "2290d172-7f63-4325-a1ac-8b510e3dd82b",
   "metadata": {},
   "outputs": [],
   "source": []
  },
  {
   "cell_type": "markdown",
   "id": "7dd586d8-3418-4b48-811b-b2b914919403",
   "metadata": {},
   "source": [
    "INDIVIDUAL ERROR HANDLING (ONLY ONE)"
   ]
  },
  {
   "cell_type": "code",
   "execution_count": 31,
   "id": "5a28e90d-4920-4dab-addd-fdeadb317e0d",
   "metadata": {},
   "outputs": [
    {
     "name": "stdin",
     "output_type": "stream",
     "text": [
      "Enter value of a :  5\n",
      "Enter value of b :  0\n"
     ]
    },
    {
     "name": "stdout",
     "output_type": "stream",
     "text": [
      "Cannot divide by Zero\n"
     ]
    }
   ],
   "source": [
    "try :\n",
    "    a = int(input(\"Enter value of a : \"))\n",
    "    b = int(input(\"Enter value of b : \"))\n",
    "    c = a/b\n",
    "    print(\"answer\", c)\n",
    "\n",
    "except ValueError:\n",
    "    print('Entered value is wrong')\n",
    "except ZeroDivisionError:\n",
    "    print('Cannot divide by Zero')"
   ]
  },
  {
   "cell_type": "code",
   "execution_count": 33,
   "id": "7d61a7ca-fb9c-49e6-a527-1477b8a5a074",
   "metadata": {},
   "outputs": [
    {
     "name": "stdin",
     "output_type": "stream",
     "text": [
      "Enter value of a :  5\n",
      "Enter value of b :  ten\n"
     ]
    },
    {
     "name": "stdout",
     "output_type": "stream",
     "text": [
      "Entered value is wrong\n"
     ]
    }
   ],
   "source": [
    "try :\n",
    "    a = int(input(\"Enter value of a : \"))\n",
    "    b = int(input(\"Enter value of b : \"))\n",
    "    c = a/b\n",
    "    print(\"answer\", c)\n",
    "\n",
    "except ValueError:\n",
    "    print('Entered value is wrong')\n",
    "except ZeroDivisionError:\n",
    "    print('Cannot divide by Zero')"
   ]
  },
  {
   "cell_type": "code",
   "execution_count": 43,
   "id": "56aac8d5-fa2a-4918-a079-6054e55eac03",
   "metadata": {},
   "outputs": [
    {
     "name": "stdout",
     "output_type": "stream",
     "text": [
      "the entry is  a\n",
      "oops <class 'ValueError'> occured\n",
      "next entry\n",
      "the entry is  0\n",
      "oops <class 'ZeroDivisionError'> occured\n",
      "next entry\n",
      "the entry is  2\n",
      "The reciprocal of  2 is 0.5\n"
     ]
    }
   ],
   "source": [
    "import sys\n",
    "\n",
    "randomList = ['a', 0, 2]\n",
    "\n",
    "for entry in randomList:\n",
    "    try:\n",
    "        print('the entry is ', entry)\n",
    "        r = 1/int(entry)\n",
    "        break\n",
    "    except:\n",
    "        print('oops', sys.exc_info()[0], 'occured')\n",
    "        print('next entry')\n",
    "print('The reciprocal of ', entry, 'is',r)"
   ]
  },
  {
   "cell_type": "code",
   "execution_count": null,
   "id": "ca17788e-ad83-4405-b97d-f11ea655cc03",
   "metadata": {},
   "outputs": [],
   "source": []
  },
  {
   "cell_type": "markdown",
   "id": "2d6152c9-2583-44c8-90d6-b0a154e32ad9",
   "metadata": {},
   "source": [
    "Exception Handling including else "
   ]
  },
  {
   "cell_type": "code",
   "execution_count": null,
   "id": "1b3285a4-3b42-4b08-82ad-1149e1d34d9a",
   "metadata": {},
   "outputs": [],
   "source": [
    "try:\n",
    "    # block of codes\n",
    "except Exception:\n",
    "    # block of code\n",
    "else:\n",
    "    # this code executes when exception is not occured\n",
    "    "
   ]
  },
  {
   "cell_type": "code",
   "execution_count": 53,
   "id": "0f040e57-7776-4868-bfad-ea276bbdc25f",
   "metadata": {},
   "outputs": [
    {
     "name": "stdin",
     "output_type": "stream",
     "text": [
      "Enter a Number :  10\n"
     ]
    },
    {
     "name": "stdout",
     "output_type": "stream",
     "text": [
      "0.1\n"
     ]
    }
   ],
   "source": [
    "try:\n",
    "    num = int(input('Enter a Number : '))\n",
    "    assert num%2 == 0\n",
    "except:\n",
    "    print(\"Not a even Number\")\n",
    "else:\n",
    "    reciprocal = 1/num\n",
    "    print(reciprocal)"
   ]
  },
  {
   "cell_type": "code",
   "execution_count": 58,
   "id": "3c6f806f-f93f-439c-9929-cc8eac488c61",
   "metadata": {},
   "outputs": [
    {
     "name": "stdin",
     "output_type": "stream",
     "text": [
      "Enter value of a :  5\n",
      "Enter value of b :  0\n"
     ]
    },
    {
     "name": "stdout",
     "output_type": "stream",
     "text": [
      "Cannot divide by Zero\n"
     ]
    }
   ],
   "source": [
    "try :\n",
    "    a = int(input(\"Enter value of a : \"))\n",
    "    b = int(input(\"Enter value of b : \"))\n",
    "    c = a/b\n",
    "    print(\"answer\", c)\n",
    "\n",
    "except ZeroDivisionError:\n",
    "    print('Cannot divide by Zero')\n",
    "\n",
    "else:\n",
    "    print(\"Else Block\")"
   ]
  },
  {
   "cell_type": "code",
   "execution_count": null,
   "id": "5dfeb8fb-5d70-480d-b594-17c11619d4c9",
   "metadata": {},
   "outputs": [],
   "source": []
  },
  {
   "cell_type": "markdown",
   "id": "77ae3387-d005-4985-80e6-9c2307d7a723",
   "metadata": {},
   "source": [
    "Exception Handling including Finally"
   ]
  },
  {
   "cell_type": "code",
   "execution_count": 63,
   "id": "0dd6cf99-fe92-47e8-aa11-c518c8922f79",
   "metadata": {},
   "outputs": [
    {
     "name": "stdin",
     "output_type": "stream",
     "text": [
      "Enter value of a :  5\n",
      "Enter value of b :  0\n"
     ]
    },
    {
     "name": "stdout",
     "output_type": "stream",
     "text": [
      "Cannot divide by Zero\n",
      "From finally block\n"
     ]
    }
   ],
   "source": [
    "try :\n",
    "    a = int(input(\"Enter value of a : \"))\n",
    "    b = int(input(\"Enter value of b : \"))\n",
    "    c = a/b\n",
    "    print(\"answer\", c)\n",
    "\n",
    "except ZeroDivisionError:\n",
    "    print('Cannot divide by Zero')\n",
    "\n",
    "finally:\n",
    "    print(\"From finally block\")"
   ]
  },
  {
   "cell_type": "code",
   "execution_count": null,
   "id": "d2c2cd0f-118d-4f31-bec2-a6394f0fee5b",
   "metadata": {},
   "outputs": [],
   "source": []
  },
  {
   "cell_type": "code",
   "execution_count": 64,
   "id": "20d8c842-8dbc-4489-bd22-57b170e487f6",
   "metadata": {},
   "outputs": [],
   "source": [
    "def divide(x,y):\n",
    "    print(x/y)"
   ]
  },
  {
   "cell_type": "code",
   "execution_count": 68,
   "id": "8a6a9c4d-05a4-4ced-a9e6-5174546169dd",
   "metadata": {},
   "outputs": [
    {
     "name": "stdout",
     "output_type": "stream",
     "text": [
      "5.0\n"
     ]
    },
    {
     "ename": "ZeroDivisionError",
     "evalue": "division by zero",
     "output_type": "error",
     "traceback": [
      "\u001b[0;31m---------------------------------------------------------------------------\u001b[0m",
      "\u001b[0;31mZeroDivisionError\u001b[0m                         Traceback (most recent call last)",
      "Cell \u001b[0;32mIn [68], line 2\u001b[0m\n\u001b[1;32m      1\u001b[0m divide(\u001b[38;5;241m10\u001b[39m,\u001b[38;5;241m2\u001b[39m)\n\u001b[0;32m----> 2\u001b[0m \u001b[43mdivide\u001b[49m\u001b[43m(\u001b[49m\u001b[38;5;241;43m10\u001b[39;49m\u001b[43m,\u001b[49m\u001b[38;5;241;43m0\u001b[39;49m\u001b[43m)\u001b[49m\n\u001b[1;32m      3\u001b[0m divide(\u001b[38;5;241m10\u001b[39m,\u001b[38;5;241m4\u001b[39m)\n",
      "Cell \u001b[0;32mIn [64], line 2\u001b[0m, in \u001b[0;36mdivide\u001b[0;34m(x, y)\u001b[0m\n\u001b[1;32m      1\u001b[0m \u001b[38;5;28;01mdef\u001b[39;00m \u001b[38;5;21mdivide\u001b[39m(x,y):\n\u001b[0;32m----> 2\u001b[0m     \u001b[38;5;28mprint\u001b[39m(\u001b[43mx\u001b[49m\u001b[38;5;241;43m/\u001b[39;49m\u001b[43my\u001b[49m)\n",
      "\u001b[0;31mZeroDivisionError\u001b[0m: division by zero"
     ]
    }
   ],
   "source": [
    "divide(10,2)\n",
    "divide(10,0)\n",
    "divide(10,4)"
   ]
  },
  {
   "cell_type": "code",
   "execution_count": 69,
   "id": "a9348ab7-439c-4609-89b5-237b4c91e529",
   "metadata": {},
   "outputs": [],
   "source": [
    "def divide(x,y):\n",
    "    try:\n",
    "        print(x/y)\n",
    "    except ZeroDivisionError as e:\n",
    "        print(e)\n",
    "        "
   ]
  },
  {
   "cell_type": "code",
   "execution_count": 70,
   "id": "31af0195-12ed-42d7-86ad-d4f9a2046023",
   "metadata": {},
   "outputs": [
    {
     "name": "stdout",
     "output_type": "stream",
     "text": [
      "5.0\n",
      "division by zero\n",
      "2.5\n"
     ]
    }
   ],
   "source": [
    "divide(10,2)\n",
    "divide(10,0)\n",
    "divide(10,4)"
   ]
  },
  {
   "cell_type": "code",
   "execution_count": 71,
   "id": "6d3c9046-d516-4b6e-a939-66bbc8575f02",
   "metadata": {},
   "outputs": [],
   "source": [
    "def divide(x,y):\n",
    "    try:\n",
    "        print(x/y)\n",
    "    except ZeroDivisionError as e:\n",
    "        print(e)\n",
    "    else:\n",
    "        print(\"Else Block\")\n",
    "    finally:\n",
    "        print(\"Finally Block\")"
   ]
  },
  {
   "cell_type": "code",
   "execution_count": 72,
   "id": "4e99157e-d7b4-43a8-b5b5-8121bf29c290",
   "metadata": {},
   "outputs": [
    {
     "name": "stdout",
     "output_type": "stream",
     "text": [
      "5.0\n",
      "Else Block\n",
      "Finally Block\n",
      "division by zero\n",
      "Finally Block\n",
      "2.5\n",
      "Else Block\n",
      "Finally Block\n"
     ]
    }
   ],
   "source": [
    "divide(10,2)\n",
    "divide(10,0)\n",
    "divide(10,4)"
   ]
  },
  {
   "cell_type": "code",
   "execution_count": 2,
   "id": "26f1e494-c719-4491-94fa-1b981e8d8b44",
   "metadata": {},
   "outputs": [
    {
     "name": "stdout",
     "output_type": "stream",
     "text": [
      "Outer Try Block\n",
      "Nested Try Block\n",
      "Outer Except Block\n",
      "division by zero\n"
     ]
    }
   ],
   "source": [
    "x = 10\n",
    "y = 0\n",
    "\n",
    "try:\n",
    "    print(\"Outer Try Block\")\n",
    "    try:\n",
    "        print(\"Nested Try Block\")\n",
    "        print(x/y)\n",
    "    except TypeError as te:\n",
    "        print('Nested except block')\n",
    "        print(te)\n",
    "except ZeroDivisionError as ze:\n",
    "    print('Outer Except Block')\n",
    "    print(ze)\n",
    "    \n",
    "# whenever you have nested part and in the nested inside excption not\n",
    "# handling the exception it will be handled by outside of it.\n"
   ]
  },
  {
   "cell_type": "code",
   "execution_count": 3,
   "id": "dc760ef9-fbfa-4138-ba42-2e72da5c3ba0",
   "metadata": {},
   "outputs": [
    {
     "name": "stdout",
     "output_type": "stream",
     "text": [
      "Outer Try Block\n",
      "Nested Try Block\n",
      "0.8333333333333334\n"
     ]
    }
   ],
   "source": [
    "x = 10\n",
    "y = 12\n",
    "\n",
    "try:\n",
    "    print(\"Outer Try Block\")\n",
    "    try:\n",
    "        print(\"Nested Try Block\")\n",
    "        print(x/y)\n",
    "    except TypeError as te:\n",
    "        print('Nested except block')\n",
    "        print(te)\n",
    "except ZeroDivisionError as ze:\n",
    "    print('Outer Except Block')\n",
    "    print(ze)\n",
    "    \n",
    "# whenever you have nested part and in the nested inside excption not\n",
    "# handling the exception it will be handled by outside of it.\n"
   ]
  },
  {
   "cell_type": "code",
   "execution_count": 8,
   "id": "b939266b-0c1e-4fb5-8104-af48919d2474",
   "metadata": {},
   "outputs": [],
   "source": [
    "def func1():\n",
    "    flag =  True\n",
    "    while flag:\n",
    "        try:\n",
    "            a = int(input('Enter the integers : '))\n",
    "            if type(a) == int:\n",
    "                return \"Yes,  you have entered an Integer\"\n",
    "            flag = False\n",
    "        except Exception as e:\n",
    "            print(\"you did not entered an integer, please enter an integer\", e)"
   ]
  },
  {
   "cell_type": "code",
   "execution_count": 10,
   "id": "498f4cea-7a8c-42fd-b908-981878dd66f8",
   "metadata": {},
   "outputs": [
    {
     "name": "stdin",
     "output_type": "stream",
     "text": [
      "Enter the integers :  10\n"
     ]
    },
    {
     "data": {
      "text/plain": [
       "'Yes,  you have entered an Integer'"
      ]
     },
     "execution_count": 10,
     "metadata": {},
     "output_type": "execute_result"
    }
   ],
   "source": [
    "func1()"
   ]
  },
  {
   "cell_type": "code",
   "execution_count": 16,
   "id": "fe4025f7-ccd8-4dec-aad3-1080c6c9ba64",
   "metadata": {},
   "outputs": [
    {
     "name": "stdout",
     "output_type": "stream",
     "text": [
      "there is issue with my code.\n",
      "(4, 5, 6, 7, 8, 9)\n",
      "hi\n",
      "[4, 5, 6, 7, 8, 9]\n"
     ]
    }
   ],
   "source": [
    "try:\n",
    "    l = [4,5,6,7,8,9]\n",
    "    l[10]\n",
    "except:\n",
    "    print('there is issue with my code.')\n",
    "    t = (4,5,6,7,8,9)\n",
    "    print(t)\n",
    "    try:\n",
    "        print(\"hi\")\n",
    "        # t[0] = \"Imran\"\n",
    "        try:\n",
    "            k = list(t)\n",
    "            print(k)\n",
    "        except:\n",
    "            pass\n",
    "    except:\n",
    "        pass\n",
    "else:\n",
    "    print(\"There is no issue with code\")"
   ]
  },
  {
   "cell_type": "code",
   "execution_count": null,
   "id": "492755a5-46fb-4aa0-b26c-c0e2c8aa0afd",
   "metadata": {},
   "outputs": [],
   "source": []
  }
 ],
 "metadata": {
  "kernelspec": {
   "display_name": "Python 3 (ipykernel)",
   "language": "python",
   "name": "python3"
  },
  "language_info": {
   "codemirror_mode": {
    "name": "ipython",
    "version": 3
   },
   "file_extension": ".py",
   "mimetype": "text/x-python",
   "name": "python",
   "nbconvert_exporter": "python",
   "pygments_lexer": "ipython3",
   "version": "3.10.6"
  },
  "toc-autonumbering": false,
  "toc-showmarkdowntxt": true,
  "toc-showtags": false
 },
 "nbformat": 4,
 "nbformat_minor": 5
}
