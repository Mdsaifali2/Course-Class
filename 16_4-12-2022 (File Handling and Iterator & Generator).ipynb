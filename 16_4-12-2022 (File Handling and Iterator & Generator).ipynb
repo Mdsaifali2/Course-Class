{
 "cells": [
  {
   "cell_type": "markdown",
   "id": "c11ae193-1dea-4f96-abc8-9283050995c2",
   "metadata": {},
   "source": [
    "FILE HANDLING"
   ]
  },
  {
   "cell_type": "code",
   "execution_count": 4,
   "id": "02566f42-f12d-4bf3-b641-e71fdad54b04",
   "metadata": {},
   "outputs": [
    {
     "name": "stdout",
     "output_type": "stream",
     "text": [
      " 01_Python_24_09_2022.ipynb\n",
      " 02_Python_25_09_2022.ipynb\n",
      " 03_Python_01_10_2022.ipynb\n",
      " 04_Python_08_10_2022.ipynb\n",
      " 05_Python_09_10_2022.ipynb\n",
      " 06_Python_15_10_2022.ipynb\n",
      " 07_Python_16_10_2022.ipynb\n",
      " 08_Python_29-10-2022.ipynb\n",
      "'09_Question Solve Class on_30-10-2022.ipynb'\n",
      " 10_Python_12-11-2022.ipynb\n",
      " 11_Python_13-11-2022.ipynb\n",
      "'12_Python_19 & 20-11-2022.ipynb'\n",
      " 13_Python_20-11-2022.ipynb\n",
      " 14_26-11-2022.ipynb\n",
      "'15_3-12-2022 (Exception Handling).ipynb'\n",
      "'16_4-12-2022 (File Handling and Iterator & Generator).ipynb'\n",
      " public_1.txt\n"
     ]
    }
   ],
   "source": [
    "%ls #this command listed all the files in the directory which we are working in."
   ]
  },
  {
   "cell_type": "code",
   "execution_count": 3,
   "id": "bb8217e9-aa01-4e4f-a0ec-a4573883d296",
   "metadata": {},
   "outputs": [
    {
     "data": {
      "text/plain": [
       "'/home/jovyan/work'"
      ]
     },
     "execution_count": 3,
     "metadata": {},
     "output_type": "execute_result"
    }
   ],
   "source": [
    "pwd() #this command show the present working directory in which i working now"
   ]
  },
  {
   "cell_type": "markdown",
   "id": "7113d3f4-c473-4d33-87ef-b8e8ca59ba21",
   "metadata": {},
   "source": [
    "Opening a file and closing a file"
   ]
  },
  {
   "cell_type": "code",
   "execution_count": 5,
   "id": "e96e17fe-25fd-4714-b06b-796e14ce4f35",
   "metadata": {},
   "outputs": [],
   "source": [
    "f = open('test.txt') #opening a file"
   ]
  },
  {
   "cell_type": "code",
   "execution_count": 7,
   "id": "f1eb0d2e-bdee-4b32-a1fa-5bec5b774781",
   "metadata": {},
   "outputs": [
    {
     "data": {
      "text/plain": [
       "_io.TextIOWrapper"
      ]
     },
     "execution_count": 7,
     "metadata": {},
     "output_type": "execute_result"
    }
   ],
   "source": [
    "type(f)"
   ]
  },
  {
   "cell_type": "code",
   "execution_count": 8,
   "id": "42926f24-3e53-49f9-a000-4c333de117e6",
   "metadata": {},
   "outputs": [],
   "source": [
    "f.close() #Closing file which we are open late"
   ]
  },
  {
   "cell_type": "code",
   "execution_count": 9,
   "id": "5dac5f44-de20-4929-8399-e63e52f9a84d",
   "metadata": {},
   "outputs": [],
   "source": [
    "# syntax for opening a file from different directory.\n",
    "# f = open(f\"C:/users/imran/downloads/text.text\", 'r')"
   ]
  },
  {
   "cell_type": "markdown",
   "id": "89093b3c-d040-4a8f-83e9-d1bb647c186c",
   "metadata": {},
   "source": [
    "Reading a file"
   ]
  },
  {
   "cell_type": "code",
   "execution_count": 21,
   "id": "2ced9926-6c31-4b57-bbcd-4f0c302c97ff",
   "metadata": {},
   "outputs": [],
   "source": [
    "f = open(\"test.txt\")"
   ]
  },
  {
   "cell_type": "code",
   "execution_count": 11,
   "id": "9609facb-6e65-4050-85e2-98a3ca54a091",
   "metadata": {},
   "outputs": [
    {
     "data": {
      "text/plain": [
       "'wrote code\\nfirst line\\nsecond line\\nthird\\nineuron\\ndsfdfds\\nasdfdfdf'"
      ]
     },
     "execution_count": 11,
     "metadata": {},
     "output_type": "execute_result"
    }
   ],
   "source": [
    "f.read()"
   ]
  },
  {
   "cell_type": "code",
   "execution_count": 22,
   "id": "ff8255df-f74b-40c7-a1f5-003c28392ec7",
   "metadata": {},
   "outputs": [
    {
     "data": {
      "text/plain": [
       "'wrot'"
      ]
     },
     "execution_count": 22,
     "metadata": {},
     "output_type": "execute_result"
    }
   ],
   "source": [
    "f.read(4)\n",
    "#this will read 4 data from the input file"
   ]
  },
  {
   "cell_type": "code",
   "execution_count": 39,
   "id": "4a39fb57-0d16-42f1-8c90-762baefa8908",
   "metadata": {},
   "outputs": [
    {
     "data": {
      "text/plain": [
       "'wrote'"
      ]
     },
     "execution_count": 39,
     "metadata": {},
     "output_type": "execute_result"
    }
   ],
   "source": [
    "f.read(5)"
   ]
  },
  {
   "cell_type": "code",
   "execution_count": 51,
   "id": "1afabfb4-c333-4ca9-97e4-631aaf429a28",
   "metadata": {},
   "outputs": [
    {
     "data": {
      "text/plain": [
       "0"
      ]
     },
     "execution_count": 51,
     "metadata": {},
     "output_type": "execute_result"
    }
   ],
   "source": [
    "f.seek(0) #this will break the cursor point and next time when\n",
    "# we are trying to read the file it will read from beginning."
   ]
  },
  {
   "cell_type": "code",
   "execution_count": 40,
   "id": "2f76818d-1486-46df-8ab8-119167e7af49",
   "metadata": {},
   "outputs": [
    {
     "data": {
      "text/plain": [
       "5"
      ]
     },
     "execution_count": 40,
     "metadata": {},
     "output_type": "execute_result"
    }
   ],
   "source": [
    "f.tell()\n",
    "# for getting the current cursor position "
   ]
  },
  {
   "cell_type": "code",
   "execution_count": 44,
   "id": "ea6eb7e2-923b-465f-8c00-4b362f8b35c0",
   "metadata": {},
   "outputs": [
    {
     "data": {
      "text/plain": [
       "['wrote code\\n',\n",
       " 'first line\\n',\n",
       " 'second line\\n',\n",
       " 'third\\n',\n",
       " 'ineuron\\n',\n",
       " 'dsfdfds\\n',\n",
       " 'asdfdfdf']"
      ]
     },
     "execution_count": 44,
     "metadata": {},
     "output_type": "execute_result"
    }
   ],
   "source": [
    "f.readlines()"
   ]
  },
  {
   "cell_type": "code",
   "execution_count": 50,
   "id": "9c6b8875-c839-48b0-9367-e20cd1c31dc2",
   "metadata": {},
   "outputs": [
    {
     "data": {
      "text/plain": [
       "['third\\n', 'ineuron\\n', 'dsfdfds\\n', 'asdfdfdf']"
      ]
     },
     "execution_count": 50,
     "metadata": {},
     "output_type": "execute_result"
    }
   ],
   "source": [
    "f.readlines()"
   ]
  },
  {
   "cell_type": "code",
   "execution_count": 52,
   "id": "951fa971-95e5-4c4c-aea8-2a302a51d081",
   "metadata": {},
   "outputs": [],
   "source": [
    "try:\n",
    "    f = open('test.txt')\n",
    "finally:\n",
    "    f.close()\n"
   ]
  },
  {
   "cell_type": "code",
   "execution_count": 55,
   "id": "684aafaf-43bf-4645-ab12-32120b42faa8",
   "metadata": {},
   "outputs": [],
   "source": [
    "f = open('test.txt')"
   ]
  },
  {
   "cell_type": "code",
   "execution_count": 56,
   "id": "497dd207-2b34-4e48-9b17-74278efaa8a0",
   "metadata": {},
   "outputs": [],
   "source": [
    "with open('test.txt') as f:\n",
    "    #file operation\n",
    "    f.read()\n",
    "    pass"
   ]
  },
  {
   "cell_type": "markdown",
   "id": "4474b060-5149-4558-8581-ce36bd97be14",
   "metadata": {},
   "source": [
    "Writing in a file"
   ]
  },
  {
   "cell_type": "code",
   "execution_count": 61,
   "id": "660ff943-0371-45e6-a855-c88d3adae40f",
   "metadata": {},
   "outputs": [
    {
     "name": "stdout",
     "output_type": "stream",
     "text": [
      "Done\n"
     ]
    }
   ],
   "source": [
    "data =  'Ineuron'\n",
    "f = open('test1.txt', 'w')\n",
    "f.write(data)\n",
    "print('Done')\n",
    "f.close()"
   ]
  },
  {
   "cell_type": "code",
   "execution_count": 64,
   "id": "a5dd73ce-d016-424b-9f3f-2695ecc499c9",
   "metadata": {},
   "outputs": [],
   "source": [
    "with open('test2.txt', 'w') as f:\n",
    "    f.write('Ineuron Line\\n')\n",
    "    f.write('Ineuron Line')    "
   ]
  },
  {
   "cell_type": "code",
   "execution_count": 98,
   "id": "70dfa253-5dd7-46a0-99c0-8200f7db507c",
   "metadata": {},
   "outputs": [
    {
     "name": "stdin",
     "output_type": "stream",
     "text": [
      "Entered the First number :  7\n",
      "Entered the Second number :  0\n"
     ]
    },
    {
     "name": "stdout",
     "output_type": "stream",
     "text": [
      "There is some issue with my code  division by zero\n"
     ]
    }
   ],
   "source": [
    "try:\n",
    "    a = int(input(\"Entered the First number : \"))\n",
    "    b = int(input(\"Entered the Second number : \"))    \n",
    "    c = a/b\n",
    "except ArithmeticError as e:\n",
    "    print(\"There is some issue with my code \", e)\n",
    "    f = open(\"error.txt\", 'w+')\n",
    "    a = str(e)\n",
    "    f.write(a)\n",
    "    f.read()\n",
    "else:\n",
    "    print('this will execute once try is success')\n",
    "    try:\n",
    "        f = open('test3.txt', 'w')\n",
    "    except:\n",
    "        print(\"This is and issue with try block\")\n",
    "    "
   ]
  },
  {
   "cell_type": "code",
   "execution_count": 100,
   "id": "4a4db7cf-3bb7-408c-baee-52c432a06643",
   "metadata": {},
   "outputs": [
    {
     "name": "stdout",
     "output_type": "stream",
     "text": [
      "/'Error.txt/' is present in the current direcotry\n"
     ]
    }
   ],
   "source": [
    "# program to check mentioned file is exist or not\n",
    "try:\n",
    "    f = open('error.txt', 'r')\n",
    "    print(\"/'Error.txt/' is present in the current direcotry\")    \n",
    "except FileNotFoundError:\n",
    "    print(\"/'Error.txt/' is not in the current direcotry\")"
   ]
  },
  {
   "cell_type": "code",
   "execution_count": 101,
   "id": "e7a20d33-bcde-4c8e-9fdc-0a3432d63dbb",
   "metadata": {},
   "outputs": [],
   "source": [
    "# program to count number of lines present int he file\n"
   ]
  },
  {
   "cell_type": "code",
   "execution_count": 102,
   "id": "7371b486-e80b-4c51-a2ea-54031613dd32",
   "metadata": {},
   "outputs": [],
   "source": [
    "# Program to check the size of file\n"
   ]
  },
  {
   "cell_type": "raw",
   "id": "d20b9a6b-7cf6-4e37-80db-ea8372625202",
   "metadata": {},
   "source": [
    "Mode and its defination\n",
    "\n",
    "r = opening file for reading\n",
    "\n",
    "w = it will open a file for writing if file not present in\n",
    "    the directory it will create. if its already present it will\n",
    "    overwrite/trucate.\n",
    "    \n",
    "x = open a file for exlusive creation. if the file not present in\n",
    "    the directory it will creat and if the file already exists it\n",
    "    will not overwrite and throw error.\n",
    "    \n",
    "a = It will a open a file for appending at the end of file and\n",
    "    also it will create a new file when file not existed\n",
    "\n",
    "+ = open a file for updating (reading & writing)\n"
   ]
  },
  {
   "cell_type": "code",
   "execution_count": 104,
   "id": "31a03d95-f5e6-4ba8-a45b-42e9df483558",
   "metadata": {},
   "outputs": [
    {
     "ename": "FileExistsError",
     "evalue": "[Errno 17] File exists: 'new.txt'",
     "output_type": "error",
     "traceback": [
      "\u001b[0;31m---------------------------------------------------------------------------\u001b[0m",
      "\u001b[0;31mFileExistsError\u001b[0m                           Traceback (most recent call last)",
      "Cell \u001b[0;32mIn [104], line 1\u001b[0m\n\u001b[0;32m----> 1\u001b[0m f \u001b[38;5;241m=\u001b[39m \u001b[38;5;28;43mopen\u001b[39;49m\u001b[43m(\u001b[49m\u001b[38;5;124;43m'\u001b[39;49m\u001b[38;5;124;43mnew.txt\u001b[39;49m\u001b[38;5;124;43m'\u001b[39;49m\u001b[43m,\u001b[49m\u001b[43m \u001b[49m\u001b[38;5;124;43m'\u001b[39;49m\u001b[38;5;124;43mx\u001b[39;49m\u001b[38;5;124;43m'\u001b[39;49m\u001b[43m)\u001b[49m\n",
      "\u001b[0;31mFileExistsError\u001b[0m: [Errno 17] File exists: 'new.txt'"
     ]
    }
   ],
   "source": [
    "f = open('new.txt', 'x') # x mode = file already exists so it will not overwrite and throw error."
   ]
  },
  {
   "cell_type": "code",
   "execution_count": null,
   "id": "a7a4b0f7-fa8a-480f-8365-278c0c660e96",
   "metadata": {},
   "outputs": [],
   "source": []
  },
  {
   "cell_type": "code",
   "execution_count": null,
   "id": "5cddfc9a-df3a-4436-860d-f046f0493598",
   "metadata": {},
   "outputs": [],
   "source": []
  },
  {
   "cell_type": "code",
   "execution_count": null,
   "id": "c3258614-2254-4c98-baa0-0bfc3ff96e95",
   "metadata": {},
   "outputs": [],
   "source": []
  },
  {
   "cell_type": "code",
   "execution_count": null,
   "id": "cea13950-51ef-4cde-b28e-a96c18c0aafb",
   "metadata": {},
   "outputs": [],
   "source": []
  },
  {
   "cell_type": "markdown",
   "id": "0f67a1e1-b883-493c-ac60-4fdf04e7dbde",
   "metadata": {},
   "source": [
    "ITERATOR"
   ]
  },
  {
   "cell_type": "code",
   "execution_count": 105,
   "id": "b1d3fc0b-2617-4eb5-83d9-52164391640f",
   "metadata": {},
   "outputs": [],
   "source": [
    "mytuple = (\"ineuron\", \"imran\", \"code\")"
   ]
  },
  {
   "cell_type": "code",
   "execution_count": 106,
   "id": "61a6da92-0ba3-42fe-9df3-c38e98aa15ce",
   "metadata": {},
   "outputs": [
    {
     "name": "stdout",
     "output_type": "stream",
     "text": [
      "ineuron\n",
      "imran\n",
      "code\n"
     ]
    }
   ],
   "source": [
    "for i in mytuple:\n",
    "    print(i)"
   ]
  },
  {
   "cell_type": "code",
   "execution_count": 107,
   "id": "604e9549-4308-4c8f-b8f2-c3c9af30f96e",
   "metadata": {},
   "outputs": [
    {
     "data": {
      "text/plain": [
       "tuple"
      ]
     },
     "execution_count": 107,
     "metadata": {},
     "output_type": "execute_result"
    }
   ],
   "source": [
    "type(mytuple)"
   ]
  },
  {
   "cell_type": "code",
   "execution_count": 108,
   "id": "53fde97f-75bf-449a-9b6a-952687f11476",
   "metadata": {},
   "outputs": [
    {
     "data": {
      "text/plain": [
       "['__add__',\n",
       " '__class__',\n",
       " '__class_getitem__',\n",
       " '__contains__',\n",
       " '__delattr__',\n",
       " '__dir__',\n",
       " '__doc__',\n",
       " '__eq__',\n",
       " '__format__',\n",
       " '__ge__',\n",
       " '__getattribute__',\n",
       " '__getitem__',\n",
       " '__getnewargs__',\n",
       " '__gt__',\n",
       " '__hash__',\n",
       " '__init__',\n",
       " '__init_subclass__',\n",
       " '__iter__',\n",
       " '__le__',\n",
       " '__len__',\n",
       " '__lt__',\n",
       " '__mul__',\n",
       " '__ne__',\n",
       " '__new__',\n",
       " '__reduce__',\n",
       " '__reduce_ex__',\n",
       " '__repr__',\n",
       " '__rmul__',\n",
       " '__setattr__',\n",
       " '__sizeof__',\n",
       " '__str__',\n",
       " '__subclasshook__',\n",
       " 'count',\n",
       " 'index']"
      ]
     },
     "execution_count": 108,
     "metadata": {},
     "output_type": "execute_result"
    }
   ],
   "source": [
    "dir(mytuple)"
   ]
  },
  {
   "cell_type": "code",
   "execution_count": 109,
   "id": "502bb4d3-0de3-402c-a4ea-e4436201bcb4",
   "metadata": {},
   "outputs": [
    {
     "name": "stdout",
     "output_type": "stream",
     "text": [
      "i\n",
      "n\n",
      "e\n",
      "u\n",
      "r\n",
      "o\n",
      "n\n"
     ]
    }
   ],
   "source": [
    "mystr = 'ineuron'\n",
    "for i in mystr:\n",
    "    print(i)"
   ]
  },
  {
   "cell_type": "code",
   "execution_count": 110,
   "id": "6c8a730e-57a5-4c49-adaa-6d056f271090",
   "metadata": {},
   "outputs": [
    {
     "data": {
      "text/plain": [
       "['__add__',\n",
       " '__class__',\n",
       " '__contains__',\n",
       " '__delattr__',\n",
       " '__dir__',\n",
       " '__doc__',\n",
       " '__eq__',\n",
       " '__format__',\n",
       " '__ge__',\n",
       " '__getattribute__',\n",
       " '__getitem__',\n",
       " '__getnewargs__',\n",
       " '__gt__',\n",
       " '__hash__',\n",
       " '__init__',\n",
       " '__init_subclass__',\n",
       " '__iter__',\n",
       " '__le__',\n",
       " '__len__',\n",
       " '__lt__',\n",
       " '__mod__',\n",
       " '__mul__',\n",
       " '__ne__',\n",
       " '__new__',\n",
       " '__reduce__',\n",
       " '__reduce_ex__',\n",
       " '__repr__',\n",
       " '__rmod__',\n",
       " '__rmul__',\n",
       " '__setattr__',\n",
       " '__sizeof__',\n",
       " '__str__',\n",
       " '__subclasshook__',\n",
       " 'capitalize',\n",
       " 'casefold',\n",
       " 'center',\n",
       " 'count',\n",
       " 'encode',\n",
       " 'endswith',\n",
       " 'expandtabs',\n",
       " 'find',\n",
       " 'format',\n",
       " 'format_map',\n",
       " 'index',\n",
       " 'isalnum',\n",
       " 'isalpha',\n",
       " 'isascii',\n",
       " 'isdecimal',\n",
       " 'isdigit',\n",
       " 'isidentifier',\n",
       " 'islower',\n",
       " 'isnumeric',\n",
       " 'isprintable',\n",
       " 'isspace',\n",
       " 'istitle',\n",
       " 'isupper',\n",
       " 'join',\n",
       " 'ljust',\n",
       " 'lower',\n",
       " 'lstrip',\n",
       " 'maketrans',\n",
       " 'partition',\n",
       " 'removeprefix',\n",
       " 'removesuffix',\n",
       " 'replace',\n",
       " 'rfind',\n",
       " 'rindex',\n",
       " 'rjust',\n",
       " 'rpartition',\n",
       " 'rsplit',\n",
       " 'rstrip',\n",
       " 'split',\n",
       " 'splitlines',\n",
       " 'startswith',\n",
       " 'strip',\n",
       " 'swapcase',\n",
       " 'title',\n",
       " 'translate',\n",
       " 'upper',\n",
       " 'zfill']"
      ]
     },
     "execution_count": 110,
     "metadata": {},
     "output_type": "execute_result"
    }
   ],
   "source": [
    "dir(mystr)"
   ]
  },
  {
   "cell_type": "code",
   "execution_count": 112,
   "id": "c0c0063f-2a14-4537-aa14-61082ba868eb",
   "metadata": {},
   "outputs": [
    {
     "name": "stdout",
     "output_type": "stream",
     "text": [
      "1\n",
      "2\n",
      "3\n",
      "4\n",
      "5\n",
      "6\n"
     ]
    }
   ],
   "source": [
    "mylist = [1,2,3,4,5,6]\n",
    "for i in mylist:\n",
    "    print(i)"
   ]
  },
  {
   "cell_type": "code",
   "execution_count": 113,
   "id": "183ae511-4e91-4112-8222-a8574c15237e",
   "metadata": {},
   "outputs": [
    {
     "data": {
      "text/plain": [
       "['__add__',\n",
       " '__class__',\n",
       " '__class_getitem__',\n",
       " '__contains__',\n",
       " '__delattr__',\n",
       " '__delitem__',\n",
       " '__dir__',\n",
       " '__doc__',\n",
       " '__eq__',\n",
       " '__format__',\n",
       " '__ge__',\n",
       " '__getattribute__',\n",
       " '__getitem__',\n",
       " '__gt__',\n",
       " '__hash__',\n",
       " '__iadd__',\n",
       " '__imul__',\n",
       " '__init__',\n",
       " '__init_subclass__',\n",
       " '__iter__',\n",
       " '__le__',\n",
       " '__len__',\n",
       " '__lt__',\n",
       " '__mul__',\n",
       " '__ne__',\n",
       " '__new__',\n",
       " '__reduce__',\n",
       " '__reduce_ex__',\n",
       " '__repr__',\n",
       " '__reversed__',\n",
       " '__rmul__',\n",
       " '__setattr__',\n",
       " '__setitem__',\n",
       " '__sizeof__',\n",
       " '__str__',\n",
       " '__subclasshook__',\n",
       " 'append',\n",
       " 'clear',\n",
       " 'copy',\n",
       " 'count',\n",
       " 'extend',\n",
       " 'index',\n",
       " 'insert',\n",
       " 'pop',\n",
       " 'remove',\n",
       " 'reverse',\n",
       " 'sort']"
      ]
     },
     "execution_count": 113,
     "metadata": {},
     "output_type": "execute_result"
    }
   ],
   "source": [
    "dir(mylist)"
   ]
  },
  {
   "cell_type": "code",
   "execution_count": 114,
   "id": "80980283-3442-4e8f-86b7-81b801507569",
   "metadata": {},
   "outputs": [],
   "source": [
    "d = {'x':43, 'y':3.14, 'z':7}"
   ]
  },
  {
   "cell_type": "code",
   "execution_count": 118,
   "id": "13f4ffcb-1caf-4a83-886b-a8bf21e8e5c1",
   "metadata": {},
   "outputs": [
    {
     "name": "stdout",
     "output_type": "stream",
     "text": [
      "x 43\n",
      "y 3.14\n",
      "z 7\n"
     ]
    }
   ],
   "source": [
    "for k,v in d.items():\n",
    "    print(k, v)"
   ]
  },
  {
   "cell_type": "code",
   "execution_count": 119,
   "id": "9449d7c9-2cb9-4972-96c3-4cbd53ee5a1c",
   "metadata": {},
   "outputs": [],
   "source": [
    "x = 42"
   ]
  },
  {
   "cell_type": "code",
   "execution_count": 121,
   "id": "28dacdc1-50dd-47c3-9655-7a1a5ac26f3c",
   "metadata": {},
   "outputs": [
    {
     "data": {
      "text/plain": [
       "['__abs__',\n",
       " '__add__',\n",
       " '__and__',\n",
       " '__bool__',\n",
       " '__ceil__',\n",
       " '__class__',\n",
       " '__delattr__',\n",
       " '__dir__',\n",
       " '__divmod__',\n",
       " '__doc__',\n",
       " '__eq__',\n",
       " '__float__',\n",
       " '__floor__',\n",
       " '__floordiv__',\n",
       " '__format__',\n",
       " '__ge__',\n",
       " '__getattribute__',\n",
       " '__getnewargs__',\n",
       " '__gt__',\n",
       " '__hash__',\n",
       " '__index__',\n",
       " '__init__',\n",
       " '__init_subclass__',\n",
       " '__int__',\n",
       " '__invert__',\n",
       " '__le__',\n",
       " '__lshift__',\n",
       " '__lt__',\n",
       " '__mod__',\n",
       " '__mul__',\n",
       " '__ne__',\n",
       " '__neg__',\n",
       " '__new__',\n",
       " '__or__',\n",
       " '__pos__',\n",
       " '__pow__',\n",
       " '__radd__',\n",
       " '__rand__',\n",
       " '__rdivmod__',\n",
       " '__reduce__',\n",
       " '__reduce_ex__',\n",
       " '__repr__',\n",
       " '__rfloordiv__',\n",
       " '__rlshift__',\n",
       " '__rmod__',\n",
       " '__rmul__',\n",
       " '__ror__',\n",
       " '__round__',\n",
       " '__rpow__',\n",
       " '__rrshift__',\n",
       " '__rshift__',\n",
       " '__rsub__',\n",
       " '__rtruediv__',\n",
       " '__rxor__',\n",
       " '__setattr__',\n",
       " '__sizeof__',\n",
       " '__str__',\n",
       " '__sub__',\n",
       " '__subclasshook__',\n",
       " '__truediv__',\n",
       " '__trunc__',\n",
       " '__xor__',\n",
       " 'as_integer_ratio',\n",
       " 'bit_count',\n",
       " 'bit_length',\n",
       " 'conjugate',\n",
       " 'denominator',\n",
       " 'from_bytes',\n",
       " 'imag',\n",
       " 'numerator',\n",
       " 'real',\n",
       " 'to_bytes']"
      ]
     },
     "execution_count": 121,
     "metadata": {},
     "output_type": "execute_result"
    }
   ],
   "source": [
    "dir(x)"
   ]
  },
  {
   "cell_type": "code",
   "execution_count": 120,
   "id": "9e384293-7a90-4394-b795-f769b15f2cd0",
   "metadata": {},
   "outputs": [
    {
     "ename": "TypeError",
     "evalue": "'int' object is not iterable",
     "output_type": "error",
     "traceback": [
      "\u001b[0;31m---------------------------------------------------------------------------\u001b[0m",
      "\u001b[0;31mTypeError\u001b[0m                                 Traceback (most recent call last)",
      "Cell \u001b[0;32mIn [120], line 1\u001b[0m\n\u001b[0;32m----> 1\u001b[0m \u001b[38;5;28;01mfor\u001b[39;00m i \u001b[38;5;129;01min\u001b[39;00m x:\n\u001b[1;32m      2\u001b[0m     \u001b[38;5;28mprint\u001b[39m(i)\n",
      "\u001b[0;31mTypeError\u001b[0m: 'int' object is not iterable"
     ]
    }
   ],
   "source": [
    "for i in x:\n",
    "    print(i)"
   ]
  },
  {
   "cell_type": "code",
   "execution_count": 145,
   "id": "2e441d03-e54b-4532-a0c1-ce10f2332a05",
   "metadata": {},
   "outputs": [],
   "source": [
    "data = ['ineuron', 'code', 'india']\n"
   ]
  },
  {
   "cell_type": "code",
   "execution_count": 138,
   "id": "dd59d86b-2a8d-4ab7-814e-0cfbe867ff5c",
   "metadata": {},
   "outputs": [
    {
     "ename": "TypeError",
     "evalue": "'list' object is not an iterator",
     "output_type": "error",
     "traceback": [
      "\u001b[0;31m---------------------------------------------------------------------------\u001b[0m",
      "\u001b[0;31mTypeError\u001b[0m                                 Traceback (most recent call last)",
      "Cell \u001b[0;32mIn [138], line 1\u001b[0m\n\u001b[0;32m----> 1\u001b[0m \u001b[38;5;28;43mnext\u001b[39;49m\u001b[43m(\u001b[49m\u001b[43mdata\u001b[49m\u001b[43m)\u001b[49m\n",
      "\u001b[0;31mTypeError\u001b[0m: 'list' object is not an iterator"
     ]
    }
   ],
   "source": [
    "next(data)"
   ]
  },
  {
   "cell_type": "code",
   "execution_count": 146,
   "id": "c32b7320-d010-4827-9e67-857e7a67c373",
   "metadata": {},
   "outputs": [],
   "source": [
    "x = iter(data)"
   ]
  },
  {
   "cell_type": "code",
   "execution_count": 147,
   "id": "09fc3ce4-ea4f-490b-9171-26a80bd945cc",
   "metadata": {},
   "outputs": [
    {
     "data": {
      "text/plain": [
       "list_iterator"
      ]
     },
     "execution_count": 147,
     "metadata": {},
     "output_type": "execute_result"
    }
   ],
   "source": [
    "type(x)"
   ]
  },
  {
   "cell_type": "code",
   "execution_count": 151,
   "id": "bbe67a02-2349-4e2c-a57d-aa4cacbe9736",
   "metadata": {},
   "outputs": [
    {
     "ename": "StopIteration",
     "evalue": "",
     "output_type": "error",
     "traceback": [
      "\u001b[0;31m---------------------------------------------------------------------------\u001b[0m",
      "\u001b[0;31mStopIteration\u001b[0m                             Traceback (most recent call last)",
      "Cell \u001b[0;32mIn [151], line 1\u001b[0m\n\u001b[0;32m----> 1\u001b[0m \u001b[38;5;28;43mnext\u001b[39;49m\u001b[43m(\u001b[49m\u001b[43mx\u001b[49m\u001b[43m)\u001b[49m\n",
      "\u001b[0;31mStopIteration\u001b[0m: "
     ]
    }
   ],
   "source": [
    "next(x)"
   ]
  },
  {
   "cell_type": "code",
   "execution_count": null,
   "id": "bc74bf60-2549-4422-8a35-13b4edf5a49d",
   "metadata": {},
   "outputs": [],
   "source": []
  },
  {
   "cell_type": "code",
   "execution_count": 152,
   "id": "06b4a979-231c-43b6-9d2c-4afc703b653c",
   "metadata": {},
   "outputs": [],
   "source": [
    "m = 'Ineuron'"
   ]
  },
  {
   "cell_type": "code",
   "execution_count": 153,
   "id": "c5998649-9d2c-4bb0-b009-d8fb479084ff",
   "metadata": {},
   "outputs": [
    {
     "ename": "TypeError",
     "evalue": "'str' object is not an iterator",
     "output_type": "error",
     "traceback": [
      "\u001b[0;31m---------------------------------------------------------------------------\u001b[0m",
      "\u001b[0;31mTypeError\u001b[0m                                 Traceback (most recent call last)",
      "Cell \u001b[0;32mIn [153], line 1\u001b[0m\n\u001b[0;32m----> 1\u001b[0m \u001b[38;5;28;43mnext\u001b[39;49m\u001b[43m(\u001b[49m\u001b[43mm\u001b[49m\u001b[43m)\u001b[49m\n",
      "\u001b[0;31mTypeError\u001b[0m: 'str' object is not an iterator"
     ]
    }
   ],
   "source": [
    "next(m)"
   ]
  },
  {
   "cell_type": "code",
   "execution_count": 154,
   "id": "34207e26-4d18-4874-a6c1-fc4a685c02e2",
   "metadata": {},
   "outputs": [],
   "source": [
    "c = iter(m)"
   ]
  },
  {
   "cell_type": "code",
   "execution_count": 162,
   "id": "1f86ce3b-657f-4001-bcdd-811a1f9fb716",
   "metadata": {},
   "outputs": [
    {
     "ename": "StopIteration",
     "evalue": "",
     "output_type": "error",
     "traceback": [
      "\u001b[0;31m---------------------------------------------------------------------------\u001b[0m",
      "\u001b[0;31mStopIteration\u001b[0m                             Traceback (most recent call last)",
      "Cell \u001b[0;32mIn [162], line 1\u001b[0m\n\u001b[0;32m----> 1\u001b[0m \u001b[38;5;28;43mnext\u001b[39;49m\u001b[43m(\u001b[49m\u001b[43mc\u001b[49m\u001b[43m)\u001b[49m\n",
      "\u001b[0;31mStopIteration\u001b[0m: "
     ]
    }
   ],
   "source": [
    "next(c)"
   ]
  },
  {
   "cell_type": "code",
   "execution_count": 163,
   "id": "274f600f-9fff-4628-8bc1-3549b79d5011",
   "metadata": {},
   "outputs": [
    {
     "data": {
      "text/plain": [
       "['__class__',\n",
       " '__delattr__',\n",
       " '__dir__',\n",
       " '__doc__',\n",
       " '__eq__',\n",
       " '__format__',\n",
       " '__ge__',\n",
       " '__getattribute__',\n",
       " '__gt__',\n",
       " '__hash__',\n",
       " '__init__',\n",
       " '__init_subclass__',\n",
       " '__iter__',\n",
       " '__le__',\n",
       " '__length_hint__',\n",
       " '__lt__',\n",
       " '__ne__',\n",
       " '__new__',\n",
       " '__next__',\n",
       " '__reduce__',\n",
       " '__reduce_ex__',\n",
       " '__repr__',\n",
       " '__setattr__',\n",
       " '__setstate__',\n",
       " '__sizeof__',\n",
       " '__str__',\n",
       " '__subclasshook__']"
      ]
     },
     "execution_count": 163,
     "metadata": {},
     "output_type": "execute_result"
    }
   ],
   "source": [
    "dir(c)"
   ]
  },
  {
   "cell_type": "raw",
   "id": "1f1a1109-a222-4f35-84ec-e4fc89c14acf",
   "metadata": {},
   "source": [
    "1.  iterables are not iterators.\n",
    "2.  interator are also iterables.\n",
    "3.  Calling iter() function on iterable gives iterator\n",
    "4.  calling next() function on iterator gives next element"
   ]
  },
  {
   "cell_type": "code",
   "execution_count": 182,
   "id": "1281cb76-03d5-4926-9eba-a8a97f9700f8",
   "metadata": {},
   "outputs": [],
   "source": [
    "l = [1,2,3,4]"
   ]
  },
  {
   "cell_type": "code",
   "execution_count": 183,
   "id": "b108226e-9bc8-488f-91d9-32b1e16497d9",
   "metadata": {},
   "outputs": [
    {
     "ename": "TypeError",
     "evalue": "'list' object is not an iterator",
     "output_type": "error",
     "traceback": [
      "\u001b[0;31m---------------------------------------------------------------------------\u001b[0m",
      "\u001b[0;31mTypeError\u001b[0m                                 Traceback (most recent call last)",
      "Cell \u001b[0;32mIn [183], line 1\u001b[0m\n\u001b[0;32m----> 1\u001b[0m \u001b[38;5;28;43mnext\u001b[39;49m\u001b[43m(\u001b[49m\u001b[43ml\u001b[49m\u001b[43m)\u001b[49m\n",
      "\u001b[0;31mTypeError\u001b[0m: 'list' object is not an iterator"
     ]
    }
   ],
   "source": [
    "next(l)"
   ]
  },
  {
   "cell_type": "code",
   "execution_count": 184,
   "id": "bc9eb93a-45d4-414a-9038-b98d6796de5c",
   "metadata": {},
   "outputs": [],
   "source": [
    "k = iter(l)"
   ]
  },
  {
   "cell_type": "code",
   "execution_count": 185,
   "id": "d5d86b38-23a9-41a7-a82b-c6de7827ed19",
   "metadata": {},
   "outputs": [
    {
     "name": "stdout",
     "output_type": "stream",
     "text": [
      "1\n",
      "2\n",
      "3\n",
      "4\n"
     ]
    }
   ],
   "source": [
    "for i in k:\n",
    "    print(i)"
   ]
  },
  {
   "cell_type": "code",
   "execution_count": 176,
   "id": "6538a21b-5bdf-4938-a8ac-5a3ba2ea7dd3",
   "metadata": {},
   "outputs": [
    {
     "data": {
      "text/plain": [
       "list_iterator"
      ]
     },
     "execution_count": 176,
     "metadata": {},
     "output_type": "execute_result"
    }
   ],
   "source": [
    "type(k)"
   ]
  },
  {
   "cell_type": "code",
   "execution_count": 181,
   "id": "2b4d0c6b-d151-40f6-9a33-da6ef1e470b1",
   "metadata": {},
   "outputs": [
    {
     "ename": "StopIteration",
     "evalue": "",
     "output_type": "error",
     "traceback": [
      "\u001b[0;31m---------------------------------------------------------------------------\u001b[0m",
      "\u001b[0;31mStopIteration\u001b[0m                             Traceback (most recent call last)",
      "Cell \u001b[0;32mIn [181], line 1\u001b[0m\n\u001b[0;32m----> 1\u001b[0m \u001b[38;5;28;43mnext\u001b[39;49m\u001b[43m(\u001b[49m\u001b[43mk\u001b[49m\u001b[43m)\u001b[49m\n",
      "\u001b[0;31mStopIteration\u001b[0m: "
     ]
    }
   ],
   "source": [
    "next(k)"
   ]
  },
  {
   "cell_type": "code",
   "execution_count": null,
   "id": "dcc20f81-6b67-4d85-ba11-96ecbd34f1d4",
   "metadata": {},
   "outputs": [],
   "source": []
  },
  {
   "cell_type": "code",
   "execution_count": null,
   "id": "e792241d-7d27-494a-9b9a-6e449682670c",
   "metadata": {},
   "outputs": [],
   "source": []
  },
  {
   "cell_type": "markdown",
   "id": "8c9aaf57-034e-496b-a95c-8f4aa0827fab",
   "metadata": {},
   "source": [
    "GENERATOR\n",
    "generator is other way of creating iterator"
   ]
  },
  {
   "cell_type": "code",
   "execution_count": 193,
   "id": "c5fd19cb-1c56-4437-8a80-15a84f378d2f",
   "metadata": {},
   "outputs": [],
   "source": [
    "def square(n):\n",
    "    for i in range(n):\n",
    "        return i**2"
   ]
  },
  {
   "cell_type": "code",
   "execution_count": 194,
   "id": "99edefa3-897c-4ba9-93e0-59bfb1abbbe1",
   "metadata": {},
   "outputs": [
    {
     "data": {
      "text/plain": [
       "0"
      ]
     },
     "execution_count": 194,
     "metadata": {},
     "output_type": "execute_result"
    }
   ],
   "source": [
    "square(3)"
   ]
  },
  {
   "cell_type": "code",
   "execution_count": 224,
   "id": "85e7ffe2-9690-4dc6-91f3-85d427a72f07",
   "metadata": {},
   "outputs": [],
   "source": [
    "def square(n):\n",
    "    for i in range(n):\n",
    "        yield i**2"
   ]
  },
  {
   "cell_type": "code",
   "execution_count": 225,
   "id": "a5ae5a85-57f4-4013-866e-fc81cfbf5dc0",
   "metadata": {},
   "outputs": [],
   "source": [
    "k =square(3)"
   ]
  },
  {
   "cell_type": "code",
   "execution_count": 226,
   "id": "819cfb59-8bca-46e3-aed4-d806fc0cba9e",
   "metadata": {},
   "outputs": [
    {
     "data": {
      "text/plain": [
       "generator"
      ]
     },
     "execution_count": 226,
     "metadata": {},
     "output_type": "execute_result"
    }
   ],
   "source": [
    "type(k)"
   ]
  },
  {
   "cell_type": "code",
   "execution_count": 229,
   "id": "a6bebc1e-9484-42ba-b238-dcdb3a04bc58",
   "metadata": {},
   "outputs": [
    {
     "data": {
      "text/plain": [
       "4"
      ]
     },
     "execution_count": 229,
     "metadata": {},
     "output_type": "execute_result"
    }
   ],
   "source": [
    "next(k)"
   ]
  },
  {
   "cell_type": "code",
   "execution_count": 214,
   "id": "a1d67ebf-791f-4cb3-9baa-910acd399958",
   "metadata": {},
   "outputs": [
    {
     "name": "stdout",
     "output_type": "stream",
     "text": [
      "0\n",
      "1\n",
      "4\n"
     ]
    }
   ],
   "source": [
    "for i in k:\n",
    "    print(i)"
   ]
  },
  {
   "cell_type": "code",
   "execution_count": 215,
   "id": "eb877bf9-b26d-49fa-a2c0-1b6348570b0d",
   "metadata": {},
   "outputs": [
    {
     "name": "stdout",
     "output_type": "stream",
     "text": [
      "<generator object square at 0x7f761118f920>\n"
     ]
    }
   ],
   "source": [
    "print(k)"
   ]
  },
  {
   "cell_type": "code",
   "execution_count": 220,
   "id": "400f1f30-8eb9-448f-a46c-942d93f57a35",
   "metadata": {},
   "outputs": [
    {
     "name": "stdout",
     "output_type": "stream",
     "text": [
      "0\n",
      "1\n",
      "4\n"
     ]
    }
   ],
   "source": [
    "for i in k:\n",
    "    print(i)"
   ]
  },
  {
   "cell_type": "code",
   "execution_count": null,
   "id": "086c64e1-079d-4e85-80fe-5d1c77fe8852",
   "metadata": {},
   "outputs": [],
   "source": []
  },
  {
   "cell_type": "code",
   "execution_count": 222,
   "id": "82152ff6-bacd-42b7-981f-a64af391d919",
   "metadata": {},
   "outputs": [],
   "source": [
    "def new():\n",
    "    n = 1\n",
    "    print('line one')\n",
    "    yield n\n",
    "    \n",
    "    n = n+1\n",
    "    print('second line')\n",
    "    yield n\n",
    "    \n",
    "    n = n+1\n",
    "    print('third line')\n",
    "    yield n"
   ]
  },
  {
   "cell_type": "code",
   "execution_count": 223,
   "id": "d96d3d59-3501-4ad9-a326-a134f679268a",
   "metadata": {},
   "outputs": [
    {
     "name": "stdout",
     "output_type": "stream",
     "text": [
      "line one\n",
      "1\n",
      "second line\n",
      "2\n",
      "third line\n",
      "3\n"
     ]
    }
   ],
   "source": [
    "for i in new():\n",
    "    print(i)"
   ]
  },
  {
   "cell_type": "code",
   "execution_count": null,
   "id": "d9dc91f5-01bc-47de-a2ff-97833b5857b1",
   "metadata": {},
   "outputs": [],
   "source": []
  },
  {
   "cell_type": "code",
   "execution_count": 238,
   "id": "3ec5a8c2-db00-4a6f-9c06-902b525568db",
   "metadata": {},
   "outputs": [],
   "source": [
    "def gencube(n):\n",
    "    l = list()\n",
    "    for i in range(n):\n",
    "        l.append(i**3)\n",
    "    return l"
   ]
  },
  {
   "cell_type": "code",
   "execution_count": 239,
   "id": "76a62eb7-29ef-46ac-a05e-f4fb0c30c783",
   "metadata": {},
   "outputs": [
    {
     "data": {
      "text/plain": [
       "[0, 1, 8, 27, 64, 125, 216, 343, 512, 729]"
      ]
     },
     "execution_count": 239,
     "metadata": {},
     "output_type": "execute_result"
    }
   ],
   "source": [
    "gencube(10)"
   ]
  },
  {
   "cell_type": "code",
   "execution_count": 259,
   "id": "8837e148-d45c-4999-a59e-b24e7ac08235",
   "metadata": {},
   "outputs": [],
   "source": [
    "def gencube(n):\n",
    "    for i in range(n):\n",
    "        yield i**3\n",
    "    "
   ]
  },
  {
   "cell_type": "code",
   "execution_count": 260,
   "id": "7c545f12-0109-40d4-b3bd-34fd44f947a7",
   "metadata": {},
   "outputs": [],
   "source": [
    "r = gencube(100)"
   ]
  },
  {
   "cell_type": "code",
   "execution_count": 265,
   "id": "851448d6-8194-4113-bce1-ff5d7cb55141",
   "metadata": {},
   "outputs": [
    {
     "data": {
      "text/plain": [
       "64"
      ]
     },
     "execution_count": 265,
     "metadata": {},
     "output_type": "execute_result"
    }
   ],
   "source": [
    "next(r)"
   ]
  },
  {
   "cell_type": "code",
   "execution_count": null,
   "id": "12e92125-756b-4232-b328-78ff6c807725",
   "metadata": {},
   "outputs": [],
   "source": [
    "for i in r:\n",
    "    print(i)"
   ]
  },
  {
   "cell_type": "code",
   "execution_count": null,
   "id": "627970d0-a8ba-4d2a-a693-48533e03cdc8",
   "metadata": {},
   "outputs": [],
   "source": []
  },
  {
   "cell_type": "code",
   "execution_count": 266,
   "id": "cbf278bd-bbad-4f3b-b571-d5d675e990b1",
   "metadata": {},
   "outputs": [],
   "source": [
    "nums = [1,2,3]"
   ]
  },
  {
   "cell_type": "code",
   "execution_count": 270,
   "id": "203b1ee3-688d-40bd-ac07-3026490c2137",
   "metadata": {},
   "outputs": [],
   "source": [
    "inum = iter(nums)"
   ]
  },
  {
   "cell_type": "code",
   "execution_count": 271,
   "id": "f87d06e4-f862-4d90-986f-ab7ea9ac57c4",
   "metadata": {},
   "outputs": [
    {
     "name": "stdout",
     "output_type": "stream",
     "text": [
      "1\n",
      "2\n",
      "3\n"
     ]
    }
   ],
   "source": [
    "for i in inum:\n",
    "    print(i)"
   ]
  },
  {
   "cell_type": "code",
   "execution_count": 268,
   "id": "c2865181-3c2a-49df-a9d9-b1c56d6567ac",
   "metadata": {},
   "outputs": [
    {
     "name": "stdout",
     "output_type": "stream",
     "text": [
      "1\n",
      "2\n",
      "3\n"
     ]
    }
   ],
   "source": [
    "while True:\n",
    "    try:\n",
    "        item = next(inum)\n",
    "        print(item)\n",
    "    except StopIteration:\n",
    "        break"
   ]
  },
  {
   "cell_type": "code",
   "execution_count": null,
   "id": "c5b2f41b-6655-4e4f-9295-45a050713e19",
   "metadata": {},
   "outputs": [],
   "source": []
  }
 ],
 "metadata": {
  "kernelspec": {
   "display_name": "Python 3 (ipykernel)",
   "language": "python",
   "name": "python3"
  },
  "language_info": {
   "codemirror_mode": {
    "name": "ipython",
    "version": 3
   },
   "file_extension": ".py",
   "mimetype": "text/x-python",
   "name": "python",
   "nbconvert_exporter": "python",
   "pygments_lexer": "ipython3",
   "version": "3.10.6"
  },
  "toc-showmarkdowntxt": true
 },
 "nbformat": 4,
 "nbformat_minor": 5
}
