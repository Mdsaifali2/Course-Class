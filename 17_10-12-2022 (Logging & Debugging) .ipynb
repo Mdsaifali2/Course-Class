{
 "cells": [
  {
   "cell_type": "code",
   "execution_count": 15,
   "id": "0bb39f6e-7b5b-43f7-8482-8f7521229487",
   "metadata": {},
   "outputs": [
    {
     "name": "stdout",
     "output_type": "stream",
     "text": [
      "30\n",
      "10\n",
      "200\n",
      "2.0\n"
     ]
    }
   ],
   "source": [
    "def add(x, y):\n",
    "    return x+y\n",
    "\n",
    "def subtract(x, y):\n",
    "    return x-y\n",
    "\n",
    "def multiply(x, y):\n",
    "    return x*y\n",
    "\n",
    "def div(x, y):\n",
    "    return x/y\n",
    "\n",
    "\n",
    "num_1 = 20\n",
    "num_2 = 10\n",
    "\n",
    "add_result = add(num_1, num_2)\n",
    "print(add_result)\n",
    "sub_result = subtract(num_1, num_2)\n",
    "print(sub_result)\n",
    "mul_result = multiply(num_1, num_2)\n",
    "print(mul_result)\n",
    "div_result = div(num_1, num_2)\n",
    "print(div_result)\n"
   ]
  },
  {
   "cell_type": "raw",
   "id": "dc8680c1-02f7-4252-a17f-3dcff0bab2fb",
   "metadata": {},
   "source": [
    "Logging is module which helps us to track and record the log informations.\n",
    "\n",
    "there are 5 levels of logging:\n",
    "\n",
    "1. debug\n",
    "2. info\n",
    "3. warning\n",
    "4. error\n",
    "5. critical\n",
    "\n",
    "by default level is on warning"
   ]
  },
  {
   "cell_type": "raw",
   "id": "81e7baec-9d4f-4ba7-88cb-56568653b6c6",
   "metadata": {},
   "source": [
    "Log means Critical part of system documentation about runtime status of application"
   ]
  },
  {
   "cell_type": "code",
   "execution_count": 16,
   "id": "a4bb9c0d-053a-4c58-9249-9009209318e2",
   "metadata": {},
   "outputs": [],
   "source": [
    "import logging\n",
    "\n",
    "logging.basicConfig(level = logging.DEBUG)\n",
    "\n",
    "def add(x, y):\n",
    "    return x+y\n",
    "\n",
    "def subtract(x, y):\n",
    "    return x-y\n",
    "\n",
    "def multiply(x, y):\n",
    "    return x*y\n",
    "\n",
    "def div(x, y):\n",
    "    return x/y\n",
    "\n",
    "num_1 = 20\n",
    "num_2 = 10\n",
    "\n",
    "add_result = add(num_1, num_2)\n",
    "logging.debug(add_result)\n",
    "# print(add_result)\n",
    "sub_result = subtract(num_1, num_2)\n",
    "logging.debug(sub_result)\n",
    "# print(sub_result)\n",
    "mul_result = multiply(num_1, num_2)\n",
    "logging.debug(mul_result)\n",
    "# print(mul_result)\n",
    "div_result = div(num_1, num_2)\n",
    "logging.debug(div_result)\n",
    "# print(div_result)\n"
   ]
  },
  {
   "cell_type": "code",
   "execution_count": 18,
   "id": "63589b14-aff8-4346-bbfa-96d122de2695",
   "metadata": {},
   "outputs": [],
   "source": [
    "#3 Capturing in a file  = note : for now it capturing in vs code\n",
    "import logging\n",
    "\n",
    "logging.basicConfig(filename = 'logging.log', level = logging.DEBUG)\n",
    "\n",
    "def add(x, y):\n",
    "    return x+y\n",
    "\n",
    "def subtract(x, y):\n",
    "    return x-y\n",
    "\n",
    "def multiply(x, y):\n",
    "    return x*y\n",
    "\n",
    "def div(x, y):\n",
    "    return x/y\n",
    "\n",
    "num_1 = 20\n",
    "num_2 = 10\n",
    "\n",
    "add_result = add(num_1, num_2)\n",
    "logging.debug(add_result)\n",
    "sub_result = subtract(num_1, num_2)\n",
    "logging.info(sub_result)\n",
    "mul_result = multiply(num_1, num_2)\n",
    "logging.warning(mul_result)\n",
    "div_result = div(num_1, num_2)\n",
    "logging.critical(div_result)\n"
   ]
  },
  {
   "cell_type": "code",
   "execution_count": 19,
   "id": "291364f0-0905-43dd-a0c6-1342d149825a",
   "metadata": {},
   "outputs": [],
   "source": [
    "def namecheck(name):\n",
    "    if len(name) < 2:\n",
    "        print('Check for name length')\n",
    "        return \"Invalid Name\"\n",
    "    elif name.isspace():\n",
    "        print('Check for Name has Space')\n",
    "        return \"Invalid Name\"\n",
    "    elif name.isalpha():\n",
    "        print('Checking for Name is Alphabet')\n",
    "        return \"Valid Name\"\n",
    "    elif name.replace(' ','').isalpha():\n",
    "        print('Checking for Full Name')\n",
    "        return \"Name is Valid\"\n",
    "    else:\n",
    "        print('Failed all checks')\n",
    "        return 'Invalid Name'\n",
    "        "
   ]
  },
  {
   "cell_type": "code",
   "execution_count": 20,
   "id": "2c4274ee-d4c7-43da-8b73-41251b62f132",
   "metadata": {},
   "outputs": [
    {
     "name": "stdout",
     "output_type": "stream",
     "text": [
      "Checking for Name is Alphabet\n",
      "Valid Name\n"
     ]
    }
   ],
   "source": [
    "print(namecheck('imran'))"
   ]
  },
  {
   "cell_type": "code",
   "execution_count": 21,
   "id": "8c475673-6c0d-45ad-b487-4b20c2432a96",
   "metadata": {},
   "outputs": [
    {
     "name": "stdout",
     "output_type": "stream",
     "text": [
      "Checking for Full Name\n",
      "Name is Valid\n"
     ]
    }
   ],
   "source": [
    "print(namecheck('Sagar Raju'))"
   ]
  },
  {
   "cell_type": "code",
   "execution_count": 22,
   "id": "8430762b-5c60-4a03-bd0f-68e5552bbee2",
   "metadata": {},
   "outputs": [
    {
     "name": "stdout",
     "output_type": "stream",
     "text": [
      "Failed all checks\n",
      "Invalid Name\n"
     ]
    }
   ],
   "source": [
    "print(namecheck('Raju123'))"
   ]
  },
  {
   "cell_type": "code",
   "execution_count": null,
   "id": "57cc6876-aaac-4d78-9e64-e35ec1a2de76",
   "metadata": {},
   "outputs": [],
   "source": []
  },
  {
   "cell_type": "code",
   "execution_count": 2,
   "id": "b92aee7d-f29d-468d-9a06-4a88dbfc81b6",
   "metadata": {},
   "outputs": [],
   "source": [
    "import logging\n",
    "\n",
    "logging.basicConfig(filename = 'logged.log', level = logging.DEBUG, format = '%(asctime)s - %(levelname)s - %(message)s')\n",
    "\n",
    "def namecheck(name):\n",
    "    if len(name) < 2:\n",
    "        logging.debug('Check for name length')\n",
    "        return \"Invalid Name\"\n",
    "    elif name.isspace():\n",
    "        logging.debug('Check for Name has Space')\n",
    "        return \"Invalid Name\"\n",
    "    elif name.isalpha():\n",
    "        logging.debug('Checking for Name is Alphabet')\n",
    "        return \"Valid Name\"\n",
    "    elif name.replace(' ','').isalpha():\n",
    "        logging.debug('Checking for Full Name')\n",
    "        return \"Name is Valid\"\n",
    "    else:\n",
    "        logging.debug('Failed all checks')\n",
    "        return 'Invalid Name'\n",
    "        "
   ]
  },
  {
   "cell_type": "code",
   "execution_count": 3,
   "id": "0fd6e6c3-7b4a-4258-9d4b-4f971909dca9",
   "metadata": {},
   "outputs": [
    {
     "name": "stdout",
     "output_type": "stream",
     "text": [
      "Valid Name\n"
     ]
    }
   ],
   "source": [
    "print(namecheck('imran'))"
   ]
  },
  {
   "cell_type": "code",
   "execution_count": 1,
   "id": "2af64f02-8352-467a-9037-a78f5e36a212",
   "metadata": {},
   "outputs": [],
   "source": [
    "import os"
   ]
  },
  {
   "cell_type": "code",
   "execution_count": 4,
   "id": "7ed9ec2e-0822-471e-9f3a-ee83419f1958",
   "metadata": {},
   "outputs": [
    {
     "data": {
      "text/plain": [
       "'/home/jovyan/work'"
      ]
     },
     "execution_count": 4,
     "metadata": {},
     "output_type": "execute_result"
    }
   ],
   "source": [
    "pwd()"
   ]
  },
  {
   "cell_type": "code",
   "execution_count": 6,
   "id": "c18659e8-342d-45f0-aab2-8ebe3c991645",
   "metadata": {},
   "outputs": [
    {
     "name": "stdout",
     "output_type": "stream",
     "text": [
      " 01_Python_24_09_2022.ipynb\n",
      " 02_Python_25_09_2022.ipynb\n",
      " 03_Python_01_10_2022.ipynb\n",
      " 04_Python_08_10_2022.ipynb\n",
      " 05_Python_09_10_2022.ipynb\n",
      " 06_Python_15_10_2022.ipynb\n",
      " 07_Python_16_10_2022.ipynb\n",
      " 08_Python_29-10-2022.ipynb\n",
      "'09_Question Solve Class on_30-10-2022.ipynb'\n",
      " 10_Python_12-11-2022.ipynb\n",
      " 11_Python_13-11-2022.ipynb\n",
      "'12_Python_19 & 20-11-2022.ipynb'\n",
      " 13_Python_20-11-2022.ipynb\n",
      " 14_26-11-2022.ipynb\n",
      "'15_3-12-2022 (Exception Handling).ipynb'\n",
      "'16_4-12-2022 (File Handling and Iterator & Generator).ipynb'\n",
      "'17_10-12-2022 (Logging & Debugging) .ipynb'\n",
      " error.txt\n",
      " ineuron.txt\n",
      " logged.log\n",
      " new.txt\n",
      " public_1.txt\n",
      " test1.txt\n",
      " test2.txt\n",
      " test3.txt\n",
      " test.txt\n"
     ]
    }
   ],
   "source": [
    "!ls"
   ]
  },
  {
   "cell_type": "code",
   "execution_count": null,
   "id": "f06d1397-4526-4e9c-b6cb-a7a8843f3bb2",
   "metadata": {},
   "outputs": [],
   "source": []
  }
 ],
 "metadata": {
  "kernelspec": {
   "display_name": "Python 3 (ipykernel)",
   "language": "python",
   "name": "python3"
  },
  "language_info": {
   "codemirror_mode": {
    "name": "ipython",
    "version": 3
   },
   "file_extension": ".py",
   "mimetype": "text/x-python",
   "name": "python",
   "nbconvert_exporter": "python",
   "pygments_lexer": "ipython3",
   "version": "3.10.6"
  }
 },
 "nbformat": 4,
 "nbformat_minor": 5
}
