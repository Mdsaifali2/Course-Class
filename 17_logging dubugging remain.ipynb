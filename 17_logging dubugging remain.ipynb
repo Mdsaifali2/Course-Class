{
 "cells": [
  {
   "cell_type": "code",
   "execution_count": 7,
   "id": "7410eab5-df47-4f00-b5ae-61914c83d07b",
   "metadata": {},
   "outputs": [
    {
     "name": "stderr",
     "output_type": "stream",
     "text": [
      "__main__ - WARNING - this is a warning\n",
      "__main__ - ERROR - this is error\n"
     ]
    }
   ],
   "source": [
    "import logging\n",
    "\n",
    "# create a custom logger\n",
    "logger = logging.getLogger(__name__)\n",
    "\n",
    "# create handlers\n",
    "c_handler = logging.StreamHandler()\n",
    "f_handler = logging.FileHandler('abc.log')\n",
    "c_handler.setLevel(logging.WARNING)\n",
    "f_handler.setLevel(logging.ERROR)\n",
    "\n",
    "# create formatter and add it to handler\n",
    "c_format = logging.Formatter('%(name)s - %(levelname)s - %(message)s')\n",
    "f_format = logging.Formatter('%(asctime)s - %(name)s - %(levelname)s - %(message)s')\n",
    "c_handler.setFormatter(c_format)\n",
    "f_handler.setFormatter(f_format)\n",
    "\n",
    "# Add Handler to the logger\n",
    "logger.addHandler(c_handler)\n",
    "logger.addHandler(f_handler)\n",
    "\n",
    "logger.warning('this is a warning')\n",
    "logger.error('this is error')\n",
    "\n"
   ]
  },
  {
   "cell_type": "code",
   "execution_count": 8,
   "id": "1aef5faf-069f-461f-a427-008b74d72a3b",
   "metadata": {},
   "outputs": [],
   "source": [
    "# debug - info - warning - error - critical"
   ]
  },
  {
   "cell_type": "code",
   "execution_count": 4,
   "id": "99754668-72d7-4681-9393-9212bd7905c4",
   "metadata": {},
   "outputs": [
    {
     "name": "stderr",
     "output_type": "stream",
     "text": [
      "2022-12-14 17:51:47,035 - __main__ - INFO - Dividing 6 by 2\n",
      "2022-12-14 17:51:47,035 - __main__ - INFO - Dividing 6 by 2\n"
     ]
    },
    {
     "name": "stdout",
     "output_type": "stream",
     "text": [
      "3.0\n"
     ]
    }
   ],
   "source": [
    "import logging\n",
    "\n",
    "logger = logging.getLogger(__name__)\n",
    "handler = logging.StreamHandler()\n",
    "\n",
    "formatter = logging.Formatter('%(asctime)s - %(name)s - %(levelname)s - %(message)s')\n",
    "\n",
    "handler.setFormatter(formatter)\n",
    "\n",
    "logger.addHandler(handler)\n",
    "logger.setLevel(logging.INFO)\n",
    "\n",
    "def divi(dividend, divisor):\n",
    "    try:\n",
    "        logger.info(f'Dividing {dividend} by {divisor}')\n",
    "        return dividend/divisor\n",
    "    except ZeroDivisionError:\n",
    "        logger.info('Zero Division Error')\n",
    "        \n",
    "print(divi(6,2))\n"
   ]
  },
  {
   "cell_type": "code",
   "execution_count": 2,
   "id": "11a1de42-cd31-4a11-ab32-34ec133ec3f8",
   "metadata": {},
   "outputs": [],
   "source": [
    "import logging"
   ]
  },
  {
   "cell_type": "code",
   "execution_count": null,
   "id": "399dcc9a-f585-4abc-b3b4-b4a36cf2a72d",
   "metadata": {},
   "outputs": [],
   "source": [
    "logging.exception()"
   ]
  },
  {
   "cell_type": "code",
   "execution_count": null,
   "id": "6663824d-26e3-4600-b163-b96c75d71524",
   "metadata": {},
   "outputs": [],
   "source": []
  }
 ],
 "metadata": {
  "kernelspec": {
   "display_name": "Python 3 (ipykernel)",
   "language": "python",
   "name": "python3"
  },
  "language_info": {
   "codemirror_mode": {
    "name": "ipython",
    "version": 3
   },
   "file_extension": ".py",
   "mimetype": "text/x-python",
   "name": "python",
   "nbconvert_exporter": "python",
   "pygments_lexer": "ipython3",
   "version": "3.10.6"
  }
 },
 "nbformat": 4,
 "nbformat_minor": 5
}
