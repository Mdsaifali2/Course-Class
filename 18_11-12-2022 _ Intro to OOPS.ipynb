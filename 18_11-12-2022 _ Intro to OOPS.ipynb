{
 "cells": [
  {
   "cell_type": "raw",
   "id": "55d4d6ed-0866-45f6-8e54-b92658f496b7",
   "metadata": {},
   "source": [
    "CLASS :- class is a blueprint or code template for object creation\n",
    "OBJECT :- Object is instance of Class"
   ]
  },
  {
   "cell_type": "raw",
   "id": "e6531475-f2f2-4ed0-8ab7-48969d5e24bd",
   "metadata": {},
   "source": [
    "properties of object : -> attributes, instance Variable\n",
    "Functionality of Object : -> methods/function()"
   ]
  },
  {
   "cell_type": "code",
   "execution_count": 1,
   "id": "3ec27325-ea49-4da2-95aa-41fbc7ecc9d5",
   "metadata": {},
   "outputs": [],
   "source": [
    "class Emp:\n",
    "    pass"
   ]
  },
  {
   "cell_type": "code",
   "execution_count": 2,
   "id": "510047b8-d426-4ecd-9ae0-f657db4ba896",
   "metadata": {},
   "outputs": [],
   "source": [
    "e=Emp()"
   ]
  },
  {
   "cell_type": "code",
   "execution_count": 3,
   "id": "8638d220-ca35-41a9-bc8a-6d5a2f0a8a68",
   "metadata": {},
   "outputs": [
    {
     "name": "stdout",
     "output_type": "stream",
     "text": [
      "<class '__main__.Emp'>\n"
     ]
    }
   ],
   "source": [
    "print(type(e))"
   ]
  },
  {
   "cell_type": "code",
   "execution_count": 4,
   "id": "60e1975e-ae04-45ce-8525-3bf524ae3e1a",
   "metadata": {},
   "outputs": [
    {
     "data": {
      "text/plain": [
       "140244394768416"
      ]
     },
     "execution_count": 4,
     "metadata": {},
     "output_type": "execute_result"
    }
   ],
   "source": [
    "id(e)"
   ]
  },
  {
   "cell_type": "code",
   "execution_count": null,
   "id": "66bdf166-2163-4d07-b628-48680b4ad6e2",
   "metadata": {},
   "outputs": [],
   "source": []
  },
  {
   "cell_type": "code",
   "execution_count": 5,
   "id": "8252709d-73c0-427d-8783-996fd88aecd4",
   "metadata": {},
   "outputs": [],
   "source": [
    "class Robot:\n",
    "    def introduce_self(self):\n",
    "        print('My name is '+ self.name)"
   ]
  },
  {
   "cell_type": "code",
   "execution_count": 6,
   "id": "70457f9b-e91a-4c85-878a-2d8cc41b707d",
   "metadata": {},
   "outputs": [],
   "source": [
    "r1 = Robot()"
   ]
  },
  {
   "cell_type": "code",
   "execution_count": 16,
   "id": "93568179-9d5e-4466-9773-db0749c70ec4",
   "metadata": {},
   "outputs": [],
   "source": [
    "r1.name='abc'\n",
    "r1.age = 24"
   ]
  },
  {
   "cell_type": "code",
   "execution_count": 8,
   "id": "642bd95e-be27-4693-8ae1-6173eab45cd3",
   "metadata": {},
   "outputs": [
    {
     "name": "stdout",
     "output_type": "stream",
     "text": [
      "My name is abc\n"
     ]
    }
   ],
   "source": [
    "r1.introduce_self()"
   ]
  },
  {
   "cell_type": "code",
   "execution_count": 9,
   "id": "58d4297d-800e-40f6-a6f9-c80fa4174b1b",
   "metadata": {},
   "outputs": [],
   "source": [
    "r2 = Robot()"
   ]
  },
  {
   "cell_type": "code",
   "execution_count": 10,
   "id": "aa636756-ddee-44ed-839a-f627b18a40af",
   "metadata": {},
   "outputs": [],
   "source": [
    "r2.name = 'xyz'"
   ]
  },
  {
   "cell_type": "code",
   "execution_count": 11,
   "id": "371b9399-5c1c-4582-a097-790865952406",
   "metadata": {},
   "outputs": [
    {
     "name": "stdout",
     "output_type": "stream",
     "text": [
      "My name is xyz\n"
     ]
    }
   ],
   "source": [
    "r2.introduce_self()"
   ]
  },
  {
   "cell_type": "code",
   "execution_count": 12,
   "id": "d8afe729-bb83-4bff-8354-27988eaca262",
   "metadata": {},
   "outputs": [
    {
     "data": {
      "text/plain": [
       "['__class__',\n",
       " '__delattr__',\n",
       " '__dict__',\n",
       " '__dir__',\n",
       " '__doc__',\n",
       " '__eq__',\n",
       " '__format__',\n",
       " '__ge__',\n",
       " '__getattribute__',\n",
       " '__gt__',\n",
       " '__hash__',\n",
       " '__init__',\n",
       " '__init_subclass__',\n",
       " '__le__',\n",
       " '__lt__',\n",
       " '__module__',\n",
       " '__ne__',\n",
       " '__new__',\n",
       " '__reduce__',\n",
       " '__reduce_ex__',\n",
       " '__repr__',\n",
       " '__setattr__',\n",
       " '__sizeof__',\n",
       " '__str__',\n",
       " '__subclasshook__',\n",
       " '__weakref__',\n",
       " 'introduce_self',\n",
       " 'name']"
      ]
     },
     "execution_count": 12,
     "metadata": {},
     "output_type": "execute_result"
    }
   ],
   "source": [
    "dir(r1)"
   ]
  },
  {
   "cell_type": "code",
   "execution_count": 13,
   "id": "f31474db-2d8b-43d8-a982-9a4763fe50e8",
   "metadata": {},
   "outputs": [],
   "source": [
    "r3 = Robot()"
   ]
  },
  {
   "cell_type": "code",
   "execution_count": 15,
   "id": "fafa21a9-4630-4c1e-9a98-71c349e93c1c",
   "metadata": {
    "jp-MarkdownHeadingCollapsed": true,
    "tags": []
   },
   "outputs": [
    {
     "name": "stdout",
     "output_type": "stream",
     "text": [
      "My name is imran\n"
     ]
    }
   ],
   "source": [
    "r3.name = 'imran'\n",
    "r3.introduce_self()"
   ]
  },
  {
   "cell_type": "code",
   "execution_count": null,
   "id": "be0f310c-fd81-45b2-af60-b2dc39c2b3f1",
   "metadata": {},
   "outputs": [],
   "source": []
  },
  {
   "cell_type": "code",
   "execution_count": 18,
   "id": "94a43c0a-841c-419a-9774-941f088643d2",
   "metadata": {},
   "outputs": [],
   "source": [
    "class Robot:\n",
    "    \n",
    "    def __init__(self,name,color,weight): #this __init__ is a function used for automatic iniitialising, and this is called constructor\n",
    "        self.name = name\n",
    "        self.color = color\n",
    "        self.weight = weight\n",
    "            \n",
    "    def introduce_self(self):\n",
    "        print('My name is '+ self.name)\n",
    "        \n",
    "        \n",
    "        "
   ]
  },
  {
   "cell_type": "code",
   "execution_count": 20,
   "id": "e3fcedf8-d1f5-4b54-95fe-2b838d86ea91",
   "metadata": {},
   "outputs": [],
   "source": [
    "r1 = Robot('ABC',\"red\", 30)"
   ]
  },
  {
   "cell_type": "code",
   "execution_count": 23,
   "id": "9ecd1228-b385-467b-bca1-a7bc72b0a9e5",
   "metadata": {},
   "outputs": [
    {
     "data": {
      "text/plain": [
       "'red'"
      ]
     },
     "execution_count": 23,
     "metadata": {},
     "output_type": "execute_result"
    }
   ],
   "source": [
    "r1.color"
   ]
  },
  {
   "cell_type": "code",
   "execution_count": 24,
   "id": "b4e120d8-536d-431d-99ae-cd19aba81a7c",
   "metadata": {},
   "outputs": [
    {
     "data": {
      "text/plain": [
       "'ABC'"
      ]
     },
     "execution_count": 24,
     "metadata": {},
     "output_type": "execute_result"
    }
   ],
   "source": [
    "r1.name"
   ]
  },
  {
   "cell_type": "code",
   "execution_count": 28,
   "id": "42007217-781a-4daf-95a2-f2daa16dac01",
   "metadata": {},
   "outputs": [
    {
     "name": "stdout",
     "output_type": "stream",
     "text": [
      "My name is ABC\n"
     ]
    }
   ],
   "source": [
    "r1.introduce_self()"
   ]
  },
  {
   "cell_type": "code",
   "execution_count": null,
   "id": "ca7c0736-9239-45e5-bf6f-ad04ce89ce8e",
   "metadata": {},
   "outputs": [],
   "source": []
  },
  {
   "cell_type": "code",
   "execution_count": 21,
   "id": "aa57f9f5-4f26-4ac9-a8b0-3fc9b57360f5",
   "metadata": {},
   "outputs": [],
   "source": [
    "r2 = Robot('XYZ',\"blue\", 40)"
   ]
  },
  {
   "cell_type": "code",
   "execution_count": 29,
   "id": "0a51a4a9-cf48-4787-b922-49cabb387322",
   "metadata": {},
   "outputs": [
    {
     "name": "stdout",
     "output_type": "stream",
     "text": [
      "My name is XYZ\n"
     ]
    }
   ],
   "source": [
    "r2.introduce_self()"
   ]
  },
  {
   "cell_type": "code",
   "execution_count": 30,
   "id": "18b5693f-16c1-4936-8810-897dc77433f8",
   "metadata": {},
   "outputs": [
    {
     "data": {
      "text/plain": [
       "40"
      ]
     },
     "execution_count": 30,
     "metadata": {},
     "output_type": "execute_result"
    }
   ],
   "source": [
    "r2.weight"
   ]
  },
  {
   "cell_type": "code",
   "execution_count": null,
   "id": "c9ab98ef-7815-4d4b-923d-c2574c29f8fb",
   "metadata": {},
   "outputs": [],
   "source": []
  },
  {
   "cell_type": "code",
   "execution_count": 31,
   "id": "bdf47515-6942-404b-a280-d5e578619f41",
   "metadata": {},
   "outputs": [],
   "source": [
    "class Person:\n",
    "    \n",
    "    def __init__(self, name, gender, profession):\n",
    "        self.name = name\n",
    "        self.gender = gender\n",
    "        self.profession = profession\n",
    "        \n",
    "    def show(self):\n",
    "        print('Name : ', self.name, 'Gender : ', self.gender, 'Profession : ', self.profession)\n",
    "        \n",
    "    def work(self):\n",
    "        print(self.name, 'working as a ',self.profession)"
   ]
  },
  {
   "cell_type": "code",
   "execution_count": 36,
   "id": "fd78b43c-bf41-4d80-9632-64d8af9e6efe",
   "metadata": {},
   "outputs": [],
   "source": [
    "o1 = Person('imran', 'nale', 'engineer')"
   ]
  },
  {
   "cell_type": "code",
   "execution_count": 37,
   "id": "77238782-38d6-4ac8-995b-70dccaef331c",
   "metadata": {},
   "outputs": [
    {
     "name": "stdout",
     "output_type": "stream",
     "text": [
      "Name :  imran Gender :  nale Profession :  engineer\n"
     ]
    }
   ],
   "source": [
    "o1.show()"
   ]
  },
  {
   "cell_type": "code",
   "execution_count": 43,
   "id": "642dc4c1-af79-4597-b0e4-020062d50584",
   "metadata": {},
   "outputs": [],
   "source": [
    "o1.name = 'sagar'"
   ]
  },
  {
   "cell_type": "code",
   "execution_count": 44,
   "id": "a7eba094-9124-4517-a32e-4cc6cb43d4fd",
   "metadata": {},
   "outputs": [
    {
     "data": {
      "text/plain": [
       "'sagar'"
      ]
     },
     "execution_count": 44,
     "metadata": {},
     "output_type": "execute_result"
    }
   ],
   "source": [
    "o1.name"
   ]
  },
  {
   "cell_type": "code",
   "execution_count": 38,
   "id": "c6266757-611f-4f09-adb7-c15e4838c2a4",
   "metadata": {},
   "outputs": [
    {
     "name": "stdout",
     "output_type": "stream",
     "text": [
      "imran working as a  engineer\n"
     ]
    }
   ],
   "source": [
    "o1.work()"
   ]
  },
  {
   "cell_type": "code",
   "execution_count": 46,
   "id": "0eb7753e-2a61-457e-a4c5-6798861f2c35",
   "metadata": {},
   "outputs": [
    {
     "name": "stdout",
     "output_type": "stream",
     "text": [
      "Name :  sagar Gender :  nale Profession :  engineer\n"
     ]
    }
   ],
   "source": [
    "o1.show()"
   ]
  },
  {
   "cell_type": "code",
   "execution_count": 39,
   "id": "60f00c80-e21d-42f7-9d11-68aa06cd08d8",
   "metadata": {},
   "outputs": [],
   "source": [
    "o2 = Person('Ravi', 'male', 'engineer')"
   ]
  },
  {
   "cell_type": "code",
   "execution_count": 40,
   "id": "57dced38-7645-47b6-8667-154e7e32f46d",
   "metadata": {},
   "outputs": [
    {
     "data": {
      "text/plain": [
       "'engineer'"
      ]
     },
     "execution_count": 40,
     "metadata": {},
     "output_type": "execute_result"
    }
   ],
   "source": [
    "o2.profession"
   ]
  },
  {
   "cell_type": "code",
   "execution_count": 42,
   "id": "3e697398-d849-4b12-be78-b380b9ed8818",
   "metadata": {},
   "outputs": [
    {
     "name": "stdout",
     "output_type": "stream",
     "text": [
      "Ravi working as a  engineer\n"
     ]
    }
   ],
   "source": [
    "o2.work()"
   ]
  },
  {
   "cell_type": "code",
   "execution_count": null,
   "id": "4f3b9217-a34b-45e9-80bf-a7f6a55def53",
   "metadata": {},
   "outputs": [],
   "source": []
  },
  {
   "cell_type": "code",
   "execution_count": 48,
   "id": "2b8576b6-bd32-47a8-9027-023b4099e9b1",
   "metadata": {},
   "outputs": [],
   "source": [
    "class Empl:\n",
    "    def __init__(self):\n",
    "        print(id(self))\n",
    "        self.age = 25\n",
    "        self.name = 'imran'\n",
    "        self.salary = 300000\n",
    "        "
   ]
  },
  {
   "cell_type": "code",
   "execution_count": 49,
   "id": "91683da1-0bb0-4d0d-85b1-1899527a0970",
   "metadata": {},
   "outputs": [
    {
     "name": "stdout",
     "output_type": "stream",
     "text": [
      "140243873019120\n"
     ]
    }
   ],
   "source": [
    "e1 = Empl()"
   ]
  },
  {
   "cell_type": "code",
   "execution_count": 50,
   "id": "ef507b31-76f7-4267-b2d9-bb0c09cf1c9f",
   "metadata": {},
   "outputs": [
    {
     "data": {
      "text/plain": [
       "300000"
      ]
     },
     "execution_count": 50,
     "metadata": {},
     "output_type": "execute_result"
    }
   ],
   "source": [
    "e1.salary"
   ]
  },
  {
   "cell_type": "code",
   "execution_count": 51,
   "id": "9a9cd5c4-7100-49ac-98f5-a7fa9ede0f8d",
   "metadata": {},
   "outputs": [],
   "source": [
    "e1.weight = 34"
   ]
  },
  {
   "cell_type": "code",
   "execution_count": 52,
   "id": "e9d999ef-c6df-4626-a954-b5eabc269967",
   "metadata": {},
   "outputs": [
    {
     "data": {
      "text/plain": [
       "34"
      ]
     },
     "execution_count": 52,
     "metadata": {},
     "output_type": "execute_result"
    }
   ],
   "source": [
    "e1.weight"
   ]
  },
  {
   "cell_type": "code",
   "execution_count": null,
   "id": "cedb8fc5-ea89-4f94-9b0e-27914d71a5b0",
   "metadata": {},
   "outputs": [],
   "source": []
  },
  {
   "cell_type": "code",
   "execution_count": 64,
   "id": "e81c1a58-9c3a-4def-9b2b-5f442b198805",
   "metadata": {},
   "outputs": [],
   "source": [
    "class Circle:\n",
    "    def __init__(self, cir):\n",
    "        self.cir = cir\n",
    "    \n",
    "    def area(self):\n",
    "        print('The area of circle is',2* (3.14)*self.cir)\n",
    "    \n",
    "    def circum(self):\n",
    "        print('The circumference of circle is', (3.14)*self.cir*self.cir)           \n",
    "        "
   ]
  },
  {
   "cell_type": "code",
   "execution_count": 68,
   "id": "9012ac5c-ed61-46b5-81b1-e877c3a8c15f",
   "metadata": {},
   "outputs": [],
   "source": [
    "c = Circle(7)"
   ]
  },
  {
   "cell_type": "code",
   "execution_count": 69,
   "id": "daf9cc25-bd82-4a51-9852-8f9df9571d02",
   "metadata": {},
   "outputs": [
    {
     "name": "stdout",
     "output_type": "stream",
     "text": [
      "The area of circle is 43.96\n"
     ]
    }
   ],
   "source": [
    "c.area()"
   ]
  },
  {
   "cell_type": "code",
   "execution_count": 70,
   "id": "423fb7f2-d325-4073-8f3f-ce90f25d7b92",
   "metadata": {},
   "outputs": [
    {
     "name": "stdout",
     "output_type": "stream",
     "text": [
      "The circumference of circle is 153.86\n"
     ]
    }
   ],
   "source": [
    "c.circum()"
   ]
  },
  {
   "cell_type": "code",
   "execution_count": null,
   "id": "80b48692-4cb6-4cd0-abcc-6e0ba258388f",
   "metadata": {},
   "outputs": [],
   "source": []
  },
  {
   "cell_type": "code",
   "execution_count": 96,
   "id": "7a5f9065-6609-498c-91e7-b3aef5951605",
   "metadata": {},
   "outputs": [],
   "source": [
    "class BankAcount():\n",
    "    try :\n",
    "        def __init__(self, ac, name, balance):\n",
    "            self.ac = ac\n",
    "            self.name = name\n",
    "            self.balance = balance\n",
    "      \n",
    "        def deposit(self, deposit):\n",
    "            self.deposit = deposit\n",
    "            self.balance = self.balance +self.deposit\n",
    "\n",
    "        def withdraw(self, withdraw):\n",
    "            self.withdraw = withdraw\n",
    "            self.balance = self.balance - self.withdraw\n",
    "    \n",
    "        def display(self):\n",
    "            print(f'Acount Number {self.ac}')\n",
    "            print(f'Name {self.name}')\n",
    "            print(f'Acount Balance {self.balance}')            \n",
    "    except Exception as e:\n",
    "        print(f'somethis has Missing\\n{e}')\n"
   ]
  },
  {
   "cell_type": "code",
   "execution_count": 97,
   "id": "20d2d4df-2554-4cd0-b784-63b474fae6a5",
   "metadata": {},
   "outputs": [],
   "source": [
    "a = BankAcount(1000, 'Saif', 10000)"
   ]
  },
  {
   "cell_type": "code",
   "execution_count": 98,
   "id": "eb1f65c6-972f-4081-bb2c-4a363337746c",
   "metadata": {},
   "outputs": [],
   "source": [
    "a.withdraw(1000)"
   ]
  },
  {
   "cell_type": "code",
   "execution_count": 99,
   "id": "742827bc-b790-4c94-a073-71e1f28aa21b",
   "metadata": {},
   "outputs": [
    {
     "name": "stdout",
     "output_type": "stream",
     "text": [
      "Acount Number 1000\n",
      "Name Saif\n",
      "Acount Balance 9000\n"
     ]
    }
   ],
   "source": [
    "a.display()"
   ]
  },
  {
   "cell_type": "code",
   "execution_count": 100,
   "id": "0f00a6d2-1683-48eb-9b94-8e1e48ecc104",
   "metadata": {},
   "outputs": [],
   "source": [
    "a.deposit(1000)"
   ]
  },
  {
   "cell_type": "code",
   "execution_count": 101,
   "id": "b8e6bdcd-6067-4c33-8dd4-a0bfb59461c5",
   "metadata": {},
   "outputs": [
    {
     "name": "stdout",
     "output_type": "stream",
     "text": [
      "Acount Number 1000\n",
      "Name Saif\n",
      "Acount Balance 10000\n"
     ]
    }
   ],
   "source": [
    "a.display()"
   ]
  },
  {
   "cell_type": "code",
   "execution_count": null,
   "id": "cf0a4001-33a7-4b43-9393-8c9cb86cfd8b",
   "metadata": {},
   "outputs": [],
   "source": []
  }
 ],
 "metadata": {
  "kernelspec": {
   "display_name": "Python 3 (ipykernel)",
   "language": "python",
   "name": "python3"
  },
  "language_info": {
   "codemirror_mode": {
    "name": "ipython",
    "version": 3
   },
   "file_extension": ".py",
   "mimetype": "text/x-python",
   "name": "python",
   "nbconvert_exporter": "python",
   "pygments_lexer": "ipython3",
   "version": "3.10.6"
  }
 },
 "nbformat": 4,
 "nbformat_minor": 5
}
