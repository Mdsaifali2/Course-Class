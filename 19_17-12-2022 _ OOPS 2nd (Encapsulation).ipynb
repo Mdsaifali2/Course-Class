{
 "cells": [
  {
   "cell_type": "code",
   "execution_count": 1,
   "id": "ece5282a-3f83-4d96-ad6d-0436e0b38f02",
   "metadata": {},
   "outputs": [],
   "source": [
    "class Car:\n",
    "    pass"
   ]
  },
  {
   "cell_type": "code",
   "execution_count": 2,
   "id": "808c50a0-56cc-4d2b-9878-305e683d686e",
   "metadata": {},
   "outputs": [],
   "source": [
    "audi = Car()"
   ]
  },
  {
   "cell_type": "code",
   "execution_count": 3,
   "id": "596a4665-4a09-4833-bb0b-011801433c71",
   "metadata": {},
   "outputs": [],
   "source": [
    "audi.milage = 10\n",
    "audi.year = 2006\n",
    "audi.make = 345\n",
    "audi.model = 'abc'"
   ]
  },
  {
   "cell_type": "code",
   "execution_count": 4,
   "id": "fa01c180-8409-49d3-bf01-85cfa6d56bd9",
   "metadata": {},
   "outputs": [
    {
     "data": {
      "text/plain": [
       "345"
      ]
     },
     "execution_count": 4,
     "metadata": {},
     "output_type": "execute_result"
    }
   ],
   "source": [
    "audi.make"
   ]
  },
  {
   "cell_type": "code",
   "execution_count": 5,
   "id": "54bdda88-ba68-4950-934c-e385f07be19a",
   "metadata": {},
   "outputs": [
    {
     "data": {
      "text/plain": [
       "10"
      ]
     },
     "execution_count": 5,
     "metadata": {},
     "output_type": "execute_result"
    }
   ],
   "source": [
    "audi.milage"
   ]
  },
  {
   "cell_type": "code",
   "execution_count": 6,
   "id": "1a3017dc-9525-48d3-8915-c90c388a3613",
   "metadata": {},
   "outputs": [
    {
     "data": {
      "text/plain": [
       "'abc'"
      ]
     },
     "execution_count": 6,
     "metadata": {},
     "output_type": "execute_result"
    }
   ],
   "source": [
    "audi.model"
   ]
  },
  {
   "cell_type": "code",
   "execution_count": 7,
   "id": "e0ad5e3b-7be8-4e5f-99eb-1944a487292c",
   "metadata": {},
   "outputs": [],
   "source": [
    "nano = Car()"
   ]
  },
  {
   "cell_type": "code",
   "execution_count": 8,
   "id": "94185165-ba63-4cf2-a8a8-22c577480cd3",
   "metadata": {},
   "outputs": [],
   "source": [
    "nano.milage = 67\n",
    "nano.year = 2007\n",
    "nano.make = 67\n",
    "nano.model = 'xyz'"
   ]
  },
  {
   "cell_type": "code",
   "execution_count": 9,
   "id": "cbbadc2c-035a-4a90-9e94-b362abe4d8df",
   "metadata": {},
   "outputs": [],
   "source": [
    "class Car:\n",
    "    def __init__(self, milage, year, make, model):\n",
    "        self.milage = milage\n",
    "        self.year  = year\n",
    "        self.make = make\n",
    "        self.model = model"
   ]
  },
  {
   "cell_type": "code",
   "execution_count": 12,
   "id": "a4992557-556c-40ef-af86-0d5ca5fb9fa0",
   "metadata": {},
   "outputs": [],
   "source": [
    "nano1 = Car(10,2009,45,'jbds')\n",
    "nano2 = Car(10,2009,45,'jbds')\n",
    "nano3 = Car(10,2009,45,'jbds')\n",
    "nano4 = Car(10,2009,45,'jbds')\n",
    "nano5 = Car(10,2009,45,'jbds')\n",
    "nano6 = Car(10,2009,45,'jbds')"
   ]
  },
  {
   "cell_type": "code",
   "execution_count": 51,
   "id": "acf196c1-9eb3-4be0-8598-b002d11412d7",
   "metadata": {},
   "outputs": [],
   "source": [
    "class Car:\n",
    "    def __init__(a, m, y, ma, mo):\n",
    "        a.milage = m\n",
    "        a.year  = y\n",
    "        a.make = ma\n",
    "        a.model = mo\n",
    "        \n",
    "    def age(b,current_year):\n",
    "        return current_year - b.year\n",
    "    \n",
    "    def milage1(self):\n",
    "        return('print a milage of the call', self.milage)\n",
    "        \n",
    "    def __str__(c):\n",
    "        return 'this is from class i have created'"
   ]
  },
  {
   "cell_type": "code",
   "execution_count": 52,
   "id": "e12cfc21-7a83-4a7b-9918-bbd1ebdfb71d",
   "metadata": {},
   "outputs": [],
   "source": [
    "nano23 = Car(10,2009,45,'sdfdsf')"
   ]
  },
  {
   "cell_type": "code",
   "execution_count": 53,
   "id": "25865bba-f5ca-4519-9632-284846e39550",
   "metadata": {},
   "outputs": [
    {
     "data": {
      "text/plain": [
       "11"
      ]
     },
     "execution_count": 53,
     "metadata": {},
     "output_type": "execute_result"
    }
   ],
   "source": [
    "nano23.age(2020)"
   ]
  },
  {
   "cell_type": "code",
   "execution_count": 54,
   "id": "bbcfd972-3bb5-49c2-b5a2-a3eeea91fc8d",
   "metadata": {},
   "outputs": [
    {
     "data": {
      "text/plain": [
       "('print a milage of the call', 10)"
      ]
     },
     "execution_count": 54,
     "metadata": {},
     "output_type": "execute_result"
    }
   ],
   "source": [
    "nano23.milage1()"
   ]
  },
  {
   "cell_type": "code",
   "execution_count": 55,
   "id": "3f7eae70-e1f0-40ed-9525-5801ed210c7b",
   "metadata": {},
   "outputs": [
    {
     "name": "stdout",
     "output_type": "stream",
     "text": [
      "this is from class i have created\n"
     ]
    }
   ],
   "source": [
    "print(nano23) #this will print the __str__ function\n",
    "\n",
    "# when we have not __str__() function in the class and\n",
    "# we are going to print the object created with the particular\n",
    "# class we get a memory location in the console\n",
    "# if we were not want to print the memory address we have to create a special\n",
    "# function __str__() so that we get everything available in that special\n",
    "# function instead of memory location which we get later"
   ]
  },
  {
   "cell_type": "code",
   "execution_count": null,
   "id": "d45c068d-6875-4c02-9c0b-376c05701106",
   "metadata": {},
   "outputs": [],
   "source": []
  },
  {
   "cell_type": "code",
   "execution_count": 66,
   "id": "d695bc4e-26f7-4d88-ac3a-e5f96d822b0f",
   "metadata": {},
   "outputs": [],
   "source": [
    "class Person:\n",
    "    def __init__(self, firstname, lastname, age):\n",
    "        self.firstname = firstname\n",
    "        self.lastname = lastname\n",
    "        self.age = age\n",
    "    def __str__(self):\n",
    "        return 'this is the person'"
   ]
  },
  {
   "cell_type": "code",
   "execution_count": 67,
   "id": "32dd95b8-5847-4811-bed2-bc5fc0c8ae9b",
   "metadata": {},
   "outputs": [],
   "source": [
    "person = Person('imran', 'khan', 27)"
   ]
  },
  {
   "cell_type": "code",
   "execution_count": 65,
   "id": "785d5f84-9a48-43cb-8e69-7b3804948242",
   "metadata": {},
   "outputs": [
    {
     "name": "stdout",
     "output_type": "stream",
     "text": [
      "<__main__.Person object at 0x7ffa84ca0730>\n"
     ]
    }
   ],
   "source": [
    "print(person)\n",
    "# this will print memory address if that particular\n",
    "# class have not any __str__() function"
   ]
  },
  {
   "cell_type": "code",
   "execution_count": 68,
   "id": "d281478f-6678-4bbd-bc0b-f1f7cbdeccdd",
   "metadata": {},
   "outputs": [
    {
     "name": "stdout",
     "output_type": "stream",
     "text": [
      "this is the person\n"
     ]
    }
   ],
   "source": [
    "print(person)"
   ]
  },
  {
   "cell_type": "code",
   "execution_count": 69,
   "id": "d844c7cc-0626-483a-a40e-ba23f6487c27",
   "metadata": {},
   "outputs": [
    {
     "data": {
      "text/plain": [
       "27"
      ]
     },
     "execution_count": 69,
     "metadata": {},
     "output_type": "execute_result"
    }
   ],
   "source": [
    "person.age"
   ]
  },
  {
   "cell_type": "code",
   "execution_count": 70,
   "id": "fdeeeae6-b148-4acf-a2f3-37f186b75420",
   "metadata": {},
   "outputs": [
    {
     "data": {
      "text/plain": [
       "'imran'"
      ]
     },
     "execution_count": 70,
     "metadata": {},
     "output_type": "execute_result"
    }
   ],
   "source": [
    "person.firstname"
   ]
  },
  {
   "cell_type": "code",
   "execution_count": null,
   "id": "d48dd40f-ed39-4ed7-81ee-97da2e6fe257",
   "metadata": {},
   "outputs": [],
   "source": []
  },
  {
   "cell_type": "code",
   "execution_count": 81,
   "id": "e85368ef-df70-4ccb-9493-54dd602ff158",
   "metadata": {},
   "outputs": [],
   "source": [
    "class Student:  \n",
    "    \n",
    "    def __init__(self, name, roll, joining, topic):\n",
    "        self.name = name\n",
    "        self.roll = roll\n",
    "        self.joining = joining\n",
    "        self.topic = topic\n",
    "    \n",
    "    def c_topic (self):\n",
    "        print('current topic discussed in the class is', self.topic)\n",
    "        \n",
    "    def str_rollno(self):\n",
    "        try:\n",
    "            if type(self.roll) == str:\n",
    "                print('Do Nothing')\n",
    "            else:\n",
    "                return str(self.roll)\n",
    "        except Exception as e:\n",
    "            print(\"This is my error message\", e)\n",
    "                \n",
    "    def duration(self, cur_date):\n",
    "        print(\"Duration of student in my class is \", cur_date - self.joining)\n",
    "        \n",
    "    def __str__(self):\n",
    "        return \"This is Student class\"\n",
    "        "
   ]
  },
  {
   "cell_type": "code",
   "execution_count": 82,
   "id": "eece5c03-f47e-43f7-96ce-cd3db820d62e",
   "metadata": {},
   "outputs": [],
   "source": [
    "s1 = Student(\"Imran\", 45, 2007, 'Data Science')"
   ]
  },
  {
   "cell_type": "code",
   "execution_count": 84,
   "id": "d6138855-655c-4c5a-baa8-b387f6508845",
   "metadata": {},
   "outputs": [
    {
     "name": "stdout",
     "output_type": "stream",
     "text": [
      "This is Student class\n"
     ]
    }
   ],
   "source": [
    "print(s1)\n",
    "# This print the __str__() function without calling\n",
    "# when we print the prticular object of the class __str__() this function call automatically"
   ]
  },
  {
   "cell_type": "code",
   "execution_count": 85,
   "id": "be53e514-5ad5-48b1-8882-f94b20471823",
   "metadata": {},
   "outputs": [
    {
     "name": "stdout",
     "output_type": "stream",
     "text": [
      "Duration of student in my class is  1\n"
     ]
    }
   ],
   "source": [
    "s1.duration(2008)"
   ]
  },
  {
   "cell_type": "code",
   "execution_count": 86,
   "id": "34689c20-7e9f-4184-8e82-18b24b0b7a6c",
   "metadata": {},
   "outputs": [
    {
     "data": {
      "text/plain": [
       "'45'"
      ]
     },
     "execution_count": 86,
     "metadata": {},
     "output_type": "execute_result"
    }
   ],
   "source": [
    "s1.str_rollno()"
   ]
  },
  {
   "cell_type": "code",
   "execution_count": 87,
   "id": "7da0282a-60c2-45a8-ad89-eb3f76a9cb75",
   "metadata": {},
   "outputs": [
    {
     "name": "stdout",
     "output_type": "stream",
     "text": [
      "current topic discussed in the class is Data Science\n"
     ]
    }
   ],
   "source": [
    "s1.c_topic()"
   ]
  },
  {
   "cell_type": "code",
   "execution_count": null,
   "id": "0040c7f6-99be-496d-9fc6-7bf6729b0626",
   "metadata": {},
   "outputs": [],
   "source": []
  },
  {
   "cell_type": "code",
   "execution_count": 93,
   "id": "dad0a48c-8fcb-4f52-b0ca-026a765e07b3",
   "metadata": {},
   "outputs": [],
   "source": [
    "#task creating calculator using class\n",
    "class Calculation:\n",
    "    def __init__(self, a, b):\n",
    "        self.a = a #int(input('Enter a = '))\n",
    "        self.b = b #int(input('Enter b = '))    \n",
    "    def summ(self):\n",
    "        print(self.a + self.b)\n",
    "    def subt(self):\n",
    "        print(self.a - self.b)\n",
    "    def mul(self):\n",
    "        print(self.a * self.b)\n",
    "    def divv(self):\n",
    "        print(self.a / self.b)\n",
    "    def __str__(self):\n",
    "        return 'this is a calculator'"
   ]
  },
  {
   "cell_type": "code",
   "execution_count": 94,
   "id": "a36d9adc-ea74-459f-bf61-b10cf817bb43",
   "metadata": {},
   "outputs": [],
   "source": [
    "c1 = Calculation(5,10)"
   ]
  },
  {
   "cell_type": "code",
   "execution_count": 95,
   "id": "aae313bf-3a73-4e8d-971c-67ef5cba1f7c",
   "metadata": {},
   "outputs": [
    {
     "name": "stdout",
     "output_type": "stream",
     "text": [
      "0.5\n"
     ]
    }
   ],
   "source": [
    "c1.divv()"
   ]
  },
  {
   "cell_type": "code",
   "execution_count": 96,
   "id": "9fc6cff6-8011-4e52-9ac1-5d4a7d1e8fd9",
   "metadata": {},
   "outputs": [
    {
     "name": "stdout",
     "output_type": "stream",
     "text": [
      "50\n"
     ]
    }
   ],
   "source": [
    "c1.mul()"
   ]
  },
  {
   "cell_type": "code",
   "execution_count": null,
   "id": "aed55296-d77c-4370-8cd9-1ef8c8c365ad",
   "metadata": {},
   "outputs": [],
   "source": []
  },
  {
   "cell_type": "markdown",
   "id": "66d77aa9-f765-4f01-bbb6-d845ef5d66f2",
   "metadata": {},
   "source": [
    "DEFAULT CONSTRUCTOR"
   ]
  },
  {
   "cell_type": "code",
   "execution_count": 100,
   "id": "354da16f-fbe9-48b6-9acd-f374a554bc6c",
   "metadata": {},
   "outputs": [],
   "source": [
    "class Student:\n",
    "    def who(self):\n",
    "        print('i am a Studen')"
   ]
  },
  {
   "cell_type": "code",
   "execution_count": 101,
   "id": "3e93b9c1-0c36-4e06-82c8-4503fcd793e8",
   "metadata": {},
   "outputs": [],
   "source": [
    "s1= Student()"
   ]
  },
  {
   "cell_type": "code",
   "execution_count": 102,
   "id": "e0ae4bde-41c9-4ead-ac9d-b2ef0ecb34ad",
   "metadata": {},
   "outputs": [
    {
     "name": "stdout",
     "output_type": "stream",
     "text": [
      "i am a Studen\n"
     ]
    }
   ],
   "source": [
    "s1.who()"
   ]
  },
  {
   "cell_type": "markdown",
   "id": "aa688d78-5872-4c7f-9ba6-eb8661d676ad",
   "metadata": {},
   "source": [
    "Non Paramatriged constructor"
   ]
  },
  {
   "cell_type": "code",
   "execution_count": 112,
   "id": "f618bd8f-1f38-4df8-8dd7-5e8afb11fa73",
   "metadata": {},
   "outputs": [],
   "source": [
    "class Company:\n",
    "    def __init__(self):\n",
    "        self.name = \"Ineuron\"\n",
    "        self.address = \"Bangalore\"\n",
    "        \n",
    "    def show(self):\n",
    "        print(\"Name\", self.name,\"Addres\", self.address)"
   ]
  },
  {
   "cell_type": "code",
   "execution_count": 113,
   "id": "5d7307e5-2d50-4c8e-997f-e480e5655b71",
   "metadata": {},
   "outputs": [],
   "source": [
    "comp = Company()"
   ]
  },
  {
   "cell_type": "code",
   "execution_count": 114,
   "id": "3ecac202-4a26-4539-9d7c-7bc2ce18dca8",
   "metadata": {},
   "outputs": [
    {
     "name": "stdout",
     "output_type": "stream",
     "text": [
      "Name Ineuron Addres Bangalore\n"
     ]
    }
   ],
   "source": [
    "comp.show()"
   ]
  },
  {
   "cell_type": "code",
   "execution_count": null,
   "id": "fc691bf3-6740-4cfb-991f-2cc36926508d",
   "metadata": {},
   "outputs": [],
   "source": []
  },
  {
   "cell_type": "code",
   "execution_count": null,
   "id": "d09db18c-766e-4a52-afa8-65467db85145",
   "metadata": {},
   "outputs": [],
   "source": []
  },
  {
   "cell_type": "markdown",
   "id": "b35a09eb-ed53-4412-97d7-efcadaed9213",
   "metadata": {},
   "source": [
    "Paramatriged constructor"
   ]
  },
  {
   "cell_type": "raw",
   "id": "865cc7c7-20ec-40b0-9b6b-de0df4ed7c20",
   "metadata": {},
   "source": [
    "ENCAPSULATION : data bundeling, , Data Hiding, used for hiding variables\n",
    "\n",
    "if we want to create protected, private variables\n",
    "we just need to add _(underscore) before the variable name\n",
    "\n",
    "if we add single Underscore (_) before vrariable name it is a protected variable and is used in the class and subclass\n",
    "\n",
    "if we add double Underscore (__) before vrariable name it is a private variable and is used in the class only."
   ]
  },
  {
   "cell_type": "code",
   "execution_count": 126,
   "id": "884097dc-156e-4a5f-9ca3-ee0b01ca4c80",
   "metadata": {},
   "outputs": [],
   "source": [
    "class pub_mod:\n",
    "    def __init__(self, name, age):\n",
    "        self._name = name\n",
    "        self.age = age\n",
    "        \n",
    "    def Age(self):\n",
    "        print(\"Age\", self.age)\n",
    "        "
   ]
  },
  {
   "cell_type": "code",
   "execution_count": 127,
   "id": "f84d2d11-1212-4ae4-be0b-f7adccffcdaa",
   "metadata": {},
   "outputs": [],
   "source": [
    "c1 = pub_mod(\"Imran\", 27)"
   ]
  },
  {
   "cell_type": "code",
   "execution_count": 128,
   "id": "d26deeea-0ac4-4fc1-9968-4614f0286c9e",
   "metadata": {},
   "outputs": [
    {
     "name": "stdout",
     "output_type": "stream",
     "text": [
      "Age 27\n"
     ]
    }
   ],
   "source": [
    "c1.Age()"
   ]
  },
  {
   "cell_type": "code",
   "execution_count": null,
   "id": "d79d9f77-1988-467e-9b54-c6b477c32376",
   "metadata": {},
   "outputs": [],
   "source": []
  },
  {
   "cell_type": "code",
   "execution_count": 136,
   "id": "e3b12fc3-7f1e-407a-bf6a-778a0fea660b",
   "metadata": {},
   "outputs": [],
   "source": [
    "class Rectangle:\n",
    "#     __length = 0\n",
    "#     __breadth = 0\n",
    "    \n",
    "    def __init__(self):\n",
    "        self.length = 5\n",
    "        self.__breadth = 3\n",
    "        \n",
    "        print(self.length)    \n",
    "        print(self.__breadth)"
   ]
  },
  {
   "cell_type": "code",
   "execution_count": 137,
   "id": "0cc75e60-99d2-4cc9-b3ca-bc2a19609eb5",
   "metadata": {},
   "outputs": [
    {
     "name": "stdout",
     "output_type": "stream",
     "text": [
      "5\n",
      "3\n"
     ]
    }
   ],
   "source": [
    "r1 = Rectangle()"
   ]
  },
  {
   "cell_type": "code",
   "execution_count": 138,
   "id": "7478959c-4252-4709-a32a-794a635288c7",
   "metadata": {},
   "outputs": [
    {
     "data": {
      "text/plain": [
       "5"
      ]
     },
     "execution_count": 138,
     "metadata": {},
     "output_type": "execute_result"
    }
   ],
   "source": [
    "r1.length"
   ]
  },
  {
   "cell_type": "code",
   "execution_count": null,
   "id": "11b9a156-687a-4f37-ab05-9942430cc6d5",
   "metadata": {},
   "outputs": [],
   "source": []
  },
  {
   "cell_type": "code",
   "execution_count": null,
   "id": "eda441b1-4473-44dd-9eda-c099a49602c4",
   "metadata": {},
   "outputs": [],
   "source": []
  },
  {
   "cell_type": "code",
   "execution_count": 140,
   "id": "e38d62c5-6f41-4ce6-b633-d4a33178f657",
   "metadata": {},
   "outputs": [
    {
     "name": "stdout",
     "output_type": "stream",
     "text": [
      "5\n",
      "3\n",
      "5\n"
     ]
    },
    {
     "ename": "AttributeError",
     "evalue": "'Rectangle' object has no attribute 'breadth'",
     "output_type": "error",
     "traceback": [
      "\u001b[0;31m---------------------------------------------------------------------------\u001b[0m",
      "\u001b[0;31mAttributeError\u001b[0m                            Traceback (most recent call last)",
      "Cell \u001b[0;32mIn [140], line 17\u001b[0m\n\u001b[1;32m     15\u001b[0m rect \u001b[38;5;241m=\u001b[39m Rectangle()\n\u001b[1;32m     16\u001b[0m \u001b[38;5;28mprint\u001b[39m(rect\u001b[38;5;241m.\u001b[39mlength)\n\u001b[0;32m---> 17\u001b[0m \u001b[38;5;28mprint\u001b[39m(\u001b[43mrect\u001b[49m\u001b[38;5;241;43m.\u001b[39;49m\u001b[43mbreadth\u001b[49m)\n",
      "\u001b[0;31mAttributeError\u001b[0m: 'Rectangle' object has no attribute 'breadth'"
     ]
    }
   ],
   "source": [
    "class Rectangle:\n",
    "#     __length = 0\n",
    "#     __breadth = 0\n",
    "    \n",
    "    def __init__(self):\n",
    "        self.length = 5\n",
    "        self.__breadth = 3\n",
    "        \n",
    "        print(self.length)    \n",
    "        print(self.__breadth)\n",
    "    \n",
    "    def show(self):\n",
    "        print(\"This is printing private variable\", self.__breadth)\n",
    "\n",
    "rect = Rectangle()\n",
    "print(rect.length)\n",
    "print(rect.breadth)"
   ]
  },
  {
   "cell_type": "code",
   "execution_count": 141,
   "id": "91b3618a-c643-47a5-8264-66b36c764591",
   "metadata": {},
   "outputs": [
    {
     "name": "stdout",
     "output_type": "stream",
     "text": [
      "This is printing private variable 3\n"
     ]
    }
   ],
   "source": [
    "rect.show()"
   ]
  },
  {
   "cell_type": "markdown",
   "id": "476e8172-2f56-481a-beca-37f3d4766fd1",
   "metadata": {},
   "source": [
    "To access the protected variable outside the class we have to call that variable as (objectName.SingleUnderscoreVariableName)\n",
    "\n",
    "To access the private variable outside the class we have to call that variable as (objectName.SingleUnderscore ClassName SingleUnderscore VariableName)\n",
    "as you seen below \n"
   ]
  },
  {
   "cell_type": "code",
   "execution_count": 145,
   "id": "3c3e251e-6ec5-47f0-a25a-837160751c15",
   "metadata": {},
   "outputs": [
    {
     "data": {
      "text/plain": [
       "3"
      ]
     },
     "execution_count": 145,
     "metadata": {},
     "output_type": "execute_result"
    }
   ],
   "source": [
    "rect._Rectangle__breadth"
   ]
  },
  {
   "cell_type": "code",
   "execution_count": null,
   "id": "9fe87c81-9324-4d95-b529-2afc4a94f0b4",
   "metadata": {},
   "outputs": [],
   "source": []
  },
  {
   "cell_type": "code",
   "execution_count": 149,
   "id": "fb77aef8-2409-473e-8742-1c820b49ca9e",
   "metadata": {},
   "outputs": [],
   "source": [
    "class Test:\n",
    "    def __init__(self):\n",
    "        self.a = 6\n",
    "        self._b = 5\n",
    "        self.__c = 8\n",
    "        \n",
    "        print(f'Public :{self.a}, Protected {self._b}, Private : {self.__c}')"
   ]
  },
  {
   "cell_type": "code",
   "execution_count": 150,
   "id": "35e130a7-3c0d-4bde-80d6-a7935566623a",
   "metadata": {},
   "outputs": [
    {
     "name": "stdout",
     "output_type": "stream",
     "text": [
      "Public :6, Protected 5, Private : 8\n"
     ]
    }
   ],
   "source": [
    "t1 = Test()"
   ]
  },
  {
   "cell_type": "code",
   "execution_count": 151,
   "id": "91b05d34-b254-494b-a5b2-0103d640ed91",
   "metadata": {},
   "outputs": [
    {
     "data": {
      "text/plain": [
       "6"
      ]
     },
     "execution_count": 151,
     "metadata": {},
     "output_type": "execute_result"
    }
   ],
   "source": [
    "t1.a"
   ]
  },
  {
   "cell_type": "code",
   "execution_count": 152,
   "id": "db1b6c78-deb3-48b9-b728-b9efb3e3abc9",
   "metadata": {},
   "outputs": [
    {
     "ename": "AttributeError",
     "evalue": "'Test' object has no attribute 'b'",
     "output_type": "error",
     "traceback": [
      "\u001b[0;31m---------------------------------------------------------------------------\u001b[0m",
      "\u001b[0;31mAttributeError\u001b[0m                            Traceback (most recent call last)",
      "Cell \u001b[0;32mIn [152], line 1\u001b[0m\n\u001b[0;32m----> 1\u001b[0m \u001b[43mt1\u001b[49m\u001b[38;5;241;43m.\u001b[39;49m\u001b[43mb\u001b[49m\n",
      "\u001b[0;31mAttributeError\u001b[0m: 'Test' object has no attribute 'b'"
     ]
    }
   ],
   "source": [
    "t1.b"
   ]
  },
  {
   "cell_type": "code",
   "execution_count": 153,
   "id": "9956810c-28ae-40da-a737-5b4dd6ab135a",
   "metadata": {},
   "outputs": [
    {
     "ename": "AttributeError",
     "evalue": "'Test' object has no attribute 'c'",
     "output_type": "error",
     "traceback": [
      "\u001b[0;31m---------------------------------------------------------------------------\u001b[0m",
      "\u001b[0;31mAttributeError\u001b[0m                            Traceback (most recent call last)",
      "Cell \u001b[0;32mIn [153], line 1\u001b[0m\n\u001b[0;32m----> 1\u001b[0m \u001b[43mt1\u001b[49m\u001b[38;5;241;43m.\u001b[39;49m\u001b[43mc\u001b[49m\n",
      "\u001b[0;31mAttributeError\u001b[0m: 'Test' object has no attribute 'c'"
     ]
    }
   ],
   "source": [
    "t1.c"
   ]
  },
  {
   "cell_type": "markdown",
   "id": "5ed76cae-6bac-4807-af94-9e2311e57d1f",
   "metadata": {},
   "source": [
    "Idea to print the private and protected variable without using any inbuilt function"
   ]
  },
  {
   "cell_type": "code",
   "execution_count": 164,
   "id": "d599c38c-c527-45d7-8824-f824829d3bb4",
   "metadata": {},
   "outputs": [],
   "source": [
    "class Test:\n",
    "    def __init__(self):\n",
    "        self.a = 6\n",
    "        self._b = 5\n",
    "        self.__c = 8\n",
    "        \n",
    "        print(f'Public :{self.a}, Protected {self._b}, Private : {self.__c}')\n",
    "        \n",
    "    def show(self):\n",
    "        print(f'Protected {self._b}, Private : {self.__c}')\n",
    "        "
   ]
  },
  {
   "cell_type": "code",
   "execution_count": 165,
   "id": "64c039b6-fa84-4d1a-9496-985cc50bde0a",
   "metadata": {},
   "outputs": [
    {
     "name": "stdout",
     "output_type": "stream",
     "text": [
      "Public :6, Protected 5, Private : 8\n"
     ]
    }
   ],
   "source": [
    "t2 = Test()"
   ]
  },
  {
   "cell_type": "code",
   "execution_count": 166,
   "id": "83cd38aa-9ab4-44aa-8e12-eb3293ce37eb",
   "metadata": {},
   "outputs": [
    {
     "name": "stdout",
     "output_type": "stream",
     "text": [
      "Protected 5, Private : 8\n"
     ]
    }
   ],
   "source": [
    "t2.show()"
   ]
  },
  {
   "cell_type": "code",
   "execution_count": 167,
   "id": "ce96b457-2b24-4eec-ad47-4a219cd7499d",
   "metadata": {},
   "outputs": [
    {
     "data": {
      "text/plain": [
       "8"
      ]
     },
     "execution_count": 167,
     "metadata": {},
     "output_type": "execute_result"
    }
   ],
   "source": [
    "t2._Test__c #for access private : objectname._classname__variablename"
   ]
  },
  {
   "cell_type": "code",
   "execution_count": 172,
   "id": "d4a7c6ff-3dbb-4cac-8b80-d4138e8103db",
   "metadata": {},
   "outputs": [
    {
     "data": {
      "text/plain": [
       "5"
      ]
     },
     "execution_count": 172,
     "metadata": {},
     "output_type": "execute_result"
    }
   ],
   "source": [
    "t2._b #for access protected : objectname._variablename"
   ]
  },
  {
   "cell_type": "code",
   "execution_count": null,
   "id": "36673dca-3db4-46a1-8ba9-eaf13214bd4e",
   "metadata": {},
   "outputs": [],
   "source": []
  },
  {
   "cell_type": "code",
   "execution_count": null,
   "id": "387b75f6-7ce6-4d5c-8d2b-3133be4b2b35",
   "metadata": {},
   "outputs": [],
   "source": []
  },
  {
   "cell_type": "code",
   "execution_count": 181,
   "id": "935a9f9b-c832-4eb0-96dc-8c8686c21ace",
   "metadata": {},
   "outputs": [],
   "source": [
    "class Tyres:\n",
    "    def __init__(self, branch, belted_bias, opt_press):\n",
    "        self.branch = branch\n",
    "        self.belted_bias = belted_bias\n",
    "        self.opt_press = opt_press\n",
    "        \n",
    "    def __str__(self)    :\n",
    "        return (f\"Types : \\n \\tBRanch + {self.branch} \\n \\tBelted Biad {self.belted_bias} \\n \\tOptimal Pressure {str(self.opt_press)}\")\n",
    "    \n",
    "\n",
    "class Engine:\n",
    "    def __init__(self,fuel_type,noise_level):\n",
    "        self.fuel_type = fuel_type\n",
    "        self.noise_level = noise_level\n",
    "        \n",
    "    def __str__(self):\n",
    "        return (f\"Engine : \\n \\tFuel TYpe + {self.fuel_type} \\n \\tNoise Level {str(self.noise_level)}\")\n",
    "    \n",
    "    \n",
    "class Body:\n",
    "    def __init__(self,size):\n",
    "        self.size = size\n",
    "        \n",
    "    def __str__(self):\n",
    "        return (f\"Body \\n \\tSize {self.size}\")\n",
    "        \n",
    "\n",
    "class Car:\n",
    "    def __init__(self, tyres, engine, body):\n",
    "        self.tyres = tyres\n",
    "        self.engine = engine\n",
    "        self.body = body\n",
    "        \n",
    "    def __str__(self):\n",
    "        return (f\"{str(self.tyres)} \\n {str(self.engine)} \\n {str(self.body)}\")\n",
    "        \n",
    "        "
   ]
  },
  {
   "cell_type": "code",
   "execution_count": 182,
   "id": "d87d09fd-7695-4d2c-88ef-acec70775232",
   "metadata": {},
   "outputs": [],
   "source": [
    "t = Tyres(\"Bangalore\", True, 2.0)\n",
    "e = Engine(\"Diesel\", 3)\n",
    "b = Body(\"Medium\")"
   ]
  },
  {
   "cell_type": "code",
   "execution_count": 183,
   "id": "59399a69-c929-4877-a67e-398faca0b83d",
   "metadata": {},
   "outputs": [],
   "source": [
    "c = Car(t,e,b)"
   ]
  },
  {
   "cell_type": "code",
   "execution_count": 184,
   "id": "24b0ea69-cfb7-4951-9f43-7c02005863dd",
   "metadata": {},
   "outputs": [
    {
     "name": "stdout",
     "output_type": "stream",
     "text": [
      "Types : \n",
      " \tBRanch + Bangalore \n",
      " \tBelted Biad True \n",
      " \tOptimal Pressure 2.0 \n",
      " Engine : \n",
      " \tFuel TYpe + Diesel \n",
      " \tNoise Level 3 \n",
      " Body \n",
      " \tSize Medium\n"
     ]
    }
   ],
   "source": [
    "print(c)"
   ]
  },
  {
   "cell_type": "code",
   "execution_count": 185,
   "id": "6db9f1b1-addb-419f-9e05-6eadbbb5a461",
   "metadata": {},
   "outputs": [
    {
     "name": "stdout",
     "output_type": "stream",
     "text": [
      "Types : \n",
      " \tBRanch + Bangalore \n",
      " \tBelted Biad True \n",
      " \tOptimal Pressure 2.0\n"
     ]
    }
   ],
   "source": [
    "print(t)"
   ]
  },
  {
   "cell_type": "code",
   "execution_count": 186,
   "id": "03b0b9ed-a7a6-4513-9325-d4a6cf8c37be",
   "metadata": {},
   "outputs": [
    {
     "data": {
      "text/plain": [
       "'Bangalore'"
      ]
     },
     "execution_count": 186,
     "metadata": {},
     "output_type": "execute_result"
    }
   ],
   "source": [
    "t.branch"
   ]
  },
  {
   "cell_type": "code",
   "execution_count": 190,
   "id": "d210fc1c-2690-4037-bb11-d9ac2eb9cf76",
   "metadata": {},
   "outputs": [
    {
     "name": "stdout",
     "output_type": "stream",
     "text": [
      "\n"
     ]
    },
    {
     "data": {
      "text/plain": [
       "['__bool__',\n",
       " '__class__',\n",
       " '__delattr__',\n",
       " '__dir__',\n",
       " '__doc__',\n",
       " '__eq__',\n",
       " '__format__',\n",
       " '__ge__',\n",
       " '__getattribute__',\n",
       " '__gt__',\n",
       " '__hash__',\n",
       " '__init__',\n",
       " '__init_subclass__',\n",
       " '__le__',\n",
       " '__lt__',\n",
       " '__ne__',\n",
       " '__new__',\n",
       " '__reduce__',\n",
       " '__reduce_ex__',\n",
       " '__repr__',\n",
       " '__setattr__',\n",
       " '__sizeof__',\n",
       " '__str__',\n",
       " '__subclasshook__']"
      ]
     },
     "execution_count": 190,
     "metadata": {},
     "output_type": "execute_result"
    }
   ],
   "source": [
    "dir(print())"
   ]
  },
  {
   "cell_type": "code",
   "execution_count": null,
   "id": "38436145-cbf7-4c9a-ac04-5919b13f6394",
   "metadata": {},
   "outputs": [],
   "source": []
  }
 ],
 "metadata": {
  "kernelspec": {
   "display_name": "Python 3 (ipykernel)",
   "language": "python",
   "name": "python3"
  },
  "language_info": {
   "codemirror_mode": {
    "name": "ipython",
    "version": 3
   },
   "file_extension": ".py",
   "mimetype": "text/x-python",
   "name": "python",
   "nbconvert_exporter": "python",
   "pygments_lexer": "ipython3",
   "version": "3.10.6"
  },
  "toc-showmarkdowntxt": false
 },
 "nbformat": 4,
 "nbformat_minor": 5
}
