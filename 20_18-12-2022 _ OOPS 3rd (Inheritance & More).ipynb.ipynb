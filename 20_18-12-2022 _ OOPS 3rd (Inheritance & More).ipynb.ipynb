{
 "cells": [
  {
   "cell_type": "markdown",
   "id": "7ab30ac6-2add-40ae-996b-bae695b68f32",
   "metadata": {},
   "source": [
    "SINGLE INHERITANCE"
   ]
  },
  {
   "cell_type": "code",
   "execution_count": 7,
   "id": "9712a872-b0f6-4d43-8624-0ca61aac6a8c",
   "metadata": {
    "tags": []
   },
   "outputs": [],
   "source": [
    "class Parent:\n",
    "    def func1(self):\n",
    "        print(\"Hello! from parent class\")\n",
    "class Child(Parent):\n",
    "    def func2(self):\n",
    "        print(\"Hello! child\")"
   ]
  },
  {
   "cell_type": "code",
   "execution_count": 8,
   "id": "98d848fd-4c43-46e1-bdaf-7977ea06c6ba",
   "metadata": {
    "tags": []
   },
   "outputs": [],
   "source": [
    "test = Child()"
   ]
  },
  {
   "cell_type": "code",
   "execution_count": 9,
   "id": "692fe926-3f94-4c46-8fd4-f468a06c11d3",
   "metadata": {
    "tags": []
   },
   "outputs": [
    {
     "name": "stdout",
     "output_type": "stream",
     "text": [
      "Hello! from parent class\n"
     ]
    }
   ],
   "source": [
    "test.func1()"
   ]
  },
  {
   "cell_type": "code",
   "execution_count": 10,
   "id": "22f7707c-0892-4398-bd9e-79aa5a52e23a",
   "metadata": {
    "tags": []
   },
   "outputs": [
    {
     "name": "stdout",
     "output_type": "stream",
     "text": [
      "Hello! child\n"
     ]
    }
   ],
   "source": [
    "test.func2()"
   ]
  },
  {
   "cell_type": "code",
   "execution_count": 17,
   "id": "8752ab71-4beb-48c1-8db7-8df291752827",
   "metadata": {
    "tags": []
   },
   "outputs": [],
   "source": [
    "class Ineuron:\n",
    "    company_web = \"https://ineuron.ai\"\n",
    "    name = \"ineuron\"\n",
    "    \n",
    "    def contact_details(self):\n",
    "        print(f\"Contact us at {self.company_web}\")\n",
    "\n",
    "class DataScience(Ineuron):\n",
    "    def __init__(self):\n",
    "        self.year_of_establishment = 2018\n",
    "    def est_details(self):\n",
    "        print(f\"Est Details {self.name}, {self.year_of_establishment}\")"
   ]
  },
  {
   "cell_type": "code",
   "execution_count": 18,
   "id": "2e7876d3-c749-46e9-9c57-2b7c67766806",
   "metadata": {
    "tags": []
   },
   "outputs": [],
   "source": [
    "ds = DataScience()"
   ]
  },
  {
   "cell_type": "code",
   "execution_count": 19,
   "id": "cab9be80-b774-4399-b876-452c2919a1bf",
   "metadata": {
    "tags": []
   },
   "outputs": [
    {
     "name": "stdout",
     "output_type": "stream",
     "text": [
      "Contact us at https://ineuron.ai\n"
     ]
    }
   ],
   "source": [
    "ds.contact_details()"
   ]
  },
  {
   "cell_type": "code",
   "execution_count": 21,
   "id": "a8bb044c-4eed-46b9-b62b-7b970e11f8df",
   "metadata": {
    "tags": []
   },
   "outputs": [
    {
     "data": {
      "text/plain": [
       "2018"
      ]
     },
     "execution_count": 21,
     "metadata": {},
     "output_type": "execute_result"
    }
   ],
   "source": [
    "ds.year_of_establishment"
   ]
  },
  {
   "cell_type": "code",
   "execution_count": null,
   "id": "cbd87618-3512-4c7a-8f06-02b191399252",
   "metadata": {
    "tags": []
   },
   "outputs": [],
   "source": []
  },
  {
   "cell_type": "markdown",
   "id": "d09167d6-2794-411c-8dc7-49114f622531",
   "metadata": {},
   "source": [
    "MULTIPLE INHERITANCE"
   ]
  },
  {
   "cell_type": "code",
   "execution_count": 20,
   "id": "00f8cb4f-ee8f-4c05-9622-9ac2332017a6",
   "metadata": {
    "tags": []
   },
   "outputs": [],
   "source": [
    "class Perent1:\n",
    "    def func1(self):\n",
    "        print(\"Hello from Parent 1\")\n",
    "    \n",
    "class Perent2:\n",
    "    def func2(self):\n",
    "        print(\"Hello from Parent 2\")\n",
    "\n",
    "class Perent3:\n",
    "    def func3(self):\n",
    "        print(\"Hello from Parent 3\")\n",
    "        \n",
    "class Child(Perent1, Perent2):\n",
    "    def func3(self):\n",
    "        print(\"Hello Child\")"
   ]
  },
  {
   "cell_type": "code",
   "execution_count": 21,
   "id": "6ab1240d-411a-4c31-92ed-47afdc9ae7f3",
   "metadata": {
    "tags": []
   },
   "outputs": [],
   "source": [
    "testt = Child()"
   ]
  },
  {
   "cell_type": "code",
   "execution_count": 10,
   "id": "2f9d7d90-0b99-47be-9dd9-430cf6f503d4",
   "metadata": {
    "tags": []
   },
   "outputs": [
    {
     "name": "stdout",
     "output_type": "stream",
     "text": [
      "Hello from Parent 2\n"
     ]
    }
   ],
   "source": [
    "testt.func2()"
   ]
  },
  {
   "cell_type": "code",
   "execution_count": 11,
   "id": "0b2884d5-0801-4114-9017-45e6ac750513",
   "metadata": {
    "tags": []
   },
   "outputs": [],
   "source": [
    "# parent 1\n",
    "class Batch_Number:\n",
    "    batchnumber = \"\"\n",
    "    def __init__(self,a,b,c):\n",
    "        self.a = a\n",
    "        self.b = b\n",
    "        self.c = c\n",
    "    \n",
    "    def batch(self):\n",
    "        print(self.batchnumber)\n",
    "        \n",
    "# parent 2\n",
    "class course_name:\n",
    "    cname = \"\"\n",
    "    def course(self):\n",
    "        print(self.cname)\n",
    "        \n",
    "\n",
    "# child class\n",
    "class Student(Batch_Number, course_name):\n",
    "    def show(self):\n",
    "        print(f\"Batch : {self.batchnumber}\")\n",
    "        print(f\"Course : {self.cname}\")\n",
    "        \n",
    "    \n",
    "    \n",
    "    "
   ]
  },
  {
   "cell_type": "code",
   "execution_count": 12,
   "id": "fd4845af-0482-4ce8-9cea-efe7f7609711",
   "metadata": {
    "tags": []
   },
   "outputs": [],
   "source": [
    "s1 = Student(4,5,6)"
   ]
  },
  {
   "cell_type": "code",
   "execution_count": 13,
   "id": "7f1d4a79-a3f8-4423-87e4-d4f2a5e526b9",
   "metadata": {
    "tags": []
   },
   "outputs": [],
   "source": [
    "s1.batchnumber = \"2\""
   ]
  },
  {
   "cell_type": "code",
   "execution_count": 14,
   "id": "d6fa1f79-3cb9-4378-82a1-2b692f2b977c",
   "metadata": {
    "tags": []
   },
   "outputs": [],
   "source": [
    "s1.cname = \"FSDS\""
   ]
  },
  {
   "cell_type": "code",
   "execution_count": 15,
   "id": "55378126-5e1d-43df-92f5-1429b655dbdd",
   "metadata": {
    "tags": []
   },
   "outputs": [
    {
     "name": "stdout",
     "output_type": "stream",
     "text": [
      "FSDS\n"
     ]
    }
   ],
   "source": [
    "s1.course()"
   ]
  },
  {
   "cell_type": "code",
   "execution_count": 16,
   "id": "863df38b-1222-4ec2-8749-842a2f980a18",
   "metadata": {
    "tags": []
   },
   "outputs": [
    {
     "name": "stdout",
     "output_type": "stream",
     "text": [
      "Batch : 2\n",
      "Course : FSDS\n"
     ]
    }
   ],
   "source": [
    "s1.show()"
   ]
  },
  {
   "cell_type": "code",
   "execution_count": 17,
   "id": "b947fb5e-18ee-4134-8410-246ee248db1e",
   "metadata": {
    "tags": []
   },
   "outputs": [
    {
     "name": "stdout",
     "output_type": "stream",
     "text": [
      "2\n"
     ]
    }
   ],
   "source": [
    "s1.batch()"
   ]
  },
  {
   "cell_type": "code",
   "execution_count": null,
   "id": "a1973ec4-6929-4e0f-a05c-fe38d7bf1dc5",
   "metadata": {
    "tags": []
   },
   "outputs": [],
   "source": []
  },
  {
   "cell_type": "code",
   "execution_count": 18,
   "id": "ed2ec66a-7159-4cf5-853a-6f13cd92beea",
   "metadata": {
    "tags": []
   },
   "outputs": [],
   "source": [
    "class Person:\n",
    "    def func1(self):\n",
    "        print(\"Parent 1\")\n",
    "class Company:\n",
    "    def func2(self):\n",
    "        print(\"Parent 2\")\n",
    "class Employe(Person, Company):\n",
    "    def func3(self):\n",
    "        print(\"Child\")\n",
    "    def show(self):\n",
    "        self.func1()\n",
    "        self.func2()\n",
    "        self.func3()\n",
    "        \n",
    "    "
   ]
  },
  {
   "cell_type": "code",
   "execution_count": 19,
   "id": "4b112f80-f6d6-4079-bd43-a1d73af4ded8",
   "metadata": {
    "tags": []
   },
   "outputs": [],
   "source": [
    "E = Employe()"
   ]
  },
  {
   "cell_type": "code",
   "execution_count": 36,
   "id": "278083dc-9246-4219-9051-be4dbe2c65ec",
   "metadata": {
    "tags": []
   },
   "outputs": [
    {
     "name": "stdout",
     "output_type": "stream",
     "text": [
      "Parent 1\n",
      "Parent 2\n",
      "Child\n"
     ]
    }
   ],
   "source": [
    "E.show()"
   ]
  },
  {
   "cell_type": "code",
   "execution_count": 38,
   "id": "61e19900-3263-4ce8-a58a-daca223528d6",
   "metadata": {
    "tags": []
   },
   "outputs": [
    {
     "name": "stdout",
     "output_type": "stream",
     "text": [
      "Parent 1\n"
     ]
    }
   ],
   "source": [
    "E.func1()"
   ]
  },
  {
   "cell_type": "code",
   "execution_count": null,
   "id": "402b2f0b-e215-47a4-9d0d-8e1254074b14",
   "metadata": {
    "tags": []
   },
   "outputs": [],
   "source": []
  },
  {
   "cell_type": "markdown",
   "id": "9fa4319e-e9d2-485b-af7a-58e6e4165e74",
   "metadata": {},
   "source": [
    "MULTILEVEL INHERITANCE"
   ]
  },
  {
   "cell_type": "code",
   "execution_count": 1,
   "id": "66b988f6-752f-4d6d-9a77-4d99762f5bf1",
   "metadata": {
    "tags": []
   },
   "outputs": [],
   "source": [
    "class test1:\n",
    "    def a(self):\n",
    "        print(\"Inside Test 1\")\n",
    "        \n",
    "class test2(test1):\n",
    "    def b(self):\n",
    "        print(\"Inside Test 2\")\n",
    "    \n",
    "class test3(test2):\n",
    "    def c(self):\n",
    "        print(\"Inside Test 3\")"
   ]
  },
  {
   "cell_type": "code",
   "execution_count": 2,
   "id": "d88ba32d-1f07-4b8a-a077-56ced2d92ac4",
   "metadata": {
    "tags": []
   },
   "outputs": [],
   "source": [
    "t1 = test3()"
   ]
  },
  {
   "cell_type": "code",
   "execution_count": 3,
   "id": "c228101a-c1fa-49aa-8377-02f84587da2d",
   "metadata": {
    "tags": []
   },
   "outputs": [
    {
     "name": "stdout",
     "output_type": "stream",
     "text": [
      "Inside Test 1\n"
     ]
    }
   ],
   "source": [
    "t1.a()"
   ]
  },
  {
   "cell_type": "code",
   "execution_count": 4,
   "id": "e4f08692-0fec-408f-a26b-d604f9ad904b",
   "metadata": {
    "tags": []
   },
   "outputs": [
    {
     "name": "stdout",
     "output_type": "stream",
     "text": [
      "Inside Test 2\n"
     ]
    }
   ],
   "source": [
    "t1.b()"
   ]
  },
  {
   "cell_type": "code",
   "execution_count": 5,
   "id": "be2be679-f615-435b-8ccd-3e8bd08a3751",
   "metadata": {
    "tags": []
   },
   "outputs": [
    {
     "name": "stdout",
     "output_type": "stream",
     "text": [
      "Inside Test 3\n"
     ]
    }
   ],
   "source": [
    "t1.c()"
   ]
  },
  {
   "cell_type": "code",
   "execution_count": null,
   "id": "b60bba08-eff4-4138-ac9a-c2d0dbcd8c27",
   "metadata": {
    "tags": []
   },
   "outputs": [],
   "source": []
  },
  {
   "cell_type": "code",
   "execution_count": 51,
   "id": "79babf70-064f-488c-a546-9bf2f9b8757e",
   "metadata": {
    "tags": []
   },
   "outputs": [],
   "source": [
    "class Vehicle:  \n",
    "    def info(self):\n",
    "        print(\"Inside Vehicle Class\")\n",
    "    \n",
    "class Car(Vehicle):\n",
    "    def car_info(self):\n",
    "        print(\"Inside Car Class\")\n",
    "        \n",
    "class sportscar(Car):\n",
    "    def sport(self):\n",
    "        print(\"Inside Sports Car Class\")"
   ]
  },
  {
   "cell_type": "code",
   "execution_count": 52,
   "id": "44635c8f-512b-4281-bb2e-e098069d6f69",
   "metadata": {
    "tags": []
   },
   "outputs": [],
   "source": [
    "s1 = sportscar()"
   ]
  },
  {
   "cell_type": "code",
   "execution_count": 53,
   "id": "d04ba50b-2de7-4190-b562-49f2e99a03b6",
   "metadata": {
    "tags": []
   },
   "outputs": [
    {
     "name": "stdout",
     "output_type": "stream",
     "text": [
      "Inside Car Class\n"
     ]
    }
   ],
   "source": [
    "s1.car_info()"
   ]
  },
  {
   "cell_type": "code",
   "execution_count": 54,
   "id": "e4dad329-d1fa-4d67-8605-dd79720b988f",
   "metadata": {
    "tags": []
   },
   "outputs": [
    {
     "name": "stdout",
     "output_type": "stream",
     "text": [
      "Inside Car Class\n"
     ]
    }
   ],
   "source": [
    "s1.car_info()"
   ]
  },
  {
   "cell_type": "code",
   "execution_count": 31,
   "id": "e2be069a-10da-4e34-a4e3-ad8252165558",
   "metadata": {
    "tags": []
   },
   "outputs": [],
   "source": [
    "class Phones:\n",
    "    def __init__(self, brand, model, price):\n",
    "        self.brand = brand\n",
    "        self.model = model\n",
    "        self.price = price\n",
    "    \n",
    "    def specs(self):\n",
    "        return f\"Brand : {self.brand}, Price : {self.price}\"\n",
    "    \n",
    "    def typeofphone(self):\n",
    "        if self.price > 25000:\n",
    "            return \"this is budget phone\"\n",
    "        else:\n",
    "            return \"this is midrange phone\"\n",
    "        \n",
    "class SmartPhone(Phones):\n",
    "    def __init__(self,brand,model,price,ram,storage):\n",
    "        super().__init__(brand,model,price)\n",
    "        self.ram = ram\n",
    "        self.storage = storage\n",
    "        \n",
    "class FlashipPhone(SmartPhone):\n",
    "    def __init__(self,brand,model,price,ram,storage,frontcamer,backcamera,display):\n",
    "        super().__init__(brand,model,price,ram,storage)\n",
    "        self.frontcamer = frontcamer\n",
    "        self.backcamera = backcamera\n",
    "        self.display = display"
   ]
  },
  {
   "cell_type": "code",
   "execution_count": 32,
   "id": "5e6bf3ca-9af8-41e7-ace9-739de0bc855e",
   "metadata": {
    "tags": []
   },
   "outputs": [],
   "source": [
    "p1 = FlashipPhone(\"Samsung\", \"S3\", 60000, 128, 60, \"yes\", \"Yes\", \"Yes\")"
   ]
  },
  {
   "cell_type": "code",
   "execution_count": 33,
   "id": "20456454-394f-46e2-a068-86e8f332c11f",
   "metadata": {
    "tags": []
   },
   "outputs": [
    {
     "data": {
      "text/plain": [
       "'Brand : Samsung, Price : 60000'"
      ]
     },
     "execution_count": 33,
     "metadata": {},
     "output_type": "execute_result"
    }
   ],
   "source": [
    "p1.specs()"
   ]
  },
  {
   "cell_type": "code",
   "execution_count": 34,
   "id": "a138c95e-4619-4b81-a12e-0988a0d96ec0",
   "metadata": {
    "tags": []
   },
   "outputs": [
    {
     "data": {
      "text/plain": [
       "'this is budget phone'"
      ]
     },
     "execution_count": 34,
     "metadata": {},
     "output_type": "execute_result"
    }
   ],
   "source": [
    "p1.typeofphone()"
   ]
  },
  {
   "cell_type": "code",
   "execution_count": null,
   "id": "0a3ad94c-46d7-4d30-a9c2-1af1b66665ad",
   "metadata": {
    "tags": []
   },
   "outputs": [],
   "source": []
  },
  {
   "cell_type": "code",
   "execution_count": null,
   "id": "4ac6b1ef-f30d-40a9-82cb-b4f195c2bf5c",
   "metadata": {},
   "outputs": [],
   "source": []
  },
  {
   "cell_type": "markdown",
   "id": "ac9917bb-ad19-4798-b808-210aa20ad907",
   "metadata": {},
   "source": [
    "HIERARICAL INHERITANCE"
   ]
  },
  {
   "cell_type": "code",
   "execution_count": 45,
   "id": "14f2d4a8-658c-4a42-af8f-b4210dc75ed3",
   "metadata": {},
   "outputs": [],
   "source": [
    "class Vehicle:\n",
    "    def info(self):\n",
    "        print(\"This is Vehicle\")\n",
    "\n",
    "class Car(Vehicle):\n",
    "    def car_info(self, name):\n",
    "        print(f\"Car Name : {name}\")\n",
    "        \n",
    "class Truck(Vehicle):\n",
    "    def truck_info(self, name):\n",
    "        print(f\"Truck Name : {name}\")\n",
    "        \n",
    "              "
   ]
  },
  {
   "cell_type": "code",
   "execution_count": 46,
   "id": "1c9f3935-d46d-4628-b67a-3b117f251eb5",
   "metadata": {},
   "outputs": [],
   "source": [
    "s1 = Car()"
   ]
  },
  {
   "cell_type": "code",
   "execution_count": 54,
   "id": "b7a34c2c-10d1-4462-9700-b178c3dad141",
   "metadata": {},
   "outputs": [
    {
     "name": "stdout",
     "output_type": "stream",
     "text": [
      "Car Name : Nano\n"
     ]
    }
   ],
   "source": [
    "s1.car_info(\"Nano\")"
   ]
  },
  {
   "cell_type": "code",
   "execution_count": 51,
   "id": "f04cbe4c-2ead-404d-bbce-2dc6f46ba078",
   "metadata": {},
   "outputs": [],
   "source": [
    "t1 = Truck()"
   ]
  },
  {
   "cell_type": "code",
   "execution_count": 53,
   "id": "d000e4c4-6af6-4bd9-b696-920d5e7a23ce",
   "metadata": {},
   "outputs": [
    {
     "name": "stdout",
     "output_type": "stream",
     "text": [
      "Truck Name : Bajaj\n"
     ]
    }
   ],
   "source": [
    "t1.truck_info(\"Bajaj\")"
   ]
  },
  {
   "cell_type": "code",
   "execution_count": null,
   "id": "d49419b5-ee9e-4392-9281-140647ef6eff",
   "metadata": {},
   "outputs": [],
   "source": []
  },
  {
   "cell_type": "code",
   "execution_count": null,
   "id": "8f1c3ad6-30c9-4bad-8297-8edd075cabda",
   "metadata": {},
   "outputs": [],
   "source": []
  },
  {
   "cell_type": "markdown",
   "id": "2abe7345-c91d-461c-a9c5-29dd473de6b4",
   "metadata": {},
   "source": [
    "HYBRID INHERITANCE"
   ]
  },
  {
   "cell_type": "code",
   "execution_count": 55,
   "id": "256803b2-6df6-40b0-b986-f872dfe2d422",
   "metadata": {},
   "outputs": [],
   "source": [
    "class Vehicle:\n",
    "    def info(self):\n",
    "        print(\"This is Vehicle\")\n",
    "\n",
    "class Car(Vehicle):\n",
    "    def car_info(self, name):\n",
    "        print(f\"Car Name : {name}\")\n",
    "        \n",
    "class Truck(Vehicle):\n",
    "    def truck_info(self, name):\n",
    "        print(f\"Truck Name : {name}\")\n",
    "        \n",
    "              \n",
    "class Sportscar(Car, Vehicle):\n",
    "    def sportscar(self):\n",
    "        print(\"Inside Sportscar\")"
   ]
  },
  {
   "cell_type": "code",
   "execution_count": 56,
   "id": "13b28ba8-0435-4cb0-8730-264684f789c4",
   "metadata": {},
   "outputs": [],
   "source": [
    "d1 = Sportscar()"
   ]
  },
  {
   "cell_type": "code",
   "execution_count": 57,
   "id": "4a53728b-8388-4281-bb89-16947ff101fe",
   "metadata": {},
   "outputs": [
    {
     "name": "stdout",
     "output_type": "stream",
     "text": [
      "Inside Sportscar\n"
     ]
    }
   ],
   "source": [
    "d1.sportscar()"
   ]
  },
  {
   "cell_type": "code",
   "execution_count": null,
   "id": "98dfcf51-8400-4394-8ff8-8a4fb153ff0e",
   "metadata": {},
   "outputs": [],
   "source": []
  },
  {
   "cell_type": "markdown",
   "id": "18487fe1-a38d-4b3b-ab3e-de369cfb0ca1",
   "metadata": {},
   "source": [
    "SUPER"
   ]
  },
  {
   "cell_type": "raw",
   "id": "68ed6908-d68a-48bd-b125-8efad122d9e3",
   "metadata": {},
   "source": [
    "1. Super() is used when we need to build the classes that extend the functionality of previously build class.\n",
    "2. Super() Function in python is used to access the method of immediate parent class."
   ]
  },
  {
   "cell_type": "code",
   "execution_count": 58,
   "id": "15da8e7d-93e8-4d48-ad50-9fbff2b594ce",
   "metadata": {},
   "outputs": [],
   "source": [
    "class Company():\n",
    "    def company_name(self):\n",
    "        return \"Ineuron\"\n",
    "\n",
    "class Employee(Company):\n",
    "    def info(self):\n",
    "        c_name = super().company_name()\n",
    "        print(\"I worked at\", c_name)"
   ]
  },
  {
   "cell_type": "code",
   "execution_count": 59,
   "id": "40d3500f-d8e7-4eae-acec-b2adc60e200e",
   "metadata": {},
   "outputs": [],
   "source": [
    "emp = Employee()"
   ]
  },
  {
   "cell_type": "code",
   "execution_count": 60,
   "id": "e2738333-a60b-4f0f-80dd-9b04102e40d1",
   "metadata": {},
   "outputs": [
    {
     "data": {
      "text/plain": [
       "'Ineuron'"
      ]
     },
     "execution_count": 60,
     "metadata": {},
     "output_type": "execute_result"
    }
   ],
   "source": [
    "emp.company_name()"
   ]
  },
  {
   "cell_type": "code",
   "execution_count": 61,
   "id": "d725b6e9-4ec3-4e54-a864-6cd6e08444cd",
   "metadata": {},
   "outputs": [
    {
     "name": "stdout",
     "output_type": "stream",
     "text": [
      "I worked at Ineuron\n"
     ]
    }
   ],
   "source": [
    "emp.info()"
   ]
  },
  {
   "cell_type": "raw",
   "id": "6ae7b1f1-8925-4de4-b7e7-3cc68b28d01c",
   "metadata": {},
   "source": [
    "when you initialise a child class in python you can call super().__init__() method this initialise the parent class object into child class."
   ]
  },
  {
   "cell_type": "code",
   "execution_count": 62,
   "id": "96df51a7-e086-425d-b80f-8bb451e2c120",
   "metadata": {},
   "outputs": [],
   "source": [
    "class Parent:\n",
    "    def __init__(self,v1,v2):\n",
    "        self.v1 = v1\n",
    "        self.v2 = v2\n",
    "        \n",
    "class Child(Parent):\n",
    "    def __init__(self,v1,v2,v3):\n",
    "        super().__init__(v1,v2)\n",
    "        self.v3 = v3\n",
    "        "
   ]
  },
  {
   "cell_type": "code",
   "execution_count": 64,
   "id": "af51d258-0433-4988-a3f8-1f41549da00d",
   "metadata": {},
   "outputs": [],
   "source": [
    "c1 = Child(2,3,4)"
   ]
  },
  {
   "cell_type": "code",
   "execution_count": 65,
   "id": "f033681b-3410-4c71-8a50-9d9454b50401",
   "metadata": {},
   "outputs": [
    {
     "data": {
      "text/plain": [
       "2"
      ]
     },
     "execution_count": 65,
     "metadata": {},
     "output_type": "execute_result"
    }
   ],
   "source": [
    "c1.v1"
   ]
  },
  {
   "cell_type": "code",
   "execution_count": null,
   "id": "d6e0f59c-47ae-4543-be07-2d7d7224e15f",
   "metadata": {},
   "outputs": [],
   "source": []
  },
  {
   "cell_type": "raw",
   "id": "3c710262-7eb9-4097-877d-4fc4c72ce3a3",
   "metadata": {},
   "source": [
    "class classname(parentclass):\n",
    "    def method(self, argument):\n",
    "        super([classname],[self]).method(args)"
   ]
  },
  {
   "cell_type": "code",
   "execution_count": 75,
   "id": "54794115-c4f4-42f9-8358-ddd820a36ba0",
   "metadata": {},
   "outputs": [],
   "source": [
    "class Parent:\n",
    "    def __init__(self):\n",
    "        print(\"This is the perent class\")\n",
    "        \n",
    "class Parent1:\n",
    "    def __init__(self):\n",
    "        print(\"This is the perent1 class\")\n",
    "\n",
    "class Parent2:\n",
    "    def __init__(self):\n",
    "        print(\"This is the perent2 class\")\n",
    "        \n",
    "class Child(Parent2, Parent1, Parent):\n",
    "    def __init__(self):\n",
    "        super().__init__()"
   ]
  },
  {
   "cell_type": "code",
   "execution_count": 76,
   "id": "769df306-6ff5-46e5-838d-46d37296466e",
   "metadata": {},
   "outputs": [
    {
     "name": "stdout",
     "output_type": "stream",
     "text": [
      "This is the perent2 class\n"
     ]
    }
   ],
   "source": [
    "t1 = Child()"
   ]
  }
 ],
 "metadata": {
  "kernelspec": {
   "display_name": "Python 3 (ipykernel)",
   "language": "python",
   "name": "python3"
  },
  "language_info": {
   "codemirror_mode": {
    "name": "ipython",
    "version": 3
   },
   "file_extension": ".py",
   "mimetype": "text/x-python",
   "name": "python",
   "nbconvert_exporter": "python",
   "pygments_lexer": "ipython3",
   "version": "3.10.6"
  },
  "toc-showmarkdowntxt": true
 },
 "nbformat": 4,
 "nbformat_minor": 5
}
