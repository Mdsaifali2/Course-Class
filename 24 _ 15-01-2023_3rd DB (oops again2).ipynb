{
 "cells": [
  {
   "cell_type": "code",
   "execution_count": 1,
   "id": "d5ec9b87-fd35-46bd-81ae-8830e4b82151",
   "metadata": {},
   "outputs": [],
   "source": [
    "class test :\n",
    "    def meth1(self):\n",
    "        return \"This is my first method\""
   ]
  },
  {
   "cell_type": "code",
   "execution_count": 2,
   "id": "77d1fd31-6074-459b-8702-f5eb519567a8",
   "metadata": {},
   "outputs": [],
   "source": [
    "a = test()"
   ]
  },
  {
   "cell_type": "code",
   "execution_count": 3,
   "id": "a252e0f2-3b24-4516-96ee-b01302b41664",
   "metadata": {},
   "outputs": [
    {
     "data": {
      "text/plain": [
       "'This is my first method'"
      ]
     },
     "execution_count": 3,
     "metadata": {},
     "output_type": "execute_result"
    }
   ],
   "source": [
    "a.meth1()"
   ]
  },
  {
   "cell_type": "code",
   "execution_count": null,
   "id": "88f27b39-fa1c-4e71-9d6c-8d0a489bddb1",
   "metadata": {},
   "outputs": [],
   "source": []
  },
  {
   "cell_type": "code",
   "execution_count": 5,
   "id": "206e2e1c-d70e-4ee4-9c4e-720902822448",
   "metadata": {},
   "outputs": [
    {
     "data": {
      "text/plain": [
       "'This is my first method'"
      ]
     },
     "execution_count": 5,
     "metadata": {},
     "output_type": "execute_result"
    }
   ],
   "source": [
    "test().meth1()"
   ]
  },
  {
   "cell_type": "markdown",
   "id": "f000b0e1-5286-4da5-a403-338e3e4faebd",
   "metadata": {},
   "source": [
    "STATIC METHOD IN OOPS for using function withou creting object"
   ]
  },
  {
   "cell_type": "code",
   "execution_count": 51,
   "id": "2ea3b824-21ce-406c-acd3-469996fdf3cc",
   "metadata": {},
   "outputs": [],
   "source": [
    "class test1:\n",
    "    @staticmethod\n",
    "    def meth1():\n",
    "        return \"this is a meth you can access creating an object\"\n",
    "    \n",
    "    def meth2(self):\n",
    "        return \"this is a method without static\""
   ]
  },
  {
   "cell_type": "code",
   "execution_count": 41,
   "id": "c45bf5cb-cec4-4bff-94ee-84d1677363f9",
   "metadata": {},
   "outputs": [],
   "source": [
    "b = test1()"
   ]
  },
  {
   "cell_type": "code",
   "execution_count": 42,
   "id": "c5a7b5db-fa1c-4358-996b-462c9931274a",
   "metadata": {},
   "outputs": [
    {
     "data": {
      "text/plain": [
       "'this is a meth you can access creating an object'"
      ]
     },
     "execution_count": 42,
     "metadata": {},
     "output_type": "execute_result"
    }
   ],
   "source": [
    "b.meth1()"
   ]
  },
  {
   "cell_type": "code",
   "execution_count": 43,
   "id": "f35d8997-f27b-47e5-8577-1f402ad4ceb1",
   "metadata": {},
   "outputs": [
    {
     "data": {
      "text/plain": [
       "'this is a method without static'"
      ]
     },
     "execution_count": 43,
     "metadata": {},
     "output_type": "execute_result"
    }
   ],
   "source": [
    "b.meth2()"
   ]
  },
  {
   "cell_type": "code",
   "execution_count": 45,
   "id": "05a87a9f-b187-4a5a-8e69-0267d103e589",
   "metadata": {},
   "outputs": [
    {
     "data": {
      "text/plain": [
       "'this is a meth you can access creating an object'"
      ]
     },
     "execution_count": 45,
     "metadata": {},
     "output_type": "execute_result"
    }
   ],
   "source": [
    "test1().meth1()"
   ]
  },
  {
   "cell_type": "code",
   "execution_count": null,
   "id": "23b89326-d06c-43dd-96cf-ab17f643b2cf",
   "metadata": {},
   "outputs": [],
   "source": []
  },
  {
   "cell_type": "code",
   "execution_count": 46,
   "id": "96402610-a268-4d6e-9524-665d0cc6cb4b",
   "metadata": {},
   "outputs": [],
   "source": [
    "class test2:\n",
    "    def __init__(self, a,b,c):\n",
    "        self.a = a\n",
    "        self.b = b\n",
    "        self.c = c\n",
    "    \n",
    "    def meth1(self) :\n",
    "        return \"this is meth 1\"\n",
    "    def meth2(self, n) :\n",
    "        return n\n",
    "    def meth2(self, m) :\n",
    "        return m"
   ]
  },
  {
   "cell_type": "code",
   "execution_count": 47,
   "id": "15837882-ada1-4a05-a28a-bb08143dfc81",
   "metadata": {},
   "outputs": [],
   "source": [
    "a_test2 = test2(\"sudh\", 34, \"kumar\")"
   ]
  },
  {
   "cell_type": "code",
   "execution_count": 49,
   "id": "82d11005-2261-4410-861e-1bd2c976e627",
   "metadata": {},
   "outputs": [],
   "source": [
    "b_test2 = test2(\"Animesh\", 23, \"saini\")"
   ]
  },
  {
   "cell_type": "code",
   "execution_count": 50,
   "id": "9271114f-6aa1-4ec7-a95e-78ea8c039b2d",
   "metadata": {},
   "outputs": [],
   "source": [
    "c_test2 = test2(\"annu\", 31, \"rana\")"
   ]
  },
  {
   "cell_type": "code",
   "execution_count": null,
   "id": "653579a6-aedd-49c8-8214-dd465ed21c64",
   "metadata": {},
   "outputs": [],
   "source": []
  },
  {
   "cell_type": "code",
   "execution_count": null,
   "id": "d497ad10-c9f8-4d2a-947c-30d59ebe4118",
   "metadata": {},
   "outputs": [],
   "source": []
  },
  {
   "cell_type": "code",
   "execution_count": null,
   "id": "eb555a1e-c4fb-46fc-b66c-794a33cc49a9",
   "metadata": {},
   "outputs": [],
   "source": []
  },
  {
   "cell_type": "markdown",
   "id": "f471a34e-44ce-445b-ae23-40794e664b45",
   "metadata": {},
   "source": [
    "INHERITANCE"
   ]
  },
  {
   "cell_type": "markdown",
   "id": "dec4c34b-2829-4073-bd72-fd2007ec0e60",
   "metadata": {},
   "source": [
    "Multiple Inheritance"
   ]
  },
  {
   "cell_type": "code",
   "execution_count": 59,
   "id": "fc9c7151-7b9d-4145-bea0-fb5416d45e5c",
   "metadata": {},
   "outputs": [],
   "source": [
    "class parent1:\n",
    "    def parent_meth1(self):\n",
    "        return \"This is a parent1 method\"\n",
    "\n",
    "class parent2:\n",
    "    def parent_meth2(self):\n",
    "        return \"This is a parent2 method\"\n",
    "    \n",
    "class parent3:\n",
    "    def parent_meth3(self):\n",
    "        return \"This is a parent3 method\"\n",
    "    \n",
    "class child(parent1, parent2, parent3):\n",
    "    def child_meth(self):\n",
    "        return \"This is my Child\""
   ]
  },
  {
   "cell_type": "code",
   "execution_count": 60,
   "id": "11d509af-22e6-4f9e-8011-b3041a3b76b7",
   "metadata": {},
   "outputs": [],
   "source": [
    "var_child = child()"
   ]
  },
  {
   "cell_type": "code",
   "execution_count": 61,
   "id": "fa224dc9-4cb2-4dca-a6b3-72d00bc869e8",
   "metadata": {},
   "outputs": [
    {
     "data": {
      "text/plain": [
       "'This is a parent1 method'"
      ]
     },
     "execution_count": 61,
     "metadata": {},
     "output_type": "execute_result"
    }
   ],
   "source": [
    "var_child.parent_meth1()"
   ]
  },
  {
   "cell_type": "code",
   "execution_count": 62,
   "id": "d6e6d946-066e-4e0e-b6aa-33b18f11f1cf",
   "metadata": {},
   "outputs": [
    {
     "data": {
      "text/plain": [
       "'This is a parent2 method'"
      ]
     },
     "execution_count": 62,
     "metadata": {},
     "output_type": "execute_result"
    }
   ],
   "source": [
    "var_child.parent_meth2()"
   ]
  },
  {
   "cell_type": "code",
   "execution_count": 64,
   "id": "8fdf406a-8ce7-483f-b599-d372e987cad8",
   "metadata": {},
   "outputs": [
    {
     "data": {
      "text/plain": [
       "'This is a parent3 method'"
      ]
     },
     "execution_count": 64,
     "metadata": {},
     "output_type": "execute_result"
    }
   ],
   "source": [
    "var_child.parent_meth3()"
   ]
  },
  {
   "cell_type": "code",
   "execution_count": 65,
   "id": "2da62008-3d95-45ae-824f-92fed9016182",
   "metadata": {},
   "outputs": [
    {
     "data": {
      "text/plain": [
       "'This is my Child'"
      ]
     },
     "execution_count": 65,
     "metadata": {},
     "output_type": "execute_result"
    }
   ],
   "source": [
    "var_child.child_meth()"
   ]
  },
  {
   "cell_type": "code",
   "execution_count": null,
   "id": "dd2c1d3b-6717-40fb-8556-5da2d14770c6",
   "metadata": {},
   "outputs": [],
   "source": []
  },
  {
   "cell_type": "markdown",
   "id": "2f9bdb96-76ad-40a5-a2f4-472d05958a9a",
   "metadata": {},
   "source": [
    "Multilevel Inheritance"
   ]
  },
  {
   "cell_type": "code",
   "execution_count": 66,
   "id": "72f7c971-7d99-41b5-9081-2285066a4ed7",
   "metadata": {},
   "outputs": [],
   "source": [
    "class class1:\n",
    "    def class1_meth(self):\n",
    "        return \"class1 method\"\n",
    "\n",
    "class class2(class1):\n",
    "    pass\n",
    "    \n",
    "class class3(class2):\n",
    "    def class3_meth(self):\n",
    "        return \"class3 method\"    "
   ]
  },
  {
   "cell_type": "code",
   "execution_count": 67,
   "id": "d23608b4-8deb-4b9a-846c-6176c9aa9076",
   "metadata": {},
   "outputs": [],
   "source": [
    "var_class3 = class3()"
   ]
  },
  {
   "cell_type": "code",
   "execution_count": 68,
   "id": "451ba00a-e597-4150-9a71-a607f5cd6c3d",
   "metadata": {},
   "outputs": [
    {
     "data": {
      "text/plain": [
       "'class1 method'"
      ]
     },
     "execution_count": 68,
     "metadata": {},
     "output_type": "execute_result"
    }
   ],
   "source": [
    "var_class3.class1_meth()"
   ]
  },
  {
   "cell_type": "code",
   "execution_count": null,
   "id": "24b3d21d-df0d-4f4a-bd8f-3fa638f01a56",
   "metadata": {},
   "outputs": [],
   "source": []
  },
  {
   "cell_type": "markdown",
   "id": "91854f67-a4f1-4db5-bb86-e743a5c8fba8",
   "metadata": {},
   "source": [
    "METHOD OVERRIDING"
   ]
  },
  {
   "cell_type": "raw",
   "id": "e50846d7-6d34-4180-8402-61ee23ae2350",
   "metadata": {},
   "source": [
    "method overriding is the process where we have same method in every inherited class or redefining of previous method"
   ]
  },
  {
   "cell_type": "code",
   "execution_count": 69,
   "id": "85fbb327-e769-4f3b-abcc-ed78d909a22a",
   "metadata": {},
   "outputs": [],
   "source": [
    "class test5:\n",
    "    def test(self):\n",
    "        return \"this is my test meth from test 5\"\n",
    "    \n",
    "class test6:\n",
    "    def test(self):\n",
    "        return \"this is my test meth from test 6\"\n",
    "    \n",
    "    \n",
    "class test7(test5):\n",
    "    def test(self):\n",
    "        return \"this is my test meth from test 7\"\n",
    "        \n",
    "        \n"
   ]
  },
  {
   "cell_type": "code",
   "execution_count": 70,
   "id": "b0569f8c-379c-43b5-85ec-77bd1f9f05ce",
   "metadata": {},
   "outputs": [],
   "source": [
    "var_classtest7 = test7()"
   ]
  },
  {
   "cell_type": "code",
   "execution_count": 71,
   "id": "c888a728-fee9-4199-8194-87824b244116",
   "metadata": {},
   "outputs": [
    {
     "data": {
      "text/plain": [
       "'this is my test meth from test 7'"
      ]
     },
     "execution_count": 71,
     "metadata": {},
     "output_type": "execute_result"
    }
   ],
   "source": [
    "var_classtest7.test()"
   ]
  },
  {
   "cell_type": "code",
   "execution_count": null,
   "id": "7e5ccbc5-0fdc-4727-bcea-0d42fd1b11dd",
   "metadata": {},
   "outputs": [],
   "source": []
  },
  {
   "cell_type": "markdown",
   "id": "78916610-b6f1-4843-b9e5-2482e02a35d5",
   "metadata": {},
   "source": [
    "METHOD OVERLOADING"
   ]
  },
  {
   "cell_type": "code",
   "execution_count": 72,
   "id": "225de913-9ec0-493f-bc01-ea25ac0d0af2",
   "metadata": {},
   "outputs": [],
   "source": [
    "class test8:\n",
    "    def test(self, c = 5, b = 4, d = 7):\n",
    "        return c,b,d"
   ]
  },
  {
   "cell_type": "code",
   "execution_count": 73,
   "id": "38ae3fbf-fcaa-4492-a67a-2aeb0ef9bf92",
   "metadata": {},
   "outputs": [],
   "source": [
    "var_test8 = test8()"
   ]
  },
  {
   "cell_type": "code",
   "execution_count": 74,
   "id": "794d8a4f-adad-4da3-8b01-ed4e3a34748f",
   "metadata": {},
   "outputs": [
    {
     "data": {
      "text/plain": [
       "(5, 4, 7)"
      ]
     },
     "execution_count": 74,
     "metadata": {},
     "output_type": "execute_result"
    }
   ],
   "source": [
    "var_test8.test()"
   ]
  },
  {
   "cell_type": "code",
   "execution_count": 75,
   "id": "a1c880a5-c4f2-45a2-9f0f-ecc55c0d37c0",
   "metadata": {},
   "outputs": [
    {
     "data": {
      "text/plain": [
       "('sudh', 4, 7)"
      ]
     },
     "execution_count": 75,
     "metadata": {},
     "output_type": "execute_result"
    }
   ],
   "source": [
    "var_test8.test(\"sudh\")"
   ]
  },
  {
   "cell_type": "code",
   "execution_count": 76,
   "id": "34c50f5c-a2ce-4216-9e7e-2c9fc76418e2",
   "metadata": {},
   "outputs": [
    {
     "data": {
      "text/plain": [
       "('sudh', 'kumar', 7)"
      ]
     },
     "execution_count": 76,
     "metadata": {},
     "output_type": "execute_result"
    }
   ],
   "source": [
    "var_test8.test(\"sudh\", \"kumar\")"
   ]
  },
  {
   "cell_type": "code",
   "execution_count": 77,
   "id": "fcd498d9-e015-4365-ba61-64510ad51aa7",
   "metadata": {},
   "outputs": [
    {
     "data": {
      "text/plain": [
       "('sudh', 'kumar', 'iNeuron')"
      ]
     },
     "execution_count": 77,
     "metadata": {},
     "output_type": "execute_result"
    }
   ],
   "source": [
    "var_test8.test(\"sudh\", \"kumar\", \"iNeuron\")"
   ]
  },
  {
   "cell_type": "raw",
   "id": "21a44ebe-57ed-4ba2-8f42-0f597a447daa",
   "metadata": {},
   "source": [
    "-  Overloading is a situation where number of arfument and data type will be different\n",
    "-  overriding is a situation where signture of the function means name and parameter will same we will just change the def of the function"
   ]
  },
  {
   "cell_type": "code",
   "execution_count": null,
   "id": "ebb4cc22-4a3a-46d0-a160-a8917405b3ca",
   "metadata": {},
   "outputs": [],
   "source": []
  },
  {
   "cell_type": "markdown",
   "id": "680a8552-9767-4ab6-8556-d53f8601bfdb",
   "metadata": {},
   "source": [
    "POLYMORPHISM"
   ]
  },
  {
   "cell_type": "code",
   "execution_count": 79,
   "id": "7d9ed78c-feb2-4a4c-8124-73041e922a9f",
   "metadata": {},
   "outputs": [],
   "source": [
    "def test(a,b):\n",
    "    return a+b"
   ]
  },
  {
   "cell_type": "code",
   "execution_count": 80,
   "id": "c1211d7b-6992-40de-b73a-945d03ad5eb7",
   "metadata": {},
   "outputs": [
    {
     "data": {
      "text/plain": [
       "7"
      ]
     },
     "execution_count": 80,
     "metadata": {},
     "output_type": "execute_result"
    }
   ],
   "source": [
    "test(3,4)"
   ]
  },
  {
   "cell_type": "code",
   "execution_count": 82,
   "id": "3e52821b-a390-47b5-89c6-d7f766f8d5ad",
   "metadata": {},
   "outputs": [
    {
     "data": {
      "text/plain": [
       "'sudh kumar'"
      ]
     },
     "execution_count": 82,
     "metadata": {},
     "output_type": "execute_result"
    }
   ],
   "source": [
    "test(\"sudh \", \"kumar\")"
   ]
  },
  {
   "cell_type": "code",
   "execution_count": null,
   "id": "dc492f55-b11f-4fbb-9109-5bd60f865622",
   "metadata": {},
   "outputs": [],
   "source": []
  },
  {
   "cell_type": "code",
   "execution_count": 87,
   "id": "7a4f8bc4-7c37-42ba-8230-2c6cdce692f0",
   "metadata": {},
   "outputs": [],
   "source": [
    "class test1 :\n",
    "    def test(self):\n",
    "        return \"This is my method from test 1\"\n",
    "class test2 :\n",
    "    def test(self):\n",
    "        return \"This is my method from test 2\"\n",
    "class test3 :\n",
    "    def test(self):\n",
    "        return \"This is my method from test 3\""
   ]
  },
  {
   "cell_type": "code",
   "execution_count": 88,
   "id": "92946c95-872b-4b33-86e9-d11594a32439",
   "metadata": {},
   "outputs": [],
   "source": [
    "var_classs = [test1(), test2(), test3()]"
   ]
  },
  {
   "cell_type": "code",
   "execution_count": 89,
   "id": "8e55136d-01db-476b-a074-d28c7b4b268a",
   "metadata": {},
   "outputs": [
    {
     "name": "stdout",
     "output_type": "stream",
     "text": [
      "This is my method from test 1\n",
      "This is my method from test 2\n",
      "This is my method from test 3\n"
     ]
    }
   ],
   "source": [
    "for i in var_classs:\n",
    "    print(i.test())"
   ]
  },
  {
   "cell_type": "code",
   "execution_count": null,
   "id": "8de9749b-dda9-4fe5-84dc-1ee3025fe286",
   "metadata": {},
   "outputs": [],
   "source": []
  },
  {
   "cell_type": "code",
   "execution_count": null,
   "id": "576b31f5-ca4c-4298-974d-80f5186cd241",
   "metadata": {},
   "outputs": [],
   "source": []
  },
  {
   "cell_type": "markdown",
   "id": "4baccc14-a7f3-4314-9199-1c3f464b300d",
   "metadata": {},
   "source": [
    "Q1 : create a file class for reading a data from one of the file with a method name readand write\n",
    "\n",
    "NOTE : Use Logging and exception handling"
   ]
  },
  {
   "cell_type": "code",
   "execution_count": 97,
   "id": "cbe8dd8d-8aba-471f-858c-97dc8f6c41e0",
   "metadata": {},
   "outputs": [],
   "source": [
    "def read():\n",
    "    try:\n",
    "        with open(\"tessdst.txt\", \"r\") as file:\n",
    "            data = file.read()\n",
    "            return data\n",
    "    except FileNotFoundError as e:\n",
    "        print(e)"
   ]
  },
  {
   "cell_type": "code",
   "execution_count": 106,
   "id": "38a99079-17e1-4ef0-9c1e-8d6bbfa1e56a",
   "metadata": {},
   "outputs": [],
   "source": [
    "def write():\n",
    "    with open('test.txt' , 'w') as file :\n",
    "        data = file.write(\"this is my data for file\")"
   ]
  },
  {
   "cell_type": "code",
   "execution_count": 107,
   "id": "5157841e-1709-4dfb-aa4d-9498673771d5",
   "metadata": {},
   "outputs": [],
   "source": []
  },
  {
   "cell_type": "code",
   "execution_count": null,
   "id": "425141ba-d9df-4f31-9cc2-2d1a8457889f",
   "metadata": {},
   "outputs": [],
   "source": []
  },
  {
   "cell_type": "code",
   "execution_count": 148,
   "id": "d524d387-9f2b-4530-ac45-47425c541d09",
   "metadata": {},
   "outputs": [],
   "source": [
    "#Solution\n",
    "import logging\n",
    "\n",
    "logging.basicConfig(filename=\"file_class.log\", level = logging.DEBUG,\n",
    "                    filemode = \"w\", format = \"%(asctime)s %(levelname)s %(message)s\")\n",
    "\n",
    "                    \n",
    "class file:\n",
    "    def __init__(self, filename):\n",
    "        self.filename = filename\n",
    "    \n",
    "    def read(self):\n",
    "        logging.info(\"This is a start of read operattion\")\n",
    "        \n",
    "        try:\n",
    "            logging.info(\"I am inside try Block of read methos\")                    \n",
    "                    \n",
    "            with open(self.filename, \"r\") as file:\n",
    "                data = file.read()\n",
    "                logging.info(\"I am able to read the file\")\n",
    "                    \n",
    "                return data\n",
    "        except FileNotFoundError as e:\n",
    "            # print(e)\n",
    "            logging.error(\"There is some issue with the read file operation\")\n",
    "            logging.error(e)                \n",
    "            \n",
    "                                \n",
    "    def write(self, data1):\n",
    "        \n",
    "        try:\n",
    "            logging.info(\"i am inside a try to write function\")\n",
    "            with open(self.filename , 'a') as file :\n",
    "                data = file.write(data1)\n",
    "            logging.info(\"i am able yo write a data into file successfully\")\n",
    "                \n",
    "        except Exception as e:\n",
    "            # print(e)\n",
    "            logging.error(\"There is an isue with write operation\")\n",
    "            logging.error(e)"
   ]
  },
  {
   "cell_type": "code",
   "execution_count": 149,
   "id": "4c1346f8-a705-4806-ac16-029394909953",
   "metadata": {},
   "outputs": [],
   "source": [
    "file_obj = file(\"15 jan.txt\")"
   ]
  },
  {
   "cell_type": "code",
   "execution_count": 150,
   "id": "c34bf56c-bf64-4bb9-80b0-7ef0c72ebad5",
   "metadata": {},
   "outputs": [
    {
     "data": {
      "text/plain": [
       "'this is my data to be writtenthis is my data to be written'"
      ]
     },
     "execution_count": 150,
     "metadata": {},
     "output_type": "execute_result"
    }
   ],
   "source": [
    "file_obj.read()"
   ]
  },
  {
   "cell_type": "code",
   "execution_count": 147,
   "id": "e9c2ed31-d0f6-44f3-9250-8b5d0fc73b37",
   "metadata": {},
   "outputs": [],
   "source": [
    "file_obj.write(\"this is my data to be written\")"
   ]
  },
  {
   "cell_type": "code",
   "execution_count": 151,
   "id": "db68bd3c-26c6-4063-a787-4dc59030b5e2",
   "metadata": {},
   "outputs": [
    {
     "data": {
      "text/plain": [
       "'this is my data to be writtenthis is my data to be written'"
      ]
     },
     "execution_count": 151,
     "metadata": {},
     "output_type": "execute_result"
    }
   ],
   "source": [
    "file_obj.read()"
   ]
  },
  {
   "cell_type": "code",
   "execution_count": null,
   "id": "d0119cf9-471a-49c7-9570-81045fba171b",
   "metadata": {},
   "outputs": [],
   "source": []
  },
  {
   "cell_type": "code",
   "execution_count": null,
   "id": "8afd02c0-39de-4cd0-9b7f-3f48b24e7b57",
   "metadata": {},
   "outputs": [],
   "source": [
    "ls"
   ]
  },
  {
   "cell_type": "code",
   "execution_count": 155,
   "id": "fc7b6d36-58e8-4b4d-81dc-b8f3b6287fde",
   "metadata": {},
   "outputs": [
    {
     "data": {
      "text/plain": [
       "'/home/jovyan/work'"
      ]
     },
     "execution_count": 155,
     "metadata": {},
     "output_type": "execute_result"
    }
   ],
   "source": [
    "import os \n",
    "os.getcwd()"
   ]
  },
  {
   "cell_type": "code",
   "execution_count": null,
   "id": "e89e1376-e82b-4540-84f5-014f824aad23",
   "metadata": {},
   "outputs": [],
   "source": []
  }
 ],
 "metadata": {
  "kernelspec": {
   "display_name": "Python 3 (ipykernel)",
   "language": "python",
   "name": "python3"
  },
  "language_info": {
   "codemirror_mode": {
    "name": "ipython",
    "version": 3
   },
   "file_extension": ".py",
   "mimetype": "text/x-python",
   "name": "python",
   "nbconvert_exporter": "python",
   "pygments_lexer": "ipython3",
   "version": "3.10.6"
  }
 },
 "nbformat": 4,
 "nbformat_minor": 5
}
