{
 "cells": [
  {
   "cell_type": "code",
   "execution_count": 4,
   "id": "18556558-44e6-4d30-9d5e-d7bd6bedad1c",
   "metadata": {},
   "outputs": [],
   "source": [
    "import numpy as np"
   ]
  },
  {
   "cell_type": "code",
   "execution_count": 5,
   "id": "2e9e99f8-806e-4be4-a41b-0d613c82e584",
   "metadata": {},
   "outputs": [],
   "source": [
    "l = [1,2,3,4,4]"
   ]
  },
  {
   "cell_type": "code",
   "execution_count": 6,
   "id": "cf4b855e-62a8-419d-a4b1-175822e24196",
   "metadata": {},
   "outputs": [
    {
     "data": {
      "text/plain": [
       "list"
      ]
     },
     "execution_count": 6,
     "metadata": {},
     "output_type": "execute_result"
    }
   ],
   "source": [
    "type(l)"
   ]
  },
  {
   "cell_type": "markdown",
   "id": "469ad9d6-79ad-48ce-9328-215eb317c064",
   "metadata": {},
   "source": [
    "using numpy"
   ]
  },
  {
   "cell_type": "code",
   "execution_count": 7,
   "id": "e516b73d-a864-4857-8ef7-1aacd3eaee8a",
   "metadata": {},
   "outputs": [],
   "source": [
    "a = np.array(l)"
   ]
  },
  {
   "cell_type": "code",
   "execution_count": 8,
   "id": "c3b015ab-522e-4ef3-89ed-4c7126414925",
   "metadata": {},
   "outputs": [
    {
     "data": {
      "text/plain": [
       "numpy.ndarray"
      ]
     },
     "execution_count": 8,
     "metadata": {},
     "output_type": "execute_result"
    }
   ],
   "source": [
    "type(a)"
   ]
  },
  {
   "cell_type": "code",
   "execution_count": 9,
   "id": "5760089d-8807-46a5-8d8c-a81aa1eaeffb",
   "metadata": {},
   "outputs": [
    {
     "data": {
      "text/plain": [
       "array([1, 2, 3, 4, 4])"
      ]
     },
     "execution_count": 9,
     "metadata": {},
     "output_type": "execute_result"
    }
   ],
   "source": [
    "a"
   ]
  },
  {
   "cell_type": "code",
   "execution_count": 10,
   "id": "8912efdf-2d8a-4757-8eb3-4d46aceb6063",
   "metadata": {},
   "outputs": [],
   "source": [
    "a1 = np.array([[1,2,3],[4,5,6]])"
   ]
  },
  {
   "cell_type": "code",
   "execution_count": 11,
   "id": "618b4331-6318-4f87-9425-2ba7d86eee92",
   "metadata": {},
   "outputs": [
    {
     "data": {
      "text/plain": [
       "array([[1, 2, 3],\n",
       "       [4, 5, 6]])"
      ]
     },
     "execution_count": 11,
     "metadata": {},
     "output_type": "execute_result"
    }
   ],
   "source": [
    "a1"
   ]
  },
  {
   "cell_type": "code",
   "execution_count": 12,
   "id": "277d5dd2-7f88-40b0-8e77-72e4d1a50e34",
   "metadata": {},
   "outputs": [],
   "source": [
    "a2 = np.array([[[1,2,3], [4,0.5,6] ]])"
   ]
  },
  {
   "cell_type": "code",
   "execution_count": 13,
   "id": "7e74399c-cdd1-4e4a-a012-de3c29583604",
   "metadata": {},
   "outputs": [
    {
     "data": {
      "text/plain": [
       "array([[[1. , 2. , 3. ],\n",
       "        [4. , 0.5, 6. ]]])"
      ]
     },
     "execution_count": 13,
     "metadata": {},
     "output_type": "execute_result"
    }
   ],
   "source": [
    "a2"
   ]
  },
  {
   "cell_type": "code",
   "execution_count": null,
   "id": "6bd32bfa-6d50-4447-ade4-390c5c04613a",
   "metadata": {},
   "outputs": [],
   "source": []
  },
  {
   "cell_type": "code",
   "execution_count": 14,
   "id": "6b308edc-75df-43f8-b06f-48760460b0ed",
   "metadata": {},
   "outputs": [
    {
     "data": {
      "text/plain": [
       "array([1, 2, 3, 4, 4])"
      ]
     },
     "execution_count": 14,
     "metadata": {},
     "output_type": "execute_result"
    }
   ],
   "source": [
    "a"
   ]
  },
  {
   "cell_type": "code",
   "execution_count": 15,
   "id": "08ba3bd2-3eff-447d-8546-f85c8a723b5a",
   "metadata": {},
   "outputs": [
    {
     "data": {
      "text/plain": [
       "array([[1, 2, 3],\n",
       "       [4, 5, 6]])"
      ]
     },
     "execution_count": 15,
     "metadata": {},
     "output_type": "execute_result"
    }
   ],
   "source": [
    "a1"
   ]
  },
  {
   "cell_type": "code",
   "execution_count": 16,
   "id": "03aed759-0554-44a7-8edb-d054563ba765",
   "metadata": {},
   "outputs": [
    {
     "data": {
      "text/plain": [
       "array([[[1. , 2. , 3. ],\n",
       "        [4. , 0.5, 6. ]]])"
      ]
     },
     "execution_count": 16,
     "metadata": {},
     "output_type": "execute_result"
    }
   ],
   "source": [
    "a2"
   ]
  },
  {
   "cell_type": "markdown",
   "id": "9a3f0495-e8be-4d24-896e-38f50d2cb68f",
   "metadata": {},
   "source": [
    "To check which dimension"
   ]
  },
  {
   "cell_type": "code",
   "execution_count": 17,
   "id": "55dbf47b-e159-4612-9c41-dcf5f7b86a42",
   "metadata": {},
   "outputs": [
    {
     "data": {
      "text/plain": [
       "1"
      ]
     },
     "execution_count": 17,
     "metadata": {},
     "output_type": "execute_result"
    }
   ],
   "source": [
    "a.ndim"
   ]
  },
  {
   "cell_type": "code",
   "execution_count": 18,
   "id": "8fdab50b-bee0-40fb-9ffe-a59d6d7e19b7",
   "metadata": {},
   "outputs": [
    {
     "data": {
      "text/plain": [
       "2"
      ]
     },
     "execution_count": 18,
     "metadata": {},
     "output_type": "execute_result"
    }
   ],
   "source": [
    "a1.ndim"
   ]
  },
  {
   "cell_type": "code",
   "execution_count": 19,
   "id": "395dbf56-f9ae-45b4-a012-a20d9d553b7d",
   "metadata": {},
   "outputs": [
    {
     "data": {
      "text/plain": [
       "3"
      ]
     },
     "execution_count": 19,
     "metadata": {},
     "output_type": "execute_result"
    }
   ],
   "source": [
    "a2.ndim"
   ]
  },
  {
   "cell_type": "code",
   "execution_count": 20,
   "id": "f77753d6-7a5e-4b09-9b72-eac5446b9d19",
   "metadata": {},
   "outputs": [],
   "source": [
    "a3 = np.array([[[1,2,3], [4,0.5,6]], [[1,2,3], [4,.5,6]], [[1,2,3], [4,.5,6]]])"
   ]
  },
  {
   "cell_type": "code",
   "execution_count": 21,
   "id": "4b682454-060e-47b8-9ec0-2895ded2497d",
   "metadata": {},
   "outputs": [
    {
     "data": {
      "text/plain": [
       "array([[[1. , 2. , 3. ],\n",
       "        [4. , 0.5, 6. ]],\n",
       "\n",
       "       [[1. , 2. , 3. ],\n",
       "        [4. , 0.5, 6. ]],\n",
       "\n",
       "       [[1. , 2. , 3. ],\n",
       "        [4. , 0.5, 6. ]]])"
      ]
     },
     "execution_count": 21,
     "metadata": {},
     "output_type": "execute_result"
    }
   ],
   "source": [
    "a3"
   ]
  },
  {
   "cell_type": "code",
   "execution_count": 22,
   "id": "ee17d991-8949-40ac-9500-eb27fadb33d2",
   "metadata": {},
   "outputs": [
    {
     "data": {
      "text/plain": [
       "3"
      ]
     },
     "execution_count": 22,
     "metadata": {},
     "output_type": "execute_result"
    }
   ],
   "source": [
    "a3.ndim"
   ]
  },
  {
   "cell_type": "markdown",
   "id": "ced3b3eb-d0c4-43b9-a2f1-2ee4cce186ea",
   "metadata": {},
   "source": [
    "Asarray function : "
   ]
  },
  {
   "cell_type": "code",
   "execution_count": 23,
   "id": "a17dc436-4359-4c07-8152-1e0663434fd9",
   "metadata": {},
   "outputs": [],
   "source": [
    "l = [1,2,3,4]"
   ]
  },
  {
   "cell_type": "code",
   "execution_count": 28,
   "id": "354f21fa-2192-4b11-91b8-4670d5f4e955",
   "metadata": {},
   "outputs": [],
   "source": [
    "a = np.asarray(l)"
   ]
  },
  {
   "cell_type": "code",
   "execution_count": 27,
   "id": "f0f29dbe-cf01-42df-83ce-f1161fb43050",
   "metadata": {},
   "outputs": [],
   "source": [
    "m = np.matrix(l)"
   ]
  },
  {
   "cell_type": "code",
   "execution_count": 31,
   "id": "0224e1ac-3d8e-49c2-96b5-274cf70d863a",
   "metadata": {},
   "outputs": [
    {
     "data": {
      "text/plain": [
       "array([1, 2, 3, 4])"
      ]
     },
     "execution_count": 31,
     "metadata": {},
     "output_type": "execute_result"
    }
   ],
   "source": [
    "np.asanyarray(l)"
   ]
  },
  {
   "cell_type": "code",
   "execution_count": 29,
   "id": "e4bfa9b6-5cfb-43c1-99fb-dc151ae056e4",
   "metadata": {},
   "outputs": [
    {
     "data": {
      "text/plain": [
       "array([1, 2, 3, 4])"
      ]
     },
     "execution_count": 29,
     "metadata": {},
     "output_type": "execute_result"
    }
   ],
   "source": [
    "np.asanyarray(a)"
   ]
  },
  {
   "cell_type": "code",
   "execution_count": 30,
   "id": "5f1c1028-bf73-44ca-ab67-f85c5ecbb2e8",
   "metadata": {},
   "outputs": [
    {
     "data": {
      "text/plain": [
       "matrix([[1, 2, 3, 4]])"
      ]
     },
     "execution_count": 30,
     "metadata": {},
     "output_type": "execute_result"
    }
   ],
   "source": [
    "np.asanyarray(m)"
   ]
  },
  {
   "cell_type": "markdown",
   "id": "047695bf-9932-4c02-9975-ef1ff08e11dd",
   "metadata": {},
   "source": [
    "Deepcopy and swallow copy"
   ]
  },
  {
   "cell_type": "code",
   "execution_count": 32,
   "id": "7b369723-fbbe-45e1-b5ca-8b867537b8c4",
   "metadata": {},
   "outputs": [
    {
     "data": {
      "text/plain": [
       "array([1, 2, 3, 4])"
      ]
     },
     "execution_count": 32,
     "metadata": {},
     "output_type": "execute_result"
    }
   ],
   "source": [
    "a"
   ]
  },
  {
   "cell_type": "code",
   "execution_count": 33,
   "id": "c7190811-356a-4450-8b81-a1088ae9edd4",
   "metadata": {},
   "outputs": [],
   "source": [
    "a1 = a"
   ]
  },
  {
   "cell_type": "code",
   "execution_count": 34,
   "id": "e2202e8b-0454-4952-949d-02daf8d2dd2c",
   "metadata": {},
   "outputs": [
    {
     "data": {
      "text/plain": [
       "array([1, 2, 3, 4])"
      ]
     },
     "execution_count": 34,
     "metadata": {},
     "output_type": "execute_result"
    }
   ],
   "source": [
    "a1"
   ]
  },
  {
   "cell_type": "code",
   "execution_count": 35,
   "id": "3749b328-235f-4082-9f34-7fcb23647f5a",
   "metadata": {},
   "outputs": [
    {
     "data": {
      "text/plain": [
       "array([1, 2, 3, 4])"
      ]
     },
     "execution_count": 35,
     "metadata": {},
     "output_type": "execute_result"
    }
   ],
   "source": [
    "a"
   ]
  },
  {
   "cell_type": "code",
   "execution_count": 37,
   "id": "64fc4b23-079a-4e96-98e0-fc1b8ce800b5",
   "metadata": {},
   "outputs": [
    {
     "data": {
      "text/plain": [
       "1"
      ]
     },
     "execution_count": 37,
     "metadata": {},
     "output_type": "execute_result"
    }
   ],
   "source": [
    "a[0]"
   ]
  },
  {
   "cell_type": "code",
   "execution_count": 38,
   "id": "43365279-a7ca-4105-9ade-f2bc000fc872",
   "metadata": {},
   "outputs": [],
   "source": [
    "a[0] = 10"
   ]
  },
  {
   "cell_type": "code",
   "execution_count": 39,
   "id": "4fe43726-34de-4087-8ed2-ba675f6c2aca",
   "metadata": {},
   "outputs": [
    {
     "data": {
      "text/plain": [
       "array([10,  2,  3,  4])"
      ]
     },
     "execution_count": 39,
     "metadata": {},
     "output_type": "execute_result"
    }
   ],
   "source": [
    "a"
   ]
  },
  {
   "cell_type": "code",
   "execution_count": 40,
   "id": "5bf2a6f4-82d8-4d61-9b5e-74dc63254ee0",
   "metadata": {},
   "outputs": [
    {
     "data": {
      "text/plain": [
       "array([10,  2,  3,  4])"
      ]
     },
     "execution_count": 40,
     "metadata": {},
     "output_type": "execute_result"
    }
   ],
   "source": [
    "a1"
   ]
  },
  {
   "cell_type": "code",
   "execution_count": 41,
   "id": "21288072-386b-4307-be94-af90945cdaa4",
   "metadata": {},
   "outputs": [
    {
     "data": {
      "text/plain": [
       "4"
      ]
     },
     "execution_count": 41,
     "metadata": {},
     "output_type": "execute_result"
    }
   ],
   "source": [
    "a1[3]"
   ]
  },
  {
   "cell_type": "code",
   "execution_count": 42,
   "id": "2c6d41d0-fde0-473d-9a9d-9738936a46ad",
   "metadata": {},
   "outputs": [],
   "source": [
    "a1[3] = 50"
   ]
  },
  {
   "cell_type": "code",
   "execution_count": 43,
   "id": "be01ef94-685d-44e3-9814-0cc9c3ff26c4",
   "metadata": {},
   "outputs": [
    {
     "data": {
      "text/plain": [
       "array([10,  2,  3, 50])"
      ]
     },
     "execution_count": 43,
     "metadata": {},
     "output_type": "execute_result"
    }
   ],
   "source": [
    "a1"
   ]
  },
  {
   "cell_type": "code",
   "execution_count": 44,
   "id": "4a9c1ade-cc2f-4a46-92bd-a5885825e57f",
   "metadata": {},
   "outputs": [
    {
     "data": {
      "text/plain": [
       "array([10,  2,  3, 50])"
      ]
     },
     "execution_count": 44,
     "metadata": {},
     "output_type": "execute_result"
    }
   ],
   "source": [
    "a"
   ]
  },
  {
   "cell_type": "code",
   "execution_count": 52,
   "id": "2abcab07-1814-42b9-ab01-9361b9d8d97b",
   "metadata": {},
   "outputs": [],
   "source": [
    "a2 = np.copy(a) #this is real function to copy the data and is deep copy and above copy function is swallow copy and is affect on copied data also."
   ]
  },
  {
   "cell_type": "code",
   "execution_count": 46,
   "id": "80c7bc06-cd06-41be-a07f-031fd13fff34",
   "metadata": {},
   "outputs": [
    {
     "data": {
      "text/plain": [
       "array([10,  2,  3, 50])"
      ]
     },
     "execution_count": 46,
     "metadata": {},
     "output_type": "execute_result"
    }
   ],
   "source": [
    "a2"
   ]
  },
  {
   "cell_type": "code",
   "execution_count": 47,
   "id": "5fc672f0-d145-4b29-8e42-32dbe07e8159",
   "metadata": {},
   "outputs": [
    {
     "data": {
      "text/plain": [
       "3"
      ]
     },
     "execution_count": 47,
     "metadata": {},
     "output_type": "execute_result"
    }
   ],
   "source": [
    "a2[2]"
   ]
  },
  {
   "cell_type": "code",
   "execution_count": 48,
   "id": "51b65205-2a46-44d2-b134-a5439647ddb5",
   "metadata": {},
   "outputs": [],
   "source": [
    "a2[2] = 30"
   ]
  },
  {
   "cell_type": "code",
   "execution_count": 49,
   "id": "fbf7875c-bf7e-448d-86d0-1b89bd195f2e",
   "metadata": {},
   "outputs": [
    {
     "data": {
      "text/plain": [
       "array([10,  2, 30, 50])"
      ]
     },
     "execution_count": 49,
     "metadata": {},
     "output_type": "execute_result"
    }
   ],
   "source": [
    "a2"
   ]
  },
  {
   "cell_type": "code",
   "execution_count": 50,
   "id": "0ccc528a-47f0-4d26-a829-80943c77fcc8",
   "metadata": {},
   "outputs": [
    {
     "data": {
      "text/plain": [
       "array([10,  2,  3, 50])"
      ]
     },
     "execution_count": 50,
     "metadata": {},
     "output_type": "execute_result"
    }
   ],
   "source": [
    "a"
   ]
  },
  {
   "cell_type": "markdown",
   "id": "47eee24b-14ee-4871-8438-2b4e6ab17d62",
   "metadata": {},
   "source": [
    "from function"
   ]
  },
  {
   "cell_type": "code",
   "execution_count": 55,
   "id": "7d052f8a-ae81-423b-997f-fb9432023eaa",
   "metadata": {},
   "outputs": [
    {
     "data": {
      "text/plain": [
       "array([[ True, False, False, False],\n",
       "       [False,  True, False, False],\n",
       "       [False, False,  True, False]])"
      ]
     },
     "execution_count": 55,
     "metadata": {},
     "output_type": "execute_result"
    }
   ],
   "source": [
    "np.fromfunction(lambda i,j : i == j, (3,4))\n",
    "#this will create 2d data with three rows and four columns where it matches with its index and give data to it"
   ]
  },
  {
   "cell_type": "code",
   "execution_count": null,
   "id": "bf64cd3e-c051-466f-8b58-d80281f078ab",
   "metadata": {},
   "outputs": [],
   "source": []
  },
  {
   "cell_type": "markdown",
   "id": "df4b789d-3ecd-4dfe-bc72-33ed71a5c67a",
   "metadata": {},
   "source": [
    "random function"
   ]
  },
  {
   "cell_type": "code",
   "execution_count": 56,
   "id": "115d0459-99dc-4f07-a192-925101fbb48d",
   "metadata": {},
   "outputs": [
    {
     "data": {
      "text/plain": [
       "array([[0.51695142, 0.27619042, 0.954323  ],\n",
       "       [0.37959226, 0.59208648, 0.34925291]])"
      ]
     },
     "execution_count": 56,
     "metadata": {},
     "output_type": "execute_result"
    }
   ],
   "source": [
    "np.random.rand(2,3) #this create 2d array"
   ]
  },
  {
   "cell_type": "code",
   "execution_count": 57,
   "id": "f12f9b42-c10d-4ee1-92a5-f1e46117ae8b",
   "metadata": {},
   "outputs": [
    {
     "data": {
      "text/plain": [
       "array([[[0.99689773, 0.06196885],\n",
       "        [0.75615292, 0.1323266 ],\n",
       "        [0.06080173, 0.61820996]],\n",
       "\n",
       "       [[0.99093516, 0.40951235],\n",
       "        [0.79671951, 0.87529999],\n",
       "        [0.93132549, 0.18966682]]])"
      ]
     },
     "execution_count": 57,
     "metadata": {},
     "output_type": "execute_result"
    }
   ],
   "source": [
    "np.random.rand(2,3,2)#this create 3d array"
   ]
  },
  {
   "cell_type": "code",
   "execution_count": 59,
   "id": "3bf02ec2-8797-4f3f-828e-7d897ae1dbf7",
   "metadata": {},
   "outputs": [
    {
     "data": {
      "text/plain": [
       "array([[[[0.0044352 , 0.92120882],\n",
       "         [0.10499654, 0.2111645 ]],\n",
       "\n",
       "        [[0.28671146, 0.02214296],\n",
       "         [0.11233295, 0.80818966]],\n",
       "\n",
       "        [[0.38513794, 0.70838279],\n",
       "         [0.69773886, 0.04737677]]],\n",
       "\n",
       "\n",
       "       [[[0.32045115, 0.4224995 ],\n",
       "         [0.14555265, 0.19563576]],\n",
       "\n",
       "        [[0.22828271, 0.86026844],\n",
       "         [0.07823272, 0.35563609]],\n",
       "\n",
       "        [[0.36828759, 0.03120845],\n",
       "         [0.94830921, 0.60805368]]]])"
      ]
     },
     "execution_count": 59,
     "metadata": {},
     "output_type": "execute_result"
    }
   ],
   "source": [
    "np.random.rand(2,3,2,2)"
   ]
  },
  {
   "cell_type": "code",
   "execution_count": 60,
   "id": "fd562ee6-fff4-4b71-8fa7-37c8c8f6d82a",
   "metadata": {},
   "outputs": [
    {
     "data": {
      "text/plain": [
       "array([[[0.02194553, 0.95384745, 0.17156029, 0.50736564],\n",
       "        [0.84564004, 0.98561757, 0.29957527, 0.91823122],\n",
       "        [0.37094457, 0.52780218, 0.84978808, 0.06470144],\n",
       "        [0.95615698, 0.5159642 , 0.60308152, 0.10471339]]])"
      ]
     },
     "execution_count": 60,
     "metadata": {},
     "output_type": "execute_result"
    }
   ],
   "source": [
    "np.random.rand(1,4,4) #this generage 4 rows and 4 columns of 1 arraye"
   ]
  },
  {
   "cell_type": "code",
   "execution_count": 61,
   "id": "d3eb75f3-e660-447f-a23b-12e00c3fec5e",
   "metadata": {},
   "outputs": [
    {
     "data": {
      "text/plain": [
       "array([[[0.20156052, 0.91919933, 0.45969174, 0.91689054],\n",
       "        [0.8844456 , 0.48805916, 0.87927865, 0.7892822 ],\n",
       "        [0.31337436, 0.02787643, 0.57534921, 0.29173213],\n",
       "        [0.37256295, 0.70587097, 0.69891824, 0.75277632]],\n",
       "\n",
       "       [[0.14360901, 0.38731682, 0.08781946, 0.23222747],\n",
       "        [0.24150101, 0.72135848, 0.3848286 , 0.17514502],\n",
       "        [0.92569079, 0.68635549, 0.20320189, 0.53310727],\n",
       "        [0.31820198, 0.81722795, 0.58343144, 0.62814958]]])"
      ]
     },
     "execution_count": 61,
     "metadata": {},
     "output_type": "execute_result"
    }
   ],
   "source": [
    "np.random.rand(2,4,4) #this generage 4 rows and 4 columns of 2 arraye"
   ]
  },
  {
   "cell_type": "code",
   "execution_count": 62,
   "id": "c5c9c5d6-ea0c-42d9-a26d-8f813d606d88",
   "metadata": {},
   "outputs": [
    {
     "data": {
      "text/plain": [
       "array([[[0.06597137, 0.8366341 , 0.37222096, 0.73259759],\n",
       "        [0.83150842, 0.75849105, 0.63488051, 0.79505962],\n",
       "        [0.07044993, 0.4715671 , 0.37088135, 0.1748435 ],\n",
       "        [0.16776625, 0.79344254, 0.67669641, 0.97646049]],\n",
       "\n",
       "       [[0.28904435, 0.94891479, 0.50125168, 0.74959942],\n",
       "        [0.91683233, 0.7380079 , 0.708798  , 0.87263713],\n",
       "        [0.28506189, 0.82283406, 0.84844252, 0.81453223],\n",
       "        [0.15509697, 0.68526483, 0.55511109, 0.73179212]],\n",
       "\n",
       "       [[0.56515964, 0.47469908, 0.06286116, 0.84093019],\n",
       "        [0.65368579, 0.20674816, 0.20222349, 0.94205881],\n",
       "        [0.04160703, 0.40380925, 0.17891956, 0.68550064],\n",
       "        [0.02329875, 0.53542932, 0.82249913, 0.20201694]]])"
      ]
     },
     "execution_count": 62,
     "metadata": {},
     "output_type": "execute_result"
    }
   ],
   "source": [
    "np.random.rand(3,4,4) #this generage 4 rows and 4 columns of 3 arraye"
   ]
  },
  {
   "cell_type": "code",
   "execution_count": 63,
   "id": "0ce67331-941e-46ed-86f3-fb554983b86e",
   "metadata": {},
   "outputs": [
    {
     "data": {
      "text/plain": [
       "array([[[-0.1405472 ,  0.24784433, -2.07424888, -0.02153797],\n",
       "        [ 0.93143203, -1.65351547,  0.29331967,  0.88020552],\n",
       "        [-2.00625963, -0.30321272,  0.7092661 ,  0.78148563],\n",
       "        [-0.39764877,  1.76204363, -0.57438939,  0.08416805]],\n",
       "\n",
       "       [[-0.3204628 ,  1.42159911,  0.12637008,  0.15790459],\n",
       "        [ 0.84041124,  0.60452944, -1.3453529 ,  0.59142645],\n",
       "        [-1.66346171, -0.16301355,  1.0354835 , -0.60454095],\n",
       "        [-1.03149298, -1.22562439,  0.48538723,  0.14364238]],\n",
       "\n",
       "       [[-2.173249  , -0.13551975,  0.71480063,  1.05642671],\n",
       "        [-0.446726  ,  0.47130708,  0.53117328,  2.231729  ],\n",
       "        [ 0.39152135, -1.17743244, -0.50424007,  0.23566644],\n",
       "        [-0.15176137, -0.29418495,  1.84574502, -0.11396147]]])"
      ]
     },
     "execution_count": 63,
     "metadata": {},
     "output_type": "execute_result"
    }
   ],
   "source": [
    "np.random.randn(3,4,4) #this generage 4 rows and 4 columns of 3 arraye"
   ]
  },
  {
   "cell_type": "code",
   "execution_count": 65,
   "id": "1b9583a8-7260-4552-a411-616c2397545c",
   "metadata": {},
   "outputs": [
    {
     "data": {
      "text/plain": [
       "array([[6, 4, 1, 0],\n",
       "       [8, 6, 1, 1],\n",
       "       [4, 0, 0, 7],\n",
       "       [1, 8, 9, 4]])"
      ]
     },
     "execution_count": 65,
     "metadata": {},
     "output_type": "execute_result"
    }
   ],
   "source": [
    "np.random.randint(0,10, (4,4)) #this create 4 row 4 column of array and the value in it is between 0 to 10"
   ]
  },
  {
   "cell_type": "code",
   "execution_count": 66,
   "id": "00827630-7bc5-432b-9bd8-865bbb8adb89",
   "metadata": {},
   "outputs": [
    {
     "data": {
      "text/plain": [
       "array([[[7, 0],\n",
       "        [7, 8],\n",
       "        [2, 3],\n",
       "        [0, 1]],\n",
       "\n",
       "       [[2, 7],\n",
       "        [6, 9],\n",
       "        [9, 2],\n",
       "        [0, 5]],\n",
       "\n",
       "       [[3, 4],\n",
       "        [6, 9],\n",
       "        [2, 2],\n",
       "        [6, 9]],\n",
       "\n",
       "       [[1, 3],\n",
       "        [3, 9],\n",
       "        [7, 0],\n",
       "        [6, 7]]])"
      ]
     },
     "execution_count": 66,
     "metadata": {},
     "output_type": "execute_result"
    }
   ],
   "source": [
    "np.random.randint(0,10, (4,4,2)) "
   ]
  },
  {
   "cell_type": "code",
   "execution_count": 67,
   "id": "aa15a5b4-fe51-4375-97dc-e865e928593d",
   "metadata": {},
   "outputs": [],
   "source": [
    "d = np.random.randn(3,4)"
   ]
  },
  {
   "cell_type": "code",
   "execution_count": 70,
   "id": "66ed7ded-f0c8-45bb-958b-b745c1a046a3",
   "metadata": {},
   "outputs": [
    {
     "data": {
      "text/plain": [
       "array([[-0.06961685, -0.81137153,  0.53603679, -0.01300694],\n",
       "       [ 0.97120143,  0.17212356,  0.35062003,  0.39537313],\n",
       "       [-0.04610735, -0.75705872, -0.54028216, -1.42610499]])"
      ]
     },
     "execution_count": 70,
     "metadata": {},
     "output_type": "execute_result"
    }
   ],
   "source": [
    "d"
   ]
  },
  {
   "cell_type": "code",
   "execution_count": 69,
   "id": "2e8e37b4-bcc3-4d5f-9c2a-26743540b5b5",
   "metadata": {},
   "outputs": [],
   "source": [
    "import pandas as pd"
   ]
  },
  {
   "cell_type": "code",
   "execution_count": 71,
   "id": "bdf0f780-5d25-424a-9b60-eab704955cc5",
   "metadata": {},
   "outputs": [
    {
     "data": {
      "text/html": [
       "<div>\n",
       "<style scoped>\n",
       "    .dataframe tbody tr th:only-of-type {\n",
       "        vertical-align: middle;\n",
       "    }\n",
       "\n",
       "    .dataframe tbody tr th {\n",
       "        vertical-align: top;\n",
       "    }\n",
       "\n",
       "    .dataframe thead th {\n",
       "        text-align: right;\n",
       "    }\n",
       "</style>\n",
       "<table border=\"1\" class=\"dataframe\">\n",
       "  <thead>\n",
       "    <tr style=\"text-align: right;\">\n",
       "      <th></th>\n",
       "      <th>0</th>\n",
       "      <th>1</th>\n",
       "      <th>2</th>\n",
       "      <th>3</th>\n",
       "    </tr>\n",
       "  </thead>\n",
       "  <tbody>\n",
       "    <tr>\n",
       "      <th>0</th>\n",
       "      <td>-0.069617</td>\n",
       "      <td>-0.811372</td>\n",
       "      <td>0.536037</td>\n",
       "      <td>-0.013007</td>\n",
       "    </tr>\n",
       "    <tr>\n",
       "      <th>1</th>\n",
       "      <td>0.971201</td>\n",
       "      <td>0.172124</td>\n",
       "      <td>0.350620</td>\n",
       "      <td>0.395373</td>\n",
       "    </tr>\n",
       "    <tr>\n",
       "      <th>2</th>\n",
       "      <td>-0.046107</td>\n",
       "      <td>-0.757059</td>\n",
       "      <td>-0.540282</td>\n",
       "      <td>-1.426105</td>\n",
       "    </tr>\n",
       "  </tbody>\n",
       "</table>\n",
       "</div>"
      ],
      "text/plain": [
       "          0         1         2         3\n",
       "0 -0.069617 -0.811372  0.536037 -0.013007\n",
       "1  0.971201  0.172124  0.350620  0.395373\n",
       "2 -0.046107 -0.757059 -0.540282 -1.426105"
      ]
     },
     "execution_count": 71,
     "metadata": {},
     "output_type": "execute_result"
    }
   ],
   "source": [
    "pd.DataFrame(d)"
   ]
  },
  {
   "cell_type": "code",
   "execution_count": 72,
   "id": "5b825d42-a437-4f6b-a1b7-ff0b6dbf4128",
   "metadata": {},
   "outputs": [],
   "source": [
    "d1 = np.random.randint(0,10, (4,4,2)) "
   ]
  },
  {
   "cell_type": "code",
   "execution_count": null,
   "id": "fe984b30-656b-4d11-8df0-32324dd62ae7",
   "metadata": {},
   "outputs": [],
   "source": [
    "pd.DataFrame(d1) #Panda Datafram cant convert 3d data in dataframe"
   ]
  },
  {
   "cell_type": "code",
   "execution_count": 86,
   "id": "6fb7e5ad-fb3e-4dca-a628-b1624213a037",
   "metadata": {},
   "outputs": [
    {
     "data": {
      "text/plain": [
       "array([[5, 8],\n",
       "       [0, 7],\n",
       "       [5, 5],\n",
       "       [4, 6],\n",
       "       [2, 7],\n",
       "       [3, 5],\n",
       "       [9, 2],\n",
       "       [8, 1],\n",
       "       [7, 1],\n",
       "       [2, 9],\n",
       "       [8, 0],\n",
       "       [9, 7],\n",
       "       [4, 9],\n",
       "       [2, 9],\n",
       "       [2, 7],\n",
       "       [1, 8]])"
      ]
     },
     "execution_count": 86,
     "metadata": {},
     "output_type": "execute_result"
    }
   ],
   "source": [
    "d1.reshape(16,2) #to convert 3d to 2d use this function and give the paramert equal to the number of data is available in 3d and in that format (n,n) where n*n = total 3d data."
   ]
  },
  {
   "cell_type": "code",
   "execution_count": 87,
   "id": "3f7bcf01-9e1f-451c-91a0-fe4fff387f77",
   "metadata": {},
   "outputs": [
    {
     "data": {
      "text/plain": [
       "array([[5, 8, 0, 7],\n",
       "       [5, 5, 4, 6],\n",
       "       [2, 7, 3, 5],\n",
       "       [9, 2, 8, 1],\n",
       "       [7, 1, 2, 9],\n",
       "       [8, 0, 9, 7],\n",
       "       [4, 9, 2, 9],\n",
       "       [2, 7, 1, 8]])"
      ]
     },
     "execution_count": 87,
     "metadata": {},
     "output_type": "execute_result"
    }
   ],
   "source": [
    "d1.reshape(8,4)"
   ]
  },
  {
   "cell_type": "code",
   "execution_count": null,
   "id": "8c694b84-a0bf-4239-8725-d19d06c8fc69",
   "metadata": {},
   "outputs": [],
   "source": [
    "d1.reshape(10,4) #this throw error becuase 10*4 is not equal to the total unumber of data available in 3d dimenstion"
   ]
  },
  {
   "cell_type": "code",
   "execution_count": 92,
   "id": "51e5ae47-a8ff-48dc-bd9f-e19aba80b8c7",
   "metadata": {},
   "outputs": [
    {
     "data": {
      "text/plain": [
       "array([[5, 8, 0, 7],\n",
       "       [5, 5, 4, 6],\n",
       "       [2, 7, 3, 5],\n",
       "       [9, 2, 8, 1],\n",
       "       [7, 1, 2, 9],\n",
       "       [8, 0, 9, 7],\n",
       "       [4, 9, 2, 9],\n",
       "       [2, 7, 1, 8]])"
      ]
     },
     "execution_count": 92,
     "metadata": {},
     "output_type": "execute_result"
    }
   ],
   "source": [
    "d1.reshape(8,-1) #this will automatically convert 3d to 2d becuase of -value in it means 8,-1 = 8 row and -1 equal to system automatic create it."
   ]
  },
  {
   "cell_type": "code",
   "execution_count": 96,
   "id": "50310107-1c22-4317-ba2d-3ec5ddaaed3b",
   "metadata": {},
   "outputs": [
    {
     "data": {
      "text/html": [
       "<div>\n",
       "<style scoped>\n",
       "    .dataframe tbody tr th:only-of-type {\n",
       "        vertical-align: middle;\n",
       "    }\n",
       "\n",
       "    .dataframe tbody tr th {\n",
       "        vertical-align: top;\n",
       "    }\n",
       "\n",
       "    .dataframe thead th {\n",
       "        text-align: right;\n",
       "    }\n",
       "</style>\n",
       "<table border=\"1\" class=\"dataframe\">\n",
       "  <thead>\n",
       "    <tr style=\"text-align: right;\">\n",
       "      <th></th>\n",
       "      <th>0</th>\n",
       "      <th>1</th>\n",
       "      <th>2</th>\n",
       "      <th>3</th>\n",
       "      <th>4</th>\n",
       "      <th>5</th>\n",
       "      <th>6</th>\n",
       "      <th>7</th>\n",
       "    </tr>\n",
       "  </thead>\n",
       "  <tbody>\n",
       "    <tr>\n",
       "      <th>0</th>\n",
       "      <td>5</td>\n",
       "      <td>8</td>\n",
       "      <td>0</td>\n",
       "      <td>7</td>\n",
       "      <td>5</td>\n",
       "      <td>5</td>\n",
       "      <td>4</td>\n",
       "      <td>6</td>\n",
       "    </tr>\n",
       "    <tr>\n",
       "      <th>1</th>\n",
       "      <td>2</td>\n",
       "      <td>7</td>\n",
       "      <td>3</td>\n",
       "      <td>5</td>\n",
       "      <td>9</td>\n",
       "      <td>2</td>\n",
       "      <td>8</td>\n",
       "      <td>1</td>\n",
       "    </tr>\n",
       "    <tr>\n",
       "      <th>2</th>\n",
       "      <td>7</td>\n",
       "      <td>1</td>\n",
       "      <td>2</td>\n",
       "      <td>9</td>\n",
       "      <td>8</td>\n",
       "      <td>0</td>\n",
       "      <td>9</td>\n",
       "      <td>7</td>\n",
       "    </tr>\n",
       "    <tr>\n",
       "      <th>3</th>\n",
       "      <td>4</td>\n",
       "      <td>9</td>\n",
       "      <td>2</td>\n",
       "      <td>9</td>\n",
       "      <td>2</td>\n",
       "      <td>7</td>\n",
       "      <td>1</td>\n",
       "      <td>8</td>\n",
       "    </tr>\n",
       "  </tbody>\n",
       "</table>\n",
       "</div>"
      ],
      "text/plain": [
       "   0  1  2  3  4  5  6  7\n",
       "0  5  8  0  7  5  5  4  6\n",
       "1  2  7  3  5  9  2  8  1\n",
       "2  7  1  2  9  8  0  9  7\n",
       "3  4  9  2  9  2  7  1  8"
      ]
     },
     "execution_count": 96,
     "metadata": {},
     "output_type": "execute_result"
    }
   ],
   "source": [
    "pd.DataFrame(d1.reshape(4,-1))"
   ]
  },
  {
   "cell_type": "code",
   "execution_count": null,
   "id": "9d940ba8-8aa3-4e5a-9dd5-eabb12a7cc22",
   "metadata": {},
   "outputs": [],
   "source": []
  }
 ],
 "metadata": {
  "kernelspec": {
   "display_name": "Python 3 (ipykernel)",
   "language": "python",
   "name": "python3"
  },
  "language_info": {
   "codemirror_mode": {
    "name": "ipython",
    "version": 3
   },
   "file_extension": ".py",
   "mimetype": "text/x-python",
   "name": "python",
   "nbconvert_exporter": "python",
   "pygments_lexer": "ipython3",
   "version": "3.10.6"
  },
  "toc-showmarkdowntxt": false
 },
 "nbformat": 4,
 "nbformat_minor": 5
}
