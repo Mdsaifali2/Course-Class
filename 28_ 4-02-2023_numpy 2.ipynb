{
 "cells": [
  {
   "cell_type": "code",
   "execution_count": 1,
   "id": "91c362d8-0f6a-452b-830d-3ca4da783c7d",
   "metadata": {},
   "outputs": [],
   "source": [
    "import numpy as np"
   ]
  },
  {
   "cell_type": "code",
   "execution_count": 2,
   "id": "98571dcf-3430-4610-8dcf-9343c4955ec6",
   "metadata": {},
   "outputs": [
    {
     "data": {
      "text/plain": [
       "range(0, 10)"
      ]
     },
     "execution_count": 2,
     "metadata": {},
     "output_type": "execute_result"
    }
   ],
   "source": [
    "range(10)"
   ]
  },
  {
   "cell_type": "code",
   "execution_count": 3,
   "id": "08d471d4-f415-453b-be36-a66771584093",
   "metadata": {},
   "outputs": [
    {
     "data": {
      "text/plain": [
       "[0, 1, 2, 3, 4, 5, 6, 7, 8, 9]"
      ]
     },
     "execution_count": 3,
     "metadata": {},
     "output_type": "execute_result"
    }
   ],
   "source": [
    "list(range(10))"
   ]
  },
  {
   "cell_type": "code",
   "execution_count": 4,
   "id": "c1891c21-ef95-459b-9770-18413bbc1dba",
   "metadata": {},
   "outputs": [
    {
     "data": {
      "text/plain": [
       "[3, 4, 5, 6, 7, 8, 9]"
      ]
     },
     "execution_count": 4,
     "metadata": {},
     "output_type": "execute_result"
    }
   ],
   "source": [
    "list(range(3,10))"
   ]
  },
  {
   "cell_type": "code",
   "execution_count": 5,
   "id": "e8e1eed5-62dc-474b-968d-848808c07ec8",
   "metadata": {},
   "outputs": [
    {
     "ename": "TypeError",
     "evalue": "'float' object cannot be interpreted as an integer",
     "output_type": "error",
     "traceback": [
      "\u001b[0;31m---------------------------------------------------------------------------\u001b[0m",
      "\u001b[0;31mTypeError\u001b[0m                                 Traceback (most recent call last)",
      "Cell \u001b[0;32mIn [5], line 1\u001b[0m\n\u001b[0;32m----> 1\u001b[0m \u001b[38;5;28mlist\u001b[39m(\u001b[38;5;28;43mrange\u001b[39;49m\u001b[43m(\u001b[49m\u001b[38;5;241;43m3\u001b[39;49m\u001b[43m,\u001b[49m\u001b[38;5;241;43m10.5\u001b[39;49m\u001b[43m)\u001b[49m)\n",
      "\u001b[0;31mTypeError\u001b[0m: 'float' object cannot be interpreted as an integer"
     ]
    }
   ],
   "source": [
    "list(range(3,10.5))"
   ]
  },
  {
   "cell_type": "markdown",
   "id": "9f3d4401-3cd5-43a2-b8b0-d8a5be8303f1",
   "metadata": {},
   "source": [
    "creting array floating point number"
   ]
  },
  {
   "cell_type": "markdown",
   "id": "25babf24-384f-4168-b334-babb1536e34e",
   "metadata": {},
   "source": [
    "arrange fununction"
   ]
  },
  {
   "cell_type": "code",
   "execution_count": 6,
   "id": "d2920eeb-2e54-432f-bd5f-f8c992c9cd0b",
   "metadata": {},
   "outputs": [
    {
     "data": {
      "text/plain": [
       "array([0, 1, 2, 3, 4, 5, 6, 7, 8, 9])"
      ]
     },
     "execution_count": 6,
     "metadata": {},
     "output_type": "execute_result"
    }
   ],
   "source": [
    "np.arange(10)"
   ]
  },
  {
   "cell_type": "code",
   "execution_count": 7,
   "id": "c6bc2d52-86af-42b2-8fd9-328f70b868a7",
   "metadata": {},
   "outputs": [
    {
     "data": {
      "text/plain": [
       "array([0.5, 1.5, 2.5, 3.5, 4.5, 5.5, 6.5, 7.5, 8.5, 9.5])"
      ]
     },
     "execution_count": 7,
     "metadata": {},
     "output_type": "execute_result"
    }
   ],
   "source": [
    "np.arange(0.5,10)"
   ]
  },
  {
   "cell_type": "code",
   "execution_count": 9,
   "id": "51896e85-189e-41d9-b5bd-cb23b7e9defa",
   "metadata": {},
   "outputs": [
    {
     "data": {
      "text/plain": [
       "array([ 5,  4,  3,  2,  1,  0, -1, -2, -3])"
      ]
     },
     "execution_count": 9,
     "metadata": {},
     "output_type": "execute_result"
    }
   ],
   "source": [
    "np.arange(5,-4, -1) #it means start from 5 go till -4 and get jump of -1"
   ]
  },
  {
   "cell_type": "code",
   "execution_count": 14,
   "id": "438a411b-6653-4428-9a20-ba37bd652459",
   "metadata": {},
   "outputs": [
    {
     "data": {
      "text/plain": [
       "array([ 5. ,  4.5,  4. ,  3.5,  3. ,  2.5,  2. ,  1.5,  1. ,  0.5,  0. ,\n",
       "       -0.5, -1. , -1.5, -2. , -2.5, -3. , -3.5])"
      ]
     },
     "execution_count": 14,
     "metadata": {},
     "output_type": "execute_result"
    }
   ],
   "source": [
    "np.arange(5,-4, -0.5) #it means start from 5 go till -4 and get jump of -.5"
   ]
  },
  {
   "cell_type": "code",
   "execution_count": null,
   "id": "7763d9d8-079c-4e51-8f8b-7a3325464ffa",
   "metadata": {},
   "outputs": [],
   "source": []
  },
  {
   "cell_type": "markdown",
   "id": "eb7aa0f6-76af-4c89-b8f6-8a468717cf73",
   "metadata": {},
   "source": [
    "linespace function"
   ]
  },
  {
   "cell_type": "code",
   "execution_count": 17,
   "id": "df9010f3-be57-428b-8d73-8696b756a58b",
   "metadata": {},
   "outputs": [
    {
     "data": {
      "text/plain": [
       "array([1.        , 1.21052632, 1.42105263, 1.63157895, 1.84210526,\n",
       "       2.05263158, 2.26315789, 2.47368421, 2.68421053, 2.89473684,\n",
       "       3.10526316, 3.31578947, 3.52631579, 3.73684211, 3.94736842,\n",
       "       4.15789474, 4.36842105, 4.57894737, 4.78947368, 5.        ])"
      ]
     },
     "execution_count": 17,
     "metadata": {},
     "output_type": "execute_result"
    }
   ],
   "source": [
    "np.linspace(1,5, 20) #this generates 20 data form 1 to 5 including floating point number or it divided 1 to 5 in 20 parts"
   ]
  },
  {
   "cell_type": "code",
   "execution_count": 21,
   "id": "d5910bb2-9795-483b-921b-55f905692965",
   "metadata": {},
   "outputs": [
    {
     "data": {
      "text/plain": [
       "[array([1.        , 1.21052632, 1.42105263, 1.63157895, 1.84210526,\n",
       "        2.05263158, 2.26315789, 2.47368421, 2.68421053, 2.89473684,\n",
       "        3.10526316, 3.31578947, 3.52631579, 3.73684211, 3.94736842,\n",
       "        4.15789474, 4.36842105, 4.57894737, 4.78947368, 5.        ]),\n",
       " 0.21052631578947367]"
      ]
     },
     "execution_count": 21,
     "metadata": {},
     "output_type": "execute_result"
    }
   ],
   "source": [
    "list(np.linspace(1,5, 20, retstep=True)) #here retstep also show what jumpsize between it takes in the output at last"
   ]
  },
  {
   "cell_type": "markdown",
   "id": "92483060-4894-4bae-9c2b-f92f1d97239d",
   "metadata": {},
   "source": [
    "logspace function"
   ]
  },
  {
   "cell_type": "code",
   "execution_count": 27,
   "id": "afac9518-adb9-48fb-bf1a-0f1b69157031",
   "metadata": {},
   "outputs": [
    {
     "data": {
      "text/plain": [
       "array([1.00000000e+01, 2.78255940e+01, 7.74263683e+01, 2.15443469e+02,\n",
       "       5.99484250e+02, 1.66810054e+03, 4.64158883e+03, 1.29154967e+04,\n",
       "       3.59381366e+04, 1.00000000e+05])"
      ]
     },
     "execution_count": 27,
     "metadata": {},
     "output_type": "execute_result"
    }
   ],
   "source": [
    "np.logspace(1,5,10) #this generates 20 data form 1 to 5 with log of the value in 10 part with base 10 by default"
   ]
  },
  {
   "cell_type": "code",
   "execution_count": 34,
   "id": "b5fb8c28-c1fb-4c3d-b918-697c02d19e98",
   "metadata": {},
   "outputs": [
    {
     "data": {
      "text/plain": [
       "array([   4.        ,    7.4069977 ,   13.71590373,   25.39841683,\n",
       "         47.03150375,   87.09056001,  161.26989439,  298.63143413,\n",
       "        552.99058631, 1024.        ])"
      ]
     },
     "execution_count": 34,
     "metadata": {},
     "output_type": "execute_result"
    }
   ],
   "source": [
    "np.logspace(1,5,10, base=4)\n",
    "#BASE MEAANS STEP BETWEEN THE ELEMENT\n",
    "#\"The base of the log space. The step size between the elements in\n",
    "#``ln(samples) / ln(base)`` (or ``log_base(samples)``)\n",
    "# is uniform Default is 10.0.\""
   ]
  },
  {
   "cell_type": "markdown",
   "id": "2182bd54-b8f3-46e8-8d82-3fae052e6bc1",
   "metadata": {},
   "source": [
    "zEROS FUNCTION"
   ]
  },
  {
   "cell_type": "code",
   "execution_count": 36,
   "id": "7afa9be2-c918-45bb-81f3-4b8ed2a50186",
   "metadata": {},
   "outputs": [
    {
     "data": {
      "text/plain": [
       "array([0., 0., 0., 0., 0.])"
      ]
     },
     "execution_count": 36,
     "metadata": {},
     "output_type": "execute_result"
    }
   ],
   "source": [
    "np.zeros(5) #it will generate an array of 5 zeros int it"
   ]
  },
  {
   "cell_type": "code",
   "execution_count": 38,
   "id": "26af29ad-d08f-4451-b315-091bea933319",
   "metadata": {},
   "outputs": [
    {
     "data": {
      "text/plain": [
       "array([[0., 0., 0., 0., 0.],\n",
       "       [0., 0., 0., 0., 0.],\n",
       "       [0., 0., 0., 0., 0.]])"
      ]
     },
     "execution_count": 38,
     "metadata": {},
     "output_type": "execute_result"
    }
   ],
   "source": [
    "np.zeros((3,5)) # here it will generate an zero value of array 2 dimenstion 3 rows and 5 columnss"
   ]
  },
  {
   "cell_type": "code",
   "execution_count": 40,
   "id": "a65fb30c-dc31-4cb8-a3d9-f4e42c1c4d32",
   "metadata": {},
   "outputs": [
    {
     "data": {
      "text/plain": [
       "array([[[0., 0.],\n",
       "        [0., 0.],\n",
       "        [0., 0.],\n",
       "        [0., 0.],\n",
       "        [0., 0.]],\n",
       "\n",
       "       [[0., 0.],\n",
       "        [0., 0.],\n",
       "        [0., 0.],\n",
       "        [0., 0.],\n",
       "        [0., 0.]],\n",
       "\n",
       "       [[0., 0.],\n",
       "        [0., 0.],\n",
       "        [0., 0.],\n",
       "        [0., 0.],\n",
       "        [0., 0.]]])"
      ]
     },
     "execution_count": 40,
     "metadata": {},
     "output_type": "execute_result"
    }
   ],
   "source": [
    "np.zeros((3,5,2)) # here it will generate an zero value of array 3 dimenstion 5 rows and 2 columnss in 3 layer/3d"
   ]
  },
  {
   "cell_type": "markdown",
   "id": "d5be69db-53d8-4dae-b031-30cd5c9001e5",
   "metadata": {},
   "source": [
    "ones function"
   ]
  },
  {
   "cell_type": "code",
   "execution_count": 42,
   "id": "8c0cab47-bfeb-4e43-b3de-3db6701f5136",
   "metadata": {},
   "outputs": [
    {
     "data": {
      "text/plain": [
       "array([1., 1., 1., 1., 1.])"
      ]
     },
     "execution_count": 42,
     "metadata": {},
     "output_type": "execute_result"
    }
   ],
   "source": [
    "np.ones(5) #it create an array of 5 element and 1 value in it as the function name says"
   ]
  },
  {
   "cell_type": "code",
   "execution_count": 47,
   "id": "079364b6-bc3e-4fde-bb24-c77034b9a01f",
   "metadata": {},
   "outputs": [
    {
     "data": {
      "text/plain": [
       "array([[[1., 1.],\n",
       "        [1., 1.],\n",
       "        [1., 1.],\n",
       "        [1., 1.]],\n",
       "\n",
       "       [[1., 1.],\n",
       "        [1., 1.],\n",
       "        [1., 1.],\n",
       "        [1., 1.]],\n",
       "\n",
       "       [[1., 1.],\n",
       "        [1., 1.],\n",
       "        [1., 1.],\n",
       "        [1., 1.]]])"
      ]
     },
     "execution_count": 47,
     "metadata": {},
     "output_type": "execute_result"
    }
   ],
   "source": [
    "np.ones((3,4,2)) #it create a 3d arraye of 2 rows and 4 columns and 1 value in it"
   ]
  },
  {
   "cell_type": "code",
   "execution_count": 51,
   "id": "ca5091d7-1bda-4a4a-a890-956508b828f8",
   "metadata": {},
   "outputs": [
    {
     "data": {
      "text/plain": [
       "array([[[5., 5.],\n",
       "        [5., 5.],\n",
       "        [5., 5.],\n",
       "        [5., 5.]],\n",
       "\n",
       "       [[5., 5.],\n",
       "        [5., 5.],\n",
       "        [5., 5.],\n",
       "        [5., 5.]],\n",
       "\n",
       "       [[5., 5.],\n",
       "        [5., 5.],\n",
       "        [5., 5.],\n",
       "        [5., 5.]]])"
      ]
     },
     "execution_count": 51,
     "metadata": {},
     "output_type": "execute_result"
    }
   ],
   "source": [
    "np.ones((3,4,2)) * 5 #it create a 3d arraye of 2 rows and 4 columns and 1 value in it and multiply by 5 every element"
   ]
  },
  {
   "cell_type": "markdown",
   "id": "e557eae4-eb74-4023-950c-fbba6fad023e",
   "metadata": {},
   "source": [
    "Empty funtion"
   ]
  },
  {
   "cell_type": "code",
   "execution_count": 54,
   "id": "2cc43864-32d1-4783-8828-8f3fb5c9260d",
   "metadata": {},
   "outputs": [
    {
     "data": {
      "text/plain": [
       "array([[4.66671504e-310, 0.00000000e+000, 0.00000000e+000],\n",
       "       [0.00000000e+000, 0.00000000e+000, 0.00000000e+000]])"
      ]
     },
     "execution_count": 54,
     "metadata": {},
     "output_type": "execute_result"
    }
   ],
   "source": [
    "np.empty((2,3)) #it create an empty array"
   ]
  },
  {
   "cell_type": "markdown",
   "id": "ac6860bf-910c-425e-b932-3ed23dd484dc",
   "metadata": {},
   "source": [
    "eye function"
   ]
  },
  {
   "cell_type": "code",
   "execution_count": 57,
   "id": "7db474b1-f0c5-4d36-9b2b-9124d5b1e29b",
   "metadata": {},
   "outputs": [
    {
     "data": {
      "text/plain": [
       "array([[1., 0., 0., 0.],\n",
       "       [0., 1., 0., 0.],\n",
       "       [0., 0., 1., 0.],\n",
       "       [0., 0., 0., 1.]])"
      ]
     },
     "execution_count": 57,
     "metadata": {},
     "output_type": "execute_result"
    }
   ],
   "source": [
    "np.eye(4) #it create an 2d arraye of  4 row and 4 columns and what value in it"
   ]
  },
  {
   "cell_type": "code",
   "execution_count": 58,
   "id": "706a0973-e091-43ca-89f3-7ed5994b22e3",
   "metadata": {},
   "outputs": [],
   "source": [
    "a = np.eye(4)"
   ]
  },
  {
   "cell_type": "markdown",
   "id": "b33efc00-f2a2-420f-99b5-56842d291a55",
   "metadata": {},
   "source": [
    "shape funtion"
   ]
  },
  {
   "cell_type": "code",
   "execution_count": 60,
   "id": "5111fc63-d977-4bfd-b68d-ddf5fe98c73a",
   "metadata": {},
   "outputs": [
    {
     "data": {
      "text/plain": [
       "(4, 4)"
      ]
     },
     "execution_count": 60,
     "metadata": {},
     "output_type": "execute_result"
    }
   ],
   "source": [
    "a.shape #it give the dimenstion of \"a\" data or any given data"
   ]
  },
  {
   "cell_type": "markdown",
   "id": "ce9f7495-705a-4d77-b86c-b554e02cd734",
   "metadata": {},
   "source": [
    "size function"
   ]
  },
  {
   "cell_type": "code",
   "execution_count": 62,
   "id": "2b3f17b3-00b0-4e8d-902d-614424b5965a",
   "metadata": {},
   "outputs": [
    {
     "data": {
      "text/plain": [
       "16"
      ]
     },
     "execution_count": 62,
     "metadata": {},
     "output_type": "execute_result"
    }
   ],
   "source": [
    "a.size #it give the size of the of element availabel in the aarray"
   ]
  },
  {
   "cell_type": "markdown",
   "id": "7fedfa55-7587-49d0-9ec7-ab516143ec66",
   "metadata": {},
   "source": [
    "ndim function"
   ]
  },
  {
   "cell_type": "code",
   "execution_count": 64,
   "id": "d0fa6691-ecb0-4a0e-80b7-36e227d09e58",
   "metadata": {},
   "outputs": [
    {
     "data": {
      "text/plain": [
       "2"
      ]
     },
     "execution_count": 64,
     "metadata": {},
     "output_type": "execute_result"
    }
   ],
   "source": [
    "a.ndim #it give the dimension of array"
   ]
  },
  {
   "cell_type": "markdown",
   "id": "4aa6d53d-f690-4aad-8553-b6f15974dae5",
   "metadata": {},
   "source": [
    "Slicing indexing opration"
   ]
  },
  {
   "cell_type": "code",
   "execution_count": 66,
   "id": "3f4d2655-8bc7-46eb-aeb4-fa31fefa32b2",
   "metadata": {},
   "outputs": [],
   "source": [
    "a1 =  np.random.randn(3,4)"
   ]
  },
  {
   "cell_type": "code",
   "execution_count": 71,
   "id": "a9f3fc7c-399e-42d9-ba5a-863532e8214e",
   "metadata": {},
   "outputs": [
    {
     "data": {
      "text/html": [
       "<div>\n",
       "<style scoped>\n",
       "    .dataframe tbody tr th:only-of-type {\n",
       "        vertical-align: middle;\n",
       "    }\n",
       "\n",
       "    .dataframe tbody tr th {\n",
       "        vertical-align: top;\n",
       "    }\n",
       "\n",
       "    .dataframe thead th {\n",
       "        text-align: right;\n",
       "    }\n",
       "</style>\n",
       "<table border=\"1\" class=\"dataframe\">\n",
       "  <thead>\n",
       "    <tr style=\"text-align: right;\">\n",
       "      <th></th>\n",
       "      <th>0</th>\n",
       "      <th>1</th>\n",
       "      <th>2</th>\n",
       "      <th>3</th>\n",
       "    </tr>\n",
       "  </thead>\n",
       "  <tbody>\n",
       "    <tr>\n",
       "      <th>0</th>\n",
       "      <td>0.212569</td>\n",
       "      <td>0.553463</td>\n",
       "      <td>0.540740</td>\n",
       "      <td>-1.675500</td>\n",
       "    </tr>\n",
       "    <tr>\n",
       "      <th>1</th>\n",
       "      <td>-1.405000</td>\n",
       "      <td>0.897096</td>\n",
       "      <td>-0.574916</td>\n",
       "      <td>-0.123196</td>\n",
       "    </tr>\n",
       "    <tr>\n",
       "      <th>2</th>\n",
       "      <td>0.791178</td>\n",
       "      <td>0.584029</td>\n",
       "      <td>-0.201837</td>\n",
       "      <td>0.749239</td>\n",
       "    </tr>\n",
       "  </tbody>\n",
       "</table>\n",
       "</div>"
      ],
      "text/plain": [
       "          0         1         2         3\n",
       "0  0.212569  0.553463  0.540740 -1.675500\n",
       "1 -1.405000  0.897096 -0.574916 -0.123196\n",
       "2  0.791178  0.584029 -0.201837  0.749239"
      ]
     },
     "execution_count": 71,
     "metadata": {},
     "output_type": "execute_result"
    }
   ],
   "source": [
    "import pandas as pd\n",
    "pd.DataFrame(a1)"
   ]
  },
  {
   "cell_type": "code",
   "execution_count": 67,
   "id": "d2f8623e-60d1-4f64-8770-3f8973370809",
   "metadata": {},
   "outputs": [
    {
     "data": {
      "text/plain": [
       "array([[ 0.21256854,  0.55346258,  0.5407404 , -1.67549967],\n",
       "       [-1.40499993,  0.89709597, -0.57491608, -0.12319625],\n",
       "       [ 0.7911776 ,  0.58402925, -0.20183743,  0.74923906]])"
      ]
     },
     "execution_count": 67,
     "metadata": {},
     "output_type": "execute_result"
    }
   ],
   "source": [
    "a1"
   ]
  },
  {
   "cell_type": "code",
   "execution_count": 72,
   "id": "02c0cdb1-7179-4d53-9063-03c9cd4a88fb",
   "metadata": {},
   "outputs": [
    {
     "data": {
      "text/plain": [
       "0.8970959728383008"
      ]
     },
     "execution_count": 72,
     "metadata": {},
     "output_type": "execute_result"
    }
   ],
   "source": [
    "a1[1,1]"
   ]
  },
  {
   "cell_type": "code",
   "execution_count": 73,
   "id": "b3d2efe5-7bd5-42ba-abb6-63132168e9e9",
   "metadata": {},
   "outputs": [
    {
     "data": {
      "text/plain": [
       "0.8970959728383008"
      ]
     },
     "execution_count": 73,
     "metadata": {},
     "output_type": "execute_result"
    }
   ],
   "source": [
    "a1[1][1]"
   ]
  },
  {
   "cell_type": "code",
   "execution_count": 75,
   "id": "48e9828e-3f1c-4918-b7ba-db2d3d47c42f",
   "metadata": {},
   "outputs": [
    {
     "data": {
      "text/plain": [
       "array([[ 0.21256854,  0.55346258],\n",
       "       [-1.40499993,  0.89709597]])"
      ]
     },
     "execution_count": 75,
     "metadata": {},
     "output_type": "execute_result"
    }
   ],
   "source": [
    "a1[0:2, 0:2]"
   ]
  },
  {
   "cell_type": "code",
   "execution_count": 76,
   "id": "d2745b57-b4a0-4dca-b9b6-ec0386d28ed8",
   "metadata": {},
   "outputs": [
    {
     "data": {
      "text/plain": [
       "array([[ 0.21256854,  0.55346258],\n",
       "       [-1.40499993,  0.89709597]])"
      ]
     },
     "execution_count": 76,
     "metadata": {},
     "output_type": "execute_result"
    }
   ],
   "source": [
    "a1[[0,1], 0:2]"
   ]
  },
  {
   "cell_type": "code",
   "execution_count": 81,
   "id": "eff4104e-5684-4eb4-9e18-dd271cbb6a36",
   "metadata": {},
   "outputs": [
    {
     "data": {
      "text/plain": [
       "array([[ 0.21256854,  0.55346258],\n",
       "       [-1.40499993,  0.89709597]])"
      ]
     },
     "execution_count": 81,
     "metadata": {},
     "output_type": "execute_result"
    }
   ],
   "source": [
    "a1[[0,1],0:2]"
   ]
  },
  {
   "cell_type": "code",
   "execution_count": null,
   "id": "864b8a01-af99-4744-84a2-6cb41e0f0694",
   "metadata": {},
   "outputs": [],
   "source": []
  },
  {
   "cell_type": "code",
   "execution_count": 82,
   "id": "9a300d19-225b-408e-b677-d0ce397f16dd",
   "metadata": {},
   "outputs": [
    {
     "data": {
      "text/plain": [
       "array([[ 0.21256854,  0.55346258,  0.5407404 , -1.67549967],\n",
       "       [-1.40499993,  0.89709597, -0.57491608, -0.12319625],\n",
       "       [ 0.7911776 ,  0.58402925, -0.20183743,  0.74923906]])"
      ]
     },
     "execution_count": 82,
     "metadata": {},
     "output_type": "execute_result"
    }
   ],
   "source": [
    "a1"
   ]
  },
  {
   "cell_type": "code",
   "execution_count": 89,
   "id": "f4ce068d-3ea7-46fb-a222-bea1239c5ab4",
   "metadata": {},
   "outputs": [
    {
     "data": {
      "text/plain": [
       "array([[-1.40499993,  0.89709597, -0.57491608, -0.12319625],\n",
       "       [ 0.7911776 ,  0.58402925, -0.20183743,  0.74923906]])"
      ]
     },
     "execution_count": 89,
     "metadata": {},
     "output_type": "execute_result"
    }
   ],
   "source": [
    "a1[[1,2]]"
   ]
  },
  {
   "cell_type": "code",
   "execution_count": 90,
   "id": "b5978cda-fe02-4373-a673-46a2342e01d3",
   "metadata": {},
   "outputs": [
    {
     "data": {
      "text/plain": [
       "array([-0.12319625,  0.74923906])"
      ]
     },
     "execution_count": 90,
     "metadata": {},
     "output_type": "execute_result"
    }
   ],
   "source": [
    "a1[[1,2],3]"
   ]
  },
  {
   "cell_type": "code",
   "execution_count": null,
   "id": "1d89cf29-a710-40c7-afa1-8d3317ec504f",
   "metadata": {},
   "outputs": [],
   "source": []
  },
  {
   "cell_type": "markdown",
   "id": "28f6b354-a5ee-47ea-be05-0cc912ddf1a1",
   "metadata": {},
   "source": [
    "Metrix Multiplication"
   ]
  },
  {
   "cell_type": "code",
   "execution_count": 94,
   "id": "4805c965-3f2c-4980-95f3-67a1b67a2dc5",
   "metadata": {},
   "outputs": [],
   "source": [
    "m1 = np.random.randint(1,3,(3,3)) #it creant a 2d array of 3row and 3 column and value in it is between 1 to 3 of random number"
   ]
  },
  {
   "cell_type": "code",
   "execution_count": 96,
   "id": "ddf87701-1e42-45ac-9d7c-4c402813741c",
   "metadata": {},
   "outputs": [
    {
     "data": {
      "text/plain": [
       "array([[1, 1, 2],\n",
       "       [2, 2, 1],\n",
       "       [1, 1, 1]])"
      ]
     },
     "execution_count": 96,
     "metadata": {},
     "output_type": "execute_result"
    }
   ],
   "source": [
    "m1"
   ]
  },
  {
   "cell_type": "code",
   "execution_count": 97,
   "id": "cba4622a-fc97-4fe2-a4c0-825a01287027",
   "metadata": {},
   "outputs": [],
   "source": [
    "m2 = np.random.randint(2,4,(3,3))"
   ]
  },
  {
   "cell_type": "code",
   "execution_count": 98,
   "id": "ea8f0479-0b89-4b1b-9056-723c12a95370",
   "metadata": {},
   "outputs": [
    {
     "data": {
      "text/plain": [
       "array([[2, 3, 3],\n",
       "       [2, 3, 2],\n",
       "       [3, 3, 2]])"
      ]
     },
     "execution_count": 98,
     "metadata": {},
     "output_type": "execute_result"
    }
   ],
   "source": [
    "m2"
   ]
  },
  {
   "cell_type": "code",
   "execution_count": 100,
   "id": "ae95b4f9-d4a4-46cf-ba13-ad2f55112ec4",
   "metadata": {},
   "outputs": [
    {
     "data": {
      "text/plain": [
       "array([[2, 3, 6],\n",
       "       [4, 6, 2],\n",
       "       [3, 3, 2]])"
      ]
     },
     "execution_count": 100,
     "metadata": {},
     "output_type": "execute_result"
    }
   ],
   "source": [
    "m1*m2 #it multiply the value of each number with the same index and create a new metrices of same dimension"
   ]
  },
  {
   "cell_type": "code",
   "execution_count": 102,
   "id": "6ac044fe-59a6-473e-8a47-e4f28f5ac8c3",
   "metadata": {},
   "outputs": [
    {
     "data": {
      "text/plain": [
       "array([[10, 12,  9],\n",
       "       [11, 15, 12],\n",
       "       [ 7,  9,  7]])"
      ]
     },
     "execution_count": 102,
     "metadata": {},
     "output_type": "execute_result"
    }
   ],
   "source": [
    "m1@m2 #metix multiplycation done by \"@\" between two metrices"
   ]
  },
  {
   "cell_type": "code",
   "execution_count": null,
   "id": "c3f2009b-924e-46ca-8827-55b2aea525c3",
   "metadata": {},
   "outputs": [],
   "source": []
  },
  {
   "cell_type": "code",
   "execution_count": 103,
   "id": "c722ea1b-988c-443c-b8bc-04335ebe55a3",
   "metadata": {},
   "outputs": [
    {
     "data": {
      "text/plain": [
       "array([[1, 1, 2],\n",
       "       [2, 2, 1],\n",
       "       [1, 1, 1]])"
      ]
     },
     "execution_count": 103,
     "metadata": {},
     "output_type": "execute_result"
    }
   ],
   "source": [
    "m1"
   ]
  },
  {
   "cell_type": "code",
   "execution_count": 104,
   "id": "955ea14a-7180-4024-94f5-bc6444f302df",
   "metadata": {},
   "outputs": [
    {
     "data": {
      "text/plain": [
       "array([[2, 3, 3],\n",
       "       [2, 3, 2],\n",
       "       [3, 3, 2]])"
      ]
     },
     "execution_count": 104,
     "metadata": {},
     "output_type": "execute_result"
    }
   ],
   "source": [
    "m2"
   ]
  },
  {
   "cell_type": "raw",
   "id": "026294a3-6b93-424e-b3b5-8276a94835a6",
   "metadata": {},
   "source": [
    "m1 = n*m\n",
    "m2 = p*r\n",
    "\n",
    "to do a metrix multiplication m should always be equal to p\n",
    "means No. of columns of 1st metric(m) should be equal to No. of row of another metrix(p)\n",
    "then it give yuot the final dimension of metrix is n*r\n",
    "\n",
    "if your number of column of 1st metrices and number if row of 2nd metrices are not equal then we will not be able to do the metrices multiplication.\n",
    "\n",
    "3x3      3x3\n",
    "m1       m2\n",
    "2 2 1    3 2 2\n",
    "1 2 2    3 2 3\n",
    "1 2 1    2 3 2\n",
    "\n",
    "here we will be able to perform multiplycation"
   ]
  },
  {
   "cell_type": "markdown",
   "id": "b5c9e592-e5f1-4a48-9eab-4f5c882f5a18",
   "metadata": {},
   "source": [
    "pow function : to generate power of each element in the array"
   ]
  },
  {
   "cell_type": "code",
   "execution_count": 105,
   "id": "89904619-ec3c-41c6-ad94-d8b1e7888dc4",
   "metadata": {},
   "outputs": [
    {
     "data": {
      "text/plain": [
       "array([[1, 1, 2],\n",
       "       [2, 2, 1],\n",
       "       [1, 1, 1]])"
      ]
     },
     "execution_count": 105,
     "metadata": {},
     "output_type": "execute_result"
    }
   ],
   "source": [
    "m1"
   ]
  },
  {
   "cell_type": "code",
   "execution_count": 106,
   "id": "7b910d40-1578-473b-8a41-f740f2b38bb3",
   "metadata": {},
   "outputs": [
    {
     "data": {
      "text/plain": [
       "array([[1, 1, 4],\n",
       "       [4, 4, 1],\n",
       "       [1, 1, 1]])"
      ]
     },
     "execution_count": 106,
     "metadata": {},
     "output_type": "execute_result"
    }
   ],
   "source": [
    "pow(m1,2)"
   ]
  },
  {
   "cell_type": "markdown",
   "id": "d445844b-190b-437f-b038-4be95216ca50",
   "metadata": {},
   "source": [
    "sqrt() function"
   ]
  },
  {
   "cell_type": "code",
   "execution_count": 108,
   "id": "a7959e15-7f7a-4333-b6af-e0c845226da7",
   "metadata": {},
   "outputs": [
    {
     "data": {
      "text/plain": [
       "array([[1.        , 1.        , 1.41421356],\n",
       "       [1.41421356, 1.41421356, 1.        ],\n",
       "       [1.        , 1.        , 1.        ]])"
      ]
     },
     "execution_count": 108,
     "metadata": {},
     "output_type": "execute_result"
    }
   ],
   "source": [
    "np.sqrt(m1) #it will find the square root of each of the element in the arraye"
   ]
  },
  {
   "cell_type": "code",
   "execution_count": 111,
   "id": "95024a73-9091-4210-a5b0-401a3f57f126",
   "metadata": {},
   "outputs": [
    {
     "data": {
      "text/plain": [
       "array([[0.     , 0.     , 0.30103],\n",
       "       [0.30103, 0.30103, 0.     ],\n",
       "       [0.     , 0.     , 0.     ]])"
      ]
     },
     "execution_count": 111,
     "metadata": {},
     "output_type": "execute_result"
    }
   ],
   "source": [
    "np.log10(m1)#it will find the log (logarathmic) of each of the element in the arraye with base 10"
   ]
  },
  {
   "cell_type": "code",
   "execution_count": 112,
   "id": "8bbf4f30-7335-426b-861c-f81d7dd86eb0",
   "metadata": {},
   "outputs": [
    {
     "data": {
      "text/plain": [
       "array([[2.71828183, 2.71828183, 7.3890561 ],\n",
       "       [7.3890561 , 7.3890561 , 2.71828183],\n",
       "       [2.71828183, 2.71828183, 2.71828183]])"
      ]
     },
     "execution_count": 112,
     "metadata": {},
     "output_type": "execute_result"
    }
   ],
   "source": [
    "np.exp(m1)"
   ]
  },
  {
   "cell_type": "code",
   "execution_count": 114,
   "id": "19f9fabb-2246-4f45-a8d1-45f69e3587f5",
   "metadata": {},
   "outputs": [
    {
     "data": {
      "text/plain": [
       "array([[1, 1, 4],\n",
       "       [4, 4, 1],\n",
       "       [1, 1, 1]])"
      ]
     },
     "execution_count": 114,
     "metadata": {},
     "output_type": "execute_result"
    }
   ],
   "source": [
    "m1**2 #it square all the element of aray"
   ]
  },
  {
   "cell_type": "code",
   "execution_count": null,
   "id": "68951b6a-4f7b-46d7-93ff-8bf539e83af9",
   "metadata": {},
   "outputs": [],
   "source": []
  }
 ],
 "metadata": {
  "kernelspec": {
   "display_name": "Python 3 (ipykernel)",
   "language": "python",
   "name": "python3"
  },
  "language_info": {
   "codemirror_mode": {
    "name": "ipython",
    "version": 3
   },
   "file_extension": ".py",
   "mimetype": "text/x-python",
   "name": "python",
   "nbconvert_exporter": "python",
   "pygments_lexer": "ipython3",
   "version": "3.10.6"
  },
  "toc-showmarkdowntxt": false
 },
 "nbformat": 4,
 "nbformat_minor": 5
}
