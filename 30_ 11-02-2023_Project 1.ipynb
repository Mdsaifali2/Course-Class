{
 "cells": [
  {
   "cell_type": "code",
   "execution_count": 3,
   "id": "404b21ad-6bb7-40f0-81ef-640d5714f08c",
   "metadata": {},
   "outputs": [
    {
     "name": "stdout",
     "output_type": "stream",
     "text": [
      "Collecting flask\n",
      "  Downloading Flask-2.2.2-py3-none-any.whl (101 kB)\n",
      "\u001b[2K     \u001b[90m━━━━━━━━━━━━━━━━━━━━━━━━━━━━━━━━━━━━━━\u001b[0m \u001b[32m101.5/101.5 kB\u001b[0m \u001b[31m10.6 MB/s\u001b[0m eta \u001b[36m0:00:00\u001b[0m\n",
      "\u001b[?25hCollecting itsdangerous>=2.0\n",
      "  Downloading itsdangerous-2.1.2-py3-none-any.whl (15 kB)\n",
      "Requirement already satisfied: click>=8.0 in /opt/conda/lib/python3.10/site-packages (from flask) (8.1.3)\n",
      "Collecting Werkzeug>=2.2.2\n",
      "  Downloading Werkzeug-2.2.2-py3-none-any.whl (232 kB)\n",
      "\u001b[2K     \u001b[90m━━━━━━━━━━━━━━━━━━━━━━━━━━━━━━━━━━━━━━\u001b[0m \u001b[32m232.7/232.7 kB\u001b[0m \u001b[31m30.7 MB/s\u001b[0m eta \u001b[36m0:00:00\u001b[0m\n",
      "\u001b[?25hRequirement already satisfied: Jinja2>=3.0 in /opt/conda/lib/python3.10/site-packages (from flask) (3.1.2)\n",
      "Requirement already satisfied: MarkupSafe>=2.0 in /opt/conda/lib/python3.10/site-packages (from Jinja2>=3.0->flask) (2.1.1)\n",
      "Installing collected packages: Werkzeug, itsdangerous, flask\n",
      "Successfully installed Werkzeug-2.2.2 flask-2.2.2 itsdangerous-2.1.2\n",
      "Note: you may need to restart the kernel to use updated packages.\n"
     ]
    }
   ],
   "source": [
    "pip install flask"
   ]
  },
  {
   "cell_type": "code",
   "execution_count": 4,
   "id": "c84f9d1d-2274-4a32-8d11-abf63d623012",
   "metadata": {},
   "outputs": [
    {
     "name": "stdout",
     "output_type": "stream",
     "text": [
      "Collecting flask_cors\n",
      "  Downloading Flask_Cors-3.0.10-py2.py3-none-any.whl (14 kB)\n",
      "Requirement already satisfied: Flask>=0.9 in /opt/conda/lib/python3.10/site-packages (from flask_cors) (2.2.2)\n",
      "Requirement already satisfied: Six in /opt/conda/lib/python3.10/site-packages (from flask_cors) (1.16.0)\n",
      "Requirement already satisfied: Werkzeug>=2.2.2 in /opt/conda/lib/python3.10/site-packages (from Flask>=0.9->flask_cors) (2.2.2)\n",
      "Requirement already satisfied: click>=8.0 in /opt/conda/lib/python3.10/site-packages (from Flask>=0.9->flask_cors) (8.1.3)\n",
      "Requirement already satisfied: Jinja2>=3.0 in /opt/conda/lib/python3.10/site-packages (from Flask>=0.9->flask_cors) (3.1.2)\n",
      "Requirement already satisfied: itsdangerous>=2.0 in /opt/conda/lib/python3.10/site-packages (from Flask>=0.9->flask_cors) (2.1.2)\n",
      "Requirement already satisfied: MarkupSafe>=2.0 in /opt/conda/lib/python3.10/site-packages (from Jinja2>=3.0->Flask>=0.9->flask_cors) (2.1.1)\n",
      "Installing collected packages: flask_cors\n",
      "Successfully installed flask_cors-3.0.10\n",
      "Note: you may need to restart the kernel to use updated packages.\n"
     ]
    }
   ],
   "source": [
    "pip install flask_cors"
   ]
  },
  {
   "cell_type": "code",
   "execution_count": 80,
   "id": "3d87b5da-1d22-42fc-952f-89bbe48ad8a7",
   "metadata": {},
   "outputs": [],
   "source": [
    "from flask import Flask, render_template, request,jsonify\n",
    "from flask_cors import CORS,cross_origin\n",
    "import requests\n",
    "from bs4 import BeautifulSoup as bs\n",
    "from urllib.request import urlopen as uReq"
   ]
  },
  {
   "cell_type": "markdown",
   "id": "1ede8ec4-4c30-48f7-b604-3f65f4646312",
   "metadata": {},
   "source": [
    "Creating search on flipkart"
   ]
  },
  {
   "cell_type": "code",
   "execution_count": 81,
   "id": "8fa58d3f-8cdc-4956-9c44-3b26acd77376",
   "metadata": {},
   "outputs": [],
   "source": [
    "searchstring = \"iphone11s\""
   ]
  },
  {
   "cell_type": "code",
   "execution_count": 82,
   "id": "2413c372-6b25-4781-af1b-c4b459956245",
   "metadata": {},
   "outputs": [],
   "source": [
    "flipkart_url = \"https://www.flipkart.com/search?q=\" + searchstring"
   ]
  },
  {
   "cell_type": "code",
   "execution_count": 83,
   "id": "67860a8a-37af-430f-a124-868412f3a982",
   "metadata": {},
   "outputs": [
    {
     "data": {
      "text/plain": [
       "'https://www.flipkart.com/search?q=iphone11s'"
      ]
     },
     "execution_count": 83,
     "metadata": {},
     "output_type": "execute_result"
    }
   ],
   "source": [
    "flipkart_url"
   ]
  },
  {
   "cell_type": "markdown",
   "id": "81ed0468-677b-491d-8ba8-633c1a55ab35",
   "metadata": {},
   "source": [
    "scrapping data from flipkart page and store it in the variable called urlcient"
   ]
  },
  {
   "cell_type": "code",
   "execution_count": 84,
   "id": "1a2cb09b-d002-4be5-907d-873dbba54803",
   "metadata": {},
   "outputs": [],
   "source": [
    "urlclient = uReq(flipkart_url)"
   ]
  },
  {
   "cell_type": "code",
   "execution_count": 85,
   "id": "d6cfd8e4-489d-492e-88e2-e0b6388cc5bf",
   "metadata": {},
   "outputs": [
    {
     "data": {
      "text/plain": [
       "<http.client.HTTPResponse at 0x7fe53739d3c0>"
      ]
     },
     "execution_count": 85,
     "metadata": {},
     "output_type": "execute_result"
    }
   ],
   "source": [
    "urlclient"
   ]
  },
  {
   "cell_type": "code",
   "execution_count": 86,
   "id": "895d9571-9881-4eab-87a4-867c8c46e18e",
   "metadata": {},
   "outputs": [],
   "source": [
    "flipkart_page = urlclient.read()"
   ]
  },
  {
   "cell_type": "raw",
   "id": "8540eb96-fd87-439d-ba3c-1c1207a66fd3",
   "metadata": {},
   "source": [
    "urlclient.close()"
   ]
  },
  {
   "cell_type": "markdown",
   "id": "6b8f7bdd-1aeb-4618-b7e7-8ad30350cb53",
   "metadata": {},
   "source": [
    "Beutifying the scrapped data using beautiful"
   ]
  },
  {
   "cell_type": "code",
   "execution_count": 87,
   "id": "b7cf27a1-71d2-4170-8103-7af45f2960bb",
   "metadata": {},
   "outputs": [],
   "source": [
    "flipkart_html = bs(flipkart_page, \"html.parser\")"
   ]
  },
  {
   "cell_type": "code",
   "execution_count": null,
   "id": "5c15fee2-ddde-41da-bf8c-d3840cff1705",
   "metadata": {},
   "outputs": [],
   "source": [
    "print(flipkart_html)"
   ]
  },
  {
   "cell_type": "code",
   "execution_count": 98,
   "id": "646202a4-a948-467d-8b0d-8db42400ce57",
   "metadata": {},
   "outputs": [
    {
     "data": {
      "text/plain": [
       "'https://www.flipkart.com/apple-iphone-11-white-128-gb/p/itme32df47ea6742?pid=MOBFWQ6B7KKRXDDS&lid=LSTMOBFWQ6B7KKRXDDSULUZ0N&marketplace=FLIPKART&q=iphone11s&store=tyy%2F4io&srno=s_1_1&otracker=search&iid=6c25d91c-b141-4a17-8491-58ebcb615ec6.MOBFWQ6B7KKRXDDS.SEARCH&ssid=zflx9dozy80000001676269104630&qH=b92ad4f8f31915a3'"
      ]
     },
     "execution_count": 98,
     "metadata": {},
     "output_type": "execute_result"
    }
   ],
   "source": [
    "'https://www.flipkart.com/apple-iphone-11-white-128-gb/p/itme32df47ea6742?pid=MOBFWQ6B7KKRXDDS&lid=LSTMOBFWQ6B7KKRXDDSULUZ0N&marketplace=FLIPKART&q=iphone11s&store=tyy%2F4io&srno=s_1_1&otracker=search&iid=6c25d91c-b141-4a17-8491-58ebcb615ec6.MOBFWQ6B7KKRXDDS.SEARCH&ssid=zflx9dozy80000001676269104630&qH=b92ad4f8f31915a3'"
   ]
  },
  {
   "cell_type": "markdown",
   "id": "26cc9d21-d3ff-45f5-9bb4-1e058550ff19",
   "metadata": {},
   "source": [
    "Finding Specific data"
   ]
  },
  {
   "cell_type": "code",
   "execution_count": null,
   "id": "65b4055c-39d7-4756-8bdf-07e5abd412e5",
   "metadata": {},
   "outputs": [],
   "source": [
    "bigboxes = flipkart_html.findAll(\"div\",{\"class\": \"_1AtVbE col-12-12\"})"
   ]
  },
  {
   "cell_type": "code",
   "execution_count": null,
   "id": "a99826a6-67ef-4f39-b6ef-3ae2311cb6d7",
   "metadata": {},
   "outputs": [
    {
     "data": {
      "text/plain": [
       "30"
      ]
     },
     "execution_count": 96,
     "metadata": {},
     "output_type": "execute_result"
    }
   ],
   "source": [
    "len(bigboxes)"
   ]
  },
  {
   "cell_type": "code",
   "execution_count": null,
   "id": "67ff3c2a-7bb8-44c1-a6ae-b9aa4b89c8f4",
   "metadata": {},
   "outputs": [],
   "source": [
    "box = bigboxes[2]"
   ]
  },
  {
   "cell_type": "code",
   "execution_count": 105,
   "id": "5810cb71-4bd5-40c7-9659-ade1208a0c13",
   "metadata": {},
   "outputs": [
    {
     "data": {
      "text/plain": [
       "'https://www.flipkart.com/apple-iphone-11-white-128-gb/p/itme32df47ea6742?pid=MOBFWQ6B7KKRXDDS&lid=LSTMOBFWQ6B7KKRXDDSULUZ0N&marketplace=FLIPKART&q=iphone11s&store=tyy%2F4io&srno=s_1_1&otracker=search&fm=organic&iid=aa0ae105-f0a4-4fc8-b8ed-8537052a6654.MOBFWQ6B7KKRXDDS.SEARCH&ppt=None&ppn=None&ssid=ljcl1dqssw0000001676271995725&qH=b92ad4f8f31915a3'"
      ]
     },
     "execution_count": 105,
     "metadata": {},
     "output_type": "execute_result"
    }
   ],
   "source": [
    "\"https://www.flipkart.com\" +box.div.div.div.a[\"href\"]"
   ]
  },
  {
   "cell_type": "code",
   "execution_count": 106,
   "id": "29051699-b703-4fdb-b0b8-020079ed2737",
   "metadata": {},
   "outputs": [],
   "source": [
    "product_link = \"https://www.flipkart.com\" +box.div.div.div.a[\"href\"]"
   ]
  },
  {
   "cell_type": "code",
   "execution_count": 107,
   "id": "0bea90fe-d484-420d-bd18-48557c425742",
   "metadata": {},
   "outputs": [
    {
     "data": {
      "text/plain": [
       "'https://www.flipkart.com/apple-iphone-11-white-128-gb/p/itme32df47ea6742?pid=MOBFWQ6B7KKRXDDS&lid=LSTMOBFWQ6B7KKRXDDSULUZ0N&marketplace=FLIPKART&q=iphone11s&store=tyy%2F4io&srno=s_1_1&otracker=search&fm=organic&iid=aa0ae105-f0a4-4fc8-b8ed-8537052a6654.MOBFWQ6B7KKRXDDS.SEARCH&ppt=None&ppn=None&ssid=ljcl1dqssw0000001676271995725&qH=b92ad4f8f31915a3'"
      ]
     },
     "execution_count": 107,
     "metadata": {},
     "output_type": "execute_result"
    }
   ],
   "source": [
    "product_link"
   ]
  },
  {
   "cell_type": "code",
   "execution_count": 109,
   "id": "ae234c23-973a-4e9e-b2a9-b145f45a9229",
   "metadata": {},
   "outputs": [],
   "source": [
    "product_req = requests.get(product_link)"
   ]
  },
  {
   "cell_type": "code",
   "execution_count": 110,
   "id": "8d860a09-a79e-45f2-aa7e-49e2382e6086",
   "metadata": {},
   "outputs": [
    {
     "data": {
      "text/plain": [
       "<Response [200]>"
      ]
     },
     "execution_count": 110,
     "metadata": {},
     "output_type": "execute_result"
    }
   ],
   "source": [
    "product_req"
   ]
  },
  {
   "cell_type": "code",
   "execution_count": 114,
   "id": "4d799be6-b6cb-4cdc-8148-114136eaaacd",
   "metadata": {},
   "outputs": [],
   "source": [
    "prod_html = bs(product_req.text, \"html.parser\")"
   ]
  },
  {
   "cell_type": "code",
   "execution_count": 137,
   "id": "25bb2fcb-df46-4843-924c-b905ddfbf8f8",
   "metadata": {},
   "outputs": [],
   "source": [
    "commentbox = prod_html.find_all(\"div\", {\"class\",\"_16PBlm\"})"
   ]
  },
  {
   "cell_type": "code",
   "execution_count": 138,
   "id": "64ab22ee-3c38-40ed-8446-d204e3688366",
   "metadata": {},
   "outputs": [
    {
     "data": {
      "text/plain": [
       "11"
      ]
     },
     "execution_count": 138,
     "metadata": {},
     "output_type": "execute_result"
    }
   ],
   "source": [
    "len(commentbox)"
   ]
  },
  {
   "cell_type": "code",
   "execution_count": 139,
   "id": "a1cbe0da-5fab-475b-a4e7-940125c4b945",
   "metadata": {},
   "outputs": [
    {
     "data": {
      "text/plain": [
       "'5'"
      ]
     },
     "execution_count": 139,
     "metadata": {},
     "output_type": "execute_result"
    }
   ],
   "source": [
    "commentbox[1].div.div.div.div.text"
   ]
  },
  {
   "cell_type": "code",
   "execution_count": 140,
   "id": "e3b26190-fa85-42dd-ba61-0dde7c36b89f",
   "metadata": {},
   "outputs": [
    {
     "name": "stdout",
     "output_type": "stream",
     "text": [
      "5\n",
      "5\n",
      "4\n",
      "5\n",
      "5\n",
      "5\n",
      "5\n",
      "5\n",
      "5\n",
      "4\n"
     ]
    },
    {
     "ename": "AttributeError",
     "evalue": "'NoneType' object has no attribute 'div'",
     "output_type": "error",
     "traceback": [
      "\u001b[0;31m---------------------------------------------------------------------------\u001b[0m",
      "\u001b[0;31mAttributeError\u001b[0m                            Traceback (most recent call last)",
      "Cell \u001b[0;32mIn [140], line 2\u001b[0m\n\u001b[1;32m      1\u001b[0m \u001b[38;5;28;01mfor\u001b[39;00m i \u001b[38;5;129;01min\u001b[39;00m commentbox :\n\u001b[0;32m----> 2\u001b[0m     \u001b[38;5;28mprint\u001b[39m(\u001b[43mi\u001b[49m\u001b[38;5;241;43m.\u001b[39;49m\u001b[43mdiv\u001b[49m\u001b[38;5;241;43m.\u001b[39;49m\u001b[43mdiv\u001b[49m\u001b[38;5;241m.\u001b[39mdiv\u001b[38;5;241m.\u001b[39mdiv\u001b[38;5;241m.\u001b[39mtext)\n",
      "\u001b[0;31mAttributeError\u001b[0m: 'NoneType' object has no attribute 'div'"
     ]
    }
   ],
   "source": [
    "for i in commentbox :\n",
    "    print(i.div.div.div.div.text)"
   ]
  },
  {
   "cell_type": "raw",
   "id": "a4b19c2e-0433-401b-ab04-2b492ca75d76",
   "metadata": {},
   "source": [
    "Extracting Customer Text comment"
   ]
  },
  {
   "cell_type": "code",
   "execution_count": 147,
   "id": "c936e115-dc58-4cd8-a05b-55365d0062cf",
   "metadata": {},
   "outputs": [
    {
     "data": {
      "text/plain": [
       "[<div><div class=\"\">Amazing phone with great cameras and better battery which gives you the best performance. I just love the camera .</div><span class=\"_1H-bmy\"><span>READ MORE</span></span></div>,\n",
       " <div class=\"\">Amazing phone with great cameras and better battery which gives you the best performance. I just love the camera .</div>,\n",
       " <div></div>]"
      ]
     },
     "execution_count": 147,
     "metadata": {},
     "output_type": "execute_result"
    }
   ],
   "source": [
    "commentbox[1].div.div.find_all(\"div\",{\"class\" : \"\"})"
   ]
  },
  {
   "cell_type": "code",
   "execution_count": 148,
   "id": "2406ffcc-9aa4-499e-a5af-1838b273685f",
   "metadata": {},
   "outputs": [
    {
     "data": {
      "text/plain": [
       "<div><div class=\"\">Amazing phone with great cameras and better battery which gives you the best performance. I just love the camera .</div><span class=\"_1H-bmy\"><span>READ MORE</span></span></div>"
      ]
     },
     "execution_count": 148,
     "metadata": {},
     "output_type": "execute_result"
    }
   ],
   "source": [
    "commentbox[1].div.div.find_all(\"div\",{\"class\" : \"\"})[0]"
   ]
  },
  {
   "cell_type": "code",
   "execution_count": 149,
   "id": "ad4e062b-c29a-49bb-8614-7612379196a8",
   "metadata": {},
   "outputs": [
    {
     "data": {
      "text/plain": [
       "<div class=\"\">Amazing phone with great cameras and better battery which gives you the best performance. I just love the camera .</div>"
      ]
     },
     "execution_count": 149,
     "metadata": {},
     "output_type": "execute_result"
    }
   ],
   "source": [
    "commentbox[1].div.div.find_all(\"div\",{\"class\" : \"\"})[1]"
   ]
  },
  {
   "cell_type": "code",
   "execution_count": null,
   "id": "c392fb35-b478-4cd8-81fa-7cc8cfebbb4a",
   "metadata": {},
   "outputs": [],
   "source": []
  },
  {
   "cell_type": "code",
   "execution_count": 150,
   "id": "fddbd4c8-94a6-4fe2-85ad-7b202ee10aa8",
   "metadata": {},
   "outputs": [
    {
     "data": {
      "text/plain": [
       "<div class=\"\">Amazing phone with great cameras and better battery which gives you the best performance. I just love the camera .</div>"
      ]
     },
     "execution_count": 150,
     "metadata": {},
     "output_type": "execute_result"
    }
   ],
   "source": [
    "commentbox[1].div.div.find_all(\"div\",{\"class\" : \"\"})[0].div"
   ]
  },
  {
   "cell_type": "code",
   "execution_count": 146,
   "id": "a87ddb94-40f7-4b1b-bad3-427e4e317364",
   "metadata": {},
   "outputs": [
    {
     "data": {
      "text/plain": [
       "'Amazing phone with great cameras and better battery which gives you the best performance. I just love the camera .'"
      ]
     },
     "execution_count": 146,
     "metadata": {},
     "output_type": "execute_result"
    }
   ],
   "source": [
    "commentbox[1].div.div.find_all(\"div\",{\"class\" : \"\"})[0].div.text"
   ]
  },
  {
   "cell_type": "markdown",
   "id": "5bbb7c75-406d-46af-829a-ea15758effc6",
   "metadata": {},
   "source": [
    "To see all tha coments"
   ]
  },
  {
   "cell_type": "code",
   "execution_count": 159,
   "id": "6fa0d4f1-8e57-4dfe-b265-f4e89a1093b5",
   "metadata": {},
   "outputs": [
    {
     "name": "stdout",
     "output_type": "stream",
     "text": [
      "Really satisfied with the Product I received... It’s totally genuine and the packaging was also really good so if ur planning to buy just go for it.\n",
      "\n",
      "\n",
      "Amazing phone with great cameras and better battery which gives you the best performance. I just love the camera .\n",
      "\n",
      "\n",
      "I'm Really happy with the productDelivery was fast as well..it was a gift for my sister and she loved it so much.\n",
      "\n",
      "\n",
      "Great iPhone very snappy experience as apple kind. Upgraded from iPhone 7. Pros-Camera top class - Battery top performed -Chipset no need to say as apple kind -Security as you expect from apple - Display super bright industry leading colour   accuracy and super responsive -Build quality as expect from apple sturdy  premium durable beautiful stylish. -Os most stable os in smartphone industry Cons -No 5G-Display is not based on OLED technology -Charger headphones and 1 apple stic...\n",
      "\n",
      "\n",
      "It's my first time to use iOS phone and I am loving my upgradation 😍😍 I love the color, I love the assebility of the phone....I need to learn more about its functionality, but as far as I have seen, it's quite easy and it has a lot of functions to work on, specially if you are a content writer or a blogger you get a lot of content creation platforms and they are really amazing. This phone not only for good quality photography but a lot of other task too.😍💯\n",
      "\n",
      "\n",
      "Previously I was using one plus 3t it was a great phone And then I decided to upgrade I am stuck between Samsung s10 plus or iPhone 11 I have seen the specs and everything were good except the display it’s somewhere between 720-1080 and it’s not even an amoled it’s an LCD display But I decided to go with iPhone because I have never used an IOS device I have Been an android user from the past 9 years I ordered IPhone 11 (128gb) product redMy experience after using 3 weeks 1. The delivery ...\n",
      "\n",
      "\n",
      "Value for money5 star rating Excellent cameraBattery backup full day in single charge.Tougher and water resistant design, glossy back.The screen has excellent brightness and contrast.Apple A13 Bionic is the fastest smartphone chip on the planet.Excellent battery life, fast charging support.Stereo speakers with great quality.\n",
      "\n",
      "\n",
      "What a camera .....just awesome ..you can feel this iPhone just awesome . Good for gaming also ...try pubg in hd it’s just wow\n",
      "\n",
      "\n",
      "Amazing Powerful and Durable Gadget.I’m am very happy with the camera picture quality, Amazing face id unlocked in dark room, Strong battery with perfect screen size as you can carry easily in pocket. This is my third iPhone. I shifted from android Samsung Note series to iPhone because of the strong build quality and peace of mind for next 3-4 years.Don’t think to much just go for it and I suggest you to go for minimum 128gb variant or more 256gb. I’ve attached my puppy pics and no fi...\n",
      "\n",
      "\n",
      "I was using Iphone 6s and also Oneplus 6t. Both mobiles were perfectly alright in Photos, gaming, and smooth interface . My 6s mobile getting battery issue. thought upgrade to 11. Really like this mobile of its Internal storage (compare to 6s) , camera and its touch feeling. Its a worth buying mobile for me.\n",
      "\n",
      "\n"
     ]
    },
    {
     "ename": "AttributeError",
     "evalue": "'NoneType' object has no attribute 'div'",
     "output_type": "error",
     "traceback": [
      "\u001b[0;31m---------------------------------------------------------------------------\u001b[0m",
      "\u001b[0;31mAttributeError\u001b[0m                            Traceback (most recent call last)",
      "Cell \u001b[0;32mIn [159], line 2\u001b[0m\n\u001b[1;32m      1\u001b[0m \u001b[38;5;28;01mfor\u001b[39;00m i \u001b[38;5;129;01min\u001b[39;00m commentbox:\n\u001b[0;32m----> 2\u001b[0m     \u001b[38;5;28mprint\u001b[39m(\u001b[43mi\u001b[49m\u001b[38;5;241;43m.\u001b[39;49m\u001b[43mdiv\u001b[49m\u001b[38;5;241;43m.\u001b[39;49m\u001b[43mdiv\u001b[49m\u001b[38;5;241m.\u001b[39mfind_all(\u001b[38;5;124m\"\u001b[39m\u001b[38;5;124mdiv\u001b[39m\u001b[38;5;124m\"\u001b[39m,{\u001b[38;5;124m\"\u001b[39m\u001b[38;5;124mclass\u001b[39m\u001b[38;5;124m\"\u001b[39m : \u001b[38;5;124m\"\u001b[39m\u001b[38;5;124m\"\u001b[39m})[\u001b[38;5;241m0\u001b[39m]\u001b[38;5;241m.\u001b[39mdiv\u001b[38;5;241m.\u001b[39mtext)\n\u001b[1;32m      3\u001b[0m     \u001b[38;5;28mprint\u001b[39m(\u001b[38;5;124m\"\u001b[39m\u001b[38;5;130;01m\\n\u001b[39;00m\u001b[38;5;124m\"\u001b[39m)\n",
      "\u001b[0;31mAttributeError\u001b[0m: 'NoneType' object has no attribute 'div'"
     ]
    }
   ],
   "source": [
    "for i in commentbox:\n",
    "    print(i.div.div.find_all(\"div\",{\"class\" : \"\"})[0].div.text)\n",
    "    print(\"\\n\")"
   ]
  },
  {
   "cell_type": "markdown",
   "id": "22db2c11-c2dc-4fb2-a2ea-c1f94717b1c7",
   "metadata": {},
   "source": [
    "Extracting name of the commentors"
   ]
  },
  {
   "cell_type": "code",
   "execution_count": 173,
   "id": "072bb5e5-f0e3-4bdf-8360-77936792b39f",
   "metadata": {},
   "outputs": [
    {
     "data": {
      "text/plain": [
       "<p class=\"_2sc7ZR _2V5EHH\">George Haokip</p>"
      ]
     },
     "execution_count": 173,
     "metadata": {},
     "output_type": "execute_result"
    }
   ],
   "source": [
    "commentbox[2].div.div.find_all(\"p\",{\"class\", \"_2sc7ZR _2V5EHH\"})"
   ]
  },
  {
   "cell_type": "code",
   "execution_count": 176,
   "id": "08116dc5-3732-4cfa-8279-ee7b88db6ca8",
   "metadata": {},
   "outputs": [
    {
     "data": {
      "text/plain": [
       "'George Haokip'"
      ]
     },
     "execution_count": 176,
     "metadata": {},
     "output_type": "execute_result"
    }
   ],
   "source": [
    "commentbox[2].div.div.find_all(\"p\",{\"class\", \"_2sc7ZR _2V5EHH\"})[0].text"
   ]
  },
  {
   "cell_type": "code",
   "execution_count": 180,
   "id": "85dfc183-9f2c-4208-8aba-afcda7c3d8d8",
   "metadata": {},
   "outputs": [
    {
     "name": "stdout",
     "output_type": "stream",
     "text": [
      "Flipkart Customer\n",
      "Flipkart Customer\n",
      "George Haokip\n",
      "Manish Raghuvanshi\n",
      "Jimly  Gogoi\n",
      "Vamshi  Chakrala \n",
      "Chirag Rajput\n",
      "Vishal Dubey\n",
      "Rahul Verma\n",
      "vijay hegde\n"
     ]
    },
    {
     "ename": "AttributeError",
     "evalue": "'NoneType' object has no attribute 'div'",
     "output_type": "error",
     "traceback": [
      "\u001b[0;31m---------------------------------------------------------------------------\u001b[0m",
      "\u001b[0;31mAttributeError\u001b[0m                            Traceback (most recent call last)",
      "Cell \u001b[0;32mIn [180], line 2\u001b[0m\n\u001b[1;32m      1\u001b[0m \u001b[38;5;28;01mfor\u001b[39;00m i \u001b[38;5;129;01min\u001b[39;00m commentbox :\n\u001b[0;32m----> 2\u001b[0m     \u001b[38;5;28mprint\u001b[39m(\u001b[43mi\u001b[49m\u001b[38;5;241;43m.\u001b[39;49m\u001b[43mdiv\u001b[49m\u001b[38;5;241;43m.\u001b[39;49m\u001b[43mdiv\u001b[49m\u001b[38;5;241m.\u001b[39mfind_all(\u001b[38;5;124m\"\u001b[39m\u001b[38;5;124mp\u001b[39m\u001b[38;5;124m\"\u001b[39m,{\u001b[38;5;124m\"\u001b[39m\u001b[38;5;124mclass\u001b[39m\u001b[38;5;124m\"\u001b[39m, \u001b[38;5;124m\"\u001b[39m\u001b[38;5;124m_2sc7ZR _2V5EHH\u001b[39m\u001b[38;5;124m\"\u001b[39m})[\u001b[38;5;241m0\u001b[39m]\u001b[38;5;241m.\u001b[39mtext)\n",
      "\u001b[0;31mAttributeError\u001b[0m: 'NoneType' object has no attribute 'div'"
     ]
    }
   ],
   "source": [
    "for i in commentbox :\n",
    "    print(i.div.div.find_all(\"p\",{\"class\", \"_2sc7ZR _2V5EHH\"})[0].text)"
   ]
  },
  {
   "cell_type": "code",
   "execution_count": null,
   "id": "188d131b-fa9d-4cc2-b413-1dccda1fb6b1",
   "metadata": {},
   "outputs": [],
   "source": []
  }
 ],
 "metadata": {
  "kernelspec": {
   "display_name": "Python 3 (ipykernel)",
   "language": "python",
   "name": "python3"
  },
  "language_info": {
   "codemirror_mode": {
    "name": "ipython",
    "version": 3
   },
   "file_extension": ".py",
   "mimetype": "text/x-python",
   "name": "python",
   "nbconvert_exporter": "python",
   "pygments_lexer": "ipython3",
   "version": "3.10.6"
  }
 },
 "nbformat": 4,
 "nbformat_minor": 5
}
